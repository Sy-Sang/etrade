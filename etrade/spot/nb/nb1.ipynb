{
 "cells": [
  {
   "cell_type": "code",
   "id": "initial_id",
   "metadata": {
    "collapsed": true,
    "ExecuteTime": {
     "end_time": "2025-03-21T07:00:11.417586Z",
     "start_time": "2025-03-21T07:00:10.988293Z"
    }
   },
   "source": [
    "from etrade.spot.trader import Station\n",
    "from etrade.spot.market.recycle import BasicRecycle\n",
    "import numpy as np"
   ],
   "outputs": [],
   "execution_count": 1
  },
  {
   "metadata": {
    "ExecuteTime": {
     "end_time": "2025-03-21T07:00:51.016561Z",
     "start_time": "2025-03-21T07:00:51.013829Z"
    }
   },
   "cell_type": "code",
   "source": "s = Station(\"s\", 50)",
   "id": "fa057ff0726157aa",
   "outputs": [],
   "execution_count": 2
  },
  {
   "metadata": {
    "ExecuteTime": {
     "end_time": "2025-03-21T07:01:17.855119Z",
     "start_time": "2025-03-21T07:01:17.851962Z"
    }
   },
   "cell_type": "code",
   "source": "s.trade(20,200,2,3)",
   "id": "8a93536043f77a0",
   "outputs": [
    {
     "data": {
      "text/plain": [
       "10"
      ]
     },
     "execution_count": 4,
     "metadata": {},
     "output_type": "execute_result"
    }
   ],
   "execution_count": 4
  },
  {
   "metadata": {},
   "cell_type": "code",
   "outputs": [],
   "execution_count": null,
   "source": "",
   "id": "d7ddef6f3d052503"
  }
 ],
 "metadata": {
  "kernelspec": {
   "display_name": "Python 3",
   "language": "python",
   "name": "python3"
  },
  "language_info": {
   "codemirror_mode": {
    "name": "ipython",
    "version": 2
   },
   "file_extension": ".py",
   "mimetype": "text/x-python",
   "name": "python",
   "nbconvert_exporter": "python",
   "pygments_lexer": "ipython2",
   "version": "2.7.6"
  }
 },
 "nbformat": 4,
 "nbformat_minor": 5
}
