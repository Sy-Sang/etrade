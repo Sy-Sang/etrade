{
 "cells": [
  {
   "cell_type": "code",
   "id": "initial_id",
   "metadata": {
    "collapsed": true,
    "ExecuteTime": {
     "end_time": "2025-04-02T05:42:04.881292Z",
     "start_time": "2025-04-02T05:42:04.877889Z"
    }
   },
   "source": [
    "import numpy\n",
    "from etrade.spot.trader import Station\n",
    "from etrade.spot.market.recycle import BasicRecycle, PointwiseRecycle\n",
    "from etrade.spot.forecast.market import DistributiveSeries, DistributiveMarket\n",
    "\n",
    "from data_utils.stochastic_utils.vdistributions.parameter.continuous.basic import NormalDistribution, LogNormalDistribution, eps\n",
    "from data_utils.stochastic_utils.vdistributions.nonparametric.continuous.histogram import HistogramDistribution\n",
    "from data_utils.stochastic_utils.vdistributions.nonparametric.discrete.basic import DiscreteDistribution\n",
    "from data_utils.stochastic_utils.vdistributions.tools.convert import resample_like_distribution, generate_correlated_sample_matrix\n",
    "\n",
    "from matplotlib import pyplot as plt\n",
    "\n",
    "from scipy.optimize import differential_evolution\n",
    "\n",
    "from matplotlib import pyplot"
   ],
   "outputs": [],
   "execution_count": 2
  },
  {
   "metadata": {
    "ExecuteTime": {
     "end_time": "2025-04-02T05:51:56.811906Z",
     "start_time": "2025-04-02T05:51:56.809029Z"
    }
   },
   "cell_type": "code",
   "source": [
    "s = Station(\"station\", 50)\n",
    "monte_carlo_num = 1000\n"
   ],
   "id": "4874894d86cc4046",
   "outputs": [],
   "execution_count": 6
  },
  {
   "metadata": {
    "ExecuteTime": {
     "end_time": "2025-04-02T05:47:02.868053Z",
     "start_time": "2025-04-02T05:47:02.865179Z"
    }
   },
   "cell_type": "code",
   "source": [
    "def real_market_data(data_len = 4, num = 100):\n",
    "    aq_mean = NormalDistribution(25, 10).rvf(data_len * num)\n",
    "    aq_std = NormalDistribution(5, 1).rvf(data_len * num)"
   ],
   "id": "8bf0550f0bed3653",
   "outputs": [],
   "execution_count": 4
  },
  {
   "metadata": {
    "ExecuteTime": {
     "end_time": "2025-04-02T05:47:05.370126Z",
     "start_time": "2025-04-02T05:47:05.364462Z"
    }
   },
   "cell_type": "code",
   "source": "real_aq_data",
   "id": "17c97c6e3da7fa5",
   "outputs": [
    {
     "data": {
      "text/plain": [
       "array([[25,  2],\n",
       "       [30,  3],\n",
       "       [40,  4],\n",
       "       [10,  2]])"
      ]
     },
     "execution_count": 5,
     "metadata": {},
     "output_type": "execute_result"
    }
   ],
   "execution_count": 5
  },
  {
   "metadata": {},
   "cell_type": "code",
   "outputs": [],
   "execution_count": null,
   "source": "",
   "id": "1d3eb706e1dc2830"
  }
 ],
 "metadata": {
  "kernelspec": {
   "display_name": "Python 3",
   "language": "python",
   "name": "python3"
  },
  "language_info": {
   "codemirror_mode": {
    "name": "ipython",
    "version": 2
   },
   "file_extension": ".py",
   "mimetype": "text/x-python",
   "name": "python",
   "nbconvert_exporter": "python",
   "pygments_lexer": "ipython2",
   "version": "2.7.6"
  }
 },
 "nbformat": 4,
 "nbformat_minor": 5
}
