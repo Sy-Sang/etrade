{
 "cells": [
  {
   "cell_type": "code",
   "id": "initial_id",
   "metadata": {
    "collapsed": true,
    "ExecuteTime": {
     "end_time": "2025-04-02T05:42:04.881292Z",
     "start_time": "2025-04-02T05:42:04.877889Z"
    }
   },
   "source": [
    "import numpy\n",
    "from etrade.spot.trader import Station\n",
    "from etrade.spot.market.recycle import BasicRecycle, PointwiseRecycle\n",
    "from etrade.spot.forecast.market import DistributiveSeries, DistributiveMarket\n",
    "\n",
    "from data_utils.stochastic_utils.vdistributions.parameter.continuous.basic import NormalDistribution, LogNormalDistribution, eps\n",
    "from data_utils.stochastic_utils.vdistributions.nonparametric.continuous.histogram import HistogramDistribution\n",
    "from data_utils.stochastic_utils.vdistributions.nonparametric.discrete.basic import DiscreteDistribution\n",
    "from data_utils.stochastic_utils.vdistributions.tools.convert import resample_like_distribution, generate_correlated_sample_matrix\n",
    "\n",
    "from matplotlib import pyplot as plt\n",
    "\n",
    "from scipy.optimize import differential_evolution\n",
    "\n",
    "from matplotlib import pyplot"
   ],
   "outputs": [],
   "execution_count": 2
  },
  {
   "metadata": {
    "ExecuteTime": {
     "end_time": "2025-04-02T05:51:56.811906Z",
     "start_time": "2025-04-02T05:51:56.809029Z"
    }
   },
   "cell_type": "code",
   "source": [
    "s = Station(\"station\", 50)\n",
    "monte_carlo_num = 1000\n"
   ],
   "id": "4874894d86cc4046",
   "outputs": [],
   "execution_count": 6
  },
  {
   "metadata": {
    "ExecuteTime": {
     "end_time": "2025-04-03T02:11:56.088028Z",
     "start_time": "2025-04-03T02:11:56.084865Z"
    }
   },
   "cell_type": "code",
   "source": [
    "def real_market_data(m=(25, 10), s=(5,1), data_len = 4, num = 100, sample_num = 10):\n",
    "    series = []\n",
    "    mean = NormalDistribution(*m).rvf(data_len * num)\n",
    "    std = NormalDistribution(*s).rvf(data_len * num)\n",
    "    for i in range(sample_num):\n",
    "        series.append(NormalDistribution(mean[i], std[i]))\n",
    "    return DistributiveSeries(*series)"
   ],
   "id": "8bf0550f0bed3653",
   "outputs": [],
   "execution_count": 13
  },
  {
   "metadata": {
    "ExecuteTime": {
     "end_time": "2025-04-03T02:12:18.157324Z",
     "start_time": "2025-04-03T02:12:18.152891Z"
    }
   },
   "cell_type": "code",
   "source": "real_market_data((1,1), (0.1,0.5)).rvf(10)",
   "id": "17c97c6e3da7fa5",
   "outputs": [
    {
     "data": {
      "text/plain": [
       "array([[ 0.95110035, -0.70009192,  2.14013272,  2.32677152, -0.40871419,\n",
       "         2.12216103,  1.03534041,  2.39166189,  1.52715539,  2.52610013],\n",
       "       [-0.28188333, -0.03082209, -0.16861967, -0.1031414 , -0.22927118,\n",
       "        -0.0737026 , -0.1600746 , -0.34163384, -0.10911408, -0.25309962],\n",
       "       [ 2.42383368,  2.11544058,  2.26357483,  2.12599415,  2.22085992,\n",
       "         2.51187449,  2.10108411,  2.32076206,  2.22714559,  2.04046588],\n",
       "       [ 1.11301797,  0.79395175,  1.14254513,  1.49479392,  1.38342179,\n",
       "         1.99592652,  0.707089  ,  1.6869823 ,  1.7741101 ,  0.89475431],\n",
       "       [ 0.35000382,  0.49710357,  0.75753728,  0.1849027 ,  0.76439982,\n",
       "        -0.06311   ,  0.78501974,  0.28411999, -0.02832578,  1.11594388],\n",
       "       [ 1.14626798,  0.95904527,  0.82657744,  1.14833009,  0.92727175,\n",
       "         0.95384279,  1.53548886,  1.12905852,  1.33972309,  0.88361384],\n",
       "       [ 1.45749172,  1.27330912, -0.60387313, -0.17669528, -0.76781574,\n",
       "         0.64654649,  0.78884461,  0.90648473,  1.08908102,  0.62839555],\n",
       "       [-0.00875138, -0.44758503,  1.21250298,  1.86368802, -0.4939557 ,\n",
       "         1.17632874,  1.58105854,  0.26811801,  0.44892117,  1.2117049 ],\n",
       "       [ 1.33925359,  1.3407189 ,  1.33446333,  1.3405095 ,  1.33720655,\n",
       "         1.33755506,  1.34040755,  1.33791998,  1.34376352,  1.33010176],\n",
       "       [ 1.38639731,  1.7460503 ,  1.24779066,  2.06119675,  1.5881568 ,\n",
       "         2.01803846,  1.91169541,  1.22975967,  1.8405162 ,  2.50620377]])"
      ]
     },
     "execution_count": 15,
     "metadata": {},
     "output_type": "execute_result"
    }
   ],
   "execution_count": 15
  },
  {
   "metadata": {},
   "cell_type": "code",
   "outputs": [],
   "execution_count": null,
   "source": "",
   "id": "1d3eb706e1dc2830"
  }
 ],
 "metadata": {
  "kernelspec": {
   "display_name": "Python 3",
   "language": "python",
   "name": "python3"
  },
  "language_info": {
   "codemirror_mode": {
    "name": "ipython",
    "version": 2
   },
   "file_extension": ".py",
   "mimetype": "text/x-python",
   "name": "python",
   "nbconvert_exporter": "python",
   "pygments_lexer": "ipython2",
   "version": "2.7.6"
  }
 },
 "nbformat": 4,
 "nbformat_minor": 5
}
