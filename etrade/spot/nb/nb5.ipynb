{
 "cells": [
  {
   "cell_type": "code",
   "id": "initial_id",
   "metadata": {
    "collapsed": true,
    "ExecuteTime": {
     "end_time": "2025-04-21T10:27:58.234766Z",
     "start_time": "2025-04-21T10:27:57.447618Z"
    }
   },
   "source": [
    "import numpy\n",
    "from etrade.spot.trader import Station\n",
    "from etrade.spot.market.recycle import BasicRecycle, PointwiseRecycle\n",
    "from etrade.spot.forecast.market import DistributiveSeries, DistributiveMarket\n",
    "from etrade.spot.forecast.plan_a.constructor import *\n",
    "from etrade.spot.forecast.yieldindex import zero_quantile\n",
    "from etrade.spot.forecast import yieldindex\n",
    "from  data_utils.stochastic_utils.vdistributions.abstract import AbstractDistribution\n",
    "from  data_utils.stochastic_utils.vdistributions.parameter.continuous.basic import NormalDistribution, SkewNormalDistribution\n",
    "from data_utils.stochastic_utils.vdistributions.nonparametric.continuous.kernel2 import KernelMixDistribution\n",
    "from data_utils.stochastic_utils.vdistributions.tools.divergence import kl_divergence_continuous, crps, quantile_RMSE\n",
    "\n",
    "from data_utils.stochastic_utils.vdistributions.nonparametric.continuous.mfk.skewnd2 import dof_snd_fitter\n",
    "\n",
    "from scipy.optimize import differential_evolution\n",
    "\n",
    "from matplotlib import pyplot"
   ],
   "outputs": [],
   "execution_count": 1
  },
  {
   "metadata": {
    "ExecuteTime": {
     "end_time": "2025-04-21T10:27:58.238351Z",
     "start_time": "2025-04-21T10:27:58.235768Z"
    }
   },
   "cell_type": "code",
   "source": [
    "aq = OrdinaryGaussianKernelDistributionConstructor((0, 50), (0.1, 10), (2, 8))\n",
    "dp = OrdinaryGaussianKernelDistributionConstructor((0, 10), (0.1, 10), (2, 8))\n",
    "rp = OrdinaryGaussianKernelDistributionConstructor((0, 10), (0.1, 10), (2, 8))"
   ],
   "id": "912480d19c44f70f",
   "outputs": [],
   "execution_count": 2
  },
  {
   "metadata": {
    "ExecuteTime": {
     "end_time": "2025-04-21T10:27:58.241941Z",
     "start_time": "2025-04-21T10:27:58.238351Z"
    }
   },
   "cell_type": "code",
   "source": [
    "mc = MarketConstructor(aq, dp, rp)\n",
    "s = Station(\"station\", 50)\n",
    "br = PointwiseRecycle(0.5,1.05)"
   ],
   "id": "2c448228a1ee778e",
   "outputs": [],
   "execution_count": 3
  },
  {
   "metadata": {
    "ExecuteTime": {
     "end_time": "2025-04-21T10:27:58.247440Z",
     "start_time": "2025-04-21T10:27:58.241941Z"
    }
   },
   "cell_type": "code",
   "source": [
    "class MixedMarket:\n",
    "    def __init__(self, n0, n1):\n",
    "        self.n0 = n0\n",
    "        self.n1 = n1\n",
    "        self.real_market = mc.clamped_random(4, (0, 50), (0, numpy.inf), (0, numpy.inf))\n",
    "        self.noice_market = mc.clamped_random(4, (0, 50), (0, numpy.inf), (0, numpy.inf))\n",
    "        self.predicted_market = market_hybridization(self.real_market, self.noice_market, self.n0, self.n1, (0, 50), (0, numpy.inf), (0, numpy.inf))\n",
    "        \n",
    "    def refresh(self):\n",
    "        self.real_market = mc.clamped_random(4, (0, 50), (0, numpy.inf), (0, numpy.inf))\n",
    "        self.noice_market = mc.clamped_random(4, (0, 50), (0, numpy.inf), (0, numpy.inf))\n",
    "        self.predicted_market = market_hybridization(self.real_market, self.noice_market, self.n0, self.n1, (0, 50), (0, numpy.inf), (0, numpy.inf))\n",
    "        \n",
    "    \n",
    "    def observed(self):\n",
    "        return self.real_market.observe()\n",
    "    \n",
    "    def optimize(self, station:Station, recycle: BasicRecycle, rounds=1000):\n",
    "        return self.predicted_market.power_generation_optimizer(station, recycle, num=rounds).x\n",
    "    \n",
    "    def faster_optimize(self, station:Station, recycle: BasicRecycle, rounds=1000):\n",
    "        return self.predicted_market.faster_power_generation_optimizer(station, recycle, num=rounds).x\n",
    "    \n",
    "    def zero_quantile(self, station:Station, recycle: BasicRecycle, rounds=1000, faster=False):\n",
    "        if faster:\n",
    "            x = self.faster_optimize(station, recycle, rounds)\n",
    "        else:\n",
    "            x = self.optimize(station, recycle, rounds)\n",
    "        return zero_quantile(\n",
    "            self.real_market.market_trade(station, recycle, x, num=rounds),\n",
    "            self.real_market.market_trade(station, recycle, self.real_market.mean(rounds)[0], num=rounds)\n",
    "        )"
   ],
   "id": "5c925d58550dad9",
   "outputs": [],
   "execution_count": 4
  },
  {
   "metadata": {
    "ExecuteTime": {
     "end_time": "2025-04-21T10:28:46.713227Z",
     "start_time": "2025-04-21T10:28:28.751693Z"
    }
   },
   "cell_type": "code",
   "source": [
    "l = []\n",
    "for _ in range(20):\n",
    "    mm = MixedMarket(1000, 500)\n",
    "    l.append(mm.zero_quantile(s, br, 500, faster=False))\n",
    "    # l.append(mm.faster_optimize(s, br, 1000))\n",
    "    # mm.predicted_market.rvf(100)\n",
    "    # mm.refresh()\n",
    "    # print(mm.real_market)\n",
    "print(l)"
   ],
   "id": "5488ee5f03205f39",
   "outputs": [
    {
     "name": "stderr",
     "output_type": "stream",
     "text": [
      "E:\\code\\github\\data_utils\\data_utils\\stochastic_utils\\vdistributions\\parameter\\continuous\\basic.py:63: RuntimeWarning: divide by zero encountered in divide\n",
      "  return 0.5 * erfc((self.mu - x) / (numpy.sqrt(2) * self.sigma))\n",
      "E:\\code\\github\\data_utils\\data_utils\\stochastic_utils\\vdistributions\\parameter\\continuous\\basic.py:63: RuntimeWarning: invalid value encountered in divide\n",
      "  return 0.5 * erfc((self.mu - x) / (numpy.sqrt(2) * self.sigma))\n",
      "E:\\code\\github\\data_utils\\data_utils\\stochastic_utils\\vdistributions\\parameter\\continuous\\basic.py:63: RuntimeWarning: divide by zero encountered in scalar divide\n",
      "  return 0.5 * erfc((self.mu - x) / (numpy.sqrt(2) * self.sigma))\n"
     ]
    },
    {
     "name": "stdout",
     "output_type": "stream",
     "text": [
      "[0.502, 0.412, 0.414, 0.25, 0.314, 0.932, 0.328, 0.39, 0.284, 0.454, 0.646, 0.25, 0.344, 0.392, 0.28, 0.478, 0.42, 0.4, 0.336, 0.652]\n"
     ]
    }
   ],
   "execution_count": 6
  },
  {
   "metadata": {
    "ExecuteTime": {
     "end_time": "2025-04-21T10:28:12.068223Z",
     "start_time": "2025-04-21T10:28:12.066092Z"
    }
   },
   "cell_type": "code",
   "source": "",
   "id": "5c709133237876cc",
   "outputs": [],
   "execution_count": 5
  },
  {
   "metadata": {
    "ExecuteTime": {
     "end_time": "2025-04-21T10:28:12.070556Z",
     "start_time": "2025-04-21T10:28:12.068223Z"
    }
   },
   "cell_type": "code",
   "source": "",
   "id": "dcd93314cd4044b3",
   "outputs": [],
   "execution_count": 5
  },
  {
   "metadata": {
    "ExecuteTime": {
     "end_time": "2025-04-21T10:28:12.072551Z",
     "start_time": "2025-04-21T10:28:12.070556Z"
    }
   },
   "cell_type": "code",
   "source": "",
   "id": "b8bf16198b53fd5a",
   "outputs": [],
   "execution_count": 5
  }
 ],
 "metadata": {
  "kernelspec": {
   "display_name": "Python 3",
   "language": "python",
   "name": "python3"
  },
  "language_info": {
   "codemirror_mode": {
    "name": "ipython",
    "version": 2
   },
   "file_extension": ".py",
   "mimetype": "text/x-python",
   "name": "python",
   "nbconvert_exporter": "python",
   "pygments_lexer": "ipython2",
   "version": "2.7.6"
  }
 },
 "nbformat": 4,
 "nbformat_minor": 5
}
