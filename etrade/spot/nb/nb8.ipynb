{
 "cells": [
  {
   "cell_type": "code",
   "id": "initial_id",
   "metadata": {
    "collapsed": true,
    "ExecuteTime": {
     "end_time": "2025-05-28T09:21:32.876027Z",
     "start_time": "2025-05-28T09:21:30.228103Z"
    }
   },
   "source": [
    "import numpy\n",
    "from etrade.spot.trader import Station\n",
    "from etrade.spot.market.recycle import BasicRecycle, PointwiseRecycle\n",
    "from etrade.spot.forecast.market import DistributiveSeries, DistributiveMarket\n",
    "from etrade.spot.forecast.plan_a.constructor import *\n",
    "from etrade.spot.forecast.plan_a.transformer import MarketSampleTransformer, MarketSampleDataset, TabTransformer\n",
    "from etrade.spot.forecast.plan_a.simulator4 import PredictBasedMarketSimulator\n",
    "\n",
    "from  data_utils.stochastic_utils.vdistributions.abstract import AbstractDistribution\n",
    "from  data_utils.stochastic_utils.vdistributions.parameter.continuous.basic import NormalDistribution, SkewNormalDistribution\n",
    "from data_utils.stochastic_utils.vdistributions.nonparametric.continuous.kernel2 import KernelMixDistribution\n",
    "from data_utils.stochastic_utils.vdistributions.tools.divergence import kl_divergence_continuous, crps, quantile_RMSE\n",
    "\n",
    "from data_utils.stochastic_utils.vdistributions.nonparametric.continuous.mfk.skewnd2 import dof_snd_fitter\n",
    "\n",
    "from scipy.optimize import differential_evolution"
   ],
   "outputs": [],
   "execution_count": 1
  },
  {
   "metadata": {
    "ExecuteTime": {
     "end_time": "2025-05-28T09:23:58.521789Z",
     "start_time": "2025-05-28T09:23:58.511503Z"
    }
   },
   "cell_type": "code",
   "source": [
    "market_len = 4\n",
    "init_kwargs = {\n",
    "    \"aq_constructor\": OrdinaryGaussianKernelDistributionConstructor((0, 50), (0.5,1), (1, 2)),\n",
    "    \"dp_constructor\": OrdinaryGaussianKernelDistributionConstructor((0, 10), (1, 10), (1, 4)),\n",
    "    \"rp_constructor\": OrdinaryGaussianKernelDistributionConstructor((0, 20), (1, 10), (1, 4)),\n",
    "    \"aq_range\": (0, 50),\n",
    "    \"dp_range\": (0, 1e+6),\n",
    "    \"rp_range\": (0, 1e+6),\n",
    "    \"predict_weight\": numpy.full((3, market_len), 1),\n",
    "    \"noise_weight_range\": ((0.01, 0.05), (0.01, 0.05), (0.01, 0.05)),\n",
    "    \"market_len\": market_len\n",
    "}\n",
    "\n",
    "station = Station(\"station\", 50)\n",
    "br = BasicRecycle(0.9, 1.05)\n",
    "simulator = PredictBasedMarketSimulator(**init_kwargs)"
   ],
   "id": "78bce7d837ad5d8e",
   "outputs": [],
   "execution_count": 9
  },
  {
   "metadata": {
    "ExecuteTime": {
     "end_time": "2025-05-28T09:23:58.680447Z",
     "start_time": "2025-05-28T09:23:58.676472Z"
    }
   },
   "cell_type": "code",
   "source": "aq, dp, rp = simulator.predicted_random(1000)",
   "id": "2bf7991c7acb6b25",
   "outputs": [],
   "execution_count": 10
  },
  {
   "metadata": {
    "ExecuteTime": {
     "end_time": "2025-05-28T09:23:59.296595Z",
     "start_time": "2025-05-28T09:23:58.878590Z"
    }
   },
   "cell_type": "code",
   "source": [
    "x = simulator.predicted_optimize(station, br, aq, dp, rp)\n",
    "print(numpy.mean(aq, axis=1).tolist())\n",
    "print(x.tolist())\n",
    "\n",
    "print(\n",
    "    numpy.sum(numpy.mean(aq, axis=1)) / numpy.sum(x)\n",
    ")\n",
    "\n",
    "pyplot.hist(numpy.sum(aq, axis=0) / numpy.sum(x))\n",
    "pyplot.show()"
   ],
   "id": "98c921924b39dcb2",
   "outputs": [
    {
     "name": "stdout",
     "output_type": "stream",
     "text": [
      "[5.972103380206221, 31.008044485683474, 32.53889610883509, 23.134511832144614]\n",
      "[41.284777398688234, 49.95656407229575, 0.2959459129138402, 0.12442458242232846]\n",
      "1.010820699496794\n"
     ]
    },
    {
     "data": {
      "text/plain": [
       "<Figure size 640x480 with 1 Axes>"
      ],
      "image/png": "[encoded data removed]"
     },
     "metadata": {},
     "output_type": "display_data"
    }
   ],
   "execution_count": 11
  },
  {
   "metadata": {
    "ExecuteTime": {
     "end_time": "2025-05-28T09:23:59.299647Z",
     "start_time": "2025-05-28T09:23:59.297597Z"
    }
   },
   "cell_type": "code",
   "source": "",
   "id": "f920c16647e41b09",
   "outputs": [],
   "execution_count": 11
  },
  {
   "metadata": {
    "ExecuteTime": {
     "end_time": "2025-05-28T09:23:59.301841Z",
     "start_time": "2025-05-28T09:23:59.299647Z"
    }
   },
   "cell_type": "code",
   "source": "",
   "id": "b47c4f1469328037",
   "outputs": [],
   "execution_count": 11
  },
  {
   "metadata": {},
   "cell_type": "code",
   "outputs": [],
   "execution_count": null,
   "source": "",
   "id": "587d7c19b762d879"
  }
 ],
 "metadata": {
  "kernelspec": {
   "display_name": "Python 3",
   "language": "python",
   "name": "python3"
  },
  "language_info": {
   "codemirror_mode": {
    "name": "ipython",
    "version": 2
   },
   "file_extension": ".py",
   "mimetype": "text/x-python",
   "name": "python",
   "nbconvert_exporter": "python",
   "pygments_lexer": "ipython2",
   "version": "2.7.6"
  }
 },
 "nbformat": 4,
 "nbformat_minor": 5
}
