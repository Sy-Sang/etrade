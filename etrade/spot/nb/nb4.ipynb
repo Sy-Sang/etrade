{
 "cells": [
  {
   "cell_type": "code",
   "id": "initial_id",
   "metadata": {
    "collapsed": true,
    "ExecuteTime": {
     "end_time": "2025-04-18T03:40:31.039858Z",
     "start_time": "2025-04-18T03:40:30.256842Z"
    }
   },
   "source": [
    "import numpy\n",
    "from etrade.spot.trader import Station\n",
    "from etrade.spot.market.recycle import BasicRecycle, PointwiseRecycle\n",
    "from etrade.spot.forecast.market import DistributiveSeries, DistributiveMarket\n",
    "from etrade.spot.forecast.plan_a.constructor import *\n",
    "from  data_utils.stochastic_utils.vdistributions.abstract import AbstractDistribution\n",
    "from  data_utils.stochastic_utils.vdistributions.parameter.continuous.basic import NormalDistribution, SkewNormalDistribution\n",
    "from data_utils.stochastic_utils.vdistributions.tools.divergence import kl_divergence_continuous, crps\n",
    "\n",
    "from data_utils.stochastic_utils.vdistributions.nonparametric.continuous.mfk.skewnd2 import dof_snd_fitter\n",
    "\n",
    "from scipy.optimize import differential_evolution\n",
    "\n",
    "from matplotlib import pyplot"
   ],
   "outputs": [],
   "execution_count": 1
  },
  {
   "metadata": {
    "ExecuteTime": {
     "end_time": "2025-04-18T03:40:31.043179Z",
     "start_time": "2025-04-18T03:40:31.040859Z"
    }
   },
   "cell_type": "code",
   "source": [
    "aq = OrdinaryGaussianKernelDistributionConstructor((20, 50), (1, 10), (2, 4))\n",
    "dp = OrdinaryGaussianKernelDistributionConstructor((0, 5), (1, 5), (2, 4))\n",
    "rp = OrdinaryGaussianKernelDistributionConstructor((0, 5), (1, 5), (2, 4))"
   ],
   "id": "612b04b7c7b8b77e",
   "outputs": [],
   "execution_count": 2
  },
  {
   "metadata": {
    "ExecuteTime": {
     "end_time": "2025-04-18T03:40:31.046638Z",
     "start_time": "2025-04-18T03:40:31.043179Z"
    }
   },
   "cell_type": "code",
   "source": [
    "mc = MarketConstructor(aq, dp, rp)\n",
    "s = Station(\"station\", 50)\n",
    "br = PointwiseRecycle()"
   ],
   "id": "693c4aad817134b2",
   "outputs": [],
   "execution_count": 3
  },
  {
   "metadata": {
    "ExecuteTime": {
     "end_time": "2025-04-18T03:40:31.064869Z",
     "start_time": "2025-04-18T03:40:31.046638Z"
    }
   },
   "cell_type": "code",
   "source": [
    "real_market_distribution = mc.clamped_random(4, (0, 50), (0, numpy.inf), (0, numpy.inf))\n",
    "predicted_market_distribtion = mc.clamped_random(4, (0, 50), (0, numpy.inf), (0, numpy.inf))"
   ],
   "id": "eacbf13166d7e3be",
   "outputs": [],
   "execution_count": 4
  },
  {
   "metadata": {
    "ExecuteTime": {
     "end_time": "2025-04-18T03:40:31.069421Z",
     "start_time": "2025-04-18T03:40:31.065864Z"
    }
   },
   "cell_type": "code",
   "source": "observed_data = numpy.asarray(real_market_distribution.rvf(1)).reshape(3,-1)",
   "id": "b838289dd35c4ff1",
   "outputs": [],
   "execution_count": 5
  },
  {
   "metadata": {
    "ExecuteTime": {
     "end_time": "2025-04-18T03:40:31.308160Z",
     "start_time": "2025-04-18T03:40:31.069932Z"
    }
   },
   "cell_type": "code",
   "source": "predicted_market_distribtion.crps(observed_data[0], observed_data[1], observed_data[2])",
   "id": "3922dab9ef6e4ef7",
   "outputs": [
    {
     "data": {
      "text/plain": [
       "array([[15.06279584,  3.56956953,  6.95783733, 10.3838931 ],\n",
       "       [ 1.3144361 ,  1.19461242,  5.45897925,  1.19499619],\n",
       "       [ 1.25281799,  1.69275024,  1.15751538,  1.0972816 ]])"
      ]
     },
     "execution_count": 6,
     "metadata": {},
     "output_type": "execute_result"
    }
   ],
   "execution_count": 6
  },
  {
   "metadata": {
    "ExecuteTime": {
     "end_time": "2025-04-18T03:40:31.486254Z",
     "start_time": "2025-04-18T03:40:31.308160Z"
    }
   },
   "cell_type": "code",
   "source": "predicted_market_distribtion.price_kl_divergence()",
   "id": "62de6a530ed3265e",
   "outputs": [
    {
     "data": {
      "text/plain": [
       "array([ 0.26636479, -0.02201267, -0.01653685,  0.26502363])"
      ]
     },
     "execution_count": 7,
     "metadata": {},
     "output_type": "execute_result"
    }
   ],
   "execution_count": 7
  },
  {
   "metadata": {
    "ExecuteTime": {
     "end_time": "2025-04-18T03:40:32.520815Z",
     "start_time": "2025-04-18T03:40:31.486254Z"
    }
   },
   "cell_type": "code",
   "source": "predicted_market_distribtion.quantity_optimizer(s, br).x",
   "id": "aead5035f97b4148",
   "outputs": [
    {
     "data": {
      "text/plain": [
       "array([33.3333855 , 29.214725  , 33.42837457, 33.51642006])"
      ]
     },
     "execution_count": 8,
     "metadata": {},
     "output_type": "execute_result"
    }
   ],
   "execution_count": 8
  },
  {
   "metadata": {
    "ExecuteTime": {
     "end_time": "2025-04-18T03:40:32.565427Z",
     "start_time": "2025-04-18T03:40:32.520815Z"
    }
   },
   "cell_type": "code",
   "source": "predicted_market_distribtion.faster_quantity_optimizer(s, br).x",
   "id": "6db139eb5e565dff",
   "outputs": [
    {
     "data": {
      "text/plain": [
       "array([42.14518825, 28.61636362, 32.25386912, 37.59427104])"
      ]
     },
     "execution_count": 9,
     "metadata": {},
     "output_type": "execute_result"
    }
   ],
   "execution_count": 9
  },
  {
   "metadata": {
    "ExecuteTime": {
     "end_time": "2025-04-18T03:40:32.570425Z",
     "start_time": "2025-04-18T03:40:32.566422Z"
    }
   },
   "cell_type": "code",
   "source": "predicted_market_distribtion.rvf(10)[0][:,0]",
   "id": "86d3c9cee10e8e2e",
   "outputs": [
    {
     "data": {
      "text/plain": [
       "array([50.00007204, 41.44999459, 48.22069536, 28.82387541])"
      ]
     },
     "execution_count": 10,
     "metadata": {},
     "output_type": "execute_result"
    }
   ],
   "execution_count": 10
  },
  {
   "metadata": {
    "ExecuteTime": {
     "end_time": "2025-04-18T03:40:32.572790Z",
     "start_time": "2025-04-18T03:40:32.571426Z"
    }
   },
   "cell_type": "code",
   "source": "",
   "id": "76ff6322e28f35ff",
   "outputs": [],
   "execution_count": 10
  }
 ],
 "metadata": {
  "kernelspec": {
   "display_name": "Python 3",
   "language": "python",
   "name": "python3"
  },
  "language_info": {
   "codemirror_mode": {
    "name": "ipython",
    "version": 2
   },
   "file_extension": ".py",
   "mimetype": "text/x-python",
   "name": "python",
   "nbconvert_exporter": "python",
   "pygments_lexer": "ipython2",
   "version": "2.7.6"
  }
 },
 "nbformat": 4,
 "nbformat_minor": 5
}
