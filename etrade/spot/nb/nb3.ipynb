{
 "cells": [
  {
   "cell_type": "code",
   "id": "initial_id",
   "metadata": {
    "collapsed": true,
    "ExecuteTime": {
     "end_time": "2025-04-15T10:31:19.857047Z",
     "start_time": "2025-04-15T10:31:19.057884Z"
    }
   },
   "source": [
    "import numpy\n",
    "from etrade.spot.trader import Station\n",
    "from etrade.spot.market.recycle import BasicRecycle, PointwiseRecycle\n",
    "from etrade.spot.forecast.market import DistributiveSeries, DistributiveMarket\n",
    "from  data_utils.stochastic_utils.vdistributions.abstract import AbstractDistribution\n",
    "from  data_utils.stochastic_utils.vdistributions.parameter.continuous.basic import NormalDistribution, SkewNormalDistribution\n",
    "from data_utils.stochastic_utils.vdistributions.tools.divergence import kl_divergence_continuous, crps\n",
    "\n",
    "from data_utils.stochastic_utils.vdistributions.nonparametric.continuous.mfk.skewnd2 import dof_snd_fitter\n",
    "\n",
    "from scipy.optimize import differential_evolution\n",
    "\n",
    "from matplotlib import pyplot"
   ],
   "outputs": [],
   "execution_count": 1
  },
  {
   "metadata": {
    "ExecuteTime": {
     "end_time": "2025-04-15T10:31:19.860154Z",
     "start_time": "2025-04-15T10:31:19.858057Z"
    }
   },
   "cell_type": "code",
   "source": [
    "s = Station(\"s\", 50)\n",
    "br = PointwiseRecycle(0.8, 1.5)"
   ],
   "id": "9c0a92b4e52b70d8",
   "outputs": [],
   "execution_count": 2
  },
  {
   "metadata": {
    "ExecuteTime": {
     "end_time": "2025-04-15T10:31:19.865321Z",
     "start_time": "2025-04-15T10:31:19.860154Z"
    }
   },
   "cell_type": "code",
   "source": [
    "real_market = DistributiveMarket(\n",
    "    DistributiveSeries(NormalDistribution(45, 5), NormalDistribution(46, 4), NormalDistribution(30, 5), NormalDistribution(32, 5)),\n",
    "    DistributiveSeries(NormalDistribution(10, 2), NormalDistribution(11, 3), NormalDistribution(5, 1), NormalDistribution(12, 5)),\n",
    "    DistributiveSeries(NormalDistribution(10, 3), NormalDistribution(18, 9), NormalDistribution(5, 2), NormalDistribution(13, 6)),\n",
    ")\n",
    "per_market = DistributiveMarket(\n",
    "    DistributiveSeries(NormalDistribution(45, 5), NormalDistribution(46, 4), NormalDistribution(30, 5), NormalDistribution(32, 5)),\n",
    "    DistributiveSeries(NormalDistribution(10, 2), NormalDistribution(11, 3), NormalDistribution(5, 1), NormalDistribution(12, 5)),\n",
    "    DistributiveSeries(NormalDistribution(10, 3), NormalDistribution(18, 9), NormalDistribution(5, 2), NormalDistribution(13, 6)),\n",
    ")"
   ],
   "id": "6a648173690c9f3",
   "outputs": [],
   "execution_count": 3
  },
  {
   "metadata": {
    "ExecuteTime": {
     "end_time": "2025-04-15T10:31:20.771639Z",
     "start_time": "2025-04-15T10:31:19.866324Z"
    }
   },
   "cell_type": "code",
   "source": [
    "train_aq, train_dp, train_rp = per_market.rvf(1000)\n",
    "optimied = per_market.submitted_quantity_optimizer(s, br, train_aq, train_dp, train_rp)"
   ],
   "id": "8da7917697d32e98",
   "outputs": [],
   "execution_count": 4
  },
  {
   "metadata": {
    "ExecuteTime": {
     "end_time": "2025-04-15T10:31:20.775400Z",
     "start_time": "2025-04-15T10:31:20.772650Z"
    }
   },
   "cell_type": "code",
   "source": "print(optimied.x)\n",
   "id": "391c5ece83e1266b",
   "outputs": [
    {
     "name": "stdout",
     "output_type": "stream",
     "text": [
      "[33.01808153 31.63559789 23.4421986  25.549965  ]\n"
     ]
    }
   ],
   "execution_count": 5
  },
  {
   "metadata": {
    "ExecuteTime": {
     "end_time": "2025-04-15T10:31:20.781740Z",
     "start_time": "2025-04-15T10:31:20.775400Z"
    }
   },
   "cell_type": "code",
   "source": [
    "real = real_market.rvf(1)\n",
    "s.trade(real[0].reshape(4), optimied.x, real[1].reshape(4), real[2].reshape(4))\n",
    "# br(real[0].reshape(4), optimied.x, s.trade(real[0].reshape(4), optimied.x, real[1].reshape(4), real[2].reshape(4)))"
   ],
   "id": "2d5d529b7084b4e9",
   "outputs": [
    {
     "data": {
      "text/plain": [
       "array([464.12449524, 549.18473934, 165.54445507, 475.69107181])"
      ]
     },
     "execution_count": 6,
     "metadata": {},
     "output_type": "execute_result"
    }
   ],
   "execution_count": 6
  },
  {
   "metadata": {
    "ExecuteTime": {
     "end_time": "2025-04-15T10:31:20.785532Z",
     "start_time": "2025-04-15T10:31:20.781740Z"
    }
   },
   "cell_type": "code",
   "source": [
    "numpy.sum(br(\n",
    "    real[0], \n",
    "    optimied.x, \n",
    "    s.trade(real[0].reshape(4), optimied.x, real[1].reshape(4), real[2].reshape(4))\n",
    "))"
   ],
   "id": "e681d43465082d2",
   "outputs": [
    {
     "data": {
      "text/plain": [
       "1654.544761463012"
      ]
     },
     "execution_count": 7,
     "metadata": {},
     "output_type": "execute_result"
    }
   ],
   "execution_count": 7
  },
  {
   "metadata": {
    "ExecuteTime": {
     "end_time": "2025-04-15T10:31:20.789463Z",
     "start_time": "2025-04-15T10:31:20.785532Z"
    }
   },
   "cell_type": "code",
   "source": [
    "numpy.sum(br(\n",
    "    real[0], \n",
    "    real[0].reshape(4), \n",
    "    s.trade(real[0].reshape(4), real[0].reshape(4), real[1].reshape(4), real[2].reshape(4))\n",
    "))"
   ],
   "id": "f36428548b372e06",
   "outputs": [
    {
     "data": {
      "text/plain": [
       "1530.035883552644"
      ]
     },
     "execution_count": 8,
     "metadata": {},
     "output_type": "execute_result"
    }
   ],
   "execution_count": 8
  },
  {
   "metadata": {
    "ExecuteTime": {
     "end_time": "2025-04-15T10:48:02.686816Z",
     "start_time": "2025-04-15T10:48:02.555228Z"
    }
   },
   "cell_type": "code",
   "source": "numpy.concatenate((per_market.crps(*real), [per_market.price_kl_divergence()])).reshape(-1)",
   "id": "b009b6c4011f55b6",
   "outputs": [
    {
     "data": {
      "text/plain": [
       "array([3.86949392, 1.28545611, 2.37841335, 2.82176832, 1.37862214,\n",
       "       0.80720281, 0.75125449, 3.90868115, 1.34504643, 2.76019019,\n",
       "       1.85661905, 4.40265453, 0.12768733, 0.95663698, 0.31814718,\n",
       "       0.04343267])"
      ]
     },
     "execution_count": 14,
     "metadata": {},
     "output_type": "execute_result"
    }
   ],
   "execution_count": 14
  },
  {
   "metadata": {
    "ExecuteTime": {
     "end_time": "2025-04-15T10:31:30.201513Z",
     "start_time": "2025-04-15T10:31:30.193254Z"
    }
   },
   "cell_type": "code",
   "source": "print(per_market.price_kl_divergence())",
   "id": "61b8232bdcb38904",
   "outputs": [
    {
     "name": "stdout",
     "output_type": "stream",
     "text": [
      "[0.12768733 0.95663698 0.31814718 0.04343267]\n"
     ]
    }
   ],
   "execution_count": 10
  },
  {
   "metadata": {},
   "cell_type": "code",
   "outputs": [],
   "execution_count": null,
   "source": "",
   "id": "cda93a9eb02eb9a9"
  }
 ],
 "metadata": {
  "kernelspec": {
   "display_name": "Python 3",
   "language": "python",
   "name": "python3"
  },
  "language_info": {
   "codemirror_mode": {
    "name": "ipython",
    "version": 2
   },
   "file_extension": ".py",
   "mimetype": "text/x-python",
   "name": "python",
   "nbconvert_exporter": "python",
   "pygments_lexer": "ipython2",
   "version": "2.7.6"
  }
 },
 "nbformat": 4,
 "nbformat_minor": 5
}
