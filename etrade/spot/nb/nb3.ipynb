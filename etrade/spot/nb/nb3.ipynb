{
 "cells": [
  {
   "cell_type": "code",
   "id": "initial_id",
   "metadata": {
    "collapsed": true,
    "ExecuteTime": {
     "end_time": "2025-04-10T07:34:46.250955Z",
     "start_time": "2025-04-10T07:34:45.392896Z"
    }
   },
   "source": [
    "import numpy\n",
    "from etrade.spot.trader import Station\n",
    "from etrade.spot.market.recycle import BasicRecycle, PointwiseRecycle\n",
    "from etrade.spot.forecast.market import DistributiveSeries, DistributiveMarket\n",
    "from  data_utils.stochastic_utils.vdistributions.abstract import AbstractDistribution\n",
    "from data_utils.stochastic_utils.vdistributions.parameter.continuous.basic import NormalDistribution, LogNormalDistribution, eps\n",
    "from data_utils.stochastic_utils.vdistributions.parameter.continuous.heavytail import StudentTDistribution\n",
    "from data_utils.stochastic_utils.vdistributions.nonparametric.continuous.histogram import HistogramDistribution, LogHistogramDistribution\n",
    "from data_utils.stochastic_utils.vdistributions.nonparametric.continuous.kernel2 import KernelMixDistribution\n",
    "from data_utils.stochastic_utils.vdistributions.nonparametric.discrete.basic import DiscreteDistribution\n",
    "from data_utils.stochastic_utils.vdistributions.tools.convert import resample_like_distribution, generate_correlated_sample_matrix\n",
    "from data_utils.stochastic_utils.vdistributions.tools.divergence import kl_divergence_continuous, crps\n",
    "\n",
    "from matplotlib import pyplot as plt\n",
    "\n",
    "from scipy.optimize import differential_evolution\n",
    "\n",
    "from matplotlib import pyplot"
   ],
   "outputs": [],
   "execution_count": 1
  },
  {
   "metadata": {
    "ExecuteTime": {
     "end_time": "2025-04-10T08:25:50.496786Z",
     "start_time": "2025-04-10T08:25:50.475591Z"
    }
   },
   "cell_type": "code",
   "source": [
    "def paired_dist(seed_dist:AbstractDistribution, seed_len, sample_len):\n",
    "    seed = seed_dist.rvf(seed_len)\n",
    "    d0_data, d1_data = numpy.random.choice(seed, sample_len), numpy.random.choice(seed, sample_len)\n",
    "    d0, d1 = KernelMixDistribution(d0_data, sample_len), KernelMixDistribution(d1_data, sample_len)\n",
    "    return d0, d1"
   ],
   "id": "6a648173690c9f3",
   "outputs": [],
   "execution_count": 3
  },
  {
   "metadata": {},
   "cell_type": "code",
   "outputs": [],
   "execution_count": null,
   "source": "",
   "id": "5997dc45ccfaba8a"
  }
 ],
 "metadata": {
  "kernelspec": {
   "display_name": "Python 3",
   "language": "python",
   "name": "python3"
  },
  "language_info": {
   "codemirror_mode": {
    "name": "ipython",
    "version": 2
   },
   "file_extension": ".py",
   "mimetype": "text/x-python",
   "name": "python",
   "nbconvert_exporter": "python",
   "pygments_lexer": "ipython2",
   "version": "2.7.6"
  }
 },
 "nbformat": 4,
 "nbformat_minor": 5
}
