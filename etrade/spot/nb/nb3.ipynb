{
 "cells": [
  {
   "cell_type": "code",
   "id": "initial_id",
   "metadata": {
    "collapsed": true,
    "ExecuteTime": {
     "end_time": "2025-04-16T02:01:47.960534Z",
     "start_time": "2025-04-16T02:01:47.181254Z"
    }
   },
   "source": [
    "import numpy\n",
    "from etrade.spot.trader import Station\n",
    "from etrade.spot.market.recycle import BasicRecycle, PointwiseRecycle\n",
    "from etrade.spot.forecast.market import DistributiveSeries, DistributiveMarket\n",
    "from  data_utils.stochastic_utils.vdistributions.abstract import AbstractDistribution\n",
    "from  data_utils.stochastic_utils.vdistributions.parameter.continuous.basic import NormalDistribution, SkewNormalDistribution\n",
    "from data_utils.stochastic_utils.vdistributions.tools.divergence import kl_divergence_continuous, crps\n",
    "\n",
    "from data_utils.stochastic_utils.vdistributions.nonparametric.continuous.mfk.skewnd2 import dof_snd_fitter\n",
    "\n",
    "from scipy.optimize import differential_evolution\n",
    "\n",
    "from matplotlib import pyplot"
   ],
   "outputs": [],
   "execution_count": 1
  },
  {
   "metadata": {
    "ExecuteTime": {
     "end_time": "2025-04-16T02:01:47.963513Z",
     "start_time": "2025-04-16T02:01:47.961545Z"
    }
   },
   "cell_type": "code",
   "source": [
    "s = Station(\"s\", 50)\n",
    "br = PointwiseRecycle(0.8, 1.5)"
   ],
   "id": "9c0a92b4e52b70d8",
   "outputs": [],
   "execution_count": 2
  },
  {
   "metadata": {
    "ExecuteTime": {
     "end_time": "2025-04-16T02:01:47.968639Z",
     "start_time": "2025-04-16T02:01:47.964516Z"
    }
   },
   "cell_type": "code",
   "source": [
    "real_market = DistributiveMarket(\n",
    "    DistributiveSeries(NormalDistribution(45, 5), NormalDistribution(46, 4), NormalDistribution(30, 5), NormalDistribution(32, 5)),\n",
    "    DistributiveSeries(NormalDistribution(10, 2), NormalDistribution(11, 3), NormalDistribution(5, 1), NormalDistribution(12, 5)),\n",
    "    DistributiveSeries(NormalDistribution(10, 3), NormalDistribution(18, 9), NormalDistribution(5, 2), NormalDistribution(13, 6)),\n",
    ")\n",
    "per_market = DistributiveMarket(\n",
    "    DistributiveSeries(NormalDistribution(45, 5), NormalDistribution(46, 4), NormalDistribution(30, 5), NormalDistribution(32, 5)),\n",
    "    DistributiveSeries(NormalDistribution(10, 2), NormalDistribution(11, 3), NormalDistribution(5, 1), NormalDistribution(12, 5)),\n",
    "    DistributiveSeries(NormalDistribution(10, 3), NormalDistribution(18, 9), NormalDistribution(5, 2), NormalDistribution(13, 6)),\n",
    ")"
   ],
   "id": "6a648173690c9f3",
   "outputs": [],
   "execution_count": 3
  },
  {
   "metadata": {
    "ExecuteTime": {
     "end_time": "2025-04-16T02:01:48.730024Z",
     "start_time": "2025-04-16T02:01:47.968639Z"
    }
   },
   "cell_type": "code",
   "source": [
    "train_aq, train_dp, train_rp = per_market.rvf(1000)\n",
    "optimied = per_market.submitted_quantity_optimizer(s, br, train_aq, train_dp, train_rp)"
   ],
   "id": "8da7917697d32e98",
   "outputs": [],
   "execution_count": 4
  },
  {
   "metadata": {
    "ExecuteTime": {
     "end_time": "2025-04-16T02:01:48.733631Z",
     "start_time": "2025-04-16T02:01:48.731034Z"
    }
   },
   "cell_type": "code",
   "source": "print(optimied.x)\n",
   "id": "391c5ece83e1266b",
   "outputs": [
    {
     "name": "stdout",
     "output_type": "stream",
     "text": [
      "[34.40536788 32.38389314 23.63316809 25.88709099]\n"
     ]
    }
   ],
   "execution_count": 5
  },
  {
   "metadata": {
    "ExecuteTime": {
     "end_time": "2025-04-16T02:01:48.740121Z",
     "start_time": "2025-04-16T02:01:48.733631Z"
    }
   },
   "cell_type": "code",
   "source": [
    "real = real_market.rvf(1)\n",
    "s.trade(real[0].reshape(4), optimied.x, real[1].reshape(4), real[2].reshape(4))\n",
    "# br(real[0].reshape(4), optimied.x, s.trade(real[0].reshape(4), optimied.x, real[1].reshape(4), real[2].reshape(4)))"
   ],
   "id": "2d5d529b7084b4e9",
   "outputs": [
    {
     "data": {
      "text/plain": [
       "array([516.08304277, 462.46415373, 116.36354406, 655.3873565 ])"
      ]
     },
     "execution_count": 6,
     "metadata": {},
     "output_type": "execute_result"
    }
   ],
   "execution_count": 6
  },
  {
   "metadata": {
    "ExecuteTime": {
     "end_time": "2025-04-16T02:01:48.744372Z",
     "start_time": "2025-04-16T02:01:48.741124Z"
    }
   },
   "cell_type": "code",
   "source": [
    "numpy.sum(br(\n",
    "    real[0], \n",
    "    optimied.x, \n",
    "    s.trade(real[0].reshape(4), optimied.x, real[1].reshape(4), real[2].reshape(4))\n",
    "))"
   ],
   "id": "e681d43465082d2",
   "outputs": [
    {
     "data": {
      "text/plain": [
       "1750.2980970644546"
      ]
     },
     "execution_count": 7,
     "metadata": {},
     "output_type": "execute_result"
    }
   ],
   "execution_count": 7
  },
  {
   "metadata": {
    "ExecuteTime": {
     "end_time": "2025-04-16T02:01:48.748472Z",
     "start_time": "2025-04-16T02:01:48.744372Z"
    }
   },
   "cell_type": "code",
   "source": [
    "numpy.sum(br(\n",
    "    real[0], \n",
    "    real[0].reshape(4), \n",
    "    s.trade(real[0].reshape(4), real[0].reshape(4), real[1].reshape(4), real[2].reshape(4))\n",
    "))"
   ],
   "id": "f36428548b372e06",
   "outputs": [
    {
     "data": {
      "text/plain": [
       "1818.513672206822"
      ]
     },
     "execution_count": 8,
     "metadata": {},
     "output_type": "execute_result"
    }
   ],
   "execution_count": 8
  },
  {
   "metadata": {
    "ExecuteTime": {
     "end_time": "2025-04-16T02:01:48.870379Z",
     "start_time": "2025-04-16T02:01:48.748472Z"
    }
   },
   "cell_type": "code",
   "source": "numpy.concatenate((per_market.crps(*real), [per_market.price_kl_divergence()])).reshape(-1)",
   "id": "b009b6c4011f55b6",
   "outputs": [
    {
     "data": {
      "text/plain": [
       "array([7.37551271, 4.61552012, 1.17609478, 1.50338407, 0.4679783 ,\n",
       "       0.75713712, 0.40079722, 3.54467118, 0.81072668, 8.66113234,\n",
       "       1.75806248, 7.75536892, 0.12768733, 0.95663698, 0.31814718,\n",
       "       0.04343267])"
      ]
     },
     "execution_count": 9,
     "metadata": {},
     "output_type": "execute_result"
    }
   ],
   "execution_count": 9
  },
  {
   "metadata": {
    "ExecuteTime": {
     "end_time": "2025-04-16T02:01:48.878793Z",
     "start_time": "2025-04-16T02:01:48.870379Z"
    }
   },
   "cell_type": "code",
   "source": "print(per_market.price_kl_divergence())",
   "id": "61b8232bdcb38904",
   "outputs": [
    {
     "name": "stdout",
     "output_type": "stream",
     "text": [
      "[0.12768733 0.95663698 0.31814718 0.04343267]\n"
     ]
    }
   ],
   "execution_count": 10
  },
  {
   "metadata": {
    "ExecuteTime": {
     "end_time": "2025-04-16T02:01:48.883887Z",
     "start_time": "2025-04-16T02:01:48.878793Z"
    }
   },
   "cell_type": "code",
   "source": "kl_divergence_continuous(NormalDistribution(0,1), NormalDistribution(0,10))",
   "id": "cda93a9eb02eb9a9",
   "outputs": [
    {
     "data": {
      "text/plain": [
       "1.807585092998198"
      ]
     },
     "execution_count": 11,
     "metadata": {},
     "output_type": "execute_result"
    }
   ],
   "execution_count": 11
  },
  {
   "metadata": {
    "ExecuteTime": {
     "end_time": "2025-04-16T02:01:48.895549Z",
     "start_time": "2025-04-16T02:01:48.883887Z"
    }
   },
   "cell_type": "code",
   "source": "kl_divergence_continuous(NormalDistribution(0,1), SkewNormalDistribution(0,1,1))",
   "id": "eebaa3fbd0a131d2",
   "outputs": [
    {
     "data": {
      "text/plain": [
       "0.30684806434836825"
      ]
     },
     "execution_count": 12,
     "metadata": {},
     "output_type": "execute_result"
    }
   ],
   "execution_count": 12
  },
  {
   "metadata": {
    "ExecuteTime": {
     "end_time": "2025-04-16T02:01:48.897670Z",
     "start_time": "2025-04-16T02:01:48.895549Z"
    }
   },
   "cell_type": "code",
   "source": "",
   "id": "87c617404a1205fa",
   "outputs": [],
   "execution_count": 12
  }
 ],
 "metadata": {
  "kernelspec": {
   "display_name": "Python 3",
   "language": "python",
   "name": "python3"
  },
  "language_info": {
   "codemirror_mode": {
    "name": "ipython",
    "version": 2
   },
   "file_extension": ".py",
   "mimetype": "text/x-python",
   "name": "python",
   "nbconvert_exporter": "python",
   "pygments_lexer": "ipython2",
   "version": "2.7.6"
  }
 },
 "nbformat": 4,
 "nbformat_minor": 5
}
