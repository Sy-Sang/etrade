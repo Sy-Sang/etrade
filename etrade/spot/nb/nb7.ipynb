{
 "cells": [
  {
   "cell_type": "code",
   "id": "927340084fb5f5bd",
   "metadata": {
    "ExecuteTime": {
     "end_time": "2025-05-07T10:31:05.550662Z",
     "start_time": "2025-05-07T10:31:05.546979Z"
    }
   },
   "source": [
    "import numpy\n",
    "from etrade.spot.trader import Station\n",
    "from etrade.spot.market.recycle import BasicRecycle, PointwiseRecycle\n",
    "from etrade.spot.forecast.market import DistributiveSeries, DistributiveMarket\n",
    "from etrade.spot.forecast.plan_a.constructor import *\n",
    "from etrade.spot.forecast.plan_a.transformer import MarketSampleTransformer, MarketSampleDataset\n",
    "from etrade.spot.forecast.yieldindex import zero_quantile\n",
    "from etrade.spot.forecast import yieldindex\n",
    "from  data_utils.stochastic_utils.vdistributions.abstract import AbstractDistribution\n",
    "from  data_utils.stochastic_utils.vdistributions.parameter.continuous.basic import NormalDistribution, SkewNormalDistribution\n",
    "from data_utils.stochastic_utils.vdistributions.nonparametric.continuous.kernel2 import KernelMixDistribution\n",
    "from data_utils.stochastic_utils.vdistributions.tools.divergence import kl_divergence_continuous, crps, quantile_RMSE\n",
    "\n",
    "from data_utils.stochastic_utils.vdistributions.nonparametric.continuous.mfk.skewnd2 import dof_snd_fitter\n",
    "\n",
    "from scipy.optimize import differential_evolution\n",
    "\n",
    "from matplotlib import pyplot\n",
    "import json\n",
    "\n",
    "import torch\n",
    "from torch import nn\n",
    "import torch.optim as optim\n",
    "from torch.utils.data import Dataset, DataLoader"
   ],
   "outputs": [],
   "execution_count": 69
  },
  {
   "cell_type": "code",
   "id": "initial_id",
   "metadata": {
    "ExecuteTime": {
     "end_time": "2025-05-07T10:31:05.858336Z",
     "start_time": "2025-05-07T10:31:05.560674Z"
    }
   },
   "source": [
    "\n",
    "with open(r\"..\\forecast\\plan_a\\data\\market_simulator_5.json\", \"r\") as f:\n",
    "    train_data = json.loads(f.read())\n",
    "    \n",
    "with open(r\"..\\forecast\\plan_a\\data\\market_simulator_6.json\", \"r\") as f:\n",
    "    test_data = json.loads(f.read())"
   ],
   "outputs": [],
   "execution_count": 70
  },
  {
   "cell_type": "code",
   "id": "2302659a31e1b540",
   "metadata": {
    "ExecuteTime": {
     "end_time": "2025-05-07T10:31:05.891747Z",
     "start_time": "2025-05-07T10:31:05.859338Z"
    }
   },
   "source": [
    "train_data =numpy.asarray(train_data[\"data\"])\n",
    "test_data =numpy.asarray(test_data[\"data\"])"
   ],
   "outputs": [],
   "execution_count": 71
  },
  {
   "metadata": {
    "ExecuteTime": {
     "end_time": "2025-05-07T10:31:05.895376Z",
     "start_time": "2025-05-07T10:31:05.891747Z"
    }
   },
   "cell_type": "code",
   "source": [
    "# print(train_data[:10].tolist())\n",
    "print(len(train_data[0]))"
   ],
   "id": "eb1089311f81dc6",
   "outputs": [
    {
     "name": "stdout",
     "output_type": "stream",
     "text": [
      "170\n"
     ]
    }
   ],
   "execution_count": 72
  },
  {
   "cell_type": "code",
   "id": "6d56030ef98a2bb9",
   "metadata": {
    "ExecuteTime": {
     "end_time": "2025-05-07T10:31:05.900474Z",
     "start_time": "2025-05-07T10:31:05.896379Z"
    }
   },
   "source": [
    "# market_len = 1\n",
    "# # l = 3 * market_len + market_len\n",
    "# l = market_len * 126 + market_len * (5-0) * 3 + 9\n",
    "l = len(train_data[0]) - 1\n",
    "def zscore_p(x):\n",
    "    x = numpy.asarray(x)\n",
    "    m = numpy.mean(x, axis=0)\n",
    "    s = numpy.std(x, ddof=1, axis=0)\n",
    "    return m,s\n",
    "\n",
    "def zscore(x, m, s):\n",
    "    x = numpy.asarray(x)\n",
    "    m = numpy.asarray(m)\n",
    "    s = numpy.asarray(s)\n",
    "    # return numpy.column_stack((\n",
    "    #         (x[:,:l]-m[:l]) / s[:l], x[:,l]\n",
    "    # ))\n",
    "    return (x-m) / s\n",
    "\n",
    "def minmax_p(x):\n",
    "    x = numpy.asarray(x)\n",
    "    mmax = numpy.max(x, axis=0)\n",
    "    mmin = numpy.min(x, axis=0)\n",
    "    return mmin, mmax\n",
    "\n",
    "def minmax(x, mmin, mmax):\n",
    "    x = numpy.asarray(x)\n",
    "    mmin = numpy.asarray(mmin)\n",
    "    mmax = numpy.asarray(mmax)\n",
    "    return (x-mmin) / (mmax-mmin)\n",
    "    # return numpy.column_stack((\n",
    "    #         (x[:,:l]-mmin[:l]) / (mmax[:l]-mmin[:l]), x[:,l]\n",
    "    # ))\n",
    "    \n",
    "print(l)\n",
    "    "
   ],
   "outputs": [
    {
     "name": "stdout",
     "output_type": "stream",
     "text": [
      "169\n"
     ]
    }
   ],
   "execution_count": 73
  },
  {
   "cell_type": "code",
   "id": "4fe1c6779ebf759b",
   "metadata": {
    "ExecuteTime": {
     "end_time": "2025-05-07T10:31:05.910551Z",
     "start_time": "2025-05-07T10:31:05.900474Z"
    }
   },
   "source": [
    "m,s= zscore_p(train_data)\n",
    "zscored_t = zscore(train_data, m, s)\n",
    "zscored_x = zscore(test_data, m, s)\n",
    "\n",
    "mmin,mmax = minmax_p(train_data)\n",
    "minmaxed_t = minmax(train_data, mmin, mmax)\n",
    "minmaxed_x = minmax(test_data, mmin, mmax)\n",
    "\n",
    "print(zscored_t.shape)\n",
    "# print(zscored_t[:10].tolist())"
   ],
   "outputs": [
    {
     "name": "stdout",
     "output_type": "stream",
     "text": [
      "(3000, 170)\n"
     ]
    }
   ],
   "execution_count": 74
  },
  {
   "cell_type": "code",
   "id": "ba1bfd56948c3c24",
   "metadata": {
    "ExecuteTime": {
     "end_time": "2025-05-07T10:39:35.587593Z",
     "start_time": "2025-05-07T10:38:16.441767Z"
    }
   },
   "source": [
    "from sklearn.neural_network import MLPRegressor\n",
    "from sklearn.ensemble import GradientBoostingRegressor, RandomForestRegressor\n",
    "from sklearn.svm import SVR\n",
    "from sklearn.linear_model import LinearRegression\n",
    "from sklearn.kernel_ridge import KernelRidge\n",
    "# p = MLPRegressor(\n",
    "#     hidden_layer_sizes=[50] * 4,\n",
    "#     activation=\"relu\",\n",
    "#     solver=\"lbfgs\",\n",
    "#     # alpha=1e-3,\n",
    "#     # learning_rate_init=1e-3\n",
    "# )\n",
    "p = RandomForestRegressor(\n",
    "    # alpha=0.999\n",
    ")\n",
    "# p = SVR(\n",
    "#     # alpha=1\n",
    "# )\n",
    "p.fit(\n",
    "    zscored_t[:,:l],\n",
    "    zscored_t[:,l]\n",
    ")"
   ],
   "outputs": [
    {
     "data": {
      "text/plain": [
       "RandomForestRegressor()"
      ],
      "text/html": [
       "<style>#sk-container-id-5 {\n",
       "  /* Definition of color scheme common for light and dark mode */\n",
       "  --sklearn-color-text: black;\n",
       "  --sklearn-color-line: gray;\n",
       "  /* Definition of color scheme for unfitted estimators */\n",
       "  --sklearn-color-unfitted-level-0: #fff5e6;\n",
       "  --sklearn-color-unfitted-level-1: #f6e4d2;\n",
       "  --sklearn-color-unfitted-level-2: #ffe0b3;\n",
       "  --sklearn-color-unfitted-level-3: chocolate;\n",
       "  /* Definition of color scheme for fitted estimators */\n",
       "  --sklearn-color-fitted-level-0: #f0f8ff;\n",
       "  --sklearn-color-fitted-level-1: #d4ebff;\n",
       "  --sklearn-color-fitted-level-2: #b3dbfd;\n",
       "  --sklearn-color-fitted-level-3: cornflowerblue;\n",
       "\n",
       "  /* Specific color for light theme */\n",
       "  --sklearn-color-text-on-default-background: var(--sg-text-color, var(--theme-code-foreground, var(--jp-content-font-color1, black)));\n",
       "  --sklearn-color-background: var(--sg-background-color, var(--theme-background, var(--jp-layout-color0, white)));\n",
       "  --sklearn-color-border-box: var(--sg-text-color, var(--theme-code-foreground, var(--jp-content-font-color1, black)));\n",
       "  --sklearn-color-icon: #696969;\n",
       "\n",
       "  @media (prefers-color-scheme: dark) {\n",
       "    /* Redefinition of color scheme for dark theme */\n",
       "    --sklearn-color-text-on-default-background: var(--sg-text-color, var(--theme-code-foreground, var(--jp-content-font-color1, white)));\n",
       "    --sklearn-color-background: var(--sg-background-color, var(--theme-background, var(--jp-layout-color0, #111)));\n",
       "    --sklearn-color-border-box: var(--sg-text-color, var(--theme-code-foreground, var(--jp-content-font-color1, white)));\n",
       "    --sklearn-color-icon: #878787;\n",
       "  }\n",
       "}\n",
       "\n",
       "#sk-container-id-5 {\n",
       "  color: var(--sklearn-color-text);\n",
       "}\n",
       "\n",
       "#sk-container-id-5 pre {\n",
       "  padding: 0;\n",
       "}\n",
       "\n",
       "#sk-container-id-5 input.sk-hidden--visually {\n",
       "  border: 0;\n",
       "  clip: rect(1px 1px 1px 1px);\n",
       "  clip: rect(1px, 1px, 1px, 1px);\n",
       "  height: 1px;\n",
       "  margin: -1px;\n",
       "  overflow: hidden;\n",
       "  padding: 0;\n",
       "  position: absolute;\n",
       "  width: 1px;\n",
       "}\n",
       "\n",
       "#sk-container-id-5 div.sk-dashed-wrapped {\n",
       "  border: 1px dashed var(--sklearn-color-line);\n",
       "  margin: 0 0.4em 0.5em 0.4em;\n",
       "  box-sizing: border-box;\n",
       "  padding-bottom: 0.4em;\n",
       "  background-color: var(--sklearn-color-background);\n",
       "}\n",
       "\n",
       "#sk-container-id-5 div.sk-container {\n",
       "  /* jupyter's `normalize.less` sets `[hidden] { display: none; }`\n",
       "     but bootstrap.min.css set `[hidden] { display: none !important; }`\n",
       "     so we also need the `!important` here to be able to override the\n",
       "     default hidden behavior on the sphinx rendered scikit-learn.org.\n",
       "     See: https://github.com/scikit-learn/scikit-learn/issues/21755 */\n",
       "  display: inline-block !important;\n",
       "  position: relative;\n",
       "}\n",
       "\n",
       "#sk-container-id-5 div.sk-text-repr-fallback {\n",
       "  display: none;\n",
       "}\n",
       "\n",
       "div.sk-parallel-item,\n",
       "div.sk-serial,\n",
       "div.sk-item {\n",
       "  /* draw centered vertical line to link estimators */\n",
       "  background-image: linear-gradient(var(--sklearn-color-text-on-default-background), var(--sklearn-color-text-on-default-background));\n",
       "  background-size: 2px 100%;\n",
       "  background-repeat: no-repeat;\n",
       "  background-position: center center;\n",
       "}\n",
       "\n",
       "/* Parallel-specific style estimator block */\n",
       "\n",
       "#sk-container-id-5 div.sk-parallel-item::after {\n",
       "  content: \"\";\n",
       "  width: 100%;\n",
       "  border-bottom: 2px solid var(--sklearn-color-text-on-default-background);\n",
       "  flex-grow: 1;\n",
       "}\n",
       "\n",
       "#sk-container-id-5 div.sk-parallel {\n",
       "  display: flex;\n",
       "  align-items: stretch;\n",
       "  justify-content: center;\n",
       "  background-color: var(--sklearn-color-background);\n",
       "  position: relative;\n",
       "}\n",
       "\n",
       "#sk-container-id-5 div.sk-parallel-item {\n",
       "  display: flex;\n",
       "  flex-direction: column;\n",
       "}\n",
       "\n",
       "#sk-container-id-5 div.sk-parallel-item:first-child::after {\n",
       "  align-self: flex-end;\n",
       "  width: 50%;\n",
       "}\n",
       "\n",
       "#sk-container-id-5 div.sk-parallel-item:last-child::after {\n",
       "  align-self: flex-start;\n",
       "  width: 50%;\n",
       "}\n",
       "\n",
       "#sk-container-id-5 div.sk-parallel-item:only-child::after {\n",
       "  width: 0;\n",
       "}\n",
       "\n",
       "/* Serial-specific style estimator block */\n",
       "\n",
       "#sk-container-id-5 div.sk-serial {\n",
       "  display: flex;\n",
       "  flex-direction: column;\n",
       "  align-items: center;\n",
       "  background-color: var(--sklearn-color-background);\n",
       "  padding-right: 1em;\n",
       "  padding-left: 1em;\n",
       "}\n",
       "\n",
       "\n",
       "/* Toggleable style: style used for estimator/Pipeline/ColumnTransformer box that is\n",
       "clickable and can be expanded/collapsed.\n",
       "- Pipeline and ColumnTransformer use this feature and define the default style\n",
       "- Estimators will overwrite some part of the style using the `sk-estimator` class\n",
       "*/\n",
       "\n",
       "/* Pipeline and ColumnTransformer style (default) */\n",
       "\n",
       "#sk-container-id-5 div.sk-toggleable {\n",
       "  /* Default theme specific background. It is overwritten whether we have a\n",
       "  specific estimator or a Pipeline/ColumnTransformer */\n",
       "  background-color: var(--sklearn-color-background);\n",
       "}\n",
       "\n",
       "/* Toggleable label */\n",
       "#sk-container-id-5 label.sk-toggleable__label {\n",
       "  cursor: pointer;\n",
       "  display: block;\n",
       "  width: 100%;\n",
       "  margin-bottom: 0;\n",
       "  padding: 0.5em;\n",
       "  box-sizing: border-box;\n",
       "  text-align: center;\n",
       "}\n",
       "\n",
       "#sk-container-id-5 label.sk-toggleable__label-arrow:before {\n",
       "  /* Arrow on the left of the label */\n",
       "  content: \"▸\";\n",
       "  float: left;\n",
       "  margin-right: 0.25em;\n",
       "  color: var(--sklearn-color-icon);\n",
       "}\n",
       "\n",
       "#sk-container-id-5 label.sk-toggleable__label-arrow:hover:before {\n",
       "  color: var(--sklearn-color-text);\n",
       "}\n",
       "\n",
       "/* Toggleable content - dropdown */\n",
       "\n",
       "#sk-container-id-5 div.sk-toggleable__content {\n",
       "  max-height: 0;\n",
       "  max-width: 0;\n",
       "  overflow: hidden;\n",
       "  text-align: left;\n",
       "  /* unfitted */\n",
       "  background-color: var(--sklearn-color-unfitted-level-0);\n",
       "}\n",
       "\n",
       "#sk-container-id-5 div.sk-toggleable__content.fitted {\n",
       "  /* fitted */\n",
       "  background-color: var(--sklearn-color-fitted-level-0);\n",
       "}\n",
       "\n",
       "#sk-container-id-5 div.sk-toggleable__content pre {\n",
       "  margin: 0.2em;\n",
       "  border-radius: 0.25em;\n",
       "  color: var(--sklearn-color-text);\n",
       "  /* unfitted */\n",
       "  background-color: var(--sklearn-color-unfitted-level-0);\n",
       "}\n",
       "\n",
       "#sk-container-id-5 div.sk-toggleable__content.fitted pre {\n",
       "  /* unfitted */\n",
       "  background-color: var(--sklearn-color-fitted-level-0);\n",
       "}\n",
       "\n",
       "#sk-container-id-5 input.sk-toggleable__control:checked~div.sk-toggleable__content {\n",
       "  /* Expand drop-down */\n",
       "  max-height: 200px;\n",
       "  max-width: 100%;\n",
       "  overflow: auto;\n",
       "}\n",
       "\n",
       "#sk-container-id-5 input.sk-toggleable__control:checked~label.sk-toggleable__label-arrow:before {\n",
       "  content: \"▾\";\n",
       "}\n",
       "\n",
       "/* Pipeline/ColumnTransformer-specific style */\n",
       "\n",
       "#sk-container-id-5 div.sk-label input.sk-toggleable__control:checked~label.sk-toggleable__label {\n",
       "  color: var(--sklearn-color-text);\n",
       "  background-color: var(--sklearn-color-unfitted-level-2);\n",
       "}\n",
       "\n",
       "#sk-container-id-5 div.sk-label.fitted input.sk-toggleable__control:checked~label.sk-toggleable__label {\n",
       "  background-color: var(--sklearn-color-fitted-level-2);\n",
       "}\n",
       "\n",
       "/* Estimator-specific style */\n",
       "\n",
       "/* Colorize estimator box */\n",
       "#sk-container-id-5 div.sk-estimator input.sk-toggleable__control:checked~label.sk-toggleable__label {\n",
       "  /* unfitted */\n",
       "  background-color: var(--sklearn-color-unfitted-level-2);\n",
       "}\n",
       "\n",
       "#sk-container-id-5 div.sk-estimator.fitted input.sk-toggleable__control:checked~label.sk-toggleable__label {\n",
       "  /* fitted */\n",
       "  background-color: var(--sklearn-color-fitted-level-2);\n",
       "}\n",
       "\n",
       "#sk-container-id-5 div.sk-label label.sk-toggleable__label,\n",
       "#sk-container-id-5 div.sk-label label {\n",
       "  /* The background is the default theme color */\n",
       "  color: var(--sklearn-color-text-on-default-background);\n",
       "}\n",
       "\n",
       "/* On hover, darken the color of the background */\n",
       "#sk-container-id-5 div.sk-label:hover label.sk-toggleable__label {\n",
       "  color: var(--sklearn-color-text);\n",
       "  background-color: var(--sklearn-color-unfitted-level-2);\n",
       "}\n",
       "\n",
       "/* Label box, darken color on hover, fitted */\n",
       "#sk-container-id-5 div.sk-label.fitted:hover label.sk-toggleable__label.fitted {\n",
       "  color: var(--sklearn-color-text);\n",
       "  background-color: var(--sklearn-color-fitted-level-2);\n",
       "}\n",
       "\n",
       "/* Estimator label */\n",
       "\n",
       "#sk-container-id-5 div.sk-label label {\n",
       "  font-family: monospace;\n",
       "  font-weight: bold;\n",
       "  display: inline-block;\n",
       "  line-height: 1.2em;\n",
       "}\n",
       "\n",
       "#sk-container-id-5 div.sk-label-container {\n",
       "  text-align: center;\n",
       "}\n",
       "\n",
       "/* Estimator-specific */\n",
       "#sk-container-id-5 div.sk-estimator {\n",
       "  font-family: monospace;\n",
       "  border: 1px dotted var(--sklearn-color-border-box);\n",
       "  border-radius: 0.25em;\n",
       "  box-sizing: border-box;\n",
       "  margin-bottom: 0.5em;\n",
       "  /* unfitted */\n",
       "  background-color: var(--sklearn-color-unfitted-level-0);\n",
       "}\n",
       "\n",
       "#sk-container-id-5 div.sk-estimator.fitted {\n",
       "  /* fitted */\n",
       "  background-color: var(--sklearn-color-fitted-level-0);\n",
       "}\n",
       "\n",
       "/* on hover */\n",
       "#sk-container-id-5 div.sk-estimator:hover {\n",
       "  /* unfitted */\n",
       "  background-color: var(--sklearn-color-unfitted-level-2);\n",
       "}\n",
       "\n",
       "#sk-container-id-5 div.sk-estimator.fitted:hover {\n",
       "  /* fitted */\n",
       "  background-color: var(--sklearn-color-fitted-level-2);\n",
       "}\n",
       "\n",
       "/* Specification for estimator info (e.g. \"i\" and \"?\") */\n",
       "\n",
       "/* Common style for \"i\" and \"?\" */\n",
       "\n",
       ".sk-estimator-doc-link,\n",
       "a:link.sk-estimator-doc-link,\n",
       "a:visited.sk-estimator-doc-link {\n",
       "  float: right;\n",
       "  font-size: smaller;\n",
       "  line-height: 1em;\n",
       "  font-family: monospace;\n",
       "  background-color: var(--sklearn-color-background);\n",
       "  border-radius: 1em;\n",
       "  height: 1em;\n",
       "  width: 1em;\n",
       "  text-decoration: none !important;\n",
       "  margin-left: 1ex;\n",
       "  /* unfitted */\n",
       "  border: var(--sklearn-color-unfitted-level-1) 1pt solid;\n",
       "  color: var(--sklearn-color-unfitted-level-1);\n",
       "}\n",
       "\n",
       ".sk-estimator-doc-link.fitted,\n",
       "a:link.sk-estimator-doc-link.fitted,\n",
       "a:visited.sk-estimator-doc-link.fitted {\n",
       "  /* fitted */\n",
       "  border: var(--sklearn-color-fitted-level-1) 1pt solid;\n",
       "  color: var(--sklearn-color-fitted-level-1);\n",
       "}\n",
       "\n",
       "/* On hover */\n",
       "div.sk-estimator:hover .sk-estimator-doc-link:hover,\n",
       ".sk-estimator-doc-link:hover,\n",
       "div.sk-label-container:hover .sk-estimator-doc-link:hover,\n",
       ".sk-estimator-doc-link:hover {\n",
       "  /* unfitted */\n",
       "  background-color: var(--sklearn-color-unfitted-level-3);\n",
       "  color: var(--sklearn-color-background);\n",
       "  text-decoration: none;\n",
       "}\n",
       "\n",
       "div.sk-estimator.fitted:hover .sk-estimator-doc-link.fitted:hover,\n",
       ".sk-estimator-doc-link.fitted:hover,\n",
       "div.sk-label-container:hover .sk-estimator-doc-link.fitted:hover,\n",
       ".sk-estimator-doc-link.fitted:hover {\n",
       "  /* fitted */\n",
       "  background-color: var(--sklearn-color-fitted-level-3);\n",
       "  color: var(--sklearn-color-background);\n",
       "  text-decoration: none;\n",
       "}\n",
       "\n",
       "/* Span, style for the box shown on hovering the info icon */\n",
       ".sk-estimator-doc-link span {\n",
       "  display: none;\n",
       "  z-index: 9999;\n",
       "  position: relative;\n",
       "  font-weight: normal;\n",
       "  right: .2ex;\n",
       "  padding: .5ex;\n",
       "  margin: .5ex;\n",
       "  width: min-content;\n",
       "  min-width: 20ex;\n",
       "  max-width: 50ex;\n",
       "  color: var(--sklearn-color-text);\n",
       "  box-shadow: 2pt 2pt 4pt #999;\n",
       "  /* unfitted */\n",
       "  background: var(--sklearn-color-unfitted-level-0);\n",
       "  border: .5pt solid var(--sklearn-color-unfitted-level-3);\n",
       "}\n",
       "\n",
       ".sk-estimator-doc-link.fitted span {\n",
       "  /* fitted */\n",
       "  background: var(--sklearn-color-fitted-level-0);\n",
       "  border: var(--sklearn-color-fitted-level-3);\n",
       "}\n",
       "\n",
       ".sk-estimator-doc-link:hover span {\n",
       "  display: block;\n",
       "}\n",
       "\n",
       "/* \"?\"-specific style due to the `<a>` HTML tag */\n",
       "\n",
       "#sk-container-id-5 a.estimator_doc_link {\n",
       "  float: right;\n",
       "  font-size: 1rem;\n",
       "  line-height: 1em;\n",
       "  font-family: monospace;\n",
       "  background-color: var(--sklearn-color-background);\n",
       "  border-radius: 1rem;\n",
       "  height: 1rem;\n",
       "  width: 1rem;\n",
       "  text-decoration: none;\n",
       "  /* unfitted */\n",
       "  color: var(--sklearn-color-unfitted-level-1);\n",
       "  border: var(--sklearn-color-unfitted-level-1) 1pt solid;\n",
       "}\n",
       "\n",
       "#sk-container-id-5 a.estimator_doc_link.fitted {\n",
       "  /* fitted */\n",
       "  border: var(--sklearn-color-fitted-level-1) 1pt solid;\n",
       "  color: var(--sklearn-color-fitted-level-1);\n",
       "}\n",
       "\n",
       "/* On hover */\n",
       "#sk-container-id-5 a.estimator_doc_link:hover {\n",
       "  /* unfitted */\n",
       "  background-color: var(--sklearn-color-unfitted-level-3);\n",
       "  color: var(--sklearn-color-background);\n",
       "  text-decoration: none;\n",
       "}\n",
       "\n",
       "#sk-container-id-5 a.estimator_doc_link.fitted:hover {\n",
       "  /* fitted */\n",
       "  background-color: var(--sklearn-color-fitted-level-3);\n",
       "}\n",
       "</style><div id=\"sk-container-id-5\" class=\"sk-top-container\"><div class=\"sk-text-repr-fallback\"><pre>RandomForestRegressor()</pre><b>In a Jupyter environment, please rerun this cell to show the HTML representation or trust the notebook. <br />On GitHub, the HTML representation is unable to render, please try loading this page with nbviewer.org.</b></div><div class=\"sk-container\" hidden><div class=\"sk-item\"><div class=\"sk-estimator fitted sk-toggleable\"><input class=\"sk-toggleable__control sk-hidden--visually\" id=\"sk-estimator-id-5\" type=\"checkbox\" checked><label for=\"sk-estimator-id-5\" class=\"sk-toggleable__label fitted sk-toggleable__label-arrow fitted\">&nbsp;&nbsp;RandomForestRegressor<a class=\"sk-estimator-doc-link fitted\" rel=\"noreferrer\" target=\"_blank\" href=\"https://scikit-learn.org/1.5/modules/generated/sklearn.ensemble.RandomForestRegressor.html\">?<span>Documentation for RandomForestRegressor</span></a><span class=\"sk-estimator-doc-link fitted\">i<span>Fitted</span></span></label><div class=\"sk-toggleable__content fitted\"><pre>RandomForestRegressor()</pre></div> </div></div></div></div>"
      ]
     },
     "execution_count": 90,
     "metadata": {},
     "output_type": "execute_result"
    }
   ],
   "execution_count": 90
  },
  {
   "cell_type": "code",
   "id": "19abdf8e81c5732c",
   "metadata": {
    "ExecuteTime": {
     "end_time": "2025-05-07T10:39:35.741728Z",
     "start_time": "2025-05-07T10:39:35.588596Z"
    }
   },
   "source": [
    "\n",
    "pyplot.plot(zscored_t[:,l], alpha=0.5)\n",
    "pyplot.plot(p.predict(zscored_t[:,:l]), alpha=0.5)"
   ],
   "outputs": [
    {
     "data": {
      "text/plain": [
       "[<matplotlib.lines.Line2D at 0x2947e18d310>]"
      ]
     },
     "execution_count": 91,
     "metadata": {},
     "output_type": "execute_result"
    },
    {
     "data": {
      "text/plain": [
       "<Figure size 640x480 with 1 Axes>"
      ],
      "image/png": "[encoded data removed]"
     },
     "metadata": {},
     "output_type": "display_data"
    }
   ],
   "execution_count": 91
  },
  {
   "cell_type": "code",
   "id": "f10873cd315e28e0",
   "metadata": {
    "ExecuteTime": {
     "end_time": "2025-05-07T10:39:35.839751Z",
     "start_time": "2025-05-07T10:39:35.741728Z"
    }
   },
   "source": [
    "\n",
    "pyplot.plot(zscored_x[:,l], alpha=0.5)\n",
    "pyplot.plot(p.predict(zscored_x[:,:l]), alpha=0.5)"
   ],
   "outputs": [
    {
     "data": {
      "text/plain": [
       "[<matplotlib.lines.Line2D at 0x2947e196300>]"
      ]
     },
     "execution_count": 92,
     "metadata": {},
     "output_type": "execute_result"
    },
    {
     "data": {
      "text/plain": [
       "<Figure size 640x480 with 1 Axes>"
      ],
      "image/png": "[encoded data removed]"
     },
     "metadata": {},
     "output_type": "display_data"
    }
   ],
   "execution_count": 92
  },
  {
   "cell_type": "code",
   "id": "3e1045d4d5441768",
   "metadata": {
    "ExecuteTime": {
     "end_time": "2025-05-07T10:39:35.860931Z",
     "start_time": "2025-05-07T10:39:35.840754Z"
    }
   },
   "source": "p.score(zscored_x[:,:l], zscored_x[:,l])",
   "outputs": [
    {
     "data": {
      "text/plain": [
       "0.4033852159246304"
      ]
     },
     "execution_count": 93,
     "metadata": {},
     "output_type": "execute_result"
    }
   ],
   "execution_count": 93
  },
  {
   "cell_type": "code",
   "id": "5462dfd6e236689",
   "metadata": {
    "ExecuteTime": {
     "end_time": "2025-05-07T10:39:35.916297Z",
     "start_time": "2025-05-07T10:39:35.861933Z"
    }
   },
   "source": "p.score(zscored_t[:,:l], zscored_t[:,l])",
   "outputs": [
    {
     "data": {
      "text/plain": [
       "0.9037089789856025"
      ]
     },
     "execution_count": 94,
     "metadata": {},
     "output_type": "execute_result"
    }
   ],
   "execution_count": 94
  },
  {
   "metadata": {
    "ExecuteTime": {
     "end_time": "2025-05-07T10:39:35.937162Z",
     "start_time": "2025-05-07T10:39:35.916297Z"
    }
   },
   "cell_type": "code",
   "source": "numpy.corrcoef(p.predict(zscored_x[:,:l]), zscored_x[:,l])",
   "id": "a47c5b19183fdb7f",
   "outputs": [
    {
     "data": {
      "text/plain": [
       "array([[1.        , 0.66958694],\n",
       "       [0.66958694, 1.        ]])"
      ]
     },
     "execution_count": 95,
     "metadata": {},
     "output_type": "execute_result"
    }
   ],
   "execution_count": 95
  },
  {
   "metadata": {
    "ExecuteTime": {
     "end_time": "2025-05-07T10:32:56.363710Z",
     "start_time": "2025-05-07T10:32:56.350401Z"
    }
   },
   "cell_type": "code",
   "source": [
    "model = MarketSampleTransformer(l, 256, 4, 2)\n",
    "optimizer = optim.Adam(model.parameters(), lr=1e-3)\n",
    "# criterion = nn.SmoothL1Loss()\n",
    "criterion = nn.MSELoss()"
   ],
   "id": "e8b2dfd072bf0f34",
   "outputs": [
    {
     "name": "stderr",
     "output_type": "stream",
     "text": [
      "C:\\Users\\sangsiyuan\\AppData\\Roaming\\Python\\Python312\\site-packages\\torch\\nn\\modules\\transformer.py:306: UserWarning: enable_nested_tensor is True, but self.use_nested_tensor is False because encoder_layer.self_attn.batch_first was not True(use batch_first for better inference performance)\n",
      "  warnings.warn(f\"enable_nested_tensor is True, but self.use_nested_tensor is False because {why_not_sparsity_fast_path}\")\n"
     ]
    }
   ],
   "execution_count": 88
  },
  {
   "metadata": {
    "ExecuteTime": {
     "end_time": "2025-05-07T10:34:47.003625Z",
     "start_time": "2025-05-07T10:32:57.110682Z"
    }
   },
   "cell_type": "code",
   "source": [
    "batch_size = 600\n",
    "epoch_size = 200\n",
    "\n",
    "zscored_t_dataset = MarketSampleDataset(zscored_t)\n",
    "train_loader = DataLoader(zscored_t_dataset, batch_size=batch_size, shuffle=True)\n",
    "\n",
    "zscored_x_dataset = MarketSampleDataset(zscored_x)\n",
    "test_loader = DataLoader(zscored_x_dataset, batch_size=batch_size, shuffle=True)\n",
    "\n",
    "for epoch in range(epoch_size):\n",
    "    model.train()\n",
    "    total_loss = 0\n",
    "    for batch_x, batch_y in train_loader:\n",
    "        # batch_x, batch_y = batch_x, batch_y\n",
    "        optimizer.zero_grad()\n",
    "        pred = model(batch_x)\n",
    "        loss = criterion(pred, batch_y)\n",
    "        loss.backward()\n",
    "        optimizer.step()\n",
    "        total_loss += loss.item() * batch_x.size(0)\n",
    "    avg_loss = total_loss / len(train_loader.dataset)\n",
    "\n",
    "    model.eval()\n",
    "    test_loss = 0\n",
    "    with torch.no_grad():\n",
    "        for batch_x, batch_y in test_loader:\n",
    "            # batch_x, batch_y = batch_x, batch_y\n",
    "            pred = model(batch_x)\n",
    "            loss = criterion(pred, batch_y)\n",
    "            test_loss += loss.item() * batch_x.size(0)\n",
    "    avg_test_loss = test_loss / len(test_loader.dataset)\n",
    "\n",
    "    print(f\"Epoch {epoch+1}/{epoch_size} | Train Loss: {avg_loss:.6f} | Test Loss: {avg_test_loss:.6f}\")"
   ],
   "id": "da1f5bda8774a354",
   "outputs": [
    {
     "name": "stdout",
     "output_type": "stream",
     "text": [
      "Epoch 1/200 | Train Loss: 5.078064 | Test Loss: 0.520907\n",
      "Epoch 2/200 | Train Loss: 1.350744 | Test Loss: 1.098279\n",
      "Epoch 3/200 | Train Loss: 1.181581 | Test Loss: 0.543768\n",
      "Epoch 4/200 | Train Loss: 1.045275 | Test Loss: 0.448870\n",
      "Epoch 5/200 | Train Loss: 0.953166 | Test Loss: 0.485050\n",
      "Epoch 6/200 | Train Loss: 0.905598 | Test Loss: 0.441126\n",
      "Epoch 7/200 | Train Loss: 0.892969 | Test Loss: 0.440268\n",
      "Epoch 8/200 | Train Loss: 0.848629 | Test Loss: 0.419384\n",
      "Epoch 9/200 | Train Loss: 0.818661 | Test Loss: 0.406778\n",
      "Epoch 10/200 | Train Loss: 0.772344 | Test Loss: 0.441905\n",
      "Epoch 11/200 | Train Loss: 0.699842 | Test Loss: 0.386992\n",
      "Epoch 12/200 | Train Loss: 0.627506 | Test Loss: 0.352696\n",
      "Epoch 13/200 | Train Loss: 0.531617 | Test Loss: 0.370474\n",
      "Epoch 14/200 | Train Loss: 0.421262 | Test Loss: 0.371151\n",
      "Epoch 15/200 | Train Loss: 0.336517 | Test Loss: 0.263786\n",
      "Epoch 16/200 | Train Loss: 0.314371 | Test Loss: 0.386654\n",
      "Epoch 17/200 | Train Loss: 0.247364 | Test Loss: 0.277481\n",
      "Epoch 18/200 | Train Loss: 0.242462 | Test Loss: 0.258170\n",
      "Epoch 19/200 | Train Loss: 0.231362 | Test Loss: 0.251009\n",
      "Epoch 20/200 | Train Loss: 0.210273 | Test Loss: 0.316726\n",
      "Epoch 21/200 | Train Loss: 0.185580 | Test Loss: 0.251048\n",
      "Epoch 22/200 | Train Loss: 0.172146 | Test Loss: 0.270338\n",
      "Epoch 23/200 | Train Loss: 0.163554 | Test Loss: 0.260254\n",
      "Epoch 24/200 | Train Loss: 0.149503 | Test Loss: 0.279285\n",
      "Epoch 25/200 | Train Loss: 0.145691 | Test Loss: 0.261831\n",
      "Epoch 26/200 | Train Loss: 0.134507 | Test Loss: 0.263849\n",
      "Epoch 27/200 | Train Loss: 0.127614 | Test Loss: 0.275769\n",
      "Epoch 28/200 | Train Loss: 0.123689 | Test Loss: 0.285846\n",
      "Epoch 29/200 | Train Loss: 0.118951 | Test Loss: 0.274846\n",
      "Epoch 30/200 | Train Loss: 0.111684 | Test Loss: 0.268315\n",
      "Epoch 31/200 | Train Loss: 0.111015 | Test Loss: 0.287545\n",
      "Epoch 32/200 | Train Loss: 0.108124 | Test Loss: 0.316774\n",
      "Epoch 33/200 | Train Loss: 0.106595 | Test Loss: 0.287983\n",
      "Epoch 34/200 | Train Loss: 0.109121 | Test Loss: 0.321907\n",
      "Epoch 35/200 | Train Loss: 0.106052 | Test Loss: 0.333368\n",
      "Epoch 36/200 | Train Loss: 0.110629 | Test Loss: 0.351611\n",
      "Epoch 37/200 | Train Loss: 0.102428 | Test Loss: 0.287342\n",
      "Epoch 38/200 | Train Loss: 0.104238 | Test Loss: 0.299032\n",
      "Epoch 39/200 | Train Loss: 0.099201 | Test Loss: 0.318117\n",
      "Epoch 40/200 | Train Loss: 0.091243 | Test Loss: 0.314450\n",
      "Epoch 41/200 | Train Loss: 0.079054 | Test Loss: 0.355329\n",
      "Epoch 42/200 | Train Loss: 0.072399 | Test Loss: 0.345008\n",
      "Epoch 43/200 | Train Loss: 0.071926 | Test Loss: 0.349290\n",
      "Epoch 44/200 | Train Loss: 0.068820 | Test Loss: 0.307925\n",
      "Epoch 45/200 | Train Loss: 0.063763 | Test Loss: 0.341826\n",
      "Epoch 46/200 | Train Loss: 0.054804 | Test Loss: 0.308461\n",
      "Epoch 47/200 | Train Loss: 0.053334 | Test Loss: 0.290656\n",
      "Epoch 48/200 | Train Loss: 0.052020 | Test Loss: 0.323511\n",
      "Epoch 49/200 | Train Loss: 0.050339 | Test Loss: 0.297672\n",
      "Epoch 50/200 | Train Loss: 0.047046 | Test Loss: 0.295783\n",
      "Epoch 51/200 | Train Loss: 0.042957 | Test Loss: 0.305215\n",
      "Epoch 52/200 | Train Loss: 0.040290 | Test Loss: 0.291469\n",
      "Epoch 53/200 | Train Loss: 0.039555 | Test Loss: 0.300026\n",
      "Epoch 54/200 | Train Loss: 0.036773 | Test Loss: 0.321768\n",
      "Epoch 55/200 | Train Loss: 0.035623 | Test Loss: 0.294608\n",
      "Epoch 56/200 | Train Loss: 0.033452 | Test Loss: 0.283125\n",
      "Epoch 57/200 | Train Loss: 0.033602 | Test Loss: 0.298493\n",
      "Epoch 58/200 | Train Loss: 0.031902 | Test Loss: 0.298030\n",
      "Epoch 59/200 | Train Loss: 0.032028 | Test Loss: 0.283691\n",
      "Epoch 60/200 | Train Loss: 0.030185 | Test Loss: 0.301461\n",
      "Epoch 61/200 | Train Loss: 0.028911 | Test Loss: 0.292937\n",
      "Epoch 62/200 | Train Loss: 0.029762 | Test Loss: 0.288460\n",
      "Epoch 63/200 | Train Loss: 0.030295 | Test Loss: 0.312722\n",
      "Epoch 64/200 | Train Loss: 0.031265 | Test Loss: 0.285620\n",
      "Epoch 65/200 | Train Loss: 0.027729 | Test Loss: 0.282370\n",
      "Epoch 66/200 | Train Loss: 0.027202 | Test Loss: 0.280754\n",
      "Epoch 67/200 | Train Loss: 0.025852 | Test Loss: 0.283013\n",
      "Epoch 68/200 | Train Loss: 0.026854 | Test Loss: 0.287510\n",
      "Epoch 69/200 | Train Loss: 0.027011 | Test Loss: 0.304433\n",
      "Epoch 70/200 | Train Loss: 0.026813 | Test Loss: 0.312514\n",
      "Epoch 71/200 | Train Loss: 0.029957 | Test Loss: 0.326513\n",
      "Epoch 72/200 | Train Loss: 0.029783 | Test Loss: 0.273457\n",
      "Epoch 73/200 | Train Loss: 0.025928 | Test Loss: 0.299151\n",
      "Epoch 74/200 | Train Loss: 0.027843 | Test Loss: 0.287124\n",
      "Epoch 75/200 | Train Loss: 0.026031 | Test Loss: 0.298391\n",
      "Epoch 76/200 | Train Loss: 0.025940 | Test Loss: 0.303785\n",
      "Epoch 77/200 | Train Loss: 0.024522 | Test Loss: 0.302517\n",
      "Epoch 78/200 | Train Loss: 0.023614 | Test Loss: 0.297912\n",
      "Epoch 79/200 | Train Loss: 0.020833 | Test Loss: 0.295338\n",
      "Epoch 80/200 | Train Loss: 0.019906 | Test Loss: 0.305153\n",
      "Epoch 81/200 | Train Loss: 0.018318 | Test Loss: 0.308604\n",
      "Epoch 82/200 | Train Loss: 0.019910 | Test Loss: 0.306651\n",
      "Epoch 83/200 | Train Loss: 0.017857 | Test Loss: 0.302094\n",
      "Epoch 84/200 | Train Loss: 0.017929 | Test Loss: 0.296587\n",
      "Epoch 85/200 | Train Loss: 0.018286 | Test Loss: 0.294930\n",
      "Epoch 86/200 | Train Loss: 0.016643 | Test Loss: 0.306290\n",
      "Epoch 87/200 | Train Loss: 0.017453 | Test Loss: 0.306127\n",
      "Epoch 88/200 | Train Loss: 0.017624 | Test Loss: 0.306159\n",
      "Epoch 89/200 | Train Loss: 0.016682 | Test Loss: 0.298300\n",
      "Epoch 90/200 | Train Loss: 0.017280 | Test Loss: 0.306309\n",
      "Epoch 91/200 | Train Loss: 0.016199 | Test Loss: 0.310161\n",
      "Epoch 92/200 | Train Loss: 0.015412 | Test Loss: 0.305141\n",
      "Epoch 93/200 | Train Loss: 0.014773 | Test Loss: 0.293938\n",
      "Epoch 94/200 | Train Loss: 0.015637 | Test Loss: 0.288632\n",
      "Epoch 95/200 | Train Loss: 0.016157 | Test Loss: 0.294528\n",
      "Epoch 96/200 | Train Loss: 0.017171 | Test Loss: 0.310419\n",
      "Epoch 97/200 | Train Loss: 0.014793 | Test Loss: 0.317271\n",
      "Epoch 98/200 | Train Loss: 0.015234 | Test Loss: 0.310465\n",
      "Epoch 99/200 | Train Loss: 0.014625 | Test Loss: 0.309590\n",
      "Epoch 100/200 | Train Loss: 0.014607 | Test Loss: 0.306015\n",
      "Epoch 101/200 | Train Loss: 0.014690 | Test Loss: 0.292527\n",
      "Epoch 102/200 | Train Loss: 0.013545 | Test Loss: 0.303974\n",
      "Epoch 103/200 | Train Loss: 0.014237 | Test Loss: 0.301705\n",
      "Epoch 104/200 | Train Loss: 0.012618 | Test Loss: 0.302570\n",
      "Epoch 105/200 | Train Loss: 0.013148 | Test Loss: 0.299719\n",
      "Epoch 106/200 | Train Loss: 0.012299 | Test Loss: 0.292282\n",
      "Epoch 107/200 | Train Loss: 0.012945 | Test Loss: 0.305308\n",
      "Epoch 108/200 | Train Loss: 0.012880 | Test Loss: 0.305568\n",
      "Epoch 109/200 | Train Loss: 0.012602 | Test Loss: 0.301351\n",
      "Epoch 110/200 | Train Loss: 0.013405 | Test Loss: 0.304381\n",
      "Epoch 111/200 | Train Loss: 0.012290 | Test Loss: 0.282662\n",
      "Epoch 112/200 | Train Loss: 0.012961 | Test Loss: 0.291670\n",
      "Epoch 113/200 | Train Loss: 0.011093 | Test Loss: 0.312116\n",
      "Epoch 114/200 | Train Loss: 0.012158 | Test Loss: 0.313782\n",
      "Epoch 115/200 | Train Loss: 0.011658 | Test Loss: 0.297957\n",
      "Epoch 116/200 | Train Loss: 0.011704 | Test Loss: 0.296754\n",
      "Epoch 117/200 | Train Loss: 0.011511 | Test Loss: 0.307161\n",
      "Epoch 118/200 | Train Loss: 0.010304 | Test Loss: 0.305119\n",
      "Epoch 119/200 | Train Loss: 0.011152 | Test Loss: 0.305102\n",
      "Epoch 120/200 | Train Loss: 0.011171 | Test Loss: 0.302275\n",
      "Epoch 121/200 | Train Loss: 0.010928 | Test Loss: 0.307031\n",
      "Epoch 122/200 | Train Loss: 0.011516 | Test Loss: 0.298034\n",
      "Epoch 123/200 | Train Loss: 0.010440 | Test Loss: 0.298557\n",
      "Epoch 124/200 | Train Loss: 0.011481 | Test Loss: 0.298791\n",
      "Epoch 125/200 | Train Loss: 0.010294 | Test Loss: 0.299392\n",
      "Epoch 126/200 | Train Loss: 0.010459 | Test Loss: 0.304383\n",
      "Epoch 127/200 | Train Loss: 0.010116 | Test Loss: 0.304174\n",
      "Epoch 128/200 | Train Loss: 0.011114 | Test Loss: 0.298466\n",
      "Epoch 129/200 | Train Loss: 0.011518 | Test Loss: 0.301360\n",
      "Epoch 130/200 | Train Loss: 0.009930 | Test Loss: 0.306362\n",
      "Epoch 131/200 | Train Loss: 0.010946 | Test Loss: 0.303686\n",
      "Epoch 132/200 | Train Loss: 0.009432 | Test Loss: 0.297451\n",
      "Epoch 133/200 | Train Loss: 0.009882 | Test Loss: 0.291731\n",
      "Epoch 134/200 | Train Loss: 0.008941 | Test Loss: 0.298250\n",
      "Epoch 135/200 | Train Loss: 0.009089 | Test Loss: 0.295262\n",
      "Epoch 136/200 | Train Loss: 0.009467 | Test Loss: 0.299263\n",
      "Epoch 137/200 | Train Loss: 0.009414 | Test Loss: 0.289601\n",
      "Epoch 138/200 | Train Loss: 0.010474 | Test Loss: 0.307580\n",
      "Epoch 139/200 | Train Loss: 0.009827 | Test Loss: 0.298569\n",
      "Epoch 140/200 | Train Loss: 0.009839 | Test Loss: 0.303095\n",
      "Epoch 141/200 | Train Loss: 0.009559 | Test Loss: 0.296222\n",
      "Epoch 142/200 | Train Loss: 0.009373 | Test Loss: 0.298899\n",
      "Epoch 143/200 | Train Loss: 0.008584 | Test Loss: 0.304242\n",
      "Epoch 144/200 | Train Loss: 0.008737 | Test Loss: 0.302293\n",
      "Epoch 145/200 | Train Loss: 0.007644 | Test Loss: 0.299052\n",
      "Epoch 146/200 | Train Loss: 0.008081 | Test Loss: 0.305823\n",
      "Epoch 147/200 | Train Loss: 0.008041 | Test Loss: 0.307179\n",
      "Epoch 148/200 | Train Loss: 0.008600 | Test Loss: 0.293020\n",
      "Epoch 149/200 | Train Loss: 0.007436 | Test Loss: 0.303221\n",
      "Epoch 150/200 | Train Loss: 0.008019 | Test Loss: 0.295584\n",
      "Epoch 151/200 | Train Loss: 0.007149 | Test Loss: 0.300161\n",
      "Epoch 152/200 | Train Loss: 0.007683 | Test Loss: 0.309059\n",
      "Epoch 153/200 | Train Loss: 0.007802 | Test Loss: 0.312970\n",
      "Epoch 154/200 | Train Loss: 0.008189 | Test Loss: 0.303934\n",
      "Epoch 155/200 | Train Loss: 0.007649 | Test Loss: 0.295592\n",
      "Epoch 156/200 | Train Loss: 0.008446 | Test Loss: 0.289074\n",
      "Epoch 157/200 | Train Loss: 0.007699 | Test Loss: 0.307791\n",
      "Epoch 158/200 | Train Loss: 0.008317 | Test Loss: 0.309263\n",
      "Epoch 159/200 | Train Loss: 0.008072 | Test Loss: 0.303410\n",
      "Epoch 160/200 | Train Loss: 0.007455 | Test Loss: 0.304200\n",
      "Epoch 161/200 | Train Loss: 0.007605 | Test Loss: 0.312058\n",
      "Epoch 162/200 | Train Loss: 0.008255 | Test Loss: 0.296587\n",
      "Epoch 163/200 | Train Loss: 0.008043 | Test Loss: 0.299176\n",
      "Epoch 164/200 | Train Loss: 0.007616 | Test Loss: 0.301021\n",
      "Epoch 165/200 | Train Loss: 0.007625 | Test Loss: 0.303455\n",
      "Epoch 166/200 | Train Loss: 0.008113 | Test Loss: 0.304191\n",
      "Epoch 167/200 | Train Loss: 0.007055 | Test Loss: 0.303774\n",
      "Epoch 168/200 | Train Loss: 0.007062 | Test Loss: 0.316822\n",
      "Epoch 169/200 | Train Loss: 0.007506 | Test Loss: 0.312005\n",
      "Epoch 170/200 | Train Loss: 0.007451 | Test Loss: 0.296883\n",
      "Epoch 171/200 | Train Loss: 0.007038 | Test Loss: 0.294309\n",
      "Epoch 172/200 | Train Loss: 0.006907 | Test Loss: 0.305421\n",
      "Epoch 173/200 | Train Loss: 0.007192 | Test Loss: 0.306143\n",
      "Epoch 174/200 | Train Loss: 0.006510 | Test Loss: 0.300041\n",
      "Epoch 175/200 | Train Loss: 0.006334 | Test Loss: 0.288522\n",
      "Epoch 176/200 | Train Loss: 0.007674 | Test Loss: 0.296297\n",
      "Epoch 177/200 | Train Loss: 0.006866 | Test Loss: 0.295832\n",
      "Epoch 178/200 | Train Loss: 0.006887 | Test Loss: 0.306174\n",
      "Epoch 179/200 | Train Loss: 0.006719 | Test Loss: 0.297303\n",
      "Epoch 180/200 | Train Loss: 0.006985 | Test Loss: 0.299166\n",
      "Epoch 181/200 | Train Loss: 0.007055 | Test Loss: 0.296693\n",
      "Epoch 182/200 | Train Loss: 0.008071 | Test Loss: 0.292713\n",
      "Epoch 183/200 | Train Loss: 0.007487 | Test Loss: 0.300161\n",
      "Epoch 184/200 | Train Loss: 0.006916 | Test Loss: 0.304258\n",
      "Epoch 185/200 | Train Loss: 0.006574 | Test Loss: 0.308078\n",
      "Epoch 186/200 | Train Loss: 0.007096 | Test Loss: 0.295227\n",
      "Epoch 187/200 | Train Loss: 0.007029 | Test Loss: 0.287671\n",
      "Epoch 188/200 | Train Loss: 0.006772 | Test Loss: 0.287485\n",
      "Epoch 189/200 | Train Loss: 0.006221 | Test Loss: 0.307942\n",
      "Epoch 190/200 | Train Loss: 0.007025 | Test Loss: 0.306508\n",
      "Epoch 191/200 | Train Loss: 0.007425 | Test Loss: 0.290077\n",
      "Epoch 192/200 | Train Loss: 0.005938 | Test Loss: 0.295094\n",
      "Epoch 193/200 | Train Loss: 0.006066 | Test Loss: 0.287911\n",
      "Epoch 194/200 | Train Loss: 0.005989 | Test Loss: 0.294681\n",
      "Epoch 195/200 | Train Loss: 0.006492 | Test Loss: 0.304124\n",
      "Epoch 196/200 | Train Loss: 0.005341 | Test Loss: 0.305384\n",
      "Epoch 197/200 | Train Loss: 0.006144 | Test Loss: 0.301513\n",
      "Epoch 198/200 | Train Loss: 0.006279 | Test Loss: 0.310433\n",
      "Epoch 199/200 | Train Loss: 0.005507 | Test Loss: 0.302080\n",
      "Epoch 200/200 | Train Loss: 0.006080 | Test Loss: 0.298916\n"
     ]
    }
   ],
   "execution_count": 89
  },
  {
   "metadata": {
    "ExecuteTime": {
     "end_time": "2025-05-07T10:32:13.007946Z",
     "start_time": "2025-05-07T10:32:12.978196Z"
    }
   },
   "cell_type": "code",
   "source": [
    "model.eval()\n",
    "all_preds = []\n",
    "all_targets = []\n",
    "# 拿一批数据来预测\n",
    "with torch.no_grad():\n",
    "    for batch_x, batch_y in test_loader:\n",
    "        preds = model(batch_x)\n",
    "        all_preds.append(preds)    # 收集预测结果\n",
    "        all_targets.append(batch_y)  # 收集真实标签\n",
    "        \n",
    "all_preds = torch.cat(all_preds, dim=0).numpy()     # (400,)\n",
    "all_targets = torch.cat(all_targets, dim=0).numpy() # (400,)"
   ],
   "id": "c092ee3f28f9c9ec",
   "outputs": [],
   "execution_count": 83
  },
  {
   "metadata": {
    "ExecuteTime": {
     "end_time": "2025-05-07T10:32:13.136999Z",
     "start_time": "2025-05-07T10:32:13.008948Z"
    }
   },
   "cell_type": "code",
   "source": [
    "pyplot.figure(figsize=(8,5))\n",
    "pyplot.plot(all_targets, label=\"True\", alpha=0.5)\n",
    "pyplot.plot(all_preds, label=\"Predicted\", alpha=0.5)\n",
    "\n",
    "pyplot.legend()\n",
    "pyplot.title(\"Prediction vs True on Test Batch\")\n",
    "pyplot.show()"
   ],
   "id": "f1220659eabe99f3",
   "outputs": [
    {
     "data": {
      "text/plain": [
       "<Figure size 800x500 with 1 Axes>"
      ],
      "image/png": "[encoded data removed]"
     },
     "metadata": {},
     "output_type": "display_data"
    }
   ],
   "execution_count": 84
  },
  {
   "metadata": {
    "ExecuteTime": {
     "end_time": "2025-05-07T10:32:13.141210Z",
     "start_time": "2025-05-07T10:32:13.136999Z"
    }
   },
   "cell_type": "code",
   "source": [
    "from sklearn.metrics import mean_squared_error\n",
    "from sklearn.metrics import mean_absolute_error\n",
    "\n",
    "mse = mean_absolute_error(all_targets, all_preds)\n",
    "print(f\"Test MSE on 600 samples: {mse:.6f}\")"
   ],
   "id": "d51c26e73f17d1d6",
   "outputs": [
    {
     "name": "stdout",
     "output_type": "stream",
     "text": [
      "Test MSE on 600 samples: 0.265362\n"
     ]
    }
   ],
   "execution_count": 85
  },
  {
   "metadata": {
    "ExecuteTime": {
     "end_time": "2025-05-07T10:32:13.145902Z",
     "start_time": "2025-05-07T10:32:13.142212Z"
    }
   },
   "cell_type": "code",
   "source": [
    "from sklearn.metrics import r2_score\n",
    "r2 = r2_score(all_targets, all_preds)\n",
    "print(f\"Test R^2 on 600 samples: {r2:.6f}\")"
   ],
   "id": "f5cb8b1734932f4b",
   "outputs": [
    {
     "name": "stdout",
     "output_type": "stream",
     "text": [
      "Test R^2 on 600 samples: 0.268185\n"
     ]
    }
   ],
   "execution_count": 86
  },
  {
   "metadata": {
    "ExecuteTime": {
     "end_time": "2025-05-07T10:32:13.150873Z",
     "start_time": "2025-05-07T10:32:13.146904Z"
    }
   },
   "cell_type": "code",
   "source": "print(zscored_t[:10].tolist())",
   "id": "6a176249960a6e33",
   "outputs": [
    {
     "name": "stdout",
     "output_type": "stream",
     "text": [
      "[[-2.07274517722613, -0.22460563162144007, 0.8227693157251134, -0.7780738189185401, -0.2472148755419713, -0.06625196125643092, 0.09499045447198717, 0.21191183333118646, 0.3009916226665105, 0.3592303365562182, 0.3823029470368802, 0.356834671230951, 0.22474421755088134, -0.11563742412394876, -0.19194952704427862, -0.06992921421816661, -0.24103247818715143, -0.3574965420339851, -0.3115447961936192, -0.17169000932288173, -0.060801482612036384, -0.047063412241368265, -0.09714586005535569, 0.008117517195045686, 0.07576606165593656, 0.2371065042260053, 0.7523799915991048, 1.151211114412506, 1.5029227614277325, 1.8044584507598975, 2.0193505937422107, 2.1064293686846822, 1.9607310743399327, 0.8486931664392433, 0.36592757966121087, 0.23104136454600707, 0.3141482814344033, 0.2564621261797466, 0.07959324601958631, -0.3620334019662484, -0.5004108547203864, -0.37025326763038197, -0.35026170258677525, 0.12522238324425877, 0.5046845097374866, 0.8983880937071801, -0.17291516348652214, 2.818242348895538, 0.6723872346853093, -0.7847760079260935, -0.7096142653049865, -0.7851312330517431, -0.9629980066023057, -0.6548104452204901, -0.2215618806053914, -0.04295383779964256, -0.125748288957563, -0.6644123373043342, -0.8616612425143103, -1.0067722134655959, -1.089272877039936, -1.1201233095946623, -1.122867939851966, -1.1076389920615883, -1.0547709679279482, -0.9371593629225362, -0.7623124419277676, -0.7445160519688317, -0.5488293204273594, -0.6250958221064774, -0.8377212518163096, -0.81077442631509, -0.7032227550103485, -0.6906034624284816, -0.7753306008495406, -0.8560081920126764, -0.7214776688446534, -1.9132599053496768, -2.3627814891815646, -2.531376329489054, -2.6638928492404546, -2.0976713198759547, -1.289331606178646, -1.1396539862817723, -1.0768758682416881, -1.1929854975679888, -1.7282092394773516, 0.12156800792706868, -0.08476426179467517, -0.6126145282493628, -0.23773261153103237, -0.09334632000606827, 0.023235347794673122, 0.11633966706779929, 0.20925050825089214, 0.248800491290071, 0.22739854289862713, 0.15810284805678282, 0.03193564626694909, -0.15249901284089126, 0.05959713463243144, 0.09770220760960421, 0.09787033246791406, 0.1595824045445934, 0.17132303991388498, 0.09082399080321098, -0.09615427561700161, -0.3982591253765458, -0.8070103552745667, -0.9841235679743565, -0.1890342934682619, -0.16234853115879996, -0.15235831487024465, -0.16121910665594877, -0.23299659374797502, -0.36131952971290066, -0.47111619238772096, -0.497716807512396, -0.413291733680273, -0.20164202940351636, 0.17937538422753393, 0.25813962011677294, 0.32287149199625664, 0.22156778513806705, 0.037329544075958586, -0.29251587985013056, -0.10434473534929357, -0.0031509392299349714, 0.03965440361251342, 0.9607439070955223, 0.925535649450036, 0.7885699324292214, 0.6152917129087363, 0.4352197684224499, 0.21556086153388432, 0.022932778508954206, -0.16741975780840954, -0.32748686995153764, -0.34090246917564115, 0.24506671367708466, -0.09810087368560204, -0.3330779018673272, -0.5036220875755802, -0.6388933451487906, -0.7570986878408962, -0.8598792900125966, -0.9402558748514313, -1.0045057991928756, -1.0778178412480852, -0.4337586760701896, -0.3095005799919572, -0.10761727327663918, 0.12860602079914904, 0.37471314148141216, 0.6263824583533691, 0.885724066743483, 1.1331945493320212, 1.3085610252161664, 1.3184111870894497, 0.12010282351518667, -0.1784844956479413, -0.9362791124685065, -1.9431698001600866, -2.74400175603923, -0.8921430987340278, -0.7429429724428829, -0.8034739065297597, -0.8670849771447666, -0.9802822551533659, -0.3910878413324606], [2.10268417461807, 3.2553116442300736, 0.37930263321511315, -0.6831264562608724, 0.05473072114741367, -0.24848902382455235, -1.1858864172793744, -0.5247921042600696, 0.8035977356736831, 0.043898141889822266, -0.4194162858983208, -0.27703136935914835, -0.2589584088459328, -0.36708107844601634, -0.3912925265756406, 0.4356779823139736, 0.7642373949020057, 0.6889961929986728, 0.36034847582987534, -0.0727752129425109, -0.21696611522335957, 0.21579865905504014, 0.955866866823455, 1.9507893520926474, -0.2315591963553458, 1.040265935255264, 2.4755588547367418, 3.0382486526528445, 3.1147863440874346, 2.762187584430574, 1.8976559746657828, 0.4548212527996351, -0.5093909391196114, -0.1973163573909168, 0.48944329582683116, 0.5512649644705364, 0.3591210262040863, 0.21956936994518497, 0.07519855694718389, 0.37848294283727, 0.5072802514466239, 0.1624414527499617, -0.08690200381193487, -1.2609859177543647, 1.2493961772898368, 0.18734045794304569, -0.5764820834366602, 0.5437249036330675, 0.5407129762159736, 0.3693356587675314, 0.01683609457428897, -0.5121176757124156, -0.6981338874878563, -0.342884248024939, -0.12829669811286606, -0.1189330700548717, -0.4162114969517053, -0.6914365336645003, -0.14685239572911338, 0.20506544776942515, 0.08435349440899291, -0.291145726074648, -0.6824025773723226, -0.744702374475741, -0.6296094643418705, -0.5585500515804813, -0.5944256668509803, -0.12997654897466038, 0.1785755237691884, 0.3490908149377214, 0.30047666928225025, 0.07029401582324661, -0.30886000078836817, -0.7313084977605989, -0.9638080867797046, -0.9856481740787983, -0.9219526468877681, 0.5335474282075218, 0.6228322940818192, 0.4182752003602245, 0.26388616360829525, 0.07574385978443252, -0.2678409658162192, -0.0328849477401817, 0.15488930393282407, 0.3197090787079939, 2.2188218277422203, -1.1684103485795128, -0.20492633894015666, -0.3294430138400601, -0.7861299467715531, -0.9730338406178031, -0.11071341268276075, 0.19135571463871362, 0.19248345912783285, 0.21641080393987122, 0.25978246954528084, 0.3661786121599436, 0.6163327561080635, 1.408461275129233, -0.5260935995459392, -0.43480027734539556, -0.4728151843153867, -0.5466891027440635, -0.6456300181558411, -0.7499445616559809, -0.8253872493367167, -0.8316559954491916, -0.7648777952781859, -0.6689687966008193, 0.2877125595194835, 0.1311667922165702, -0.0019407332729382391, -0.08790733451956352, -0.1438913218218467, -0.1788122047489489, -0.17188713450872178, -0.10003085401394399, 0.05345697753300181, 0.29832657728512296, 0.7351441553592661, 0.4682984650156894, 0.28700961894428456, 0.23209762780110008, 0.05503637425602114, -0.21713323181641883, -0.5516084835761008, -0.754775614286537, -0.9640335112125181, 0.08493257217671435, 0.05443242676833461, -0.14544967711838225, -0.35532007272288724, -0.5493310265092873, -0.6987129317475428, -0.4957931801454773, -0.29631295378065453, -0.12893342498308794, 0.011774346275844597, -0.04359262407669213, -0.26810327442506704, -0.3294217218017861, -0.2680986101057543, -0.10607718238586113, 0.13278218909353734, 0.32868920927402107, 0.2935827345144095, 0.03931969328877891, -0.29049345085013817, -0.5640625914356853, -0.4309539849160401, -0.2897658352385025, -0.14285129193383778, -0.03312074951215779, 0.010724485044961408, -0.025969343146146427, -0.1563105694165075, -0.3883421628074727, -0.6836258015426836, -0.4689760142460491, 0.27483124990955526, 0.005715854085458595, 0.3918194865917484, 0.24132245595056545, -0.2764551938516541, -0.17327842965951112, -0.21045503550746228, -0.4340671653279373, 0.09447251441469728, 0.012598191430723101], [0.04703175409979781, 1.0325292598707247, -0.4702150898000212, -0.56336709191573, -0.05297521672045067, 0.04959168985595686, -0.5520087036539907, -0.7283617790858867, -0.09796783322783657, -0.45456435941130496, -0.7473150317940204, -0.8266469687196402, -0.8901674826248464, -0.6917529723419309, -0.36318449615441, -0.36653590871292613, -0.47830258779372015, -0.6523734554796299, -0.8883428981558454, -1.037806385866596, -0.0774336105559924, 0.8036103521128731, 0.22252054596306012, -0.7418305813000955, 0.1903253424260218, -0.11066049748043577, -0.2958024215767633, -0.4090425908436311, -0.5014317549045673, -0.6012329406446585, -0.7013966617752004, -0.7498004523282817, -0.6976292092326202, -0.5138283625815254, -0.34386877850586656, 0.3301601617966302, 0.39426431055447564, 0.26211941878228723, 0.07229274345270713, -0.21733523308438996, 0.08488728276418327, 0.5299828807873523, 1.1118338825058147, -1.0047973338969605, -0.1404500765744428, -0.7166324805693908, -0.6327371471459837, 0.7837841735967869, 0.7373028278927548, 0.16843342910888767, -0.6315382947400905, -0.7096340659212007, -0.6726332730655438, -0.6191731944018953, -0.5040271384238285, -0.30844166973077974, 0.12205570559534584, 0.8251868400501577, 0.5286398251860591, 0.19309017215293672, -0.019306917454793803, -0.06234318734291675, -0.004394674650326601, 0.04765061303899286, 0.047210391288964135, 0.025027483320580524, 0.06603838602438053, -0.8498950905305734, 0.22980190205441528, 0.698146040122672, 0.7429380218649193, 0.7244892807934704, 0.8461362511275251, 1.1060349648653878, 1.355333791566516, 1.4370048829996902, 1.0878143480982485, 0.9247796815592222, 0.6650434148950305, 0.4441630584223252, 0.26029253468040353, 0.015141224302592486, -0.4677381879878694, -0.8695805635793248, -1.012192266112089, -1.143553562723415, -0.7110829934870303, 0.876771801853595, -0.4610581668362233, -0.47532144347911137, 0.8211926872269257, 0.04262499725477946, -1.0191497814582853, -0.9796572568453277, -0.9809833840037689, 0.45499692480508036, 0.6375510635644285, -0.6669397821360483, 2.1020521357290995, 3.574111528462627, 0.5204277078652528, 0.1020172846387797, -0.2601544313749132, -0.5003496015648553, -0.2351526815225823, 0.5761060066295773, 1.3610520272859645, 1.9175858803455768, 2.1697471200590606, 1.3728667168508177, 0.16134971794120476, 0.16045631728003942, -0.21047154357734443, -0.6545848332996231, -0.9973152734095387, -0.9126328205944065, -0.4723793621499579, -0.021425910979316922, 0.2901859822564068, 0.17469622213965819, 0.6375684002688885, 0.6752754653896125, 0.46075248307278677, 0.2760146328569326, 0.11062497076567895, 0.08178506856121097, 0.16469236719895167, 0.6542171301536474, 0.45290690337920203, 1.5493109198294999, 1.6939540424151505, 1.6665123570069702, 1.558179138392738, 1.4234380051987163, 1.234826661953566, 1.0628884477102087, 0.8975112551114097, 0.7622038653369353, 0.6746430911873109, -0.6420218194536795, -0.7016461378684514, -0.6854929698849892, -0.6359814087600499, -0.6026962009859332, -0.6025983290742551, -0.6207144875537767, -0.6225640305044707, -0.5500705270453504, -0.2520404059617602, -1.6139208413160346, -1.8362554658153303, -1.8762470134422164, -1.790300576077686, -1.6210106932878723, -1.3943469764126992, -1.1208534151273017, -0.8040383716680939, -0.4656219538226635, -0.1512161460374215, 2.016827742303318, -1.711420541871999, -2.1615573379293056, -2.0709129242779993, -0.3542028171535423, -0.4947168380698124, 0.1878902189446925, 0.21332681699703981, -0.0852272230664673, -0.4442757216741378, 0.012598191430723101], [0.8759038947263507, 0.7499848528381162, -0.5129456033611104, -0.26251557091157685, -0.3014556492353984, -0.2602672698264617, -0.34259127271573253, -0.49136171847985133, -0.5696433034740301, -0.5525728548122693, -0.48441933773013457, -0.421587967075149, -0.4260794496598396, -0.5056996887356855, -0.8174236515914007, -1.0435689502576673, -1.192135282972233, -1.2045009020158841, -0.8622000536896903, -0.3183857284274036, 0.08213963286673742, 0.1962571708172733, -0.10509918224729116, -0.7609993833346634, 0.25658440436122393, -0.0173796164075913, -0.2016762571604427, -0.3241656712934807, -0.37135658660912424, -0.12731830744558972, 0.48185132506915473, 1.0845620123253705, 1.3373610002848988, 0.6495713424395917, -0.11718389939965801, 0.05919198428601526, 0.34678973052215284, 0.26211941878228723, 0.12487669377433537, 0.6114144596454271, 0.45110722478889415, 0.043086694783623605, 0.13859102324433129, 0.14491666496779834, 0.5733268934310993, -0.6347615363100892, 0.7497004806204889, -0.7656881865808448, -0.7238203586885923, -0.31371393786881613, -0.06589543681822262, -0.03538608081740207, -0.22978127105231172, -0.6194236982697292, -0.9166845711650498, -0.7057522385032515, -0.3780248184782541, -0.7337218185472772, -0.8749973756273733, 0.2874593235922181, 1.0469067879764407, 0.7375392896881632, -0.11606211637205535, -0.4932327696037389, -0.4504736124153759, -0.47252648569416733, -0.45669979705325797, -0.49635092032282346, -0.6307943825075563, -0.6685383240197045, -0.6464924395676808, -0.5961614847849215, -0.5577057765664092, -0.5277759604379709, -0.4815593778567809, -0.4108954671351077, -0.3283505236523214, -0.4049119853044999, -0.005573210301859548, 0.32095481918714974, 0.26388616360829525, 0.1618643957063657, 0.6392162700391737, 0.9361115691748294, 0.9037921702988087, 0.9808942855296073, -1.8754522646513716, -0.34298100000592163, 1.0426581949833371, 0.5775211281914744, 0.034570707230406165, -0.09044745792006584, -0.21128507687967454, -0.16796266699481555, -0.1637793107729482, -0.29624214490364253, 0.356948258379313, 0.9529232984310699, 1.0217252245706234, -0.06711352906275785, -0.004307777695826044, -0.4017942139132525, -0.5999661726005511, -0.6232273940750949, -0.5780379833526337, -0.5145778219554029, -0.4404879963676338, -0.330014763747129, -0.13749570087900123, 0.18303893280707356, 0.12290430331446765, -0.279409952575015, -0.6070068217195519, -0.6278075236862163, -0.47878720960264587, -0.3135393024985892, -0.17375064773281781, -0.09145543793630904, -0.13021726172420597, -0.37457104354899495, 0.7015650537309283, 0.6132310410404399, 0.43570518014986465, 0.26572983142723744, 0.17719990049466167, 0.14050934214994956, -0.18292671524905066, -0.3011177749441583, 0.28248136855090744, -0.010590146555995718, -0.056665406018992975, -0.1618112897967744, -0.28227828356617723, -0.37977798627083925, -0.41286503436461464, -0.14731224469772017, 0.3494548477026962, 0.6266420704978382, 0.659343697603495, 1.1190028868489577, 0.9688058931894471, 0.5651312936259225, 0.20927290056551404, 0.021380524697721014, 0.2304705191859888, 0.6413941047224068, 0.9475808805669564, 1.1149019243488643, 1.1195411871418741, -1.0000272540275688, -1.3619194489186999, -1.5522964418859693, -1.6167606465879, -1.6006758379205397, -1.5320673389880943, -1.4164197346892657, -1.2319828819010799, -0.9379570227743946, -0.45891168789894177, -0.20243760945618275, -0.040387225594943746, 0.5562606471077622, 0.659719014376725, 0.2601678500318569, 1.0370649403580636, 1.1422243994081447, 0.7392076631272091, 0.6121143770654335, 0.7764149965317031, 0.03425587360781886], [0.04703227209237513, 0.06917429715496565, -0.19631736515612194, -0.37280775020872536, -0.34415498906291875, -0.6070807594378465, -0.5940637061793411, -0.313298368526338, -0.18605769941653585, -0.17343273066097456, -0.1337375879988882, -0.3663113524212032, 0.26345450598748826, 0.7623177732118764, 0.5943567297385524, 0.387551010684381, 0.7545534078766754, 1.0635760345151086, 0.8002416192935964, -0.08272265338134167, -0.9649318450383045, -1.0121655432817038, -0.7855746608173237, -0.4971952788238301, 0.8366043654760204, 0.7461443847880849, 0.6614203516324096, 0.5079085400051594, 0.31328410162185777, 0.1433987210478884, 0.1075780428061689, 0.28178041841247137, 0.6693807842698669, 1.318347092008266, 0.4410977223251169, 0.33379302956194157, 0.31221920730597413, 0.42862747919690214, 0.6708394820505116, 0.4399615188405785, -0.08380161962881555, -0.4547015702057547, -0.761224862979003, 0.12522257393345154, -0.37530369243348227, -0.43790313980196593, 0.19108807449083634, -0.5319904950957747, -0.7083549710294319, -0.9446713405381112, -0.9150679255120965, -0.588134427748078, -0.2705905748671862, -0.10235439924811683, -0.038824038566444646, -0.06076164413209337, -0.11687066305406142, -0.7216915318054714, -0.7992329311473805, -0.8731272014417732, -0.9119459453037932, -0.9105014447676167, -0.8638132039340575, -0.7673578603263964, -0.6692949488091423, -0.6525238239109671, -0.6764567584387061, -0.10622401506908795, -0.27888557182523976, -0.3352780160061421, -0.37918351917484394, -0.29020435690516655, -0.1330058010802263, -0.07224857727613758, -0.16560930780041014, -0.43483487971255486, 0.14609477437520565, 0.809151905906377, 0.5221751487946132, 0.33268611174875523, 0.23463625713392602, 0.014558404287967548, -0.46037494404297263, -0.8427928757436222, -0.9401834531930335, -0.7696348107527538, -0.6730929889118008, -0.04661051178841435, 0.4779352523345675, -0.35738315830061174, -0.9645678139897081, -0.22739937264217744, 0.16031239001430592, 0.3979344309906334, 0.5764822657238924, 0.6696959412259157, 0.679511357884896, 0.6238389032534425, 0.4942764737625491, 0.29701319554569594, -0.7960008581960671, -0.8925467029782932, -0.9724657161275271, -0.9929969488376308, -0.9869248253170677, -0.9694305804939204, -0.9404449859926096, -0.8806446760071487, -0.7683160667277001, -0.617228128382101, -0.7583685274306916, -0.9382801329754988, -1.0601155301193865, -0.9928048093009566, -0.9035870090397401, -1.0395780320837864, -1.125211748115536, -1.0695265026660499, -0.9911302640825226, -0.8316356104021408, 0.4444802750011825, 0.20511120017019396, 0.07954602518266815, 0.03683794339548063, 0.011331014450595995, -0.3881507625766468, -0.5933858722029779, -0.7470750801487149, -0.934019295610176, 1.008283129891071, 1.3030824303567599, 1.6967715036585804, 1.819867200355049, 1.8492003320148056, 1.79849757857842, 1.736246884189554, 1.6547571463085722, 1.5838359437403775, 1.5540769590983265, 0.7383697878418276, 0.8334788850692391, 0.6605554918697264, 0.4482135254062907, 0.24974073474339623, 0.08019464009997784, -0.04860787050804108, -0.13526376246458102, -0.19384086339014578, -0.22831692427351305, 0.6049711604610946, 0.8911051956771395, 1.130714888338435, 1.2005764127040028, 1.1350220859082458, 0.9963002820387417, 0.8187991449738818, 0.609342285303665, 0.37778176816581294, 0.20596826143052202, 0.12010292000716408, 0.5817370310204921, 0.2640237680858755, -0.034264707093643015, 0.10123865471991193, -0.1169543352365296, -0.1812308232955908, -0.4847493906344276, -0.7509994597039089, -1.0237326754758957, 0.6796018298997296], [-0.1651114697160728, -0.6413369697145511, -0.6562016579937192, -0.29572937223454737, 0.5400050271948371, 0.6698714596201898, 0.7523228308760838, 0.7672087197713733, 0.7226127437671969, 0.6078611475205521, 0.3792404603028802, -0.05144772602961259, -0.9777142355820965, -0.47683245794694123, 0.05487968812519734, -0.17035126237983, -0.33598769470154055, -0.3471298246609002, -0.22988919745304776, -0.0795299070171787, 0.033596760921806475, 0.10162056829420035, 0.1356481551626933, -0.25195657335680455, -0.5559248189974391, -0.5376508108177502, -0.5682089440098874, -0.5711128017340382, -0.519403152329474, -0.43127943996253065, -0.4138511453822472, -0.5569682862565782, -0.7512765878457883, -0.7433187635289821, 0.3517484243065951, 0.19335676951349842, 0.15543965696496084, 0.0448500123291118, -0.1424702173545748, -0.5161377015110499, -0.8838070833405166, -1.0157809340715784, -1.161909651049689, 0.1631587136237406, 0.38619489461509154, -0.38919298057412455, -0.8867005403086188, -0.19264194033329865, -0.1735261377062843, -0.2759860744010497, -0.5135588032869255, -0.6787932570199967, 0.11852810661318468, 0.7238586929625772, 0.945385532477351, 0.7722366177336454, 0.1234847445202711, 2.865536385931215, 1.4620056794794758, 0.47247299953803734, -0.3121522914835344, -0.7441777120849759, -0.6090947641575641, -0.18536232083177986, 0.3052099776947652, 0.8799564505570027, 1.6852172526679612, -0.5744124213460328, -0.4575055961346155, 1.853127758913089, 3.2054336901196323, 3.614100253554703, 3.3707599630857525, 2.4241072446285767, 0.4896061074956802, -0.8894649514335204, -0.6020961142859993, 0.12012418635778523, -0.012793626955104642, -0.2151933967321334, -0.1560466148394205, -0.03838284000117294, -0.3935734364739025, -0.6038462137684002, -0.6735623760315502, -0.8065884025102456, -0.38167288280467276, -0.8537038063888371, 0.723943738502319, -0.5890583639066089, -0.11153453689894552, 0.11974559430552671, 0.2005192945336376, 0.10667375767969549, -0.16621323259280205, -0.21080293665291958, 0.826836289271756, 0.7188561152339412, -0.2862015295613337, -0.7000660048252909, 1.1993407769432005, 0.5900835433247956, 0.283417938168083, 0.1234434729326343, 0.02948905999024745, -0.028398918673386866, -0.014892261218777032, 0.19925952135131167, 0.7097212938425741, 1.314856229616692, -0.08384010834025234, 0.3874039552977173, 0.5193301479299597, 0.4965335027162534, 0.34960469501015806, 0.10625020973231909, -0.1400917923150467, -0.2303985584300218, -0.08725718872146453, 0.12469461760036901, 0.9550804681873601, 0.6710217038928531, 0.4299605710309543, 0.24527324945471382, 0.009748910217448465, -0.45008016732335343, -0.8376281955009979, -1.0258522413758329, -1.1879859096934318, 0.7997959230409575, 0.8711008731497726, 0.8509647606791572, 0.8282668688294902, 0.8262687700849778, 0.7792749565676961, 0.7215274104030724, 0.633737639667266, 0.5424001722047104, 0.4548432716272818, 0.4919162088090459, 0.310484449362717, 0.1145616784767515, -0.05032394188579878, -0.17336977314306437, -0.24388457601592156, -0.228549614841154, -0.07992022582588545, 0.18841076696377165, 0.4025423307265045, -0.18957694310627782, -0.3735117287810358, -0.38639648541948085, -0.3622782866522934, -0.40315648849013985, -0.5015084690201955, -0.6199324209003318, -0.751614301761513, -0.9228134276513063, -1.1630259478798535, 0.3827456511599756, 0.6263895661244836, 0.22518075215601352, 0.06104181844594936, 0.04860821299367343, -0.3580518978810996, -0.47701802991260916, -0.738105558035909, -0.8612972882191716, -1.0588566067499494, 0.12228534842002828], [-1.4190899503379468, -1.1494552105535238, 0.1411184319953549, -0.605526401633931, -0.6010819564938724, -0.7949577779004228, 0.5770884694972973, 1.0361664822349828, 0.9469866546550523, 0.3621244995952399, 0.01898566986935067, 0.11716674930563839, 0.333160479722154, 1.0041491227329873, -0.300297330873599, -0.1929101469815745, -0.24532932875484081, -0.29624670890335913, -0.35225212913443615, -0.4216904494906851, -0.47976255059312634, -0.5008006160234961, -0.46932050001709735, -0.4456289832990671, -0.5600395734347561, -0.44627732309012896, -0.40584564984070626, -0.4149680495500988, -0.46211839547050954, -0.472162996996515, -0.3350400842182531, -0.08469978512047625, 0.039880829933409336, -0.40944327740986186, -5.329903862191789, -5.584792002485953, -5.872085614909629, -5.265689746621394, -4.15195023863163, -2.3397198501549212, -1.11548476848324, -0.7736490085140939, -0.5448598836816757, -0.9351137143381409, 3.5962641322707287, -0.725993094845234, 0.05427411391126923, -0.464967828776758, -0.8597593251303777, -1.0119429303938086, -0.24498905772831053, 1.071077295847958, 1.5604446173438442, 1.422040236439786, 0.9813460065158617, 0.8515840030690348, 1.7391655097650625, -0.6017149704302371, -0.25667984761137813, 0.5748859543372149, 0.9084666015539897, 0.8643423877797857, 0.5576857915417078, 0.11956839650196101, -0.1897896578393485, -0.2693851200077665, -0.5551656973343864, -0.4266265046657347, -0.8130101759705373, -0.957647835673881, -0.24721485388633657, 0.6367375146105682, 1.1838004039718384, 1.3874749611835917, 1.199346890255707, 0.39628860190488446, -0.6356914238295706, -0.08917967272871041, 0.23251302066947108, 0.25705280698756955, 0.22406699481664322, 0.01050463193673147, -0.45929720241935756, -0.8209839148282578, -0.8993696919721041, -1.0241575251051591, -0.833469569205807, -0.4273071822009611, -0.5435467352316843, -0.6012727325683547, -0.12697053060661528, -0.03525658116729409, -0.10418464724839915, -0.35178929469031456, -0.6656351275871377, -0.733322754971753, -0.5222815691400478, -0.2772287615608693, -0.10803095264986536, 0.37380046325455585, -0.5990340648532849, -0.4655139467363806, -0.6712759505539568, -0.7207932697445546, -0.6899779482350461, -0.654765862764834, -0.6160816013591596, -0.549519639066716, -0.2920051974061914, 1.3393886852801464, 0.6416826941707768, 0.8681468168578841, 0.9647596700879963, 0.9400165280234882, 0.806993902070822, 0.5893218237898393, 0.35299782122920015, 0.20685193825979603, 0.2119826162405975, 0.24850488374247073, 0.664832987357457, 0.4714959271619886, 0.28474731591323194, 0.19064276846682782, -0.0026305536828587425, -0.4508266542403838, -0.8317213375752631, -0.9964865712851358, -1.1345130647025892, -1.571484755508469, -1.4513734787770722, -1.3256314545735177, -1.1367035573206867, -0.6828420556672119, -0.17920768617378702, -0.014163829116236079, 0.1626669243522536, 0.17913664151874575, 0.297715113088084, 0.042688021849673866, 0.5462000919475767, 0.8825762131001049, 1.079473592705602, 1.1927960649975473, 1.2653298677230873, 1.3210596626885294, 1.3416969588318206, 1.2755124279629972, 1.066668312648205, -0.6644331013244922, -0.6856117555302139, -0.5492906435181194, -0.37744780452866505, -0.26106857250202137, -0.2030249501406087, -0.15880571226727389, -0.07776554165434404, 0.054281255812507985, 0.13544505420544928, 1.24636914046221, -0.6785111492565951, 0.47090682101750025, 0.1672808603031693, 0.0403425762634898, -0.03913151615063923, 0.1431324219898099, 2.9414260127615726, 2.76851471439351, 2.2519527370101047, 0.08360183372771138], [0.2849039596380546, -0.06331870709014883, 2.5179781396470764, -0.46920166703404487, -0.1441332808611802, -0.06283198453813102, -0.2571808163408286, -0.646828395938386, -0.7633806043887853, -0.7776066044061126, -0.5182097280231844, -0.6352607590673218, -0.8118975087140203, -0.7310877002492214, -0.022490699105998272, -0.19839415413729372, 0.5739889409488468, 1.0481942891613578, 1.222092007611268, 1.2569533704188767, 1.2898036167617914, 1.3953789733058544, 1.4904895465294825, 1.0301133301677454, -0.28693202213105073, -0.5685172992785527, -0.7323819701408234, -0.8119295315952392, -0.8462256215741336, -0.8574675396170963, -0.8455562478789085, -0.7801801775034918, -0.6412168829111546, -0.42537538140994685, 0.210284976054781, 0.5891633621715572, 0.3782249693155815, 0.25529087862648453, 0.119876452110265, 1.4589463832252154, 2.1348905982053688, 2.143001857223204, 1.4217646280079783, 0.9935783030422993, -0.7032957313780008, 0.9136748080622389, -0.05097344052945764, -0.8699535556711466, -1.0587531053666261, -0.6814642389545773, -0.18248242810214266, 0.16073379998510923, 0.3046360040284271, 0.2901622561863484, 0.17439278674688427, -0.018814689204321024, 0.007601784032946504, 0.6665001163107062, 0.5334186016309694, 0.2999982118762554, 0.12046069436569194, 0.015575004186550884, -0.10384735868400242, -0.3284662718320391, -0.5310425501464651, -0.5585760623312889, -0.4274242470510276, -0.900993948321908, -0.6753534149401649, -0.05149963316103439, 0.45146046517868227, 0.8171254227215292, 1.0066483175074743, 0.9953849323156945, 0.7153322726533465, -0.0020067917538097936, -0.7783315186199832, 0.37278917915769394, 0.47470877593823224, 0.3533177491273294, 0.27621009723299367, 0.914068437910026, 1.6206425129871804, 1.3601860561238122, 0.880910184473381, 0.7416829532346109, 1.0933311561956505, -0.7218284113083205, -0.21002856028004302, 0.06280581603938631, -0.13397319851731565, -0.48260061104179486, -0.5800224032858048, -0.5818712023986787, -0.4747481095154082, -0.5802972519542331, -0.714987232854502, 0.01802326384150806, 0.7088221923119986, 0.9252807316019886, -0.10353996849892282, -0.27922370331196067, 0.055360600903987624, 1.3949642788225194, 2.5803253780872852, 3.3172096488632783, 3.649651508959821, 3.614432592421161, 3.1147991147460887, 1.7161559575067924, 0.1755554419337675, 0.14299132730978495, 0.10370500501602292, 0.5401983091739339, 0.9083829751871981, 0.5103219255597178, -0.6837908868235961, -1.1744148782620125, -0.97010693331343, -0.7521763126018987, -0.6694038694891821, -0.28401478022058857, 0.2342614678665732, 1.0562075894418654, 2.1259814129126235, 2.3806439429334834, 1.6073435452679226, 0.6902644526222962, -0.0531260260792077, -0.9904211402794446, -1.2091738981026074, -1.3684398445992616, -1.4888361822698064, -1.5124373457485338, -1.2451704861046498, 0.2896577085282459, 0.7885206447973429, 0.8819931217113868, 1.1023041593328027, -1.2361772967669333, -0.9044760886877561, -0.5374389821969016, -0.1729398062470227, 0.06550535077090283, 0.11049940651077951, 0.02550652146553306, -0.11766961041005138, -0.2336784243631421, -0.1363330987000807, 1.0936577085592805, 0.7819903462593855, 0.43201120116297886, 0.08559520712858289, -0.25419049425421525, -0.5923642911765838, -0.9401774480352412, -1.3052384071274439, -1.6819620830185475, -2.0696115131013832, 1.8830456399337985, 0.6362339499176709, 0.7103626051555908, 0.35601029573051146, 0.24768171292723895, 0.03651472392837789, -0.44350459769129713, 0.24950461391738768, 2.332833433492233, 1.7774271440697225, 0.03821453792503921], [2.1026836681484298, -0.8943770267589141, 1.2067810328099275, -0.6172234907832719, 1.482131664590168, 1.6281444731204944, 1.7142509427624215, 1.7167652334909482, 1.6375714925294997, 1.4768597451782637, 1.164534369213825, 0.5597424262779644, -0.7719415577389833, -0.9689931475167873, -0.686269175927287, -0.4350417109970234, -0.21957012169853102, -0.016581951708621884, 0.16043212080275926, 0.29894573820745113, 0.4014978556085218, 0.48343503265143906, 0.5535821233029345, 0.43490851411398024, -0.5006624248413624, -0.3498192204550612, -0.2712418653685565, -0.12631740116237714, 0.32465474194107835, 0.8926219997124755, 1.0345386047227718, 0.36621869318833133, -0.9004875568707276, -0.9474338849875441, 0.612220884215993, 0.28476445141513523, -0.00846918705909026, -0.24901249133236003, -0.5200018632139423, -0.763108882993853, -0.9144894705624085, -1.018742385413437, -1.1518173233877615, -0.031011374068093643, 2.7672822863689785, -0.16530209201682203, -0.5871871318687236, -0.12558062412414658, -0.24654786614997118, -0.43301740022918106, -0.5880250186253221, -0.6353250093634693, -0.7546963672450405, -1.0605662389777926, -0.8386781935585542, -0.4639096733938929, -0.2686794746521574, 0.8139011057330381, 1.6106632387303677, 1.1298593025603108, 0.13421061771707335, -0.8263629957652083, -1.1505553057193048, -1.1592806029436082, -0.8335044797294672, -0.6720145402271016, -0.5308084855281393, 0.5845765873539518, 0.7279428923676369, 0.6930885941525703, 0.6396292601668437, 0.5711197216116857, 0.4771053791243843, 0.34770549223522806, 0.17651767508442115, -0.06504790143293271, -0.3950850074388203, 0.6658907657125235, 0.6186278147062368, 0.4108188999721362, 0.26388616360829525, 0.088942567983554, -0.3240446454110601, -0.044178640986718205, 0.22500267928422293, 0.8715949616899402, 0.12614160837872132, -1.1298488664529944, -0.43343217832376035, -0.4257950448231577, 2.013461604726454, 2.6730114442307142, 3.055322907766527, 3.3053729106818595, 3.458603914133167, 3.493118221722363, 3.386530117551485, 3.137935595408929, 2.6964094074698157, 1.9805403239813664, -1.12575903999057, -1.115756516383839, -0.5024839640230694, 0.3135785448000912, 0.5678543356649257, 0.3024904403513984, -0.24620129479179492, -0.47654474777290723, -0.25527424519593006, 0.0522073494797172, -0.909541916461424, -0.8271844441579739, -0.5754076332205934, -0.47618165469564216, -0.5098809191635009, -0.594488959529135, -0.7101628484534969, -0.9384441433627981, -0.982409937245354, -0.7617584983063548, -0.4177731716212893, -0.5771342161970838, -0.5013570176483917, -0.16096953563433522, 0.5077770928733616, 0.8475936119746417, 0.6486471995809088, 0.3618605775045842, 0.012203230928113797, 0.10661929948752023, -0.09624311872302127, -0.2938438460596475, -0.4929625548622615, -0.695730123606254, -0.9277729241785247, -1.1189501250731824, -1.3059133120566893, -1.456727191118802, -1.4112525365277362, 0.3318269813094375, 0.25958809301144725, 0.286547106598703, 0.3629931244794176, 0.4491895547899244, 0.5180839909824706, 0.5564459699031078, 0.5419286596793254, 0.4396430027505295, 0.20480815814794115, -0.7322719242583844, -0.8272090478002486, -0.7607891433664353, -0.5623519930395776, -0.2915310215703942, -0.013553200432070568, 0.22071762813363682, 0.3834917125493584, 0.44601255577632326, 0.3568362397221261, -1.4576394732392282, 0.9901162676916142, 0.6768066085798842, 0.4271461253168245, 0.1402422551557098, -0.46476270324404856, -0.7446435588039767, -0.9246610040186828, -1.0310920613437662, -1.2605012001174523, 0.20902056368812458], [0.3441924329088905, -0.8653854720572325, -0.6568621088778256, 0.8110348189216293, -0.7375636379555859, -0.8159913995144492, -0.7570378421812924, -0.3384719822837341, 0.1972829433084829, 0.5279441656994809, 0.6631701586451548, 0.6098415448127048, 0.3477355583999809, -0.06603530761872885, -0.4461133410754814, -0.6301570871511396, -0.61065097188042, -0.4581479395082939, -0.20822144140446838, 0.13119561441652697, 0.4673180504346477, 0.6731027958629711, 0.5855600289854294, -0.2110613972331651, -0.8751602974461411, -1.007115574336491, -0.9897808344292868, -1.0308879327205394, -0.8936131539851871, -0.6995157363767315, -0.5203138756372063, -0.35097947581359706, -0.18897838428117375, 0.3369482356477924, -0.38442742175942324, -0.2566484500461278, 0.2768293594496383, 0.24476139227882876, 0.10280694969638898, 0.31360045476708365, 0.5319991009771612, 0.334954814105194, 0.1689048388602033, 0.12724149689154626, -0.8453262568813678, -0.8191602906539506, -0.6614534257812742, 0.17325164802343263, 0.3091349838867405, 0.39246199297771067, 0.42517069305820726, 0.41006194360713855, 0.31330563927237287, 0.08977220884904054, -0.29750410872566896, -1.1001287063011695, -0.6444150445014465, 1.0660119881072574, 1.5831787730412756, 1.521576982169385, 1.3529506962049884, 1.135335958713009, 0.8504892907888406, 0.4795202250901383, 0.0466271436888505, -0.2810095020215797, -0.11155674331464162, -0.5323827793196163, -0.6675616184895431, -0.6466299258566887, -0.4515628499448, -0.20808251048830592, -0.008902222399156562, 0.1374511395589944, 0.24332742851805553, 0.28538467824380154, 0.08476858491216147, 0.3089060028687753, 0.14348530941415383, 0.09999772088653842, 0.0369946358020034, -0.14079273785977658, -0.48806130479065896, -0.8189850386246494, -0.9567477762179896, -1.1039099441145477, 0.3387365203037986, -0.770105438022811, -0.4230323198140207, -0.32738067248409874, -0.10098641467947311, 0.47779872676545965, 0.7583522656964014, 0.8460867784387944, 0.7974696979668154, 0.5494558105681253, 0.026088718238854364, -0.8923841450997456, -0.9972253533688589, -1.0531707271139485, -1.0435852497860914, 0.9583322661344332, 1.0209244497247618, -0.4374763321684626, -1.4303075054681242, -1.1581484539188647, -0.7940608848803392, -0.4651542503118285, -0.3750177020274615, -0.7059316723973693, -0.4212382871555079, -0.5539871705592754, -0.7020637505490683, -0.9055513633624597, -0.9872599989153047, -0.815677376396967, -0.5357826343779748, -0.32174118519196665, -0.2563217674849061, -0.5958314696614856, -1.4280609065244831, -1.9121273910533279, -2.184939033005711, -2.1689113927785333, -1.5872518241910236, -1.1225241580078105, -0.9829956806867833, -1.0436990104551196, -1.0866060375596658, 0.002489238553435691, -0.2507254535022658, 0.07432419141117338, 0.1480567550443547, 0.2034910325110819, 0.7066946879870425, 0.8470230504913872, 0.7730381410148849, 0.683938445718921, 0.6559567977346962, 1.1435620490808618, 1.1832321753569202, 1.2524977912588224, 1.2949436978295348, 1.2995242699278045, 1.2602697668020515, 1.171521908718874, 1.0064620476682336, 0.7320103783273251, 0.33119454358382, -1.169195198984445, -1.0606179590807672, -0.9023094664039234, -0.752238166398968, -0.6339740805471379, -0.5566216215463343, -0.5276209126706772, -0.56068365561026, -0.6758608864882923, -0.890109993734942, 0.4090300348515537, 0.42165285528449414, 0.8442825184788766, 0.6052035940894367, 0.24768171292723895, 0.2756444218308015, 0.8209044754086551, 0.2540791981982064, -0.09283418229719882, 0.7550877680168798, 0.547026402905903]]\n"
     ]
    }
   ],
   "execution_count": 87
  },
  {
   "metadata": {
    "ExecuteTime": {
     "end_time": "2025-05-07T10:32:13.153299Z",
     "start_time": "2025-05-07T10:32:13.150873Z"
    }
   },
   "cell_type": "code",
   "source": "",
   "id": "7aa6fdee4138a554",
   "outputs": [],
   "execution_count": 87
  },
  {
   "metadata": {
    "ExecuteTime": {
     "end_time": "2025-05-07T10:32:13.155541Z",
     "start_time": "2025-05-07T10:32:13.153299Z"
    }
   },
   "cell_type": "code",
   "source": "",
   "id": "504ce82166e4c7b7",
   "outputs": [],
   "execution_count": 87
  }
 ],
 "metadata": {
  "kernelspec": {
   "display_name": "Python 3 (ipykernel)",
   "language": "python",
   "name": "python3"
  },
  "language_info": {
   "codemirror_mode": {
    "name": "ipython",
    "version": 3
   },
   "file_extension": ".py",
   "mimetype": "text/x-python",
   "name": "python",
   "nbconvert_exporter": "python",
   "pygments_lexer": "ipython3",
   "version": "3.12.4"
  }
 },
 "nbformat": 4,
 "nbformat_minor": 5
}
