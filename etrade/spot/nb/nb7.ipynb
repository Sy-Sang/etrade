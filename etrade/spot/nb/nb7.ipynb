{
 "cells": [
  {
   "cell_type": "code",
   "id": "927340084fb5f5bd",
   "metadata": {
    "ExecuteTime": {
     "end_time": "2025-05-08T09:18:56.225538Z",
     "start_time": "2025-05-08T09:18:56.216453Z"
    }
   },
   "source": [
    "import numpy\n",
    "from etrade.spot.trader import Station\n",
    "from etrade.spot.market.recycle import BasicRecycle, PointwiseRecycle\n",
    "from etrade.spot.forecast.market import DistributiveSeries, DistributiveMarket\n",
    "from etrade.spot.forecast.plan_a.constructor import *\n",
    "from etrade.spot.forecast.plan_a.transformer import MarketSampleTransformer, MarketSampleDataset\n",
    "from etrade.spot.forecast.yieldindex import zero_quantile\n",
    "from etrade.spot.forecast import yieldindex\n",
    "from  data_utils.stochastic_utils.vdistributions.abstract import AbstractDistribution\n",
    "from  data_utils.stochastic_utils.vdistributions.parameter.continuous.basic import NormalDistribution, SkewNormalDistribution\n",
    "from data_utils.stochastic_utils.vdistributions.nonparametric.continuous.kernel2 import KernelMixDistribution\n",
    "from data_utils.stochastic_utils.vdistributions.tools.divergence import kl_divergence_continuous, crps, quantile_RMSE\n",
    "\n",
    "from data_utils.stochastic_utils.vdistributions.nonparametric.continuous.mfk.skewnd2 import dof_snd_fitter\n",
    "\n",
    "from scipy.optimize import differential_evolution\n",
    "\n",
    "from matplotlib import pyplot\n",
    "import json\n",
    "\n",
    "import torch\n",
    "from torch import nn\n",
    "import torch.optim as optim\n",
    "from torch.utils.data import Dataset, DataLoader"
   ],
   "outputs": [],
   "execution_count": 333
  },
  {
   "cell_type": "code",
   "id": "initial_id",
   "metadata": {
    "ExecuteTime": {
     "end_time": "2025-05-08T09:18:56.708103Z",
     "start_time": "2025-05-08T09:18:56.227542Z"
    }
   },
   "source": [
    "\n",
    "with open(r\"..\\forecast\\plan_a\\data\\market_simulator_5.json\", \"r\") as f:\n",
    "    train_data = json.loads(f.read())\n",
    "    \n",
    "with open(r\"..\\forecast\\plan_a\\data\\market_simulator_6.json\", \"r\") as f:\n",
    "    test_data = json.loads(f.read())"
   ],
   "outputs": [],
   "execution_count": 334
  },
  {
   "cell_type": "code",
   "id": "2302659a31e1b540",
   "metadata": {
    "ExecuteTime": {
     "end_time": "2025-05-08T09:18:56.762314Z",
     "start_time": "2025-05-08T09:18:56.709106Z"
    }
   },
   "source": [
    "train_data =numpy.asarray(train_data[\"data\"])\n",
    "test_data =numpy.asarray(test_data[\"data\"])"
   ],
   "outputs": [],
   "execution_count": 335
  },
  {
   "metadata": {
    "ExecuteTime": {
     "end_time": "2025-05-08T09:18:56.765736Z",
     "start_time": "2025-05-08T09:18:56.763317Z"
    }
   },
   "cell_type": "code",
   "source": [
    "# print(train_data[:10].tolist())\n",
    "print(len(train_data[0]))"
   ],
   "id": "eb1089311f81dc6",
   "outputs": [
    {
     "name": "stdout",
     "output_type": "stream",
     "text": [
      "155\n"
     ]
    }
   ],
   "execution_count": 336
  },
  {
   "cell_type": "code",
   "id": "6d56030ef98a2bb9",
   "metadata": {
    "ExecuteTime": {
     "end_time": "2025-05-08T09:18:56.771175Z",
     "start_time": "2025-05-08T09:18:56.766730Z"
    }
   },
   "source": [
    "# market_len = 1\n",
    "# # l = 3 * market_len + market_len\n",
    "# l = market_len * 126 + market_len * (5-0) * 3 + 9\n",
    "l = len(train_data[0]) - 1\n",
    "def zscore_p(x):\n",
    "    x = numpy.asarray(x)\n",
    "    m = numpy.mean(x, axis=0)\n",
    "    s = numpy.std(x, ddof=1, axis=0)\n",
    "    return m,s\n",
    "\n",
    "def zscore(x, m, s):\n",
    "    x = numpy.asarray(x)\n",
    "    m = numpy.asarray(m)\n",
    "    s = numpy.asarray(s)\n",
    "    # return numpy.column_stack((\n",
    "    #         (x[:,:l]-m[:l]) / s[:l], x[:,l]\n",
    "    # ))\n",
    "    return (x-m) / s\n",
    "\n",
    "def minmax_p(x):\n",
    "    x = numpy.asarray(x)\n",
    "    mmax = numpy.max(x, axis=0)\n",
    "    mmin = numpy.min(x, axis=0)\n",
    "    return mmin, mmax\n",
    "\n",
    "def minmax(x, mmin, mmax):\n",
    "    x = numpy.asarray(x)\n",
    "    mmin = numpy.asarray(mmin)\n",
    "    mmax = numpy.asarray(mmax)\n",
    "    return (x-mmin) / (mmax-mmin)\n",
    "    # return numpy.column_stack((\n",
    "    #         (x[:,:l]-mmin[:l]) / (mmax[:l]-mmin[:l]), x[:,l]\n",
    "    # ))\n",
    "    \n",
    "print(l)\n",
    "    "
   ],
   "outputs": [
    {
     "name": "stdout",
     "output_type": "stream",
     "text": [
      "154\n"
     ]
    }
   ],
   "execution_count": 337
  },
  {
   "cell_type": "code",
   "id": "4fe1c6779ebf759b",
   "metadata": {
    "ExecuteTime": {
     "end_time": "2025-05-08T09:18:56.791209Z",
     "start_time": "2025-05-08T09:18:56.771175Z"
    }
   },
   "source": [
    "m,s= zscore_p(train_data)\n",
    "zscored_t = zscore(train_data, m, s)\n",
    "zscored_x = zscore(test_data, m, s)\n",
    "\n",
    "mmin,mmax = minmax_p(train_data)\n",
    "minmaxed_t = minmax(train_data, mmin, mmax)\n",
    "minmaxed_x = minmax(test_data, mmin, mmax)\n",
    "\n",
    "print(zscored_t.shape)\n",
    "# print(zscored_t[:10].tolist())"
   ],
   "outputs": [
    {
     "name": "stdout",
     "output_type": "stream",
     "text": [
      "(6000, 155)\n"
     ]
    }
   ],
   "execution_count": 338
  },
  {
   "cell_type": "code",
   "id": "ba1bfd56948c3c24",
   "metadata": {
    "ExecuteTime": {
     "end_time": "2025-05-08T09:19:28.121328Z",
     "start_time": "2025-05-08T09:18:56.792212Z"
    }
   },
   "source": [
    "from sklearn.neural_network import MLPRegressor\n",
    "from sklearn.ensemble import GradientBoostingRegressor, RandomForestRegressor\n",
    "from sklearn.svm import SVR\n",
    "from sklearn.linear_model import LinearRegression\n",
    "from sklearn.kernel_ridge import KernelRidge\n",
    "# p = MLPRegressor(\n",
    "#     hidden_layer_sizes=[50] * 4,\n",
    "#     activation=\"relu\",\n",
    "#     solver=\"lbfgs\",\n",
    "#     # alpha=1e-3,\n",
    "#     # learning_rate_init=1e-3\n",
    "# )\n",
    "p = GradientBoostingRegressor(\n",
    "    # alpha=0.999\n",
    ")\n",
    "# p = SVR(\n",
    "#     # alpha=1\n",
    "# )\n",
    "# p = KernelRidge()\n",
    "p.fit(\n",
    "    zscored_t[:,:l],\n",
    "    zscored_t[:,l]\n",
    ")"
   ],
   "outputs": [
    {
     "data": {
      "text/plain": [
       "GradientBoostingRegressor()"
      ],
      "text/html": [
       "<style>#sk-container-id-23 {\n",
       "  /* Definition of color scheme common for light and dark mode */\n",
       "  --sklearn-color-text: black;\n",
       "  --sklearn-color-line: gray;\n",
       "  /* Definition of color scheme for unfitted estimators */\n",
       "  --sklearn-color-unfitted-level-0: #fff5e6;\n",
       "  --sklearn-color-unfitted-level-1: #f6e4d2;\n",
       "  --sklearn-color-unfitted-level-2: #ffe0b3;\n",
       "  --sklearn-color-unfitted-level-3: chocolate;\n",
       "  /* Definition of color scheme for fitted estimators */\n",
       "  --sklearn-color-fitted-level-0: #f0f8ff;\n",
       "  --sklearn-color-fitted-level-1: #d4ebff;\n",
       "  --sklearn-color-fitted-level-2: #b3dbfd;\n",
       "  --sklearn-color-fitted-level-3: cornflowerblue;\n",
       "\n",
       "  /* Specific color for light theme */\n",
       "  --sklearn-color-text-on-default-background: var(--sg-text-color, var(--theme-code-foreground, var(--jp-content-font-color1, black)));\n",
       "  --sklearn-color-background: var(--sg-background-color, var(--theme-background, var(--jp-layout-color0, white)));\n",
       "  --sklearn-color-border-box: var(--sg-text-color, var(--theme-code-foreground, var(--jp-content-font-color1, black)));\n",
       "  --sklearn-color-icon: #696969;\n",
       "\n",
       "  @media (prefers-color-scheme: dark) {\n",
       "    /* Redefinition of color scheme for dark theme */\n",
       "    --sklearn-color-text-on-default-background: var(--sg-text-color, var(--theme-code-foreground, var(--jp-content-font-color1, white)));\n",
       "    --sklearn-color-background: var(--sg-background-color, var(--theme-background, var(--jp-layout-color0, #111)));\n",
       "    --sklearn-color-border-box: var(--sg-text-color, var(--theme-code-foreground, var(--jp-content-font-color1, white)));\n",
       "    --sklearn-color-icon: #878787;\n",
       "  }\n",
       "}\n",
       "\n",
       "#sk-container-id-23 {\n",
       "  color: var(--sklearn-color-text);\n",
       "}\n",
       "\n",
       "#sk-container-id-23 pre {\n",
       "  padding: 0;\n",
       "}\n",
       "\n",
       "#sk-container-id-23 input.sk-hidden--visually {\n",
       "  border: 0;\n",
       "  clip: rect(1px 1px 1px 1px);\n",
       "  clip: rect(1px, 1px, 1px, 1px);\n",
       "  height: 1px;\n",
       "  margin: -1px;\n",
       "  overflow: hidden;\n",
       "  padding: 0;\n",
       "  position: absolute;\n",
       "  width: 1px;\n",
       "}\n",
       "\n",
       "#sk-container-id-23 div.sk-dashed-wrapped {\n",
       "  border: 1px dashed var(--sklearn-color-line);\n",
       "  margin: 0 0.4em 0.5em 0.4em;\n",
       "  box-sizing: border-box;\n",
       "  padding-bottom: 0.4em;\n",
       "  background-color: var(--sklearn-color-background);\n",
       "}\n",
       "\n",
       "#sk-container-id-23 div.sk-container {\n",
       "  /* jupyter's `normalize.less` sets `[hidden] { display: none; }`\n",
       "     but bootstrap.min.css set `[hidden] { display: none !important; }`\n",
       "     so we also need the `!important` here to be able to override the\n",
       "     default hidden behavior on the sphinx rendered scikit-learn.org.\n",
       "     See: https://github.com/scikit-learn/scikit-learn/issues/21755 */\n",
       "  display: inline-block !important;\n",
       "  position: relative;\n",
       "}\n",
       "\n",
       "#sk-container-id-23 div.sk-text-repr-fallback {\n",
       "  display: none;\n",
       "}\n",
       "\n",
       "div.sk-parallel-item,\n",
       "div.sk-serial,\n",
       "div.sk-item {\n",
       "  /* draw centered vertical line to link estimators */\n",
       "  background-image: linear-gradient(var(--sklearn-color-text-on-default-background), var(--sklearn-color-text-on-default-background));\n",
       "  background-size: 2px 100%;\n",
       "  background-repeat: no-repeat;\n",
       "  background-position: center center;\n",
       "}\n",
       "\n",
       "/* Parallel-specific style estimator block */\n",
       "\n",
       "#sk-container-id-23 div.sk-parallel-item::after {\n",
       "  content: \"\";\n",
       "  width: 100%;\n",
       "  border-bottom: 2px solid var(--sklearn-color-text-on-default-background);\n",
       "  flex-grow: 1;\n",
       "}\n",
       "\n",
       "#sk-container-id-23 div.sk-parallel {\n",
       "  display: flex;\n",
       "  align-items: stretch;\n",
       "  justify-content: center;\n",
       "  background-color: var(--sklearn-color-background);\n",
       "  position: relative;\n",
       "}\n",
       "\n",
       "#sk-container-id-23 div.sk-parallel-item {\n",
       "  display: flex;\n",
       "  flex-direction: column;\n",
       "}\n",
       "\n",
       "#sk-container-id-23 div.sk-parallel-item:first-child::after {\n",
       "  align-self: flex-end;\n",
       "  width: 50%;\n",
       "}\n",
       "\n",
       "#sk-container-id-23 div.sk-parallel-item:last-child::after {\n",
       "  align-self: flex-start;\n",
       "  width: 50%;\n",
       "}\n",
       "\n",
       "#sk-container-id-23 div.sk-parallel-item:only-child::after {\n",
       "  width: 0;\n",
       "}\n",
       "\n",
       "/* Serial-specific style estimator block */\n",
       "\n",
       "#sk-container-id-23 div.sk-serial {\n",
       "  display: flex;\n",
       "  flex-direction: column;\n",
       "  align-items: center;\n",
       "  background-color: var(--sklearn-color-background);\n",
       "  padding-right: 1em;\n",
       "  padding-left: 1em;\n",
       "}\n",
       "\n",
       "\n",
       "/* Toggleable style: style used for estimator/Pipeline/ColumnTransformer box that is\n",
       "clickable and can be expanded/collapsed.\n",
       "- Pipeline and ColumnTransformer use this feature and define the default style\n",
       "- Estimators will overwrite some part of the style using the `sk-estimator` class\n",
       "*/\n",
       "\n",
       "/* Pipeline and ColumnTransformer style (default) */\n",
       "\n",
       "#sk-container-id-23 div.sk-toggleable {\n",
       "  /* Default theme specific background. It is overwritten whether we have a\n",
       "  specific estimator or a Pipeline/ColumnTransformer */\n",
       "  background-color: var(--sklearn-color-background);\n",
       "}\n",
       "\n",
       "/* Toggleable label */\n",
       "#sk-container-id-23 label.sk-toggleable__label {\n",
       "  cursor: pointer;\n",
       "  display: block;\n",
       "  width: 100%;\n",
       "  margin-bottom: 0;\n",
       "  padding: 0.5em;\n",
       "  box-sizing: border-box;\n",
       "  text-align: center;\n",
       "}\n",
       "\n",
       "#sk-container-id-23 label.sk-toggleable__label-arrow:before {\n",
       "  /* Arrow on the left of the label */\n",
       "  content: \"▸\";\n",
       "  float: left;\n",
       "  margin-right: 0.25em;\n",
       "  color: var(--sklearn-color-icon);\n",
       "}\n",
       "\n",
       "#sk-container-id-23 label.sk-toggleable__label-arrow:hover:before {\n",
       "  color: var(--sklearn-color-text);\n",
       "}\n",
       "\n",
       "/* Toggleable content - dropdown */\n",
       "\n",
       "#sk-container-id-23 div.sk-toggleable__content {\n",
       "  max-height: 0;\n",
       "  max-width: 0;\n",
       "  overflow: hidden;\n",
       "  text-align: left;\n",
       "  /* unfitted */\n",
       "  background-color: var(--sklearn-color-unfitted-level-0);\n",
       "}\n",
       "\n",
       "#sk-container-id-23 div.sk-toggleable__content.fitted {\n",
       "  /* fitted */\n",
       "  background-color: var(--sklearn-color-fitted-level-0);\n",
       "}\n",
       "\n",
       "#sk-container-id-23 div.sk-toggleable__content pre {\n",
       "  margin: 0.2em;\n",
       "  border-radius: 0.25em;\n",
       "  color: var(--sklearn-color-text);\n",
       "  /* unfitted */\n",
       "  background-color: var(--sklearn-color-unfitted-level-0);\n",
       "}\n",
       "\n",
       "#sk-container-id-23 div.sk-toggleable__content.fitted pre {\n",
       "  /* unfitted */\n",
       "  background-color: var(--sklearn-color-fitted-level-0);\n",
       "}\n",
       "\n",
       "#sk-container-id-23 input.sk-toggleable__control:checked~div.sk-toggleable__content {\n",
       "  /* Expand drop-down */\n",
       "  max-height: 200px;\n",
       "  max-width: 100%;\n",
       "  overflow: auto;\n",
       "}\n",
       "\n",
       "#sk-container-id-23 input.sk-toggleable__control:checked~label.sk-toggleable__label-arrow:before {\n",
       "  content: \"▾\";\n",
       "}\n",
       "\n",
       "/* Pipeline/ColumnTransformer-specific style */\n",
       "\n",
       "#sk-container-id-23 div.sk-label input.sk-toggleable__control:checked~label.sk-toggleable__label {\n",
       "  color: var(--sklearn-color-text);\n",
       "  background-color: var(--sklearn-color-unfitted-level-2);\n",
       "}\n",
       "\n",
       "#sk-container-id-23 div.sk-label.fitted input.sk-toggleable__control:checked~label.sk-toggleable__label {\n",
       "  background-color: var(--sklearn-color-fitted-level-2);\n",
       "}\n",
       "\n",
       "/* Estimator-specific style */\n",
       "\n",
       "/* Colorize estimator box */\n",
       "#sk-container-id-23 div.sk-estimator input.sk-toggleable__control:checked~label.sk-toggleable__label {\n",
       "  /* unfitted */\n",
       "  background-color: var(--sklearn-color-unfitted-level-2);\n",
       "}\n",
       "\n",
       "#sk-container-id-23 div.sk-estimator.fitted input.sk-toggleable__control:checked~label.sk-toggleable__label {\n",
       "  /* fitted */\n",
       "  background-color: var(--sklearn-color-fitted-level-2);\n",
       "}\n",
       "\n",
       "#sk-container-id-23 div.sk-label label.sk-toggleable__label,\n",
       "#sk-container-id-23 div.sk-label label {\n",
       "  /* The background is the default theme color */\n",
       "  color: var(--sklearn-color-text-on-default-background);\n",
       "}\n",
       "\n",
       "/* On hover, darken the color of the background */\n",
       "#sk-container-id-23 div.sk-label:hover label.sk-toggleable__label {\n",
       "  color: var(--sklearn-color-text);\n",
       "  background-color: var(--sklearn-color-unfitted-level-2);\n",
       "}\n",
       "\n",
       "/* Label box, darken color on hover, fitted */\n",
       "#sk-container-id-23 div.sk-label.fitted:hover label.sk-toggleable__label.fitted {\n",
       "  color: var(--sklearn-color-text);\n",
       "  background-color: var(--sklearn-color-fitted-level-2);\n",
       "}\n",
       "\n",
       "/* Estimator label */\n",
       "\n",
       "#sk-container-id-23 div.sk-label label {\n",
       "  font-family: monospace;\n",
       "  font-weight: bold;\n",
       "  display: inline-block;\n",
       "  line-height: 1.2em;\n",
       "}\n",
       "\n",
       "#sk-container-id-23 div.sk-label-container {\n",
       "  text-align: center;\n",
       "}\n",
       "\n",
       "/* Estimator-specific */\n",
       "#sk-container-id-23 div.sk-estimator {\n",
       "  font-family: monospace;\n",
       "  border: 1px dotted var(--sklearn-color-border-box);\n",
       "  border-radius: 0.25em;\n",
       "  box-sizing: border-box;\n",
       "  margin-bottom: 0.5em;\n",
       "  /* unfitted */\n",
       "  background-color: var(--sklearn-color-unfitted-level-0);\n",
       "}\n",
       "\n",
       "#sk-container-id-23 div.sk-estimator.fitted {\n",
       "  /* fitted */\n",
       "  background-color: var(--sklearn-color-fitted-level-0);\n",
       "}\n",
       "\n",
       "/* on hover */\n",
       "#sk-container-id-23 div.sk-estimator:hover {\n",
       "  /* unfitted */\n",
       "  background-color: var(--sklearn-color-unfitted-level-2);\n",
       "}\n",
       "\n",
       "#sk-container-id-23 div.sk-estimator.fitted:hover {\n",
       "  /* fitted */\n",
       "  background-color: var(--sklearn-color-fitted-level-2);\n",
       "}\n",
       "\n",
       "/* Specification for estimator info (e.g. \"i\" and \"?\") */\n",
       "\n",
       "/* Common style for \"i\" and \"?\" */\n",
       "\n",
       ".sk-estimator-doc-link,\n",
       "a:link.sk-estimator-doc-link,\n",
       "a:visited.sk-estimator-doc-link {\n",
       "  float: right;\n",
       "  font-size: smaller;\n",
       "  line-height: 1em;\n",
       "  font-family: monospace;\n",
       "  background-color: var(--sklearn-color-background);\n",
       "  border-radius: 1em;\n",
       "  height: 1em;\n",
       "  width: 1em;\n",
       "  text-decoration: none !important;\n",
       "  margin-left: 1ex;\n",
       "  /* unfitted */\n",
       "  border: var(--sklearn-color-unfitted-level-1) 1pt solid;\n",
       "  color: var(--sklearn-color-unfitted-level-1);\n",
       "}\n",
       "\n",
       ".sk-estimator-doc-link.fitted,\n",
       "a:link.sk-estimator-doc-link.fitted,\n",
       "a:visited.sk-estimator-doc-link.fitted {\n",
       "  /* fitted */\n",
       "  border: var(--sklearn-color-fitted-level-1) 1pt solid;\n",
       "  color: var(--sklearn-color-fitted-level-1);\n",
       "}\n",
       "\n",
       "/* On hover */\n",
       "div.sk-estimator:hover .sk-estimator-doc-link:hover,\n",
       ".sk-estimator-doc-link:hover,\n",
       "div.sk-label-container:hover .sk-estimator-doc-link:hover,\n",
       ".sk-estimator-doc-link:hover {\n",
       "  /* unfitted */\n",
       "  background-color: var(--sklearn-color-unfitted-level-3);\n",
       "  color: var(--sklearn-color-background);\n",
       "  text-decoration: none;\n",
       "}\n",
       "\n",
       "div.sk-estimator.fitted:hover .sk-estimator-doc-link.fitted:hover,\n",
       ".sk-estimator-doc-link.fitted:hover,\n",
       "div.sk-label-container:hover .sk-estimator-doc-link.fitted:hover,\n",
       ".sk-estimator-doc-link.fitted:hover {\n",
       "  /* fitted */\n",
       "  background-color: var(--sklearn-color-fitted-level-3);\n",
       "  color: var(--sklearn-color-background);\n",
       "  text-decoration: none;\n",
       "}\n",
       "\n",
       "/* Span, style for the box shown on hovering the info icon */\n",
       ".sk-estimator-doc-link span {\n",
       "  display: none;\n",
       "  z-index: 9999;\n",
       "  position: relative;\n",
       "  font-weight: normal;\n",
       "  right: .2ex;\n",
       "  padding: .5ex;\n",
       "  margin: .5ex;\n",
       "  width: min-content;\n",
       "  min-width: 20ex;\n",
       "  max-width: 50ex;\n",
       "  color: var(--sklearn-color-text);\n",
       "  box-shadow: 2pt 2pt 4pt #999;\n",
       "  /* unfitted */\n",
       "  background: var(--sklearn-color-unfitted-level-0);\n",
       "  border: .5pt solid var(--sklearn-color-unfitted-level-3);\n",
       "}\n",
       "\n",
       ".sk-estimator-doc-link.fitted span {\n",
       "  /* fitted */\n",
       "  background: var(--sklearn-color-fitted-level-0);\n",
       "  border: var(--sklearn-color-fitted-level-3);\n",
       "}\n",
       "\n",
       ".sk-estimator-doc-link:hover span {\n",
       "  display: block;\n",
       "}\n",
       "\n",
       "/* \"?\"-specific style due to the `<a>` HTML tag */\n",
       "\n",
       "#sk-container-id-23 a.estimator_doc_link {\n",
       "  float: right;\n",
       "  font-size: 1rem;\n",
       "  line-height: 1em;\n",
       "  font-family: monospace;\n",
       "  background-color: var(--sklearn-color-background);\n",
       "  border-radius: 1rem;\n",
       "  height: 1rem;\n",
       "  width: 1rem;\n",
       "  text-decoration: none;\n",
       "  /* unfitted */\n",
       "  color: var(--sklearn-color-unfitted-level-1);\n",
       "  border: var(--sklearn-color-unfitted-level-1) 1pt solid;\n",
       "}\n",
       "\n",
       "#sk-container-id-23 a.estimator_doc_link.fitted {\n",
       "  /* fitted */\n",
       "  border: var(--sklearn-color-fitted-level-1) 1pt solid;\n",
       "  color: var(--sklearn-color-fitted-level-1);\n",
       "}\n",
       "\n",
       "/* On hover */\n",
       "#sk-container-id-23 a.estimator_doc_link:hover {\n",
       "  /* unfitted */\n",
       "  background-color: var(--sklearn-color-unfitted-level-3);\n",
       "  color: var(--sklearn-color-background);\n",
       "  text-decoration: none;\n",
       "}\n",
       "\n",
       "#sk-container-id-23 a.estimator_doc_link.fitted:hover {\n",
       "  /* fitted */\n",
       "  background-color: var(--sklearn-color-fitted-level-3);\n",
       "}\n",
       "</style><div id=\"sk-container-id-23\" class=\"sk-top-container\"><div class=\"sk-text-repr-fallback\"><pre>GradientBoostingRegressor()</pre><b>In a Jupyter environment, please rerun this cell to show the HTML representation or trust the notebook. <br />On GitHub, the HTML representation is unable to render, please try loading this page with nbviewer.org.</b></div><div class=\"sk-container\" hidden><div class=\"sk-item\"><div class=\"sk-estimator fitted sk-toggleable\"><input class=\"sk-toggleable__control sk-hidden--visually\" id=\"sk-estimator-id-23\" type=\"checkbox\" checked><label for=\"sk-estimator-id-23\" class=\"sk-toggleable__label fitted sk-toggleable__label-arrow fitted\">&nbsp;&nbsp;GradientBoostingRegressor<a class=\"sk-estimator-doc-link fitted\" rel=\"noreferrer\" target=\"_blank\" href=\"https://scikit-learn.org/1.5/modules/generated/sklearn.ensemble.GradientBoostingRegressor.html\">?<span>Documentation for GradientBoostingRegressor</span></a><span class=\"sk-estimator-doc-link fitted\">i<span>Fitted</span></span></label><div class=\"sk-toggleable__content fitted\"><pre>GradientBoostingRegressor()</pre></div> </div></div></div></div>"
      ]
     },
     "execution_count": 339,
     "metadata": {},
     "output_type": "execute_result"
    }
   ],
   "execution_count": 339
  },
  {
   "cell_type": "code",
   "id": "19abdf8e81c5732c",
   "metadata": {
    "ExecuteTime": {
     "end_time": "2025-05-08T09:19:28.250218Z",
     "start_time": "2025-05-08T09:19:28.121328Z"
    }
   },
   "source": [
    "\n",
    "pyplot.plot(zscored_t[:,l], alpha=0.5)\n",
    "pyplot.plot(p.predict(zscored_t[:,:l]), alpha=0.5)"
   ],
   "outputs": [
    {
     "data": {
      "text/plain": [
       "[<matplotlib.lines.Line2D at 0x16946475400>]"
      ]
     },
     "execution_count": 340,
     "metadata": {},
     "output_type": "execute_result"
    },
    {
     "data": {
      "text/plain": [
       "<Figure size 640x480 with 1 Axes>"
      ],
      "image/png": "[encoded data removed]"
     },
     "metadata": {},
     "output_type": "display_data"
    }
   ],
   "execution_count": 340
  },
  {
   "cell_type": "code",
   "id": "f10873cd315e28e0",
   "metadata": {
    "ExecuteTime": {
     "end_time": "2025-05-08T09:19:28.330647Z",
     "start_time": "2025-05-08T09:19:28.250218Z"
    }
   },
   "source": [
    "\n",
    "pyplot.plot(zscored_x[:,l], alpha=0.5)\n",
    "pyplot.plot(p.predict(zscored_x[:,:l]), alpha=0.5)"
   ],
   "outputs": [
    {
     "data": {
      "text/plain": [
       "[<matplotlib.lines.Line2D at 0x16946518830>]"
      ]
     },
     "execution_count": 341,
     "metadata": {},
     "output_type": "execute_result"
    },
    {
     "data": {
      "text/plain": [
       "<Figure size 640x480 with 1 Axes>"
      ],
      "image/png": "[encoded data removed]"
     },
     "metadata": {},
     "output_type": "display_data"
    }
   ],
   "execution_count": 341
  },
  {
   "cell_type": "code",
   "id": "3e1045d4d5441768",
   "metadata": {
    "ExecuteTime": {
     "end_time": "2025-05-08T09:19:28.335981Z",
     "start_time": "2025-05-08T09:19:28.331650Z"
    }
   },
   "source": "p.score(zscored_x[:,:l], zscored_x[:,l])",
   "outputs": [
    {
     "data": {
      "text/plain": [
       "0.57074215744443"
      ]
     },
     "execution_count": 342,
     "metadata": {},
     "output_type": "execute_result"
    }
   ],
   "execution_count": 342
  },
  {
   "cell_type": "code",
   "id": "5462dfd6e236689",
   "metadata": {
    "ExecuteTime": {
     "end_time": "2025-05-08T09:19:28.349260Z",
     "start_time": "2025-05-08T09:19:28.336984Z"
    }
   },
   "source": "p.score(zscored_t[:,:l], zscored_t[:,l])",
   "outputs": [
    {
     "data": {
      "text/plain": [
       "0.7541473533308534"
      ]
     },
     "execution_count": 343,
     "metadata": {},
     "output_type": "execute_result"
    }
   ],
   "execution_count": 343
  },
  {
   "metadata": {
    "ExecuteTime": {
     "end_time": "2025-05-08T09:19:28.354109Z",
     "start_time": "2025-05-08T09:19:28.350263Z"
    }
   },
   "cell_type": "code",
   "source": "numpy.corrcoef(p.predict(zscored_x[:,:l]), zscored_x[:,l])",
   "id": "a47c5b19183fdb7f",
   "outputs": [
    {
     "data": {
      "text/plain": [
       "array([[1.        , 0.77560353],\n",
       "       [0.77560353, 1.        ]])"
      ]
     },
     "execution_count": 344,
     "metadata": {},
     "output_type": "execute_result"
    }
   ],
   "execution_count": 344
  },
  {
   "metadata": {
    "ExecuteTime": {
     "end_time": "2025-05-08T09:19:28.364412Z",
     "start_time": "2025-05-08T09:19:28.354109Z"
    }
   },
   "cell_type": "code",
   "source": [
    "model = MarketSampleTransformer(l, 64, 4, 2)\n",
    "optimizer = optim.Adam(model.parameters(), lr=1e-3)\n",
    "# criterion = nn.SmoothL1Loss()\n",
    "criterion = nn.MSELoss()"
   ],
   "id": "e8b2dfd072bf0f34",
   "outputs": [
    {
     "name": "stderr",
     "output_type": "stream",
     "text": [
      "C:\\Users\\sangsiyuan\\AppData\\Roaming\\Python\\Python312\\site-packages\\torch\\nn\\modules\\transformer.py:306: UserWarning: enable_nested_tensor is True, but self.use_nested_tensor is False because encoder_layer.self_attn.batch_first was not True(use batch_first for better inference performance)\n",
      "  warnings.warn(f\"enable_nested_tensor is True, but self.use_nested_tensor is False because {why_not_sparsity_fast_path}\")\n"
     ]
    }
   ],
   "execution_count": 345
  },
  {
   "metadata": {
    "ExecuteTime": {
     "end_time": "2025-05-08T09:20:22.189008Z",
     "start_time": "2025-05-08T09:19:28.364412Z"
    }
   },
   "cell_type": "code",
   "source": [
    "batch_size = 600\n",
    "epoch_size = 100\n",
    "\n",
    "zscored_t_dataset = MarketSampleDataset(zscored_t)\n",
    "train_loader = DataLoader(zscored_t_dataset, batch_size=batch_size, shuffle=True)\n",
    "\n",
    "zscored_x_dataset = MarketSampleDataset(zscored_x)\n",
    "test_loader = DataLoader(zscored_x_dataset, batch_size=batch_size, shuffle=True)\n",
    "\n",
    "for epoch in range(epoch_size):\n",
    "    model.train()\n",
    "    total_loss = 0\n",
    "    for batch_x, batch_y in train_loader:\n",
    "        # batch_x, batch_y = batch_x, batch_y\n",
    "        optimizer.zero_grad()\n",
    "        pred = model(batch_x)\n",
    "        loss = criterion(pred, batch_y)\n",
    "        loss.backward()\n",
    "        optimizer.step()\n",
    "        total_loss += loss.item() * batch_x.size(0)\n",
    "    avg_loss = total_loss / len(train_loader.dataset)\n",
    "\n",
    "    # model.eval()\n",
    "    # test_loss = 0\n",
    "    # with torch.no_grad():\n",
    "    #     for batch_x, batch_y in test_loader:\n",
    "    #         # batch_x, batch_y = batch_x, batch_y\n",
    "    #         pred = model(batch_x)\n",
    "    #         loss = criterion(pred, batch_y)\n",
    "    #         test_loss += loss.item() * batch_x.size(0)\n",
    "    # avg_test_loss = test_loss / len(test_loader.dataset)\n",
    "\n",
    "    print(f\"Epoch {epoch+1}/{epoch_size} | Train Loss: {avg_loss:.6f} | Test Loss: NaN\")"
   ],
   "id": "da1f5bda8774a354",
   "outputs": [
    {
     "name": "stdout",
     "output_type": "stream",
     "text": [
      "Epoch 1/100 | Train Loss: 1.293241 | Test Loss: NaN\n",
      "Epoch 2/100 | Train Loss: 0.973607 | Test Loss: NaN\n",
      "Epoch 3/100 | Train Loss: 0.887232 | Test Loss: NaN\n",
      "Epoch 4/100 | Train Loss: 0.844250 | Test Loss: NaN\n",
      "Epoch 5/100 | Train Loss: 0.792664 | Test Loss: NaN\n",
      "Epoch 6/100 | Train Loss: 0.675543 | Test Loss: NaN\n",
      "Epoch 7/100 | Train Loss: 0.546108 | Test Loss: NaN\n",
      "Epoch 8/100 | Train Loss: 0.458990 | Test Loss: NaN\n",
      "Epoch 9/100 | Train Loss: 0.409988 | Test Loss: NaN\n",
      "Epoch 10/100 | Train Loss: 0.378586 | Test Loss: NaN\n",
      "Epoch 11/100 | Train Loss: 0.376255 | Test Loss: NaN\n",
      "Epoch 12/100 | Train Loss: 0.359930 | Test Loss: NaN\n",
      "Epoch 13/100 | Train Loss: 0.345742 | Test Loss: NaN\n",
      "Epoch 14/100 | Train Loss: 0.324982 | Test Loss: NaN\n",
      "Epoch 15/100 | Train Loss: 0.324501 | Test Loss: NaN\n",
      "Epoch 16/100 | Train Loss: 0.285957 | Test Loss: NaN\n",
      "Epoch 17/100 | Train Loss: 0.279145 | Test Loss: NaN\n",
      "Epoch 18/100 | Train Loss: 0.267473 | Test Loss: NaN\n",
      "Epoch 19/100 | Train Loss: 0.257849 | Test Loss: NaN\n",
      "Epoch 20/100 | Train Loss: 0.244573 | Test Loss: NaN\n",
      "Epoch 21/100 | Train Loss: 0.233548 | Test Loss: NaN\n",
      "Epoch 22/100 | Train Loss: 0.210849 | Test Loss: NaN\n",
      "Epoch 23/100 | Train Loss: 0.206009 | Test Loss: NaN\n",
      "Epoch 24/100 | Train Loss: 0.195414 | Test Loss: NaN\n",
      "Epoch 25/100 | Train Loss: 0.180119 | Test Loss: NaN\n",
      "Epoch 26/100 | Train Loss: 0.166285 | Test Loss: NaN\n",
      "Epoch 27/100 | Train Loss: 0.161639 | Test Loss: NaN\n",
      "Epoch 28/100 | Train Loss: 0.158297 | Test Loss: NaN\n",
      "Epoch 29/100 | Train Loss: 0.142372 | Test Loss: NaN\n",
      "Epoch 30/100 | Train Loss: 0.139918 | Test Loss: NaN\n",
      "Epoch 31/100 | Train Loss: 0.139321 | Test Loss: NaN\n",
      "Epoch 32/100 | Train Loss: 0.137384 | Test Loss: NaN\n",
      "Epoch 33/100 | Train Loss: 0.137963 | Test Loss: NaN\n",
      "Epoch 34/100 | Train Loss: 0.128536 | Test Loss: NaN\n",
      "Epoch 35/100 | Train Loss: 0.121762 | Test Loss: NaN\n",
      "Epoch 36/100 | Train Loss: 0.114929 | Test Loss: NaN\n",
      "Epoch 37/100 | Train Loss: 0.111722 | Test Loss: NaN\n",
      "Epoch 38/100 | Train Loss: 0.108132 | Test Loss: NaN\n",
      "Epoch 39/100 | Train Loss: 0.102733 | Test Loss: NaN\n",
      "Epoch 40/100 | Train Loss: 0.105326 | Test Loss: NaN\n",
      "Epoch 41/100 | Train Loss: 0.106591 | Test Loss: NaN\n",
      "Epoch 42/100 | Train Loss: 0.102366 | Test Loss: NaN\n",
      "Epoch 43/100 | Train Loss: 0.092463 | Test Loss: NaN\n",
      "Epoch 44/100 | Train Loss: 0.087080 | Test Loss: NaN\n",
      "Epoch 45/100 | Train Loss: 0.080794 | Test Loss: NaN\n",
      "Epoch 46/100 | Train Loss: 0.080275 | Test Loss: NaN\n",
      "Epoch 47/100 | Train Loss: 0.074991 | Test Loss: NaN\n",
      "Epoch 48/100 | Train Loss: 0.079156 | Test Loss: NaN\n",
      "Epoch 49/100 | Train Loss: 0.071376 | Test Loss: NaN\n",
      "Epoch 50/100 | Train Loss: 0.079546 | Test Loss: NaN\n",
      "Epoch 51/100 | Train Loss: 0.075952 | Test Loss: NaN\n",
      "Epoch 52/100 | Train Loss: 0.071101 | Test Loss: NaN\n",
      "Epoch 53/100 | Train Loss: 0.062798 | Test Loss: NaN\n",
      "Epoch 54/100 | Train Loss: 0.067960 | Test Loss: NaN\n",
      "Epoch 55/100 | Train Loss: 0.064060 | Test Loss: NaN\n",
      "Epoch 56/100 | Train Loss: 0.062733 | Test Loss: NaN\n",
      "Epoch 57/100 | Train Loss: 0.060567 | Test Loss: NaN\n",
      "Epoch 58/100 | Train Loss: 0.057037 | Test Loss: NaN\n",
      "Epoch 59/100 | Train Loss: 0.052658 | Test Loss: NaN\n",
      "Epoch 60/100 | Train Loss: 0.050428 | Test Loss: NaN\n",
      "Epoch 61/100 | Train Loss: 0.046376 | Test Loss: NaN\n",
      "Epoch 62/100 | Train Loss: 0.043490 | Test Loss: NaN\n",
      "Epoch 63/100 | Train Loss: 0.043365 | Test Loss: NaN\n",
      "Epoch 64/100 | Train Loss: 0.044066 | Test Loss: NaN\n",
      "Epoch 65/100 | Train Loss: 0.042446 | Test Loss: NaN\n",
      "Epoch 66/100 | Train Loss: 0.042732 | Test Loss: NaN\n",
      "Epoch 67/100 | Train Loss: 0.041283 | Test Loss: NaN\n",
      "Epoch 68/100 | Train Loss: 0.040232 | Test Loss: NaN\n",
      "Epoch 69/100 | Train Loss: 0.038410 | Test Loss: NaN\n",
      "Epoch 70/100 | Train Loss: 0.037921 | Test Loss: NaN\n",
      "Epoch 71/100 | Train Loss: 0.037342 | Test Loss: NaN\n",
      "Epoch 72/100 | Train Loss: 0.041919 | Test Loss: NaN\n",
      "Epoch 73/100 | Train Loss: 0.039284 | Test Loss: NaN\n",
      "Epoch 74/100 | Train Loss: 0.039943 | Test Loss: NaN\n",
      "Epoch 75/100 | Train Loss: 0.035627 | Test Loss: NaN\n",
      "Epoch 76/100 | Train Loss: 0.035434 | Test Loss: NaN\n",
      "Epoch 77/100 | Train Loss: 0.035975 | Test Loss: NaN\n",
      "Epoch 78/100 | Train Loss: 0.034415 | Test Loss: NaN\n",
      "Epoch 79/100 | Train Loss: 0.030566 | Test Loss: NaN\n",
      "Epoch 80/100 | Train Loss: 0.032619 | Test Loss: NaN\n",
      "Epoch 81/100 | Train Loss: 0.031748 | Test Loss: NaN\n",
      "Epoch 82/100 | Train Loss: 0.031537 | Test Loss: NaN\n",
      "Epoch 83/100 | Train Loss: 0.031322 | Test Loss: NaN\n",
      "Epoch 84/100 | Train Loss: 0.032496 | Test Loss: NaN\n",
      "Epoch 85/100 | Train Loss: 0.031306 | Test Loss: NaN\n",
      "Epoch 86/100 | Train Loss: 0.032530 | Test Loss: NaN\n",
      "Epoch 87/100 | Train Loss: 0.031719 | Test Loss: NaN\n",
      "Epoch 88/100 | Train Loss: 0.033205 | Test Loss: NaN\n",
      "Epoch 89/100 | Train Loss: 0.028370 | Test Loss: NaN\n",
      "Epoch 90/100 | Train Loss: 0.025810 | Test Loss: NaN\n",
      "Epoch 91/100 | Train Loss: 0.025115 | Test Loss: NaN\n",
      "Epoch 92/100 | Train Loss: 0.025382 | Test Loss: NaN\n",
      "Epoch 93/100 | Train Loss: 0.024319 | Test Loss: NaN\n",
      "Epoch 94/100 | Train Loss: 0.025439 | Test Loss: NaN\n",
      "Epoch 95/100 | Train Loss: 0.025268 | Test Loss: NaN\n",
      "Epoch 96/100 | Train Loss: 0.026272 | Test Loss: NaN\n",
      "Epoch 97/100 | Train Loss: 0.027478 | Test Loss: NaN\n",
      "Epoch 98/100 | Train Loss: 0.027303 | Test Loss: NaN\n",
      "Epoch 99/100 | Train Loss: 0.025228 | Test Loss: NaN\n",
      "Epoch 100/100 | Train Loss: 0.026624 | Test Loss: NaN\n"
     ]
    }
   ],
   "execution_count": 346
  },
  {
   "metadata": {
    "ExecuteTime": {
     "end_time": "2025-05-08T09:20:22.205375Z",
     "start_time": "2025-05-08T09:20:22.190010Z"
    }
   },
   "cell_type": "code",
   "source": [
    "model.eval()\n",
    "all_preds = []\n",
    "all_targets = []\n",
    "# 拿一批数据来预测\n",
    "with torch.no_grad():\n",
    "    for batch_x, batch_y in test_loader:\n",
    "        preds = model(batch_x)\n",
    "        all_preds.append(preds)    # 收集预测结果\n",
    "        all_targets.append(batch_y)  # 收集真实标签\n",
    "        \n",
    "all_preds = torch.cat(all_preds, dim=0).numpy()     # (400,)\n",
    "all_targets = torch.cat(all_targets, dim=0).numpy() # (400,)"
   ],
   "id": "c092ee3f28f9c9ec",
   "outputs": [],
   "execution_count": 347
  },
  {
   "metadata": {
    "ExecuteTime": {
     "end_time": "2025-05-08T09:20:22.328666Z",
     "start_time": "2025-05-08T09:20:22.206377Z"
    }
   },
   "cell_type": "code",
   "source": [
    "pyplot.figure(figsize=(8,5))\n",
    "pyplot.plot(all_targets, label=\"True\", alpha=0.5)\n",
    "pyplot.plot(all_preds, label=\"Predicted\", alpha=0.5)\n",
    "\n",
    "pyplot.legend()\n",
    "pyplot.title(\"Prediction vs True on Test Batch\")\n",
    "pyplot.show()"
   ],
   "id": "f1220659eabe99f3",
   "outputs": [
    {
     "data": {
      "text/plain": [
       "<Figure size 800x500 with 1 Axes>"
      ],
      "image/png": "[encoded data removed]"
     },
     "metadata": {},
     "output_type": "display_data"
    }
   ],
   "execution_count": 348
  },
  {
   "metadata": {
    "ExecuteTime": {
     "end_time": "2025-05-08T09:20:22.333526Z",
     "start_time": "2025-05-08T09:20:22.329668Z"
    }
   },
   "cell_type": "code",
   "source": [
    "from sklearn.metrics import mean_squared_error\n",
    "from sklearn.metrics import mean_absolute_error\n",
    "from sklearn.metrics import root_mean_squared_error\n",
    "\n",
    "mse = root_mean_squared_error(all_targets, all_preds)\n",
    "print(f\"Test MSE on 600 samples: {mse:.6f}\")"
   ],
   "id": "d51c26e73f17d1d6",
   "outputs": [
    {
     "name": "stdout",
     "output_type": "stream",
     "text": [
      "Test MSE on 600 samples: 0.722122\n"
     ]
    }
   ],
   "execution_count": 349
  },
  {
   "metadata": {
    "ExecuteTime": {
     "end_time": "2025-05-08T09:20:22.338309Z",
     "start_time": "2025-05-08T09:20:22.334528Z"
    }
   },
   "cell_type": "code",
   "source": [
    "from sklearn.metrics import r2_score\n",
    "r2 = r2_score(all_targets, all_preds)\n",
    "print(f\"Test R^2 on 600 samples: {r2:.6f}\")"
   ],
   "id": "f5cb8b1734932f4b",
   "outputs": [
    {
     "name": "stdout",
     "output_type": "stream",
     "text": [
      "Test R^2 on 600 samples: 0.342451\n"
     ]
    }
   ],
   "execution_count": 350
  },
  {
   "metadata": {
    "ExecuteTime": {
     "end_time": "2025-05-08T09:20:22.342804Z",
     "start_time": "2025-05-08T09:20:22.339311Z"
    }
   },
   "cell_type": "code",
   "source": "numpy.corrcoef(all_targets, all_preds)",
   "id": "8f4430f82b616e95",
   "outputs": [
    {
     "data": {
      "text/plain": [
       "array([[1.       , 0.5951565],\n",
       "       [0.5951565, 1.       ]])"
      ]
     },
     "execution_count": 351,
     "metadata": {},
     "output_type": "execute_result"
    }
   ],
   "execution_count": 351
  },
  {
   "metadata": {
    "ExecuteTime": {
     "end_time": "2025-05-08T09:20:22.348062Z",
     "start_time": "2025-05-08T09:20:22.343806Z"
    }
   },
   "cell_type": "code",
   "source": "print(zscored_t[:10].tolist())",
   "id": "6a176249960a6e33",
   "outputs": [
    {
     "name": "stdout",
     "output_type": "stream",
     "text": [
      "[[-1.1307392200931707, -1.0997089536865712, 1.510906946508592, 0.3890757185509973, 0.25711055410354167, 0.5267265802098812, -0.8445152503676714, -0.4103756022573563, -0.2780742081870341, -0.5174649567983582, -0.7514680923533462, -0.8737784170009844, 0.1435532330223685, -0.05189499395989968, 0.6303394654556315, 0.8690977947857769, 0.03487440358311919, -0.13217119822138068, -0.20032072092809886, -0.19049213457578204, -0.19218248951626224, -0.23936709120584915, -0.31438643577829467, -0.4107197763622438, -0.5615392874391048, -0.85281764442763, 0.45942325256516137, 0.6539281344470254, 0.9870788547347537, 1.3540691812731116, 1.616119101533591, 1.6941741608027583, 1.6219631162325954, 1.4317775126554868, 1.1468368376115259, 0.8993778898806718, 0.08868556428060832, 0.4140258333901245, -0.3518231231908341, 0.6042807887407773, 1.1346768493646258, -0.7644796543262442, -0.8686049640869263, 1.1936905934690802, -0.5615656158448301, -0.550576837840454, -0.6119417570064416, -0.7158164844238158, -0.841550331754418, -1.0005346447942902, -1.1343706162542706, -1.2705688293359894, -1.3760350707284907, -1.4655526662900265, 2.375983780840268, 3.2466550827014657, 3.289095436787556, 2.9358957116368587, 2.4924853256124067, 2.0090127510692306, 1.501385293196084, 1.0074918998509659, 0.9455401820689004, 1.3036782567632257, -1.7711676545342454, -2.031433103354514, -2.046560672862735, -1.9187298554796377, -1.728679403637893, -1.5158648004909403, -1.2814585462073305, -1.026720959976197, -0.7673030153796043, -0.550317791815753, -0.9649367640696145, 0.09396319473221916, 0.20961899218188623, 1.0351369665921415, 0.5003599922067533, -0.5545471776382093, 0.33293887121974813, -0.6962731906107293, -0.3860588687957483, -0.2378565469237879, -0.18252842853456933, -0.1909583232175912, -0.21114590392504923, -0.23920076437559548, -0.2511591788119374, -0.47142311945321286, -0.7322205692950445, -1.0074404199651836, 0.10624791407165385, -0.30215671892652046, -0.5975297218932142, -0.7559074999335657, -0.7545791143765652, -0.5170238438428835, 0.03837576661456722, 0.6911245647669061, 1.273457743014466, 1.678251372481835, 0.8106272147125725, 1.0435441272066295, 1.2087420460742058, 1.2971126924923941, 1.3246422813517011, 1.3119857843728153, 1.2666135575669883, 1.1745702652639805, 1.021498683946128, 0.8327201557051253, -1.269538220849932, 0.006012620483755614, -0.9106490293395924, -1.0597791413576816, -0.7205780237878241, -0.42922032413155514, -0.3169652001836724, -0.3718757904379597, -0.48500022814247096, -0.6092557826457736, -0.5652943656029373, 0.044046183824205214, 0.9712242954928326, 0.43745740211577505, 0.021518698053148738, -0.29777623367978023, -0.529771738757734, -0.669137684731909, -0.6911956221968504, -0.5972506199336709, -0.49350001477554695, -0.5370575781304361, 0.8290550459901393, 0.9988831799711705, 1.0957758222646379, 1.1258854503233746, 1.1035545786817431, 1.0429801798243934, 0.9438867600477107, 0.7894151999690894, 0.5503103930604568, 0.2030812304892642, 0.11782030976563569, -1.3834266109729207, -1.8050890839807676, -1.4233969476061408, -0.4806513872834724, -0.4751760606523777, -0.6946577836848955, -0.5282788081389813, -0.010906555359654698, 0.2533101880442228, 0.05524515244667389], [-0.3160149938816334, 0.45489041401817265, 0.9506615715001052, -0.6894070200446547, -0.7695441577431787, -0.5586839485811941, -0.7165034086048687, -0.8260314294716923, -0.8117594514609464, -0.6440043228721182, -0.6832521562331675, -0.8931008259138037, -1.0901084093124156, -1.2337692961275166, -0.985095935170837, -0.48615365833906216, 2.575233760597782, 2.576250388307272, 2.189212304815024, 1.7004254577868387, 1.1777268700618178, 0.6353808280184855, 0.06842452271009167, -0.5315077578831643, -1.154955711658246, -1.7568965394933185, 2.827961052054024, 3.888163151537691, 3.653891709259501, 3.212630944402464, 2.70713256433589, 2.164698117834912, 1.5759417247939251, 0.9126153326660957, 0.145110409209407, -0.7577319502603113, 0.08403388116129619, -0.1313807497096179, 0.3796171961432429, -0.6274486572792031, -0.4459362586581796, -0.5615081776355404, -0.5830202035503028, -0.5821895040216678, 0.6224807935917047, 0.9019784451112322, 0.9573787946897948, 0.9333860298898373, 0.9024061769540284, 0.8664457062643989, 0.9194415306963858, 1.0290624614777206, 1.1756977564903504, 1.3494944610000568, -1.4684844777841848, -1.2624663697959329, -1.0022555998368639, -1.0403170273382234, -1.2215530930625218, -1.4400905813493843, -1.6329016805043886, -1.7051947843163267, -1.420212217831694, -0.7937321912090594, -0.2803946950654581, -0.2140311531668591, -0.3662685575547065, -0.5812566678357993, -0.7365535313027676, -0.758337087881765, -0.6104749361719221, -0.3812242172212486, -0.11329446719065839, 0.2653236286512351, 0.10110347612772906, 0.20933601775312424, 0.4786595387457892, -0.01964346048000252, -0.431520435261558, -0.7112173137236355, -0.6621880723407672, -0.767958648884229, -0.1323557966714519, 0.9261496374695815, 1.1878135598542676, 1.197892426980588, 1.1296450223922148, 0.9618121640163363, 0.8168564948275429, 0.7031498728401787, 0.6439812768213631, 0.6414540534896901, 0.6617740831879392, 0.6088952145989683, 0.5976502244138281, 0.67835788638181, 0.7805197678454302, 0.6819184222679235, 0.4749975573347815, 0.36519587171666684, 0.49786715346062094, 0.6551529298386359, -0.045854779491157203, -0.13358922251222183, -0.2716124447516346, -0.4865517636920877, -0.7353617767291106, -0.9833460450702602, -1.1908494182066454, -1.2557157700050923, -1.0550512020114147, -0.9972879808320125, 2.0549999751549133, 0.6343201822901319, -0.2762344134277483, -0.4128492622875684, -0.5791809497349801, -0.5256501400747635, -0.36431505139045706, -0.08602788961750332, -0.052391579760852576, -0.15496133488599617, 0.09656879632806346, 0.5779874259042103, 0.5326824620746199, 0.23674838467737383, 0.03859829002427378, -0.1057913363805468, -0.22244842369949766, -0.3259575720111303, -0.4233886675574106, -0.5225374973244469, -0.6270294543195929, -0.7343046806399982, 0.023005813628536924, -0.17771452314215494, -0.33900944223400786, -0.40039911526800404, -0.3718101483880315, -0.28225733814194537, -0.17722169051464134, -0.10506710731563865, -0.11361484668129113, -0.2649018235902226, 0.11782083121901246, -0.39516012261408223, -0.16434403535474396, 0.5099376351318372, 0.20010458897687988, -0.31516545934846996, -0.4883352165774187, 0.09798760986861949, 0.008120951198891483, 0.46638651723116437, 0.024026717925552322], [-0.8323846991374177, 0.35783183821967535, 0.6239176077301885, -0.5651668534799662, -0.6037014004219124, -0.11331994708033334, -0.5470466764684141, -0.5502843089349658, -0.5577401819526377, -0.5579135759150206, -0.6009934122946802, -0.764518663541955, -0.9311289643259144, -1.110754508613094, -1.276362622365638, -1.4085570725479353, -0.1267468570211248, 0.31467812686972235, 0.5328059303403858, 0.4625786110678448, 0.3047612401186682, 0.18284862456653694, 0.19415460127523193, 0.3258093081598501, 0.46314852503701326, 0.6259581886387644, -1.7255539308196504, -1.715992871724295, -1.4859779833934317, -1.148063414850186, -0.7708084454647998, -0.37889372429362417, 0.021096076876634135, 0.41557231009003165, 0.7632179678181106, 0.9976509455193804, -0.8940729121022419, -0.6157452609107912, -0.5248018296537182, -0.7705131444552381, 0.4028694121909722, 0.2885958052335571, 0.340550465249286, -0.8082838677744246, -0.031055242684912172, 0.041165373244276354, 0.16757307043642425, 0.3475304590765371, 0.6130745419969569, 0.7196611400773506, 0.7899190312595458, 0.7638261314107343, 0.5458824570892291, 0.25622083568242154, -0.36455848278376446, 0.1304569390793135, 0.672810887901162, 1.0675735822759609, 1.2450822514871245, 1.2673251489708313, 1.196176052510851, 1.056336823794448, 0.8665472917802612, 0.6993296650052413, 1.2109677389054117, 1.1780396099591217, 1.312133036129871, 1.5894470124256765, 1.6888854435934149, 1.4747911475061066, 1.0904937352256108, 0.57729904221716, -0.06393836316064197, -0.8513255486294844, 0.12249216482203, -0.854584362494535, -1.3334102451884995, -1.2214748444079813, 0.6617475279239411, 0.49161572974589757, 0.2659167455291908, -0.24664526206883536, -0.5371806702217532, -0.5839370307174284, -0.6782614693405764, -0.8128734681134365, -0.9481725092285974, -1.0894292759316204, -1.0200124855685746, -0.3943593304772553, -0.10826628682990924, -0.037749509420927814, -0.9402931115196207, -1.1628985131600762, -1.193737022723063, -1.1130913267834595, -0.97700683784661, -0.8177252829899718, -0.646063379591705, -0.4716514352734206, -0.3223328698080358, -0.24506311864899658, -0.5019700287512598, -0.4312945333628788, -0.3715871758148793, -0.31572865793434746, -0.2619790479666019, -0.20581655466215096, -0.13985637946379945, -0.06214369926441686, 0.01595000182191012, 0.06342769759538962, 0.13470023894645308, 0.3275210777786372, -0.978470860817346, -0.7145305977284749, -0.4597019645163271, -0.64953451687221, -0.7174548746436004, -0.710225282278125, -0.6711775625901802, -0.5234477932245946, 0.15323525882509825, 0.566342164828625, -2.5637346608479015, -2.383898542849748, -1.9531394218497844, -1.4042946842973132, -0.8410380258289633, -0.3232186816351196, 0.12245506589484795, 0.4761543696926604, 0.7115280192537158, 0.8068497223441707, -0.220808652272358, -0.08575814168014986, 0.12191419726883863, 0.21882826158246504, 0.12213223245162198, -0.008351312392726226, -0.021310819280537473, 0.10018013010877981, -0.05817305265478506, -0.4575524575275139, -0.24779712668316448, -1.1251559567440315, -1.2095097397656285, 0.06220819358804402, 0.2415234178665587, -0.28425712098687483, -0.050594418677059626, 0.6822625458896141, 0.4563945526182257, 1.1541777643746503, -0.01849281339699542], [2.1307635917591705, -0.7144275048821709, 0.4404972865674299, 3.9836363759263533, -0.1471690461351102, -0.6461725410944108, -1.0285060743222254, -0.9059270992395462, -0.8218885210569868, -0.7375629405411526, -0.6017298997221818, -0.3980826644343574, 0.025915495155218033, 0.5914703664028554, 0.8870596716612787, 0.6842859441028202, 0.27392676163247015, 0.14995997494613902, 0.12693836167057296, 0.14867555958653764, 0.1867976992298707, 0.22679670496768664, 0.2623011531626347, 0.2752443937058098, 0.23181816737202052, 0.07878694659309744, 0.8815394163039288, 0.9723861384274071, 0.8948251765341514, 0.7645401992946715, 0.6267721763436751, 0.49837283147754063, 0.3888639549814397, 0.30347277852644755, 0.24843033603067785, 0.2828008728518519, 0.09684148492839646, 0.08562282250326653, -0.16095375011148108, -2.5326503505548126, 0.11658890285419105, -0.3627342267721502, 2.868095129245073, -0.5580576753936763, -1.1390623067872885, -1.0613835275675094, -1.020007877976457, -0.9736788559324532, -0.9196015919876478, -0.916155124343279, -0.9193940996272807, -0.9416706621609859, -0.9255573808297027, -0.8151506844540827, -0.36525736848375084, -0.5371525250689968, -0.6645859039889612, -0.7204583514874761, -0.7187692985795816, -0.6643309563077491, -0.5463929676169761, -0.3670158329035527, -0.1690373365712686, -0.07504145302501229, -0.4435303906159786, -0.6605767705673786, -0.7584003410849308, -0.780506883651164, -0.7642394647418193, -0.7294189171361559, -0.6752130007157243, -0.5998681029812288, -0.5068304274082727, -0.4122140611812309, 0.12414629787240335, -0.31331919789309864, 1.2541960061888293, 0.642293640839692, 0.5961497130363193, 1.0728856822522517, -0.4989170150915672, -0.8658392881134941, -0.9817926426456653, -1.1388658355062946, -1.294905050393407, -1.4255158180284166, -1.3386748188674737, -0.36958800228961375, -0.11633942490254214, 0.15313363322929394, 0.15475762956090686, -0.2571555163648459, 0.24990317271396278, 0.40663868713937623, 0.5694303618733088, 0.7316753642739026, 0.8369790399081429, 0.9152872448900711, 1.036671510856249, 1.1585056279562496, 1.2018311476450967, 1.1079296500154914, 2.5804394355915816, 2.6175133412645524, 2.5341829198240715, 2.362518677467031, 2.1411769558315945, 1.8915886395789359, 1.60646146914464, 1.2492653972448484, 0.7769908519809582, 0.13619861295618835, -0.9033005342510472, -3.628482096270486, 0.5714728954796126, 0.6476901727464934, 0.8484859691755597, 1.1161644636484733, 1.079750740095557, 0.9882013021860097, 1.0000466657208738, 1.138707058131255, 1.1960043666839073, 1.1903714769322167, -1.2006185725152465, -1.0899638186063076, -1.0521346722119638, -1.1138179276389364, -1.2035631636908704, -1.2748643600652296, -1.2707283388052102, -1.0865591223101714, -0.5893546654702762, 0.061486438602554094, 0.3234447426113923, -0.027055389683399985, -0.3441815201846999, -0.5663598304660521, -0.682064286173254, -0.6715402050387401, -0.5192719827816145, -0.2793459445239881, -0.06185948503716195, 0.010142229597321575, 0.12294018491121375, 1.427176150118698, 1.1358925525127033, 0.7909140739807065, 0.23600731643545467, -0.5024439350343837, -0.9199513282607852, -1.180225611884758, -1.2740512276267564, -0.8144456567377489, -0.01849281339699542], [-0.973110479131135, 0.9533578691279985, -1.5029590896668221, -0.2573543136023552, 0.37206503311853323, 0.25830350301803817, -0.5898767348243722, -0.6404365337168124, -0.7213573648427133, -0.8017319498648126, -0.8198137815086529, -0.7529931696611127, -0.6136488675784151, -0.43045252070175727, 0.18417365047098008, -0.05678081501430673, -1.9439181942139985, -1.9201434406239148, -1.700143469026208, -1.3768041180805892, -1.0192894236512067, -0.6541755391717983, -0.276475012694594, 0.11362079962768389, 0.49250343639977917, 0.8147636775644559, -1.0206401232601936, -1.4932467270076915, -1.7325679844280448, -1.8331306955525257, -1.8635057016609826, -1.8576690946771526, -1.8260818426548666, -1.7677246146903196, -1.6887147389519095, -1.6340707818460165, -0.761301262188367, -0.9492458577919377, 1.6544308026919965, 0.5336327727072082, 1.243600995680539, 0.24487302587390555, -0.14810113276478293, 0.1632352658277128, 1.132838370534514, 1.0098631293057287, 1.36372831075734, 1.5951226124033921, 1.6038550839937584, 1.5475951117660467, 1.510834298402741, 1.449547751326453, 1.3896659067091655, 1.3457057284672687, 0.5277539363552907, -0.05730505975620842, -0.4988607550227473, -0.8190254405756624, -1.0456350673922918, -1.1943240172806164, -1.2547980860788253, -1.2138511384547668, -1.0765498681690402, -0.9096225517437236, -0.6172678519247765, -0.06874713755746668, 0.42571295380006513, 0.8183431004257848, 1.0803071131614213, 1.2386985249712574, 1.3276181216861882, 1.3533560542916168, 1.293917477429621, 1.1493160440089816, 0.10771755430503707, 0.8900252545471037, 0.6442026648883151, -0.12749361707295598, -0.015154636513676453, -0.43024793001412837, -0.3969415429184165, -0.7427611863040419, 0.9922257751844337, 0.9457571729898626, 0.8158057506968954, 0.6532179928428312, 0.48976771341156733, 0.28294294531168124, 0.11942008100673526, -0.04191661690683927, -0.15838791835471758, -0.19207161294539574, -2.9807674082506472, -2.828752375758022, -2.409313129184382, -1.858473932197386, -1.2826060200026292, -0.7401534135616122, -0.241393360885004, 0.21620764130507808, 0.6243000645177595, 0.9729443277771279, -1.0661116866326583, -1.0316173483258393, -0.8282292794541415, -0.7177200517975582, -0.8206798360448858, -1.023793535884094, -1.2519658846453567, -1.4355105688904803, -1.4429176660290446, -1.1741912460376263, 0.3744526703394065, 0.19812351691150473, 2.642786102554299, 2.2444082408063486, 1.8985885091333399, 1.5591679359408728, 1.217837744368578, 0.8507212275376335, 0.5063858280844903, 0.15932336501356417, -0.19509063429414525, 0.3701304153562896, 1.1734523028753199, 0.6679950442329785, 0.1925571578079358, -0.20765908582136441, -0.5288195525060333, -0.7700895836517654, -0.9106836356617195, -0.8559033540066663, -0.3998256316093588, 0.17824039292098087, -1.5169475550516376, -1.7413840213778764, -1.7409803048143022, -1.5961050767600127, -1.3708648105852752, -1.093102662970917, -0.7643019033462115, -0.3730102012704418, 0.08476164620355817, 0.5834271923480017, -0.13140885394487403, 0.4502116800547602, 0.045325014303426794, -0.7011092180348945, -1.5249333166515897, -0.7700683725470097, -0.7739254802832448, -0.853674082918903, -0.9079527363943801, -1.0643234002841377, 0.11617635503781883], [-0.32939936358934196, 0.07829360721458135, -1.2542907724196706, -0.7147588407920822, -0.7198541192492024, 0.7915601693431302, -0.07836687663858313, 0.005937913125394542, -0.03328503687135186, -0.11234702838091061, -0.1800497872653728, -0.25082657127194424, -0.35323204378529216, -0.3216944167802053, -0.22536667713457023, -0.19486050224120324, -0.2979260657021785, -0.18450869279227225, -0.18015013440590247, -0.23031091516692812, -0.3071925015151928, -0.3988131091197509, -0.49035432537676693, -0.5687164584605231, -0.6124329705062657, -0.571448439938673, -0.32643382453475833, -0.3052791951757809, -0.1708914810870497, -0.0012202080208259848, 0.10826501455493721, 0.1181222181649588, 0.08572123398767603, 0.09875800746153848, 0.20746101381545914, 0.2904190254952863, -0.41126528129975926, 0.6962203105302236, -0.26689887040304855, 0.6478544439060716, 0.4091375238726932, -0.4248326042879432, -0.20133181474435266, -0.47564927730659773, -0.7575271216233735, -1.1745151571514523, -1.1485291286908483, -0.3134770424965173, -0.25632783623614597, -0.3283507413555693, -0.16635415496378406, -0.3417422974707899, -0.21811792692850185, 0.6901601829119791, -1.1424889148290958, -0.9859477805915516, -0.7990172961273029, -0.5911906325160685, -0.3900650574720035, -0.23590073808964224, -0.09385304655492553, 0.0716494731889094, 0.18184693125924462, 0.26918058937044725, -1.1176296353627244, -0.9974395288589342, -0.7339155800143624, -0.4233769383341527, -0.23072404765704793, -0.18895441436779967, -0.2338353166309721, -0.2953119184620608, -0.24651190505941487, 0.16478410968183066, 0.11261921167636574, 0.4136682105990905, 0.35042405157221207, 1.0572707776452628, 0.0033949742401824076, 0.5272878544532908, -0.01704714298059601, -0.6876724134375405, -0.8349849944319385, -0.953200059362011, -1.0985954574543446, -0.9514230229769631, -0.8130497169262758, -0.7547175665193326, -0.5709048068466414, 0.42830872365530626, 1.1523403018770992, 0.939898267763832, 0.5516547935780856, 0.5534683796083075, 0.6672765793326526, 0.8739150396136812, 1.1538997424177355, 1.2855142990518147, 1.1451827823137115, 0.808697378751781, 0.3197056616195634, -0.2927510424272773, -0.3335437511242392, -0.23106477698647115, -0.08198748471714341, -0.09816668094076594, -0.21238944085824868, -0.24660529860923114, -0.11489221771697808, 0.050687194601529685, 0.15316549966151988, 0.10997886045319379, 0.13099704762838812, 0.4406885345043098, 1.1647512005328242, 1.2987514993189984, 1.4233356300434499, 1.5009008389209384, 1.4819076422789017, 1.3506508960331123, 1.2137022149561592, 1.0810192696584375, 0.9789892718897018, 0.971543510316302, -0.7387517252491766, -0.9177390990514614, -0.9050441756999322, -0.7945019267906901, -0.6459815922381005, -0.48875144352753463, -0.335260074457945, -0.20305075339640033, -0.12265866241991234, -0.15325798691486675, -0.6864802489244041, -0.8193617455288708, -0.852757417236493, -0.8233087088961977, -0.7691380625530156, -0.7057069241081572, -0.6188556749537054, -0.4748226695091101, -0.25859965530779533, 0.012585496865391814, 0.1579739963856993, 0.9404321979884032, 0.5338640790788959, 0.10027627763293355, -0.19855224612640887, -0.5024439350343837, -0.7902554640175526, -0.9729566506095282, -1.080126136701782, -1.2790716235202588, -0.01849281339699542], [-0.7104967431519351, -2.055481978734584, 0.0055313567486784485, 0.08655412369905158, 2.387736091405701, -0.7147007431467789, -0.7960009871169532, -0.4319953895262574, 0.0113413638415577, 0.1329482771482032, 0.0691134113270584, -0.05495163807140338, -0.012830476183646177, 0.030240945442090172, -0.12700211028755726, -0.3584664110665354, -0.0012955797193210463, -0.12632543327107762, 0.06905099360482589, 0.5144860092199693, 0.814761886539367, 0.8406698012570254, 0.5917612148131411, 0.12701683252136536, -0.4892191871498764, -1.2369620758593096, -0.2757372613393638, -0.6147548072815731, -0.8196764615023892, -0.945984156689334, -1.035489938206982, -1.1097525285236203, -1.1741600741654559, -1.2237817119619807, -1.2491470875207222, -1.2383349141955087, -0.004020263147381654, 0.28621637846111014, -0.3129935507988783, 0.5920313925315456, -1.8452945943250525, -0.5586052653531816, -0.5471299798045475, 1.0789310963911205, -0.9929046863884904, -0.8602083781365326, -0.7760730499321619, -0.7129166507274184, -0.6558558744526742, -0.616411343142954, -0.5391765229088888, -0.49696026907004404, -0.49389475596672766, -0.7597606481324157, 0.3982123838239741, 0.7544902447283607, 1.1516684141176041, 1.521489576977647, 1.851867977240916, 2.132830120504848, 2.433868295579184, 2.694035517238927, 2.7667548034405263, 2.060141936267387, -1.2911914508848144, -1.436554638263483, -1.5173811155163335, -1.579192146534389, -1.6435196087534567, -1.72167965182839, -1.8010009120314434, -1.854567253705262, -1.8388289463831489, -1.705869780478043, 0.05789071892341108, 1.2243357777927828, -0.40640308278277765, -0.9138869091410974, 0.885882999589724, 1.0677724672446862, -0.6842404732880104, -0.14797688916663543, -0.5631236718394694, 1.3766477761600635, 1.3076853819163101, 1.1328325171527023, 1.1179440480001361, 1.1041766980105483, 1.1014664965890242, 1.0939693419172187, 1.10689673319123, 1.1531641394125005, -0.4434262012444534, -1.1684801927610924, -1.691640191457757, -2.0770298591192513, -2.3746570737020862, -2.6250303836709867, -2.839517802704684, -2.9923999163295174, -3.0543136184950814, -3.0147350291255117, -0.25107613092627884, -0.18205371766195216, -0.10264161580488756, 0.05724477624565468, 0.3166171728995593, 0.6043811134531312, 0.6838127572053592, 0.5068324162532227, 0.15733454349374015, -0.2707745104134389, 0.07697907906788784, -1.1943083862391306, 0.6555682130422943, 0.6797148489046165, 0.6377886687834786, 0.554641963839919, 0.45143783623494177, 0.31397032178847417, 0.20594159696510453, 0.10917349086412094, 0.045337446212137957, 0.03479407859207844, 1.1381043235425543, 1.288142445014882, 1.3707639342235647, 1.3930480112338213, 1.374153514180606, 1.330508361591228, 1.2659495535012752, 1.1671193146935375, 1.012757423136603, 0.7945627989415747, -1.1060261829425482, -1.1507835841274208, -1.0856978854593726, -0.9401936179285576, -0.7502953916174498, -0.5227237783082322, -0.2525945866021193, 0.05788795626127099, 0.3803801131890751, 0.6300149469063336, 0.12185569866703709, 0.40598463631696363, 0.19054496857779019, 0.28064121220947164, 0.2415234178665587, 0.3487886206974962, 0.24960362781802603, -0.2514598173344058, -0.5981286324259303, -0.8570878732104726, 0.5253325558640306], [1.5310596969494241, -0.09142326964677215, -1.7617839389646681, -0.021595768920049965, -0.5757221386210282, 1.5414434678369968, 0.7215509347918139, 1.035342098822318, 1.21224101716258, 1.3951235648326958, 1.5933069444567756, 1.5652871463795075, 1.461289212513423, 1.3197018560673495, 1.1778048851941856, 1.026178207921345, 0.0008129584325679478, 0.043930342104263324, 0.21585735906650153, 0.40628684220934236, 0.5412878490397486, 0.6183247179251581, 0.6741858963406646, 0.7414699415400207, 0.8162625051338236, 0.7889760721209523, -0.21734273689860006, -0.08278869177637464, -0.024377608334623112, 0.018731901895730936, 0.06263044514175677, 0.11055549182569732, 0.13550941646160902, 0.09256768940224912, 0.024696029538475387, 0.11897065251535198, 0.5457133595534036, -0.18600371213874636, 1.1570695496513572, 0.059998886607475856, -0.6705721386956159, -1.3716842960105025, -0.6715865746329546, -0.25280462551248717, 0.8721989798038312, 0.4736365007894438, 0.10573843293074847, -0.24993223805277792, -0.595077543030616, -0.9580389601660431, -1.290176940915158, -1.6317657811028352, -1.966650248759846, -2.3569861741540885, 0.03149212106346149, -0.011884631279915443, 0.010213272938862818, 0.0767784822746182, 0.1646577084361885, 0.2546260841323847, 0.33208441375460873, 0.36452408277525655, 0.2994409561874862, 0.06852749157285858, 0.14496835952556755, 0.39448425409104326, 0.2972999475374181, 0.1474147353626562, 0.06356997246778316, -0.03039737349864975, -0.20291264181654928, -0.43694252400436256, -0.6938192154964244, -0.832523263771017, 0.20287706196387917, -0.11019654953396553, -0.12841484465966982, -0.4708590170978368, -1.301820786504666, -0.5128556720649788, -0.15537343156380884, 0.7869328559834328, 0.15476775504820217, 0.009686141190256757, -0.23621403940672478, -0.48845806286193233, -0.6675604824396392, -0.5898564398739475, -0.32781554905481713, -0.31124074668676593, 0.2684713481992676, 0.35544103925324333, 1.3094652360720613, 1.3502604718739264, 1.269739986605364, 1.1547277697986646, 1.0413529467561036, 0.9566932110586959, 0.9208286360024619, 0.9338016400057638, 0.9661152047366407, 0.9871074955211625, -0.6562463724486035, -0.21455215674647465, 0.1199098506741162, 0.3536648397338921, 0.5206712915946824, 0.6466411062690113, 0.7436221556554169, 0.8013847231196547, 0.7970014153643283, 0.7269492617569169, -0.43003311838439817, 0.3013346342306103, -1.0946241664927776, -1.0398960328977092, -1.0206168400071365, -0.9991948009865983, -0.9024820860588788, -0.6155254088614066, -0.35707231355404456, -0.3525354924588638, -0.4081801216836928, -0.4720196074746467, 0.31075603305566407, 0.47421180872975016, 0.6811681556311054, 0.8925468658285491, 1.0943088698469297, 1.2867191430968523, 1.4654623592828626, 1.6029703772385937, 1.6410174709293317, 1.4999954685178385, 1.1979258637037686, 0.8680635014382957, 0.5982882318698113, 0.37276256728258017, 0.18529196554597027, 0.034471069592882805, -0.07662888239509257, -0.1263641974653925, -0.035537267309825524, 0.38900815283034, -0.4330187804162073, -0.0054250987418622025, 0.8907698646510108, 0.6477001424683195, 0.38330745014273526, 0.0661222708071363, 0.9124366585246803, 1.0379458366207979, 1.1891222990791055, 1.04002645471519, 0.14374161743626568], [0.8592522051127849, 0.7351395618525394, 0.9715920404228606, -0.9982783671952338, -0.6433563825604204, 0.5555803477825954, 1.73759865557381, 2.6645955107222283, 2.4334041205680563, 2.1567119636424246, 1.8860421672736007, 1.5522796350885686, 1.249978341513174, 0.9505207821567191, 0.6593937679173971, 0.33987609978933475, 2.076564653510501, 2.2846860992290283, 2.2581608098132007, 2.088151456151501, 1.8436544221326867, 1.5538220094953055, 1.2204354231959167, 0.8262498083763444, 0.35619790240115395, -0.17755448738839957, -1.1380366288159474, -0.9577830542101977, -0.8648604656612808, -0.7986613169177375, -0.7305831894533866, -0.649558224345013, -0.5518994373264355, -0.44898826603978953, -0.3761481623871345, -0.3821642762618642, 2.0974918255125634, 0.08524332561553997, -0.34422521152260466, -0.9388300131458427, 0.023851834059157126, -0.010172843510968322, 0.3826177529025889, -0.547545643407022, 0.03145404685404013, -0.10973398724273654, -0.13105985361677383, 0.11859554039954412, 0.359298992054195, 0.5159809111116544, 0.6621355726876159, 0.81900099308567, 0.9885438098292112, 0.7309701930650448, 0.1988633120552376, 0.366282284726118, 0.45963733048098276, 0.5558486874768566, 0.6746173685392519, 0.8241313717682355, 1.0131157503454862, 1.225723897118997, 1.3975945653152442, 1.4074243462881582, -0.2628652374214213, 0.15490286756608398, 0.8534992011215905, 1.6387052494828502, 1.8497214731165157, 1.6989292803546763, 1.3824334066294106, 0.934281277112083, 0.3479655682724184, -0.39172812950921726, 0.16646656866642254, -0.39132123263258384, -1.1899202022697033, 0.25750689206734567, -0.3423122901342736, 0.36325862931852304, -0.8919080871292585, -0.5378682763706432, -0.4629265279203353, -0.661931469636941, -0.8357082253740126, -0.9674445154102451, -0.8704757303533334, -0.42413030783082845, -0.07797920240588974, 0.3346678618741282, 0.5052238817339837, 0.5843852093515987, 1.3211201058245143, 1.7876478044119064, 2.0282457730031114, 1.773065850007473, 1.3645920954359805, 0.9033994337929725, 0.41031991515328575, -0.11241674240586808, -0.6295529101766408, -0.8788417224390842, -0.1205487847832581, -0.3708740987410377, -0.7496362223162164, -0.9089965107596165, -0.6255748709982206, -0.10010840656772615, 0.28572575184961435, 0.5207741901716973, 0.6011763220082629, 0.4888676019080637, 0.4729563893286367, -0.29787231050221386, -0.24853438477697795, -0.5279205601132655, -0.6478167835215355, -0.19523018143018728, 0.2664936669666163, 0.39880979328741684, 0.4275515073697638, 0.32933345144571524, -0.025907473048814245, -0.4203621237465711, 0.09140294482952013, -0.11751333459835463, -0.284151102629982, -0.3526512189622361, -0.29512900695112143, -0.17911513568952886, -0.28208118622976236, -0.5517468681087219, -0.7930170840106607, -0.6542174317089178, -0.36445669287046434, -0.610736859755002, -0.7049559634847467, -0.7130052535159312, -0.6806069621233529, -0.6316862202171033, -0.5793103928324592, -0.5332891362327132, -0.5087170450051277, -0.5474989322773327, -0.5435966303204439, 1.0596247576274769, 1.0591667010056027, 0.7553686255140576, 0.2803712127888774, -0.23370536226316024, 0.13551285342535146, 0.14160939565656955, 0.5629609583551214, 0.5209412763409903, -0.01849281339699542], [0.8745364328676228, 1.3415851194087822, 0.1801171257271052, 0.12331355925465487, 0.6867381294554293, -0.5601901253492679, -0.3211494807701205, 0.07041828007116571, 0.2852656776661557, 0.3796100569060194, 0.3795916808778228, 0.3120621511697046, 0.36481188894950367, 0.2431705598153197, 0.10942867015937272, 0.10756891687357523, 0.18228728210287, 0.01828011271917273, 0.0029248488395486644, 0.15533940389049503, 0.4217430693823998, 0.627485079742761, 0.6803756002701183, 0.6335817414975041, 0.6119928049865319, 0.8644755741339899, -0.8825974649647779, -0.8363226227169847, -0.8246980890023383, -0.8020042263850132, -0.7909331939627832, -0.8144585578842268, -0.8444787701819636, -0.8409683025800633, -0.830269202287086, -0.8829311551539869, 1.0782812039347875, 0.4756515789659355, 0.23889343593946488, 0.00740733118417024, -0.06181060436025487, -0.3734284578583255, -0.7000571403140833, -0.912476147085807, -0.16940370524157236, 0.473036338041128, 0.9298924984374074, 1.0216108074383852, 1.0741536791447417, 1.040462634905126, 1.0027607203103261, 0.9477299001182335, 0.9082099115521793, 0.88028657406116, 0.1147029456782004, -0.06200779507537493, -0.1010801794356238, -0.07065689368646902, -0.018218618282157983, 0.023818121498515827, 0.04072391280106619, 0.017733292310100356, -0.05735620198907968, -0.20066779482200214, 2.056491005006799, 1.7527001317244022, 1.3351355155864888, 0.8933038188513291, 0.4526331984535051, 0.009188400146126591, -0.44783187037957056, -0.9233956717902433, -1.4085402597391061, -1.8937366024014828, 0.12576441762708096, 0.2596280280112669, 1.3561059555042536, 0.7329014081204305, 0.5702291904845546, 1.8463068923647972, 0.14100156295493022, -0.5237181654577789, -0.47316868466571727, -0.13650534829217326, -0.02500084210584445, -0.1885009856555065, -0.27983563441496173, -0.29605396226778224, -0.20825257983186762, -0.056330250791825624, 0.26081873401882627, 0.5546464664049943, -0.15409501141339435, -0.005847840671882212, -0.07531151697568964, -0.33724896858761017, -0.5795865743237965, -0.6881755485231696, -0.6154377446497893, -0.5095267458599857, -0.4036219364919759, -0.23076409177799742, 0.9362679257949239, 0.35556250595942684, -0.05921827419548093, -0.0925779973502441, 0.4850566260301071, 0.7223621740619135, 0.6866743306671984, 0.48319591213298424, 0.13142076742272907, -0.37905956104149646, -0.22107461766997974, 0.04788931824411982, 1.0208143836711023, 1.5244794259496302, 2.2238996997880394, 2.4898331771438404, 2.4446734563474553, 2.240439260210686, 2.0180581156428903, 1.813128349092885, 1.65187156498483, 1.6252644863785828, -1.530109725910733, -1.67535303640047, -1.5752928744394228, -1.327256680215278, -0.9907990572197599, -0.5824636585265572, -0.1632373909293854, -0.009127872543129441, -0.13787138404443963, -0.26459511220689136, 0.5296227063102803, 0.5017173863190065, 0.4791575733737866, 0.5350952724155635, 0.6582228327780172, 0.8082499727003096, 0.9591277632213788, 1.0834495362832024, 1.1277462348744054, 1.0209365432832134, 0.11782415023581891, -0.2806427365157287, -0.7222270636963698, -0.37620307352327725, 0.0603940502202781, -0.13066842494622724, 0.10102406432544321, -0.07812083425523454, -0.3533731356505146, -0.6369740223379372, 2.6941922869199275]]\n"
     ]
    }
   ],
   "execution_count": 352
  },
  {
   "metadata": {
    "ExecuteTime": {
     "end_time": "2025-05-08T09:20:22.350919Z",
     "start_time": "2025-05-08T09:20:22.349064Z"
    }
   },
   "cell_type": "code",
   "source": "",
   "id": "7aa6fdee4138a554",
   "outputs": [],
   "execution_count": 352
  },
  {
   "metadata": {
    "ExecuteTime": {
     "end_time": "2025-05-08T09:20:22.353555Z",
     "start_time": "2025-05-08T09:20:22.351921Z"
    }
   },
   "cell_type": "code",
   "source": "",
   "id": "504ce82166e4c7b7",
   "outputs": [],
   "execution_count": 352
  }
 ],
 "metadata": {
  "kernelspec": {
   "display_name": "Python 3 (ipykernel)",
   "language": "python",
   "name": "python3"
  },
  "language_info": {
   "codemirror_mode": {
    "name": "ipython",
    "version": 3
   },
   "file_extension": ".py",
   "mimetype": "text/x-python",
   "name": "python",
   "nbconvert_exporter": "python",
   "pygments_lexer": "ipython3",
   "version": "3.12.4"
  }
 },
 "nbformat": 4,
 "nbformat_minor": 5
}
