{
 "cells": [
  {
   "cell_type": "code",
   "id": "927340084fb5f5bd",
   "metadata": {
    "ExecuteTime": {
     "end_time": "2025-04-30T02:15:01.222100Z",
     "start_time": "2025-04-30T02:15:01.217364Z"
    }
   },
   "source": [
    "import numpy\n",
    "from etrade.spot.trader import Station\n",
    "from etrade.spot.market.recycle import BasicRecycle, PointwiseRecycle\n",
    "from etrade.spot.forecast.market import DistributiveSeries, DistributiveMarket\n",
    "from etrade.spot.forecast.plan_a.constructor import *\n",
    "from etrade.spot.forecast.plan_a.transformer import MarketSampleTransformer, MarketSampleDataset\n",
    "from etrade.spot.forecast.yieldindex import zero_quantile\n",
    "from etrade.spot.forecast import yieldindex\n",
    "from  data_utils.stochastic_utils.vdistributions.abstract import AbstractDistribution\n",
    "from  data_utils.stochastic_utils.vdistributions.parameter.continuous.basic import NormalDistribution, SkewNormalDistribution\n",
    "from data_utils.stochastic_utils.vdistributions.nonparametric.continuous.kernel2 import KernelMixDistribution\n",
    "from data_utils.stochastic_utils.vdistributions.tools.divergence import kl_divergence_continuous, crps, quantile_RMSE\n",
    "\n",
    "from data_utils.stochastic_utils.vdistributions.nonparametric.continuous.mfk.skewnd2 import dof_snd_fitter\n",
    "\n",
    "from scipy.optimize import differential_evolution\n",
    "\n",
    "from matplotlib import pyplot\n",
    "import json\n",
    "\n",
    "import torch\n",
    "from torch import nn\n",
    "import torch.optim as optim\n",
    "from torch.utils.data import Dataset, DataLoader"
   ],
   "outputs": [],
   "execution_count": 116
  },
  {
   "cell_type": "code",
   "id": "initial_id",
   "metadata": {
    "ExecuteTime": {
     "end_time": "2025-04-30T02:15:01.268843Z",
     "start_time": "2025-04-30T02:15:01.233112Z"
    }
   },
   "source": [
    "\n",
    "with open(r\"..\\forecast\\plan_a\\data\\market_simulator_3.json\", \"r\") as f:\n",
    "    train_data = json.loads(f.read())\n",
    "    \n",
    "with open(r\"..\\forecast\\plan_a\\data\\market_simulator_4.json\", \"r\") as f:\n",
    "    test_data = json.loads(f.read())"
   ],
   "outputs": [],
   "execution_count": 117
  },
  {
   "cell_type": "code",
   "id": "2302659a31e1b540",
   "metadata": {
    "ExecuteTime": {
     "end_time": "2025-04-30T02:15:01.276260Z",
     "start_time": "2025-04-30T02:15:01.269845Z"
    }
   },
   "source": [
    "train_data =numpy.asarray(train_data[\"data\"])\n",
    "test_data =numpy.asarray(test_data[\"data\"])"
   ],
   "outputs": [],
   "execution_count": 118
  },
  {
   "cell_type": "code",
   "id": "6d56030ef98a2bb9",
   "metadata": {
    "ExecuteTime": {
     "end_time": "2025-04-30T02:15:01.281447Z",
     "start_time": "2025-04-30T02:15:01.277263Z"
    }
   },
   "source": [
    "market_len = 1\n",
    "# l = 3 * market_len + market_len\n",
    "l = market_len * 3 + market_len * (5-0) * 3\n",
    "def zscore_p(x):\n",
    "    x = numpy.asarray(x)\n",
    "    m = numpy.mean(x, axis=0)\n",
    "    s = numpy.std(x, ddof=1, axis=0)\n",
    "    return m,s\n",
    "\n",
    "def zscore(x, m, s):\n",
    "    x = numpy.asarray(x)\n",
    "    m = numpy.asarray(m)\n",
    "    s = numpy.asarray(s)\n",
    "    # return numpy.column_stack((\n",
    "    #         (x[:,:l]-m[:l]) / s[:l], x[:,l]\n",
    "    # ))\n",
    "    return (x-m) / s\n",
    "\n",
    "def minmax_p(x):\n",
    "    x = numpy.asarray(x)\n",
    "    mmax = numpy.max(x, axis=0)\n",
    "    mmin = numpy.min(x, axis=0)\n",
    "    return mmin, mmax\n",
    "\n",
    "def minmax(x, mmin, mmax):\n",
    "    x = numpy.asarray(x)\n",
    "    mmin = numpy.asarray(mmin)\n",
    "    mmax = numpy.asarray(mmax)\n",
    "    return (x-mmin) / (mmax-mmin)\n",
    "    # return numpy.column_stack((\n",
    "    #         (x[:,:l]-mmin[:l]) / (mmax[:l]-mmin[:l]), x[:,l]\n",
    "    # ))\n",
    "    \n",
    "print(l)\n",
    "    "
   ],
   "outputs": [
    {
     "name": "stdout",
     "output_type": "stream",
     "text": [
      "18\n"
     ]
    }
   ],
   "execution_count": 119
  },
  {
   "cell_type": "code",
   "id": "4fe1c6779ebf759b",
   "metadata": {
    "ExecuteTime": {
     "end_time": "2025-04-30T02:15:01.296172Z",
     "start_time": "2025-04-30T02:15:01.291458Z"
    }
   },
   "source": [
    "m,s= zscore_p(train_data)\n",
    "zscored_t = zscore(train_data, m, s)\n",
    "zscored_x = zscore(test_data, m, s)\n",
    "\n",
    "mmin,mmax = minmax_p(train_data)\n",
    "minmaxed_t = minmax(train_data, mmin, mmax)\n",
    "minmaxed_x = minmax(test_data, mmin, mmax)\n",
    "\n",
    "print(zscored_t.shape)"
   ],
   "outputs": [
    {
     "name": "stdout",
     "output_type": "stream",
     "text": [
      "(3000, 19)\n"
     ]
    }
   ],
   "execution_count": 120
  },
  {
   "cell_type": "code",
   "id": "ba1bfd56948c3c24",
   "metadata": {
    "ExecuteTime": {
     "end_time": "2025-04-30T02:15:03.786345Z",
     "start_time": "2025-04-30T02:15:01.297175Z"
    }
   },
   "source": [
    "from sklearn.neural_network import MLPRegressor\n",
    "from sklearn.ensemble import GradientBoostingRegressor, RandomForestRegressor\n",
    "from sklearn.svm import SVR\n",
    "from sklearn.linear_model import LinearRegression\n",
    "from sklearn.kernel_ridge import KernelRidge\n",
    "p = MLPRegressor(\n",
    "    hidden_layer_sizes=[50] * 4,\n",
    "    activation=\"relu\",\n",
    "    solver=\"lbfgs\",\n",
    "    # alpha=1e-3,\n",
    "    # learning_rate_init=1e-3\n",
    ")\n",
    "# p = RandomForestRegressor(\n",
    "#     # alpha=0.999\n",
    "# )\n",
    "# p = SVR(\n",
    "#     # alpha=1\n",
    "# )\n",
    "p.fit(\n",
    "    zscored_t[:,:l],\n",
    "    zscored_t[:,l]\n",
    ")"
   ],
   "outputs": [
    {
     "name": "stderr",
     "output_type": "stream",
     "text": [
      "C:\\Users\\sangsiyuan\\AppData\\Roaming\\Python\\Python312\\site-packages\\sklearn\\neural_network\\_multilayer_perceptron.py:545: ConvergenceWarning: lbfgs failed to converge (status=1):\n",
      "STOP: TOTAL NO. of ITERATIONS REACHED LIMIT.\n",
      "\n",
      "Increase the number of iterations (max_iter) or scale the data as shown in:\n",
      "    https://scikit-learn.org/stable/modules/preprocessing.html\n",
      "  self.n_iter_ = _check_optimize_result(\"lbfgs\", opt_res, self.max_iter)\n"
     ]
    },
    {
     "data": {
      "text/plain": [
       "MLPRegressor(hidden_layer_sizes=[50, 50, 50, 50], solver='lbfgs')"
      ],
      "text/html": [
       "<style>#sk-container-id-7 {\n",
       "  /* Definition of color scheme common for light and dark mode */\n",
       "  --sklearn-color-text: black;\n",
       "  --sklearn-color-line: gray;\n",
       "  /* Definition of color scheme for unfitted estimators */\n",
       "  --sklearn-color-unfitted-level-0: #fff5e6;\n",
       "  --sklearn-color-unfitted-level-1: #f6e4d2;\n",
       "  --sklearn-color-unfitted-level-2: #ffe0b3;\n",
       "  --sklearn-color-unfitted-level-3: chocolate;\n",
       "  /* Definition of color scheme for fitted estimators */\n",
       "  --sklearn-color-fitted-level-0: #f0f8ff;\n",
       "  --sklearn-color-fitted-level-1: #d4ebff;\n",
       "  --sklearn-color-fitted-level-2: #b3dbfd;\n",
       "  --sklearn-color-fitted-level-3: cornflowerblue;\n",
       "\n",
       "  /* Specific color for light theme */\n",
       "  --sklearn-color-text-on-default-background: var(--sg-text-color, var(--theme-code-foreground, var(--jp-content-font-color1, black)));\n",
       "  --sklearn-color-background: var(--sg-background-color, var(--theme-background, var(--jp-layout-color0, white)));\n",
       "  --sklearn-color-border-box: var(--sg-text-color, var(--theme-code-foreground, var(--jp-content-font-color1, black)));\n",
       "  --sklearn-color-icon: #696969;\n",
       "\n",
       "  @media (prefers-color-scheme: dark) {\n",
       "    /* Redefinition of color scheme for dark theme */\n",
       "    --sklearn-color-text-on-default-background: var(--sg-text-color, var(--theme-code-foreground, var(--jp-content-font-color1, white)));\n",
       "    --sklearn-color-background: var(--sg-background-color, var(--theme-background, var(--jp-layout-color0, #111)));\n",
       "    --sklearn-color-border-box: var(--sg-text-color, var(--theme-code-foreground, var(--jp-content-font-color1, white)));\n",
       "    --sklearn-color-icon: #878787;\n",
       "  }\n",
       "}\n",
       "\n",
       "#sk-container-id-7 {\n",
       "  color: var(--sklearn-color-text);\n",
       "}\n",
       "\n",
       "#sk-container-id-7 pre {\n",
       "  padding: 0;\n",
       "}\n",
       "\n",
       "#sk-container-id-7 input.sk-hidden--visually {\n",
       "  border: 0;\n",
       "  clip: rect(1px 1px 1px 1px);\n",
       "  clip: rect(1px, 1px, 1px, 1px);\n",
       "  height: 1px;\n",
       "  margin: -1px;\n",
       "  overflow: hidden;\n",
       "  padding: 0;\n",
       "  position: absolute;\n",
       "  width: 1px;\n",
       "}\n",
       "\n",
       "#sk-container-id-7 div.sk-dashed-wrapped {\n",
       "  border: 1px dashed var(--sklearn-color-line);\n",
       "  margin: 0 0.4em 0.5em 0.4em;\n",
       "  box-sizing: border-box;\n",
       "  padding-bottom: 0.4em;\n",
       "  background-color: var(--sklearn-color-background);\n",
       "}\n",
       "\n",
       "#sk-container-id-7 div.sk-container {\n",
       "  /* jupyter's `normalize.less` sets `[hidden] { display: none; }`\n",
       "     but bootstrap.min.css set `[hidden] { display: none !important; }`\n",
       "     so we also need the `!important` here to be able to override the\n",
       "     default hidden behavior on the sphinx rendered scikit-learn.org.\n",
       "     See: https://github.com/scikit-learn/scikit-learn/issues/21755 */\n",
       "  display: inline-block !important;\n",
       "  position: relative;\n",
       "}\n",
       "\n",
       "#sk-container-id-7 div.sk-text-repr-fallback {\n",
       "  display: none;\n",
       "}\n",
       "\n",
       "div.sk-parallel-item,\n",
       "div.sk-serial,\n",
       "div.sk-item {\n",
       "  /* draw centered vertical line to link estimators */\n",
       "  background-image: linear-gradient(var(--sklearn-color-text-on-default-background), var(--sklearn-color-text-on-default-background));\n",
       "  background-size: 2px 100%;\n",
       "  background-repeat: no-repeat;\n",
       "  background-position: center center;\n",
       "}\n",
       "\n",
       "/* Parallel-specific style estimator block */\n",
       "\n",
       "#sk-container-id-7 div.sk-parallel-item::after {\n",
       "  content: \"\";\n",
       "  width: 100%;\n",
       "  border-bottom: 2px solid var(--sklearn-color-text-on-default-background);\n",
       "  flex-grow: 1;\n",
       "}\n",
       "\n",
       "#sk-container-id-7 div.sk-parallel {\n",
       "  display: flex;\n",
       "  align-items: stretch;\n",
       "  justify-content: center;\n",
       "  background-color: var(--sklearn-color-background);\n",
       "  position: relative;\n",
       "}\n",
       "\n",
       "#sk-container-id-7 div.sk-parallel-item {\n",
       "  display: flex;\n",
       "  flex-direction: column;\n",
       "}\n",
       "\n",
       "#sk-container-id-7 div.sk-parallel-item:first-child::after {\n",
       "  align-self: flex-end;\n",
       "  width: 50%;\n",
       "}\n",
       "\n",
       "#sk-container-id-7 div.sk-parallel-item:last-child::after {\n",
       "  align-self: flex-start;\n",
       "  width: 50%;\n",
       "}\n",
       "\n",
       "#sk-container-id-7 div.sk-parallel-item:only-child::after {\n",
       "  width: 0;\n",
       "}\n",
       "\n",
       "/* Serial-specific style estimator block */\n",
       "\n",
       "#sk-container-id-7 div.sk-serial {\n",
       "  display: flex;\n",
       "  flex-direction: column;\n",
       "  align-items: center;\n",
       "  background-color: var(--sklearn-color-background);\n",
       "  padding-right: 1em;\n",
       "  padding-left: 1em;\n",
       "}\n",
       "\n",
       "\n",
       "/* Toggleable style: style used for estimator/Pipeline/ColumnTransformer box that is\n",
       "clickable and can be expanded/collapsed.\n",
       "- Pipeline and ColumnTransformer use this feature and define the default style\n",
       "- Estimators will overwrite some part of the style using the `sk-estimator` class\n",
       "*/\n",
       "\n",
       "/* Pipeline and ColumnTransformer style (default) */\n",
       "\n",
       "#sk-container-id-7 div.sk-toggleable {\n",
       "  /* Default theme specific background. It is overwritten whether we have a\n",
       "  specific estimator or a Pipeline/ColumnTransformer */\n",
       "  background-color: var(--sklearn-color-background);\n",
       "}\n",
       "\n",
       "/* Toggleable label */\n",
       "#sk-container-id-7 label.sk-toggleable__label {\n",
       "  cursor: pointer;\n",
       "  display: block;\n",
       "  width: 100%;\n",
       "  margin-bottom: 0;\n",
       "  padding: 0.5em;\n",
       "  box-sizing: border-box;\n",
       "  text-align: center;\n",
       "}\n",
       "\n",
       "#sk-container-id-7 label.sk-toggleable__label-arrow:before {\n",
       "  /* Arrow on the left of the label */\n",
       "  content: \"▸\";\n",
       "  float: left;\n",
       "  margin-right: 0.25em;\n",
       "  color: var(--sklearn-color-icon);\n",
       "}\n",
       "\n",
       "#sk-container-id-7 label.sk-toggleable__label-arrow:hover:before {\n",
       "  color: var(--sklearn-color-text);\n",
       "}\n",
       "\n",
       "/* Toggleable content - dropdown */\n",
       "\n",
       "#sk-container-id-7 div.sk-toggleable__content {\n",
       "  max-height: 0;\n",
       "  max-width: 0;\n",
       "  overflow: hidden;\n",
       "  text-align: left;\n",
       "  /* unfitted */\n",
       "  background-color: var(--sklearn-color-unfitted-level-0);\n",
       "}\n",
       "\n",
       "#sk-container-id-7 div.sk-toggleable__content.fitted {\n",
       "  /* fitted */\n",
       "  background-color: var(--sklearn-color-fitted-level-0);\n",
       "}\n",
       "\n",
       "#sk-container-id-7 div.sk-toggleable__content pre {\n",
       "  margin: 0.2em;\n",
       "  border-radius: 0.25em;\n",
       "  color: var(--sklearn-color-text);\n",
       "  /* unfitted */\n",
       "  background-color: var(--sklearn-color-unfitted-level-0);\n",
       "}\n",
       "\n",
       "#sk-container-id-7 div.sk-toggleable__content.fitted pre {\n",
       "  /* unfitted */\n",
       "  background-color: var(--sklearn-color-fitted-level-0);\n",
       "}\n",
       "\n",
       "#sk-container-id-7 input.sk-toggleable__control:checked~div.sk-toggleable__content {\n",
       "  /* Expand drop-down */\n",
       "  max-height: 200px;\n",
       "  max-width: 100%;\n",
       "  overflow: auto;\n",
       "}\n",
       "\n",
       "#sk-container-id-7 input.sk-toggleable__control:checked~label.sk-toggleable__label-arrow:before {\n",
       "  content: \"▾\";\n",
       "}\n",
       "\n",
       "/* Pipeline/ColumnTransformer-specific style */\n",
       "\n",
       "#sk-container-id-7 div.sk-label input.sk-toggleable__control:checked~label.sk-toggleable__label {\n",
       "  color: var(--sklearn-color-text);\n",
       "  background-color: var(--sklearn-color-unfitted-level-2);\n",
       "}\n",
       "\n",
       "#sk-container-id-7 div.sk-label.fitted input.sk-toggleable__control:checked~label.sk-toggleable__label {\n",
       "  background-color: var(--sklearn-color-fitted-level-2);\n",
       "}\n",
       "\n",
       "/* Estimator-specific style */\n",
       "\n",
       "/* Colorize estimator box */\n",
       "#sk-container-id-7 div.sk-estimator input.sk-toggleable__control:checked~label.sk-toggleable__label {\n",
       "  /* unfitted */\n",
       "  background-color: var(--sklearn-color-unfitted-level-2);\n",
       "}\n",
       "\n",
       "#sk-container-id-7 div.sk-estimator.fitted input.sk-toggleable__control:checked~label.sk-toggleable__label {\n",
       "  /* fitted */\n",
       "  background-color: var(--sklearn-color-fitted-level-2);\n",
       "}\n",
       "\n",
       "#sk-container-id-7 div.sk-label label.sk-toggleable__label,\n",
       "#sk-container-id-7 div.sk-label label {\n",
       "  /* The background is the default theme color */\n",
       "  color: var(--sklearn-color-text-on-default-background);\n",
       "}\n",
       "\n",
       "/* On hover, darken the color of the background */\n",
       "#sk-container-id-7 div.sk-label:hover label.sk-toggleable__label {\n",
       "  color: var(--sklearn-color-text);\n",
       "  background-color: var(--sklearn-color-unfitted-level-2);\n",
       "}\n",
       "\n",
       "/* Label box, darken color on hover, fitted */\n",
       "#sk-container-id-7 div.sk-label.fitted:hover label.sk-toggleable__label.fitted {\n",
       "  color: var(--sklearn-color-text);\n",
       "  background-color: var(--sklearn-color-fitted-level-2);\n",
       "}\n",
       "\n",
       "/* Estimator label */\n",
       "\n",
       "#sk-container-id-7 div.sk-label label {\n",
       "  font-family: monospace;\n",
       "  font-weight: bold;\n",
       "  display: inline-block;\n",
       "  line-height: 1.2em;\n",
       "}\n",
       "\n",
       "#sk-container-id-7 div.sk-label-container {\n",
       "  text-align: center;\n",
       "}\n",
       "\n",
       "/* Estimator-specific */\n",
       "#sk-container-id-7 div.sk-estimator {\n",
       "  font-family: monospace;\n",
       "  border: 1px dotted var(--sklearn-color-border-box);\n",
       "  border-radius: 0.25em;\n",
       "  box-sizing: border-box;\n",
       "  margin-bottom: 0.5em;\n",
       "  /* unfitted */\n",
       "  background-color: var(--sklearn-color-unfitted-level-0);\n",
       "}\n",
       "\n",
       "#sk-container-id-7 div.sk-estimator.fitted {\n",
       "  /* fitted */\n",
       "  background-color: var(--sklearn-color-fitted-level-0);\n",
       "}\n",
       "\n",
       "/* on hover */\n",
       "#sk-container-id-7 div.sk-estimator:hover {\n",
       "  /* unfitted */\n",
       "  background-color: var(--sklearn-color-unfitted-level-2);\n",
       "}\n",
       "\n",
       "#sk-container-id-7 div.sk-estimator.fitted:hover {\n",
       "  /* fitted */\n",
       "  background-color: var(--sklearn-color-fitted-level-2);\n",
       "}\n",
       "\n",
       "/* Specification for estimator info (e.g. \"i\" and \"?\") */\n",
       "\n",
       "/* Common style for \"i\" and \"?\" */\n",
       "\n",
       ".sk-estimator-doc-link,\n",
       "a:link.sk-estimator-doc-link,\n",
       "a:visited.sk-estimator-doc-link {\n",
       "  float: right;\n",
       "  font-size: smaller;\n",
       "  line-height: 1em;\n",
       "  font-family: monospace;\n",
       "  background-color: var(--sklearn-color-background);\n",
       "  border-radius: 1em;\n",
       "  height: 1em;\n",
       "  width: 1em;\n",
       "  text-decoration: none !important;\n",
       "  margin-left: 1ex;\n",
       "  /* unfitted */\n",
       "  border: var(--sklearn-color-unfitted-level-1) 1pt solid;\n",
       "  color: var(--sklearn-color-unfitted-level-1);\n",
       "}\n",
       "\n",
       ".sk-estimator-doc-link.fitted,\n",
       "a:link.sk-estimator-doc-link.fitted,\n",
       "a:visited.sk-estimator-doc-link.fitted {\n",
       "  /* fitted */\n",
       "  border: var(--sklearn-color-fitted-level-1) 1pt solid;\n",
       "  color: var(--sklearn-color-fitted-level-1);\n",
       "}\n",
       "\n",
       "/* On hover */\n",
       "div.sk-estimator:hover .sk-estimator-doc-link:hover,\n",
       ".sk-estimator-doc-link:hover,\n",
       "div.sk-label-container:hover .sk-estimator-doc-link:hover,\n",
       ".sk-estimator-doc-link:hover {\n",
       "  /* unfitted */\n",
       "  background-color: var(--sklearn-color-unfitted-level-3);\n",
       "  color: var(--sklearn-color-background);\n",
       "  text-decoration: none;\n",
       "}\n",
       "\n",
       "div.sk-estimator.fitted:hover .sk-estimator-doc-link.fitted:hover,\n",
       ".sk-estimator-doc-link.fitted:hover,\n",
       "div.sk-label-container:hover .sk-estimator-doc-link.fitted:hover,\n",
       ".sk-estimator-doc-link.fitted:hover {\n",
       "  /* fitted */\n",
       "  background-color: var(--sklearn-color-fitted-level-3);\n",
       "  color: var(--sklearn-color-background);\n",
       "  text-decoration: none;\n",
       "}\n",
       "\n",
       "/* Span, style for the box shown on hovering the info icon */\n",
       ".sk-estimator-doc-link span {\n",
       "  display: none;\n",
       "  z-index: 9999;\n",
       "  position: relative;\n",
       "  font-weight: normal;\n",
       "  right: .2ex;\n",
       "  padding: .5ex;\n",
       "  margin: .5ex;\n",
       "  width: min-content;\n",
       "  min-width: 20ex;\n",
       "  max-width: 50ex;\n",
       "  color: var(--sklearn-color-text);\n",
       "  box-shadow: 2pt 2pt 4pt #999;\n",
       "  /* unfitted */\n",
       "  background: var(--sklearn-color-unfitted-level-0);\n",
       "  border: .5pt solid var(--sklearn-color-unfitted-level-3);\n",
       "}\n",
       "\n",
       ".sk-estimator-doc-link.fitted span {\n",
       "  /* fitted */\n",
       "  background: var(--sklearn-color-fitted-level-0);\n",
       "  border: var(--sklearn-color-fitted-level-3);\n",
       "}\n",
       "\n",
       ".sk-estimator-doc-link:hover span {\n",
       "  display: block;\n",
       "}\n",
       "\n",
       "/* \"?\"-specific style due to the `<a>` HTML tag */\n",
       "\n",
       "#sk-container-id-7 a.estimator_doc_link {\n",
       "  float: right;\n",
       "  font-size: 1rem;\n",
       "  line-height: 1em;\n",
       "  font-family: monospace;\n",
       "  background-color: var(--sklearn-color-background);\n",
       "  border-radius: 1rem;\n",
       "  height: 1rem;\n",
       "  width: 1rem;\n",
       "  text-decoration: none;\n",
       "  /* unfitted */\n",
       "  color: var(--sklearn-color-unfitted-level-1);\n",
       "  border: var(--sklearn-color-unfitted-level-1) 1pt solid;\n",
       "}\n",
       "\n",
       "#sk-container-id-7 a.estimator_doc_link.fitted {\n",
       "  /* fitted */\n",
       "  border: var(--sklearn-color-fitted-level-1) 1pt solid;\n",
       "  color: var(--sklearn-color-fitted-level-1);\n",
       "}\n",
       "\n",
       "/* On hover */\n",
       "#sk-container-id-7 a.estimator_doc_link:hover {\n",
       "  /* unfitted */\n",
       "  background-color: var(--sklearn-color-unfitted-level-3);\n",
       "  color: var(--sklearn-color-background);\n",
       "  text-decoration: none;\n",
       "}\n",
       "\n",
       "#sk-container-id-7 a.estimator_doc_link.fitted:hover {\n",
       "  /* fitted */\n",
       "  background-color: var(--sklearn-color-fitted-level-3);\n",
       "}\n",
       "</style><div id=\"sk-container-id-7\" class=\"sk-top-container\"><div class=\"sk-text-repr-fallback\"><pre>MLPRegressor(hidden_layer_sizes=[50, 50, 50, 50], solver=&#x27;lbfgs&#x27;)</pre><b>In a Jupyter environment, please rerun this cell to show the HTML representation or trust the notebook. <br />On GitHub, the HTML representation is unable to render, please try loading this page with nbviewer.org.</b></div><div class=\"sk-container\" hidden><div class=\"sk-item\"><div class=\"sk-estimator fitted sk-toggleable\"><input class=\"sk-toggleable__control sk-hidden--visually\" id=\"sk-estimator-id-7\" type=\"checkbox\" checked><label for=\"sk-estimator-id-7\" class=\"sk-toggleable__label fitted sk-toggleable__label-arrow fitted\">&nbsp;&nbsp;MLPRegressor<a class=\"sk-estimator-doc-link fitted\" rel=\"noreferrer\" target=\"_blank\" href=\"https://scikit-learn.org/1.5/modules/generated/sklearn.neural_network.MLPRegressor.html\">?<span>Documentation for MLPRegressor</span></a><span class=\"sk-estimator-doc-link fitted\">i<span>Fitted</span></span></label><div class=\"sk-toggleable__content fitted\"><pre>MLPRegressor(hidden_layer_sizes=[50, 50, 50, 50], solver=&#x27;lbfgs&#x27;)</pre></div> </div></div></div></div>"
      ]
     },
     "execution_count": 121,
     "metadata": {},
     "output_type": "execute_result"
    }
   ],
   "execution_count": 121
  },
  {
   "cell_type": "code",
   "id": "19abdf8e81c5732c",
   "metadata": {
    "ExecuteTime": {
     "end_time": "2025-04-30T02:15:03.884502Z",
     "start_time": "2025-04-30T02:15:03.787373Z"
    }
   },
   "source": [
    "\n",
    "pyplot.plot(zscored_t[:,l], alpha=0.5)\n",
    "pyplot.plot(p.predict(zscored_t[:,:l]), alpha=0.5)"
   ],
   "outputs": [
    {
     "data": {
      "text/plain": [
       "[<matplotlib.lines.Line2D at 0x22ca9d50920>]"
      ]
     },
     "execution_count": 122,
     "metadata": {},
     "output_type": "execute_result"
    },
    {
     "data": {
      "text/plain": [
       "<Figure size 640x480 with 1 Axes>"
      ],
      "image/png": "[encoded data removed]"
     },
     "metadata": {},
     "output_type": "display_data"
    }
   ],
   "execution_count": 122
  },
  {
   "cell_type": "code",
   "id": "f10873cd315e28e0",
   "metadata": {
    "ExecuteTime": {
     "end_time": "2025-04-30T02:15:03.973780Z",
     "start_time": "2025-04-30T02:15:03.884502Z"
    }
   },
   "source": [
    "\n",
    "pyplot.plot(zscored_x[:,l], alpha=0.5)\n",
    "pyplot.plot(p.predict(zscored_x[:,:l]), alpha=0.5)"
   ],
   "outputs": [
    {
     "data": {
      "text/plain": [
       "[<matplotlib.lines.Line2D at 0x22ca9d9db20>]"
      ]
     },
     "execution_count": 123,
     "metadata": {},
     "output_type": "execute_result"
    },
    {
     "data": {
      "text/plain": [
       "<Figure size 640x480 with 1 Axes>"
      ],
      "image/png": "[encoded data removed]"
     },
     "metadata": {},
     "output_type": "display_data"
    }
   ],
   "execution_count": 123
  },
  {
   "cell_type": "code",
   "id": "3e1045d4d5441768",
   "metadata": {
    "ExecuteTime": {
     "end_time": "2025-04-30T02:15:03.979805Z",
     "start_time": "2025-04-30T02:15:03.975325Z"
    }
   },
   "source": "p.score(zscored_x[:,:l], zscored_x[:,l])",
   "outputs": [
    {
     "data": {
      "text/plain": [
       "0.5056881558166602"
      ]
     },
     "execution_count": 124,
     "metadata": {},
     "output_type": "execute_result"
    }
   ],
   "execution_count": 124
  },
  {
   "cell_type": "code",
   "id": "5462dfd6e236689",
   "metadata": {
    "ExecuteTime": {
     "end_time": "2025-04-30T02:15:03.987542Z",
     "start_time": "2025-04-30T02:15:03.979805Z"
    }
   },
   "source": "p.score(zscored_t[:,:l], zscored_t[:,l])",
   "outputs": [
    {
     "data": {
      "text/plain": [
       "0.9396184746163972"
      ]
     },
     "execution_count": 125,
     "metadata": {},
     "output_type": "execute_result"
    }
   ],
   "execution_count": 125
  },
  {
   "metadata": {
    "ExecuteTime": {
     "end_time": "2025-04-30T02:15:03.992659Z",
     "start_time": "2025-04-30T02:15:03.988544Z"
    }
   },
   "cell_type": "code",
   "source": "numpy.corrcoef(p.predict(zscored_x[:,:l]), zscored_x[:,l])",
   "id": "a47c5b19183fdb7f",
   "outputs": [
    {
     "data": {
      "text/plain": [
       "array([[1.        , 0.77573606],\n",
       "       [0.77573606, 1.        ]])"
      ]
     },
     "execution_count": 126,
     "metadata": {},
     "output_type": "execute_result"
    }
   ],
   "execution_count": 126
  },
  {
   "metadata": {
    "ExecuteTime": {
     "end_time": "2025-04-30T02:15:04.001010Z",
     "start_time": "2025-04-30T02:15:03.993662Z"
    }
   },
   "cell_type": "code",
   "source": [
    "model = MarketSampleTransformer(l, 64, 4, 2)\n",
    "optimizer = optim.Adam(model.parameters(), lr=1e-3)\n",
    "# criterion = nn.SmoothL1Loss()\n",
    "criterion = nn.MSELoss()"
   ],
   "id": "e8b2dfd072bf0f34",
   "outputs": [
    {
     "name": "stderr",
     "output_type": "stream",
     "text": [
      "C:\\Users\\sangsiyuan\\AppData\\Roaming\\Python\\Python312\\site-packages\\torch\\nn\\modules\\transformer.py:306: UserWarning: enable_nested_tensor is True, but self.use_nested_tensor is False because encoder_layer.self_attn.batch_first was not True(use batch_first for better inference performance)\n",
      "  warnings.warn(f\"enable_nested_tensor is True, but self.use_nested_tensor is False because {why_not_sparsity_fast_path}\")\n"
     ]
    }
   ],
   "execution_count": 127
  },
  {
   "metadata": {
    "ExecuteTime": {
     "end_time": "2025-04-30T02:18:24.199899Z",
     "start_time": "2025-04-30T02:17:24.886369Z"
    }
   },
   "cell_type": "code",
   "source": [
    "batch_size = 600\n",
    "epoch_size = 200\n",
    "\n",
    "zscored_t_dataset = MarketSampleDataset(zscored_t)\n",
    "train_loader = DataLoader(zscored_t_dataset, batch_size=batch_size, shuffle=True)\n",
    "\n",
    "zscored_x_dataset = MarketSampleDataset(zscored_x)\n",
    "test_loader = DataLoader(zscored_x_dataset, batch_size=batch_size, shuffle=True)\n",
    "\n",
    "for epoch in range(epoch_size):\n",
    "    model.train()\n",
    "    total_loss = 0\n",
    "    for batch_x, batch_y in train_loader:\n",
    "        # batch_x, batch_y = batch_x, batch_y\n",
    "        optimizer.zero_grad()\n",
    "        pred = model(batch_x)\n",
    "        loss = criterion(pred, batch_y)\n",
    "        loss.backward()\n",
    "        optimizer.step()\n",
    "        total_loss += loss.item() * batch_x.size(0)\n",
    "    avg_loss = total_loss / len(train_loader.dataset)\n",
    "\n",
    "    model.eval()\n",
    "    test_loss = 0\n",
    "    with torch.no_grad():\n",
    "        for batch_x, batch_y in test_loader:\n",
    "            # batch_x, batch_y = batch_x, batch_y\n",
    "            pred = model(batch_x)\n",
    "            loss = criterion(pred, batch_y)\n",
    "            test_loss += loss.item() * batch_x.size(0)\n",
    "    avg_test_loss = test_loss / len(test_loader.dataset)\n",
    "\n",
    "    print(f\"Epoch {epoch+1}/{epoch_size} | Train Loss: {avg_loss:.6f} | Test Loss: {avg_test_loss:.6f}\")"
   ],
   "id": "da1f5bda8774a354",
   "outputs": [
    {
     "name": "stdout",
     "output_type": "stream",
     "text": [
      "Epoch 1/200 | Train Loss: 0.048887 | Test Loss: 0.373030\n",
      "Epoch 2/200 | Train Loss: 0.046618 | Test Loss: 0.390672\n",
      "Epoch 3/200 | Train Loss: 0.049543 | Test Loss: 0.372526\n",
      "Epoch 4/200 | Train Loss: 0.047015 | Test Loss: 0.397557\n",
      "Epoch 5/200 | Train Loss: 0.048359 | Test Loss: 0.349869\n",
      "Epoch 6/200 | Train Loss: 0.045184 | Test Loss: 0.371298\n",
      "Epoch 7/200 | Train Loss: 0.044773 | Test Loss: 0.340341\n",
      "Epoch 8/200 | Train Loss: 0.047430 | Test Loss: 0.378142\n",
      "Epoch 9/200 | Train Loss: 0.041178 | Test Loss: 0.335522\n",
      "Epoch 10/200 | Train Loss: 0.042876 | Test Loss: 0.367588\n",
      "Epoch 11/200 | Train Loss: 0.045865 | Test Loss: 0.371593\n",
      "Epoch 12/200 | Train Loss: 0.041200 | Test Loss: 0.355466\n",
      "Epoch 13/200 | Train Loss: 0.044744 | Test Loss: 0.387973\n",
      "Epoch 14/200 | Train Loss: 0.041927 | Test Loss: 0.325271\n",
      "Epoch 15/200 | Train Loss: 0.042411 | Test Loss: 0.391713\n",
      "Epoch 16/200 | Train Loss: 0.043753 | Test Loss: 0.381682\n",
      "Epoch 17/200 | Train Loss: 0.045357 | Test Loss: 0.359271\n",
      "Epoch 18/200 | Train Loss: 0.046280 | Test Loss: 0.387641\n",
      "Epoch 19/200 | Train Loss: 0.046845 | Test Loss: 0.336486\n",
      "Epoch 20/200 | Train Loss: 0.046351 | Test Loss: 0.371090\n",
      "Epoch 21/200 | Train Loss: 0.047428 | Test Loss: 0.342288\n",
      "Epoch 22/200 | Train Loss: 0.045840 | Test Loss: 0.362779\n",
      "Epoch 23/200 | Train Loss: 0.051668 | Test Loss: 0.339429\n",
      "Epoch 24/200 | Train Loss: 0.046077 | Test Loss: 0.385560\n",
      "Epoch 25/200 | Train Loss: 0.046217 | Test Loss: 0.380200\n",
      "Epoch 26/200 | Train Loss: 0.047796 | Test Loss: 0.359447\n",
      "Epoch 27/200 | Train Loss: 0.043152 | Test Loss: 0.362283\n",
      "Epoch 28/200 | Train Loss: 0.043659 | Test Loss: 0.361252\n",
      "Epoch 29/200 | Train Loss: 0.041976 | Test Loss: 0.407279\n",
      "Epoch 30/200 | Train Loss: 0.047348 | Test Loss: 0.350347\n",
      "Epoch 31/200 | Train Loss: 0.044524 | Test Loss: 0.364719\n",
      "Epoch 32/200 | Train Loss: 0.044086 | Test Loss: 0.390895\n",
      "Epoch 33/200 | Train Loss: 0.044728 | Test Loss: 0.334681\n",
      "Epoch 34/200 | Train Loss: 0.044021 | Test Loss: 0.383492\n",
      "Epoch 35/200 | Train Loss: 0.041115 | Test Loss: 0.339580\n",
      "Epoch 36/200 | Train Loss: 0.040132 | Test Loss: 0.405204\n",
      "Epoch 37/200 | Train Loss: 0.039691 | Test Loss: 0.341656\n",
      "Epoch 38/200 | Train Loss: 0.039759 | Test Loss: 0.363562\n",
      "Epoch 39/200 | Train Loss: 0.037736 | Test Loss: 0.346325\n",
      "Epoch 40/200 | Train Loss: 0.039401 | Test Loss: 0.374860\n",
      "Epoch 41/200 | Train Loss: 0.039541 | Test Loss: 0.345881\n",
      "Epoch 42/200 | Train Loss: 0.037922 | Test Loss: 0.372430\n",
      "Epoch 43/200 | Train Loss: 0.042216 | Test Loss: 0.368517\n",
      "Epoch 44/200 | Train Loss: 0.040961 | Test Loss: 0.365150\n",
      "Epoch 45/200 | Train Loss: 0.042964 | Test Loss: 0.397100\n",
      "Epoch 46/200 | Train Loss: 0.042191 | Test Loss: 0.348603\n",
      "Epoch 47/200 | Train Loss: 0.041679 | Test Loss: 0.373484\n",
      "Epoch 48/200 | Train Loss: 0.045809 | Test Loss: 0.383964\n",
      "Epoch 49/200 | Train Loss: 0.045628 | Test Loss: 0.359241\n",
      "Epoch 50/200 | Train Loss: 0.047005 | Test Loss: 0.384805\n",
      "Epoch 51/200 | Train Loss: 0.045073 | Test Loss: 0.355742\n",
      "Epoch 52/200 | Train Loss: 0.039625 | Test Loss: 0.389689\n",
      "Epoch 53/200 | Train Loss: 0.040368 | Test Loss: 0.343664\n",
      "Epoch 54/200 | Train Loss: 0.040931 | Test Loss: 0.390823\n",
      "Epoch 55/200 | Train Loss: 0.041377 | Test Loss: 0.344655\n",
      "Epoch 56/200 | Train Loss: 0.041424 | Test Loss: 0.409237\n",
      "Epoch 57/200 | Train Loss: 0.039216 | Test Loss: 0.347607\n",
      "Epoch 58/200 | Train Loss: 0.037467 | Test Loss: 0.370833\n",
      "Epoch 59/200 | Train Loss: 0.038406 | Test Loss: 0.343601\n",
      "Epoch 60/200 | Train Loss: 0.041614 | Test Loss: 0.377043\n",
      "Epoch 61/200 | Train Loss: 0.036918 | Test Loss: 0.342892\n",
      "Epoch 62/200 | Train Loss: 0.037162 | Test Loss: 0.359623\n",
      "Epoch 63/200 | Train Loss: 0.040746 | Test Loss: 0.362814\n",
      "Epoch 64/200 | Train Loss: 0.036158 | Test Loss: 0.350869\n",
      "Epoch 65/200 | Train Loss: 0.039110 | Test Loss: 0.395467\n",
      "Epoch 66/200 | Train Loss: 0.043659 | Test Loss: 0.343010\n",
      "Epoch 67/200 | Train Loss: 0.038744 | Test Loss: 0.382562\n",
      "Epoch 68/200 | Train Loss: 0.039142 | Test Loss: 0.343000\n",
      "Epoch 69/200 | Train Loss: 0.035424 | Test Loss: 0.374383\n",
      "Epoch 70/200 | Train Loss: 0.043695 | Test Loss: 0.350549\n",
      "Epoch 71/200 | Train Loss: 0.037138 | Test Loss: 0.357814\n",
      "Epoch 72/200 | Train Loss: 0.035529 | Test Loss: 0.358017\n",
      "Epoch 73/200 | Train Loss: 0.033222 | Test Loss: 0.380209\n",
      "Epoch 74/200 | Train Loss: 0.034251 | Test Loss: 0.373278\n",
      "Epoch 75/200 | Train Loss: 0.035771 | Test Loss: 0.387033\n",
      "Epoch 76/200 | Train Loss: 0.036838 | Test Loss: 0.363161\n",
      "Epoch 77/200 | Train Loss: 0.034651 | Test Loss: 0.348501\n",
      "Epoch 78/200 | Train Loss: 0.034776 | Test Loss: 0.356056\n",
      "Epoch 79/200 | Train Loss: 0.034284 | Test Loss: 0.349600\n",
      "Epoch 80/200 | Train Loss: 0.034420 | Test Loss: 0.354771\n",
      "Epoch 81/200 | Train Loss: 0.032844 | Test Loss: 0.357827\n",
      "Epoch 82/200 | Train Loss: 0.037515 | Test Loss: 0.361706\n",
      "Epoch 83/200 | Train Loss: 0.034010 | Test Loss: 0.358708\n",
      "Epoch 84/200 | Train Loss: 0.032709 | Test Loss: 0.371832\n",
      "Epoch 85/200 | Train Loss: 0.033050 | Test Loss: 0.361204\n",
      "Epoch 86/200 | Train Loss: 0.032739 | Test Loss: 0.386324\n",
      "Epoch 87/200 | Train Loss: 0.032289 | Test Loss: 0.344074\n",
      "Epoch 88/200 | Train Loss: 0.032719 | Test Loss: 0.372297\n",
      "Epoch 89/200 | Train Loss: 0.033105 | Test Loss: 0.357395\n",
      "Epoch 90/200 | Train Loss: 0.033436 | Test Loss: 0.375299\n",
      "Epoch 91/200 | Train Loss: 0.032057 | Test Loss: 0.374703\n",
      "Epoch 92/200 | Train Loss: 0.034580 | Test Loss: 0.366972\n",
      "Epoch 93/200 | Train Loss: 0.031706 | Test Loss: 0.382354\n",
      "Epoch 94/200 | Train Loss: 0.031370 | Test Loss: 0.381237\n",
      "Epoch 95/200 | Train Loss: 0.036759 | Test Loss: 0.355213\n",
      "Epoch 96/200 | Train Loss: 0.031489 | Test Loss: 0.369138\n",
      "Epoch 97/200 | Train Loss: 0.032491 | Test Loss: 0.356283\n",
      "Epoch 98/200 | Train Loss: 0.033369 | Test Loss: 0.363917\n",
      "Epoch 99/200 | Train Loss: 0.031441 | Test Loss: 0.355924\n",
      "Epoch 100/200 | Train Loss: 0.029807 | Test Loss: 0.367083\n",
      "Epoch 101/200 | Train Loss: 0.032230 | Test Loss: 0.354549\n",
      "Epoch 102/200 | Train Loss: 0.033954 | Test Loss: 0.348102\n",
      "Epoch 103/200 | Train Loss: 0.030138 | Test Loss: 0.359332\n",
      "Epoch 104/200 | Train Loss: 0.029145 | Test Loss: 0.365269\n",
      "Epoch 105/200 | Train Loss: 0.035247 | Test Loss: 0.378465\n",
      "Epoch 106/200 | Train Loss: 0.030329 | Test Loss: 0.351820\n",
      "Epoch 107/200 | Train Loss: 0.031420 | Test Loss: 0.377738\n",
      "Epoch 108/200 | Train Loss: 0.029640 | Test Loss: 0.355776\n",
      "Epoch 109/200 | Train Loss: 0.031440 | Test Loss: 0.342568\n",
      "Epoch 110/200 | Train Loss: 0.033210 | Test Loss: 0.354169\n",
      "Epoch 111/200 | Train Loss: 0.032610 | Test Loss: 0.368812\n",
      "Epoch 112/200 | Train Loss: 0.030742 | Test Loss: 0.338850\n",
      "Epoch 113/200 | Train Loss: 0.032054 | Test Loss: 0.387141\n",
      "Epoch 114/200 | Train Loss: 0.030093 | Test Loss: 0.340932\n",
      "Epoch 115/200 | Train Loss: 0.031254 | Test Loss: 0.379643\n",
      "Epoch 116/200 | Train Loss: 0.028899 | Test Loss: 0.353504\n",
      "Epoch 117/200 | Train Loss: 0.029930 | Test Loss: 0.365677\n",
      "Epoch 118/200 | Train Loss: 0.026250 | Test Loss: 0.350301\n",
      "Epoch 119/200 | Train Loss: 0.025754 | Test Loss: 0.356133\n",
      "Epoch 120/200 | Train Loss: 0.026332 | Test Loss: 0.351903\n",
      "Epoch 121/200 | Train Loss: 0.028145 | Test Loss: 0.347001\n",
      "Epoch 122/200 | Train Loss: 0.028712 | Test Loss: 0.351292\n",
      "Epoch 123/200 | Train Loss: 0.026724 | Test Loss: 0.351667\n",
      "Epoch 124/200 | Train Loss: 0.028123 | Test Loss: 0.354850\n",
      "Epoch 125/200 | Train Loss: 0.025714 | Test Loss: 0.333672\n",
      "Epoch 126/200 | Train Loss: 0.030188 | Test Loss: 0.373553\n",
      "Epoch 127/200 | Train Loss: 0.028219 | Test Loss: 0.342026\n",
      "Epoch 128/200 | Train Loss: 0.028567 | Test Loss: 0.376464\n",
      "Epoch 129/200 | Train Loss: 0.030045 | Test Loss: 0.340680\n",
      "Epoch 130/200 | Train Loss: 0.029368 | Test Loss: 0.367570\n",
      "Epoch 131/200 | Train Loss: 0.030055 | Test Loss: 0.325380\n",
      "Epoch 132/200 | Train Loss: 0.032535 | Test Loss: 0.374712\n",
      "Epoch 133/200 | Train Loss: 0.031416 | Test Loss: 0.327487\n",
      "Epoch 134/200 | Train Loss: 0.033641 | Test Loss: 0.364128\n",
      "Epoch 135/200 | Train Loss: 0.028891 | Test Loss: 0.362391\n",
      "Epoch 136/200 | Train Loss: 0.024443 | Test Loss: 0.368659\n",
      "Epoch 137/200 | Train Loss: 0.027822 | Test Loss: 0.375643\n",
      "Epoch 138/200 | Train Loss: 0.028911 | Test Loss: 0.371095\n",
      "Epoch 139/200 | Train Loss: 0.026654 | Test Loss: 0.340768\n",
      "Epoch 140/200 | Train Loss: 0.027369 | Test Loss: 0.368682\n",
      "Epoch 141/200 | Train Loss: 0.034416 | Test Loss: 0.371059\n",
      "Epoch 142/200 | Train Loss: 0.030893 | Test Loss: 0.360437\n",
      "Epoch 143/200 | Train Loss: 0.029225 | Test Loss: 0.371302\n",
      "Epoch 144/200 | Train Loss: 0.028758 | Test Loss: 0.357383\n",
      "Epoch 145/200 | Train Loss: 0.026589 | Test Loss: 0.376201\n",
      "Epoch 146/200 | Train Loss: 0.033618 | Test Loss: 0.361892\n",
      "Epoch 147/200 | Train Loss: 0.031262 | Test Loss: 0.386917\n",
      "Epoch 148/200 | Train Loss: 0.027310 | Test Loss: 0.343778\n",
      "Epoch 149/200 | Train Loss: 0.029819 | Test Loss: 0.372411\n",
      "Epoch 150/200 | Train Loss: 0.026820 | Test Loss: 0.338456\n",
      "Epoch 151/200 | Train Loss: 0.027524 | Test Loss: 0.359098\n",
      "Epoch 152/200 | Train Loss: 0.028068 | Test Loss: 0.361097\n",
      "Epoch 153/200 | Train Loss: 0.026071 | Test Loss: 0.379353\n",
      "Epoch 154/200 | Train Loss: 0.026340 | Test Loss: 0.375372\n",
      "Epoch 155/200 | Train Loss: 0.026380 | Test Loss: 0.358163\n",
      "Epoch 156/200 | Train Loss: 0.026281 | Test Loss: 0.350588\n",
      "Epoch 157/200 | Train Loss: 0.025364 | Test Loss: 0.351142\n",
      "Epoch 158/200 | Train Loss: 0.024743 | Test Loss: 0.363251\n",
      "Epoch 159/200 | Train Loss: 0.027698 | Test Loss: 0.360157\n",
      "Epoch 160/200 | Train Loss: 0.024557 | Test Loss: 0.358463\n",
      "Epoch 161/200 | Train Loss: 0.022202 | Test Loss: 0.341016\n",
      "Epoch 162/200 | Train Loss: 0.024884 | Test Loss: 0.366041\n",
      "Epoch 163/200 | Train Loss: 0.022757 | Test Loss: 0.371808\n",
      "Epoch 164/200 | Train Loss: 0.023601 | Test Loss: 0.360538\n",
      "Epoch 165/200 | Train Loss: 0.023851 | Test Loss: 0.368955\n",
      "Epoch 166/200 | Train Loss: 0.028033 | Test Loss: 0.355354\n",
      "Epoch 167/200 | Train Loss: 0.024761 | Test Loss: 0.365161\n",
      "Epoch 168/200 | Train Loss: 0.024616 | Test Loss: 0.366341\n",
      "Epoch 169/200 | Train Loss: 0.022476 | Test Loss: 0.355498\n",
      "Epoch 170/200 | Train Loss: 0.022686 | Test Loss: 0.365117\n",
      "Epoch 171/200 | Train Loss: 0.021890 | Test Loss: 0.356667\n",
      "Epoch 172/200 | Train Loss: 0.023308 | Test Loss: 0.368494\n",
      "Epoch 173/200 | Train Loss: 0.024559 | Test Loss: 0.341328\n",
      "Epoch 174/200 | Train Loss: 0.024235 | Test Loss: 0.354186\n",
      "Epoch 175/200 | Train Loss: 0.023829 | Test Loss: 0.379510\n",
      "Epoch 176/200 | Train Loss: 0.025658 | Test Loss: 0.355123\n",
      "Epoch 177/200 | Train Loss: 0.026949 | Test Loss: 0.349513\n",
      "Epoch 178/200 | Train Loss: 0.024909 | Test Loss: 0.349971\n",
      "Epoch 179/200 | Train Loss: 0.023182 | Test Loss: 0.346239\n",
      "Epoch 180/200 | Train Loss: 0.023161 | Test Loss: 0.358669\n",
      "Epoch 181/200 | Train Loss: 0.023841 | Test Loss: 0.343049\n",
      "Epoch 182/200 | Train Loss: 0.023775 | Test Loss: 0.339319\n",
      "Epoch 183/200 | Train Loss: 0.024920 | Test Loss: 0.349879\n",
      "Epoch 184/200 | Train Loss: 0.024486 | Test Loss: 0.368073\n",
      "Epoch 185/200 | Train Loss: 0.025077 | Test Loss: 0.376887\n",
      "Epoch 186/200 | Train Loss: 0.026227 | Test Loss: 0.341361\n",
      "Epoch 187/200 | Train Loss: 0.025830 | Test Loss: 0.381643\n",
      "Epoch 188/200 | Train Loss: 0.023733 | Test Loss: 0.353514\n",
      "Epoch 189/200 | Train Loss: 0.024694 | Test Loss: 0.358443\n",
      "Epoch 190/200 | Train Loss: 0.023544 | Test Loss: 0.330117\n",
      "Epoch 191/200 | Train Loss: 0.026990 | Test Loss: 0.347100\n",
      "Epoch 192/200 | Train Loss: 0.025192 | Test Loss: 0.355105\n",
      "Epoch 193/200 | Train Loss: 0.022739 | Test Loss: 0.365168\n",
      "Epoch 194/200 | Train Loss: 0.026850 | Test Loss: 0.349481\n",
      "Epoch 195/200 | Train Loss: 0.024422 | Test Loss: 0.348025\n",
      "Epoch 196/200 | Train Loss: 0.023044 | Test Loss: 0.345445\n",
      "Epoch 197/200 | Train Loss: 0.024811 | Test Loss: 0.354034\n",
      "Epoch 198/200 | Train Loss: 0.022961 | Test Loss: 0.348398\n",
      "Epoch 199/200 | Train Loss: 0.023864 | Test Loss: 0.353755\n",
      "Epoch 200/200 | Train Loss: 0.022557 | Test Loss: 0.354705\n"
     ]
    }
   ],
   "execution_count": 133
  },
  {
   "metadata": {
    "ExecuteTime": {
     "end_time": "2025-04-30T02:18:24.230379Z",
     "start_time": "2025-04-30T02:18:24.200901Z"
    }
   },
   "cell_type": "code",
   "source": [
    "model.eval()\n",
    "all_preds = []\n",
    "all_targets = []\n",
    "# 拿一批数据来预测\n",
    "with torch.no_grad():\n",
    "    for batch_x, batch_y in test_loader:\n",
    "        preds = model(batch_x)\n",
    "        all_preds.append(preds)    # 收集预测结果\n",
    "        all_targets.append(batch_y)  # 收集真实标签\n",
    "        \n",
    "all_preds = torch.cat(all_preds, dim=0).numpy()     # (400,)\n",
    "all_targets = torch.cat(all_targets, dim=0).numpy() # (400,)"
   ],
   "id": "c092ee3f28f9c9ec",
   "outputs": [],
   "execution_count": 134
  },
  {
   "metadata": {
    "ExecuteTime": {
     "end_time": "2025-04-30T02:18:24.361454Z",
     "start_time": "2025-04-30T02:18:24.231380Z"
    }
   },
   "cell_type": "code",
   "source": [
    "pyplot.figure(figsize=(8,5))\n",
    "pyplot.plot(all_preds, label=\"Predicted\", alpha=0.7)\n",
    "pyplot.plot(all_targets, label=\"True\", alpha=0.7)\n",
    "pyplot.legend()\n",
    "pyplot.title(\"Prediction vs True on Test Batch\")\n",
    "pyplot.show()"
   ],
   "id": "f1220659eabe99f3",
   "outputs": [
    {
     "data": {
      "text/plain": [
       "<Figure size 800x500 with 1 Axes>"
      ],
      "image/png": "[encoded data removed]"
     },
     "metadata": {},
     "output_type": "display_data"
    }
   ],
   "execution_count": 135
  },
  {
   "metadata": {
    "ExecuteTime": {
     "end_time": "2025-04-30T02:18:24.366582Z",
     "start_time": "2025-04-30T02:18:24.362456Z"
    }
   },
   "cell_type": "code",
   "source": [
    "from sklearn.metrics import mean_squared_error\n",
    "from sklearn.metrics import mean_absolute_error\n",
    "\n",
    "mse = mean_absolute_error(all_targets, all_preds)\n",
    "print(f\"Test MSE on 600 samples: {mse:.6f}\")"
   ],
   "id": "d51c26e73f17d1d6",
   "outputs": [
    {
     "name": "stdout",
     "output_type": "stream",
     "text": [
      "Test MSE on 600 samples: 0.334322\n"
     ]
    }
   ],
   "execution_count": 136
  },
  {
   "metadata": {
    "ExecuteTime": {
     "end_time": "2025-04-30T02:18:24.371506Z",
     "start_time": "2025-04-30T02:18:24.367584Z"
    }
   },
   "cell_type": "code",
   "source": [
    "from sklearn.metrics import r2_score\n",
    "r2 = r2_score(all_targets, all_preds)\n",
    "print(f\"Test R^2 on 600 samples: {r2:.6f}\")"
   ],
   "id": "f5cb8b1734932f4b",
   "outputs": [
    {
     "name": "stdout",
     "output_type": "stream",
     "text": [
      "Test R^2 on 600 samples: 0.566180\n"
     ]
    }
   ],
   "execution_count": 137
  },
  {
   "metadata": {
    "ExecuteTime": {
     "end_time": "2025-04-30T02:16:02.318008Z",
     "start_time": "2025-04-30T02:16:02.316035Z"
    }
   },
   "cell_type": "code",
   "source": "",
   "id": "6a176249960a6e33",
   "outputs": [],
   "execution_count": 132
  },
  {
   "metadata": {
    "ExecuteTime": {
     "end_time": "2025-04-30T02:16:02.321023Z",
     "start_time": "2025-04-30T02:16:02.319011Z"
    }
   },
   "cell_type": "code",
   "source": "",
   "id": "7aa6fdee4138a554",
   "outputs": [],
   "execution_count": 132
  },
  {
   "metadata": {
    "ExecuteTime": {
     "end_time": "2025-04-30T02:16:02.324042Z",
     "start_time": "2025-04-30T02:16:02.322025Z"
    }
   },
   "cell_type": "code",
   "source": "",
   "id": "504ce82166e4c7b7",
   "outputs": [],
   "execution_count": 132
  }
 ],
 "metadata": {
  "kernelspec": {
   "display_name": "Python 3 (ipykernel)",
   "language": "python",
   "name": "python3"
  },
  "language_info": {
   "codemirror_mode": {
    "name": "ipython",
    "version": 3
   },
   "file_extension": ".py",
   "mimetype": "text/x-python",
   "name": "python",
   "nbconvert_exporter": "python",
   "pygments_lexer": "ipython3",
   "version": "3.12.4"
  }
 },
 "nbformat": 4,
 "nbformat_minor": 5
}
