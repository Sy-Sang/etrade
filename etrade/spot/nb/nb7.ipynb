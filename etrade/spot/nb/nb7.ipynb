{
 "cells": [
  {
   "cell_type": "code",
   "id": "927340084fb5f5bd",
   "metadata": {
    "ExecuteTime": {
     "end_time": "2025-05-06T04:53:05.087936Z",
     "start_time": "2025-05-06T04:53:05.083924Z"
    }
   },
   "source": [
    "import numpy\n",
    "from etrade.spot.trader import Station\n",
    "from etrade.spot.market.recycle import BasicRecycle, PointwiseRecycle\n",
    "from etrade.spot.forecast.market import DistributiveSeries, DistributiveMarket\n",
    "from etrade.spot.forecast.plan_a.constructor import *\n",
    "from etrade.spot.forecast.plan_a.transformer import MarketSampleTransformer, MarketSampleDataset\n",
    "from etrade.spot.forecast.yieldindex import zero_quantile\n",
    "from etrade.spot.forecast import yieldindex\n",
    "from  data_utils.stochastic_utils.vdistributions.abstract import AbstractDistribution\n",
    "from  data_utils.stochastic_utils.vdistributions.parameter.continuous.basic import NormalDistribution, SkewNormalDistribution\n",
    "from data_utils.stochastic_utils.vdistributions.nonparametric.continuous.kernel2 import KernelMixDistribution\n",
    "from data_utils.stochastic_utils.vdistributions.tools.divergence import kl_divergence_continuous, crps, quantile_RMSE\n",
    "\n",
    "from data_utils.stochastic_utils.vdistributions.nonparametric.continuous.mfk.skewnd2 import dof_snd_fitter\n",
    "\n",
    "from scipy.optimize import differential_evolution\n",
    "\n",
    "from matplotlib import pyplot\n",
    "import json\n",
    "\n",
    "import torch\n",
    "from torch import nn\n",
    "import torch.optim as optim\n",
    "from torch.utils.data import Dataset, DataLoader"
   ],
   "outputs": [],
   "execution_count": 19
  },
  {
   "cell_type": "code",
   "id": "initial_id",
   "metadata": {
    "ExecuteTime": {
     "end_time": "2025-05-06T04:53:05.152543Z",
     "start_time": "2025-05-06T04:53:05.100950Z"
    }
   },
   "source": [
    "\n",
    "with open(r\"..\\forecast\\plan_a\\data\\market_simulator_3.json\", \"r\") as f:\n",
    "    train_data = json.loads(f.read())\n",
    "    \n",
    "with open(r\"..\\forecast\\plan_a\\data\\market_simulator_4.json\", \"r\") as f:\n",
    "    test_data = json.loads(f.read())"
   ],
   "outputs": [],
   "execution_count": 20
  },
  {
   "cell_type": "code",
   "id": "2302659a31e1b540",
   "metadata": {
    "ExecuteTime": {
     "end_time": "2025-05-06T04:53:05.160907Z",
     "start_time": "2025-05-06T04:53:05.153545Z"
    }
   },
   "source": [
    "train_data =numpy.asarray(train_data[\"data\"])\n",
    "test_data =numpy.asarray(test_data[\"data\"])"
   ],
   "outputs": [],
   "execution_count": 21
  },
  {
   "metadata": {
    "ExecuteTime": {
     "end_time": "2025-05-06T04:53:05.165069Z",
     "start_time": "2025-05-06T04:53:05.160907Z"
    }
   },
   "cell_type": "code",
   "source": "train_data[0]",
   "id": "eb1089311f81dc6",
   "outputs": [
    {
     "data": {
      "text/plain": [
       "array([  3.74631481,   4.29589058,   2.10662714,  22.18100685,\n",
       "        24.74928446,  27.20674001,  33.51675293,  40.14512051,\n",
       "        -8.4606474 ,   2.42573414,   6.08898855,   9.35027419,\n",
       "        20.93346565,  -9.83276561,   2.0368428 ,   5.23280401,\n",
       "         8.21498886,  18.46201281, -65.57496741,  -5.28906343,\n",
       "        51.15490511, 122.69519891, 188.44048472, 258.47401496,\n",
       "       317.421107  , 387.5387652 , 475.20540052, -71.7962162 ])"
      ]
     },
     "execution_count": 22,
     "metadata": {},
     "output_type": "execute_result"
    }
   ],
   "execution_count": 22
  },
  {
   "cell_type": "code",
   "id": "6d56030ef98a2bb9",
   "metadata": {
    "ExecuteTime": {
     "end_time": "2025-05-06T04:53:05.169945Z",
     "start_time": "2025-05-06T04:53:05.166071Z"
    }
   },
   "source": [
    "market_len = 1\n",
    "# l = 3 * market_len + market_len\n",
    "l = market_len * 3 + market_len * (5-0) * 3 + 9\n",
    "def zscore_p(x):\n",
    "    x = numpy.asarray(x)\n",
    "    m = numpy.mean(x, axis=0)\n",
    "    s = numpy.std(x, ddof=1, axis=0)\n",
    "    return m,s\n",
    "\n",
    "def zscore(x, m, s):\n",
    "    x = numpy.asarray(x)\n",
    "    m = numpy.asarray(m)\n",
    "    s = numpy.asarray(s)\n",
    "    # return numpy.column_stack((\n",
    "    #         (x[:,:l]-m[:l]) / s[:l], x[:,l]\n",
    "    # ))\n",
    "    return (x-m) / s\n",
    "\n",
    "def minmax_p(x):\n",
    "    x = numpy.asarray(x)\n",
    "    mmax = numpy.max(x, axis=0)\n",
    "    mmin = numpy.min(x, axis=0)\n",
    "    return mmin, mmax\n",
    "\n",
    "def minmax(x, mmin, mmax):\n",
    "    x = numpy.asarray(x)\n",
    "    mmin = numpy.asarray(mmin)\n",
    "    mmax = numpy.asarray(mmax)\n",
    "    return (x-mmin) / (mmax-mmin)\n",
    "    # return numpy.column_stack((\n",
    "    #         (x[:,:l]-mmin[:l]) / (mmax[:l]-mmin[:l]), x[:,l]\n",
    "    # ))\n",
    "    \n",
    "print(l)\n",
    "    "
   ],
   "outputs": [
    {
     "name": "stdout",
     "output_type": "stream",
     "text": [
      "27\n"
     ]
    }
   ],
   "execution_count": 23
  },
  {
   "cell_type": "code",
   "id": "4fe1c6779ebf759b",
   "metadata": {
    "ExecuteTime": {
     "end_time": "2025-05-06T04:53:05.174900Z",
     "start_time": "2025-05-06T04:53:05.169945Z"
    }
   },
   "source": [
    "m,s= zscore_p(train_data)\n",
    "zscored_t = zscore(train_data, m, s)\n",
    "zscored_x = zscore(test_data, m, s)\n",
    "\n",
    "mmin,mmax = minmax_p(train_data)\n",
    "minmaxed_t = minmax(train_data, mmin, mmax)\n",
    "minmaxed_x = minmax(test_data, mmin, mmax)\n",
    "\n",
    "print(zscored_t.shape)"
   ],
   "outputs": [
    {
     "name": "stdout",
     "output_type": "stream",
     "text": [
      "(3000, 28)\n"
     ]
    }
   ],
   "execution_count": 24
  },
  {
   "cell_type": "code",
   "id": "ba1bfd56948c3c24",
   "metadata": {
    "ExecuteTime": {
     "end_time": "2025-05-06T04:53:07.380843Z",
     "start_time": "2025-05-06T04:53:05.174900Z"
    }
   },
   "source": [
    "from sklearn.neural_network import MLPRegressor\n",
    "from sklearn.ensemble import GradientBoostingRegressor, RandomForestRegressor\n",
    "from sklearn.svm import SVR\n",
    "from sklearn.linear_model import LinearRegression\n",
    "from sklearn.kernel_ridge import KernelRidge\n",
    "p = MLPRegressor(\n",
    "    hidden_layer_sizes=[50] * 4,\n",
    "    activation=\"relu\",\n",
    "    solver=\"lbfgs\",\n",
    "    # alpha=1e-3,\n",
    "    # learning_rate_init=1e-3\n",
    ")\n",
    "# p = RandomForestRegressor(\n",
    "#     # alpha=0.999\n",
    "# )\n",
    "# p = SVR(\n",
    "#     # alpha=1\n",
    "# )\n",
    "p.fit(\n",
    "    zscored_t[:,:l],\n",
    "    zscored_t[:,l]\n",
    ")"
   ],
   "outputs": [
    {
     "name": "stderr",
     "output_type": "stream",
     "text": [
      "C:\\Users\\sangsiyuan\\AppData\\Roaming\\Python\\Python312\\site-packages\\sklearn\\neural_network\\_multilayer_perceptron.py:545: ConvergenceWarning: lbfgs failed to converge (status=1):\n",
      "STOP: TOTAL NO. of ITERATIONS REACHED LIMIT.\n",
      "\n",
      "Increase the number of iterations (max_iter) or scale the data as shown in:\n",
      "    https://scikit-learn.org/stable/modules/preprocessing.html\n",
      "  self.n_iter_ = _check_optimize_result(\"lbfgs\", opt_res, self.max_iter)\n"
     ]
    },
    {
     "data": {
      "text/plain": [
       "MLPRegressor(hidden_layer_sizes=[50, 50, 50, 50], solver='lbfgs')"
      ],
      "text/html": [
       "<style>#sk-container-id-2 {\n",
       "  /* Definition of color scheme common for light and dark mode */\n",
       "  --sklearn-color-text: black;\n",
       "  --sklearn-color-line: gray;\n",
       "  /* Definition of color scheme for unfitted estimators */\n",
       "  --sklearn-color-unfitted-level-0: #fff5e6;\n",
       "  --sklearn-color-unfitted-level-1: #f6e4d2;\n",
       "  --sklearn-color-unfitted-level-2: #ffe0b3;\n",
       "  --sklearn-color-unfitted-level-3: chocolate;\n",
       "  /* Definition of color scheme for fitted estimators */\n",
       "  --sklearn-color-fitted-level-0: #f0f8ff;\n",
       "  --sklearn-color-fitted-level-1: #d4ebff;\n",
       "  --sklearn-color-fitted-level-2: #b3dbfd;\n",
       "  --sklearn-color-fitted-level-3: cornflowerblue;\n",
       "\n",
       "  /* Specific color for light theme */\n",
       "  --sklearn-color-text-on-default-background: var(--sg-text-color, var(--theme-code-foreground, var(--jp-content-font-color1, black)));\n",
       "  --sklearn-color-background: var(--sg-background-color, var(--theme-background, var(--jp-layout-color0, white)));\n",
       "  --sklearn-color-border-box: var(--sg-text-color, var(--theme-code-foreground, var(--jp-content-font-color1, black)));\n",
       "  --sklearn-color-icon: #696969;\n",
       "\n",
       "  @media (prefers-color-scheme: dark) {\n",
       "    /* Redefinition of color scheme for dark theme */\n",
       "    --sklearn-color-text-on-default-background: var(--sg-text-color, var(--theme-code-foreground, var(--jp-content-font-color1, white)));\n",
       "    --sklearn-color-background: var(--sg-background-color, var(--theme-background, var(--jp-layout-color0, #111)));\n",
       "    --sklearn-color-border-box: var(--sg-text-color, var(--theme-code-foreground, var(--jp-content-font-color1, white)));\n",
       "    --sklearn-color-icon: #878787;\n",
       "  }\n",
       "}\n",
       "\n",
       "#sk-container-id-2 {\n",
       "  color: var(--sklearn-color-text);\n",
       "}\n",
       "\n",
       "#sk-container-id-2 pre {\n",
       "  padding: 0;\n",
       "}\n",
       "\n",
       "#sk-container-id-2 input.sk-hidden--visually {\n",
       "  border: 0;\n",
       "  clip: rect(1px 1px 1px 1px);\n",
       "  clip: rect(1px, 1px, 1px, 1px);\n",
       "  height: 1px;\n",
       "  margin: -1px;\n",
       "  overflow: hidden;\n",
       "  padding: 0;\n",
       "  position: absolute;\n",
       "  width: 1px;\n",
       "}\n",
       "\n",
       "#sk-container-id-2 div.sk-dashed-wrapped {\n",
       "  border: 1px dashed var(--sklearn-color-line);\n",
       "  margin: 0 0.4em 0.5em 0.4em;\n",
       "  box-sizing: border-box;\n",
       "  padding-bottom: 0.4em;\n",
       "  background-color: var(--sklearn-color-background);\n",
       "}\n",
       "\n",
       "#sk-container-id-2 div.sk-container {\n",
       "  /* jupyter's `normalize.less` sets `[hidden] { display: none; }`\n",
       "     but bootstrap.min.css set `[hidden] { display: none !important; }`\n",
       "     so we also need the `!important` here to be able to override the\n",
       "     default hidden behavior on the sphinx rendered scikit-learn.org.\n",
       "     See: https://github.com/scikit-learn/scikit-learn/issues/21755 */\n",
       "  display: inline-block !important;\n",
       "  position: relative;\n",
       "}\n",
       "\n",
       "#sk-container-id-2 div.sk-text-repr-fallback {\n",
       "  display: none;\n",
       "}\n",
       "\n",
       "div.sk-parallel-item,\n",
       "div.sk-serial,\n",
       "div.sk-item {\n",
       "  /* draw centered vertical line to link estimators */\n",
       "  background-image: linear-gradient(var(--sklearn-color-text-on-default-background), var(--sklearn-color-text-on-default-background));\n",
       "  background-size: 2px 100%;\n",
       "  background-repeat: no-repeat;\n",
       "  background-position: center center;\n",
       "}\n",
       "\n",
       "/* Parallel-specific style estimator block */\n",
       "\n",
       "#sk-container-id-2 div.sk-parallel-item::after {\n",
       "  content: \"\";\n",
       "  width: 100%;\n",
       "  border-bottom: 2px solid var(--sklearn-color-text-on-default-background);\n",
       "  flex-grow: 1;\n",
       "}\n",
       "\n",
       "#sk-container-id-2 div.sk-parallel {\n",
       "  display: flex;\n",
       "  align-items: stretch;\n",
       "  justify-content: center;\n",
       "  background-color: var(--sklearn-color-background);\n",
       "  position: relative;\n",
       "}\n",
       "\n",
       "#sk-container-id-2 div.sk-parallel-item {\n",
       "  display: flex;\n",
       "  flex-direction: column;\n",
       "}\n",
       "\n",
       "#sk-container-id-2 div.sk-parallel-item:first-child::after {\n",
       "  align-self: flex-end;\n",
       "  width: 50%;\n",
       "}\n",
       "\n",
       "#sk-container-id-2 div.sk-parallel-item:last-child::after {\n",
       "  align-self: flex-start;\n",
       "  width: 50%;\n",
       "}\n",
       "\n",
       "#sk-container-id-2 div.sk-parallel-item:only-child::after {\n",
       "  width: 0;\n",
       "}\n",
       "\n",
       "/* Serial-specific style estimator block */\n",
       "\n",
       "#sk-container-id-2 div.sk-serial {\n",
       "  display: flex;\n",
       "  flex-direction: column;\n",
       "  align-items: center;\n",
       "  background-color: var(--sklearn-color-background);\n",
       "  padding-right: 1em;\n",
       "  padding-left: 1em;\n",
       "}\n",
       "\n",
       "\n",
       "/* Toggleable style: style used for estimator/Pipeline/ColumnTransformer box that is\n",
       "clickable and can be expanded/collapsed.\n",
       "- Pipeline and ColumnTransformer use this feature and define the default style\n",
       "- Estimators will overwrite some part of the style using the `sk-estimator` class\n",
       "*/\n",
       "\n",
       "/* Pipeline and ColumnTransformer style (default) */\n",
       "\n",
       "#sk-container-id-2 div.sk-toggleable {\n",
       "  /* Default theme specific background. It is overwritten whether we have a\n",
       "  specific estimator or a Pipeline/ColumnTransformer */\n",
       "  background-color: var(--sklearn-color-background);\n",
       "}\n",
       "\n",
       "/* Toggleable label */\n",
       "#sk-container-id-2 label.sk-toggleable__label {\n",
       "  cursor: pointer;\n",
       "  display: block;\n",
       "  width: 100%;\n",
       "  margin-bottom: 0;\n",
       "  padding: 0.5em;\n",
       "  box-sizing: border-box;\n",
       "  text-align: center;\n",
       "}\n",
       "\n",
       "#sk-container-id-2 label.sk-toggleable__label-arrow:before {\n",
       "  /* Arrow on the left of the label */\n",
       "  content: \"▸\";\n",
       "  float: left;\n",
       "  margin-right: 0.25em;\n",
       "  color: var(--sklearn-color-icon);\n",
       "}\n",
       "\n",
       "#sk-container-id-2 label.sk-toggleable__label-arrow:hover:before {\n",
       "  color: var(--sklearn-color-text);\n",
       "}\n",
       "\n",
       "/* Toggleable content - dropdown */\n",
       "\n",
       "#sk-container-id-2 div.sk-toggleable__content {\n",
       "  max-height: 0;\n",
       "  max-width: 0;\n",
       "  overflow: hidden;\n",
       "  text-align: left;\n",
       "  /* unfitted */\n",
       "  background-color: var(--sklearn-color-unfitted-level-0);\n",
       "}\n",
       "\n",
       "#sk-container-id-2 div.sk-toggleable__content.fitted {\n",
       "  /* fitted */\n",
       "  background-color: var(--sklearn-color-fitted-level-0);\n",
       "}\n",
       "\n",
       "#sk-container-id-2 div.sk-toggleable__content pre {\n",
       "  margin: 0.2em;\n",
       "  border-radius: 0.25em;\n",
       "  color: var(--sklearn-color-text);\n",
       "  /* unfitted */\n",
       "  background-color: var(--sklearn-color-unfitted-level-0);\n",
       "}\n",
       "\n",
       "#sk-container-id-2 div.sk-toggleable__content.fitted pre {\n",
       "  /* unfitted */\n",
       "  background-color: var(--sklearn-color-fitted-level-0);\n",
       "}\n",
       "\n",
       "#sk-container-id-2 input.sk-toggleable__control:checked~div.sk-toggleable__content {\n",
       "  /* Expand drop-down */\n",
       "  max-height: 200px;\n",
       "  max-width: 100%;\n",
       "  overflow: auto;\n",
       "}\n",
       "\n",
       "#sk-container-id-2 input.sk-toggleable__control:checked~label.sk-toggleable__label-arrow:before {\n",
       "  content: \"▾\";\n",
       "}\n",
       "\n",
       "/* Pipeline/ColumnTransformer-specific style */\n",
       "\n",
       "#sk-container-id-2 div.sk-label input.sk-toggleable__control:checked~label.sk-toggleable__label {\n",
       "  color: var(--sklearn-color-text);\n",
       "  background-color: var(--sklearn-color-unfitted-level-2);\n",
       "}\n",
       "\n",
       "#sk-container-id-2 div.sk-label.fitted input.sk-toggleable__control:checked~label.sk-toggleable__label {\n",
       "  background-color: var(--sklearn-color-fitted-level-2);\n",
       "}\n",
       "\n",
       "/* Estimator-specific style */\n",
       "\n",
       "/* Colorize estimator box */\n",
       "#sk-container-id-2 div.sk-estimator input.sk-toggleable__control:checked~label.sk-toggleable__label {\n",
       "  /* unfitted */\n",
       "  background-color: var(--sklearn-color-unfitted-level-2);\n",
       "}\n",
       "\n",
       "#sk-container-id-2 div.sk-estimator.fitted input.sk-toggleable__control:checked~label.sk-toggleable__label {\n",
       "  /* fitted */\n",
       "  background-color: var(--sklearn-color-fitted-level-2);\n",
       "}\n",
       "\n",
       "#sk-container-id-2 div.sk-label label.sk-toggleable__label,\n",
       "#sk-container-id-2 div.sk-label label {\n",
       "  /* The background is the default theme color */\n",
       "  color: var(--sklearn-color-text-on-default-background);\n",
       "}\n",
       "\n",
       "/* On hover, darken the color of the background */\n",
       "#sk-container-id-2 div.sk-label:hover label.sk-toggleable__label {\n",
       "  color: var(--sklearn-color-text);\n",
       "  background-color: var(--sklearn-color-unfitted-level-2);\n",
       "}\n",
       "\n",
       "/* Label box, darken color on hover, fitted */\n",
       "#sk-container-id-2 div.sk-label.fitted:hover label.sk-toggleable__label.fitted {\n",
       "  color: var(--sklearn-color-text);\n",
       "  background-color: var(--sklearn-color-fitted-level-2);\n",
       "}\n",
       "\n",
       "/* Estimator label */\n",
       "\n",
       "#sk-container-id-2 div.sk-label label {\n",
       "  font-family: monospace;\n",
       "  font-weight: bold;\n",
       "  display: inline-block;\n",
       "  line-height: 1.2em;\n",
       "}\n",
       "\n",
       "#sk-container-id-2 div.sk-label-container {\n",
       "  text-align: center;\n",
       "}\n",
       "\n",
       "/* Estimator-specific */\n",
       "#sk-container-id-2 div.sk-estimator {\n",
       "  font-family: monospace;\n",
       "  border: 1px dotted var(--sklearn-color-border-box);\n",
       "  border-radius: 0.25em;\n",
       "  box-sizing: border-box;\n",
       "  margin-bottom: 0.5em;\n",
       "  /* unfitted */\n",
       "  background-color: var(--sklearn-color-unfitted-level-0);\n",
       "}\n",
       "\n",
       "#sk-container-id-2 div.sk-estimator.fitted {\n",
       "  /* fitted */\n",
       "  background-color: var(--sklearn-color-fitted-level-0);\n",
       "}\n",
       "\n",
       "/* on hover */\n",
       "#sk-container-id-2 div.sk-estimator:hover {\n",
       "  /* unfitted */\n",
       "  background-color: var(--sklearn-color-unfitted-level-2);\n",
       "}\n",
       "\n",
       "#sk-container-id-2 div.sk-estimator.fitted:hover {\n",
       "  /* fitted */\n",
       "  background-color: var(--sklearn-color-fitted-level-2);\n",
       "}\n",
       "\n",
       "/* Specification for estimator info (e.g. \"i\" and \"?\") */\n",
       "\n",
       "/* Common style for \"i\" and \"?\" */\n",
       "\n",
       ".sk-estimator-doc-link,\n",
       "a:link.sk-estimator-doc-link,\n",
       "a:visited.sk-estimator-doc-link {\n",
       "  float: right;\n",
       "  font-size: smaller;\n",
       "  line-height: 1em;\n",
       "  font-family: monospace;\n",
       "  background-color: var(--sklearn-color-background);\n",
       "  border-radius: 1em;\n",
       "  height: 1em;\n",
       "  width: 1em;\n",
       "  text-decoration: none !important;\n",
       "  margin-left: 1ex;\n",
       "  /* unfitted */\n",
       "  border: var(--sklearn-color-unfitted-level-1) 1pt solid;\n",
       "  color: var(--sklearn-color-unfitted-level-1);\n",
       "}\n",
       "\n",
       ".sk-estimator-doc-link.fitted,\n",
       "a:link.sk-estimator-doc-link.fitted,\n",
       "a:visited.sk-estimator-doc-link.fitted {\n",
       "  /* fitted */\n",
       "  border: var(--sklearn-color-fitted-level-1) 1pt solid;\n",
       "  color: var(--sklearn-color-fitted-level-1);\n",
       "}\n",
       "\n",
       "/* On hover */\n",
       "div.sk-estimator:hover .sk-estimator-doc-link:hover,\n",
       ".sk-estimator-doc-link:hover,\n",
       "div.sk-label-container:hover .sk-estimator-doc-link:hover,\n",
       ".sk-estimator-doc-link:hover {\n",
       "  /* unfitted */\n",
       "  background-color: var(--sklearn-color-unfitted-level-3);\n",
       "  color: var(--sklearn-color-background);\n",
       "  text-decoration: none;\n",
       "}\n",
       "\n",
       "div.sk-estimator.fitted:hover .sk-estimator-doc-link.fitted:hover,\n",
       ".sk-estimator-doc-link.fitted:hover,\n",
       "div.sk-label-container:hover .sk-estimator-doc-link.fitted:hover,\n",
       ".sk-estimator-doc-link.fitted:hover {\n",
       "  /* fitted */\n",
       "  background-color: var(--sklearn-color-fitted-level-3);\n",
       "  color: var(--sklearn-color-background);\n",
       "  text-decoration: none;\n",
       "}\n",
       "\n",
       "/* Span, style for the box shown on hovering the info icon */\n",
       ".sk-estimator-doc-link span {\n",
       "  display: none;\n",
       "  z-index: 9999;\n",
       "  position: relative;\n",
       "  font-weight: normal;\n",
       "  right: .2ex;\n",
       "  padding: .5ex;\n",
       "  margin: .5ex;\n",
       "  width: min-content;\n",
       "  min-width: 20ex;\n",
       "  max-width: 50ex;\n",
       "  color: var(--sklearn-color-text);\n",
       "  box-shadow: 2pt 2pt 4pt #999;\n",
       "  /* unfitted */\n",
       "  background: var(--sklearn-color-unfitted-level-0);\n",
       "  border: .5pt solid var(--sklearn-color-unfitted-level-3);\n",
       "}\n",
       "\n",
       ".sk-estimator-doc-link.fitted span {\n",
       "  /* fitted */\n",
       "  background: var(--sklearn-color-fitted-level-0);\n",
       "  border: var(--sklearn-color-fitted-level-3);\n",
       "}\n",
       "\n",
       ".sk-estimator-doc-link:hover span {\n",
       "  display: block;\n",
       "}\n",
       "\n",
       "/* \"?\"-specific style due to the `<a>` HTML tag */\n",
       "\n",
       "#sk-container-id-2 a.estimator_doc_link {\n",
       "  float: right;\n",
       "  font-size: 1rem;\n",
       "  line-height: 1em;\n",
       "  font-family: monospace;\n",
       "  background-color: var(--sklearn-color-background);\n",
       "  border-radius: 1rem;\n",
       "  height: 1rem;\n",
       "  width: 1rem;\n",
       "  text-decoration: none;\n",
       "  /* unfitted */\n",
       "  color: var(--sklearn-color-unfitted-level-1);\n",
       "  border: var(--sklearn-color-unfitted-level-1) 1pt solid;\n",
       "}\n",
       "\n",
       "#sk-container-id-2 a.estimator_doc_link.fitted {\n",
       "  /* fitted */\n",
       "  border: var(--sklearn-color-fitted-level-1) 1pt solid;\n",
       "  color: var(--sklearn-color-fitted-level-1);\n",
       "}\n",
       "\n",
       "/* On hover */\n",
       "#sk-container-id-2 a.estimator_doc_link:hover {\n",
       "  /* unfitted */\n",
       "  background-color: var(--sklearn-color-unfitted-level-3);\n",
       "  color: var(--sklearn-color-background);\n",
       "  text-decoration: none;\n",
       "}\n",
       "\n",
       "#sk-container-id-2 a.estimator_doc_link.fitted:hover {\n",
       "  /* fitted */\n",
       "  background-color: var(--sklearn-color-fitted-level-3);\n",
       "}\n",
       "</style><div id=\"sk-container-id-2\" class=\"sk-top-container\"><div class=\"sk-text-repr-fallback\"><pre>MLPRegressor(hidden_layer_sizes=[50, 50, 50, 50], solver=&#x27;lbfgs&#x27;)</pre><b>In a Jupyter environment, please rerun this cell to show the HTML representation or trust the notebook. <br />On GitHub, the HTML representation is unable to render, please try loading this page with nbviewer.org.</b></div><div class=\"sk-container\" hidden><div class=\"sk-item\"><div class=\"sk-estimator fitted sk-toggleable\"><input class=\"sk-toggleable__control sk-hidden--visually\" id=\"sk-estimator-id-2\" type=\"checkbox\" checked><label for=\"sk-estimator-id-2\" class=\"sk-toggleable__label fitted sk-toggleable__label-arrow fitted\">&nbsp;&nbsp;MLPRegressor<a class=\"sk-estimator-doc-link fitted\" rel=\"noreferrer\" target=\"_blank\" href=\"https://scikit-learn.org/1.5/modules/generated/sklearn.neural_network.MLPRegressor.html\">?<span>Documentation for MLPRegressor</span></a><span class=\"sk-estimator-doc-link fitted\">i<span>Fitted</span></span></label><div class=\"sk-toggleable__content fitted\"><pre>MLPRegressor(hidden_layer_sizes=[50, 50, 50, 50], solver=&#x27;lbfgs&#x27;)</pre></div> </div></div></div></div>"
      ]
     },
     "execution_count": 25,
     "metadata": {},
     "output_type": "execute_result"
    }
   ],
   "execution_count": 25
  },
  {
   "cell_type": "code",
   "id": "19abdf8e81c5732c",
   "metadata": {
    "ExecuteTime": {
     "end_time": "2025-05-06T04:53:07.508510Z",
     "start_time": "2025-05-06T04:53:07.380843Z"
    }
   },
   "source": [
    "\n",
    "pyplot.plot(zscored_t[:,l], alpha=0.5)\n",
    "pyplot.plot(p.predict(zscored_t[:,:l]), alpha=0.5)"
   ],
   "outputs": [
    {
     "data": {
      "text/plain": [
       "[<matplotlib.lines.Line2D at 0x22222a820c0>]"
      ]
     },
     "execution_count": 26,
     "metadata": {},
     "output_type": "execute_result"
    },
    {
     "data": {
      "text/plain": [
       "<Figure size 640x480 with 1 Axes>"
      ],
      "image/png": "[encoded data removed]"
     },
     "metadata": {},
     "output_type": "display_data"
    }
   ],
   "execution_count": 26
  },
  {
   "cell_type": "code",
   "id": "f10873cd315e28e0",
   "metadata": {
    "ExecuteTime": {
     "end_time": "2025-05-06T04:53:07.597407Z",
     "start_time": "2025-05-06T04:53:07.509512Z"
    }
   },
   "source": [
    "\n",
    "pyplot.plot(zscored_x[:,l], alpha=0.5)\n",
    "pyplot.plot(p.predict(zscored_x[:,:l]), alpha=0.5)"
   ],
   "outputs": [
    {
     "data": {
      "text/plain": [
       "[<matplotlib.lines.Line2D at 0x22222b31160>]"
      ]
     },
     "execution_count": 27,
     "metadata": {},
     "output_type": "execute_result"
    },
    {
     "data": {
      "text/plain": [
       "<Figure size 640x480 with 1 Axes>"
      ],
      "image/png": "[encoded data removed]"
     },
     "metadata": {},
     "output_type": "display_data"
    }
   ],
   "execution_count": 27
  },
  {
   "cell_type": "code",
   "id": "3e1045d4d5441768",
   "metadata": {
    "ExecuteTime": {
     "end_time": "2025-05-06T04:53:07.603363Z",
     "start_time": "2025-05-06T04:53:07.598440Z"
    }
   },
   "source": "p.score(zscored_x[:,:l], zscored_x[:,l])",
   "outputs": [
    {
     "data": {
      "text/plain": [
       "0.6314213200022203"
      ]
     },
     "execution_count": 28,
     "metadata": {},
     "output_type": "execute_result"
    }
   ],
   "execution_count": 28
  },
  {
   "cell_type": "code",
   "id": "5462dfd6e236689",
   "metadata": {
    "ExecuteTime": {
     "end_time": "2025-05-06T04:53:07.612410Z",
     "start_time": "2025-05-06T04:53:07.604357Z"
    }
   },
   "source": "p.score(zscored_t[:,:l], zscored_t[:,l])",
   "outputs": [
    {
     "data": {
      "text/plain": [
       "0.9697156292847721"
      ]
     },
     "execution_count": 29,
     "metadata": {},
     "output_type": "execute_result"
    }
   ],
   "execution_count": 29
  },
  {
   "metadata": {
    "ExecuteTime": {
     "end_time": "2025-05-06T04:53:07.617527Z",
     "start_time": "2025-05-06T04:53:07.612410Z"
    }
   },
   "cell_type": "code",
   "source": "numpy.corrcoef(p.predict(zscored_x[:,:l]), zscored_x[:,l])",
   "id": "a47c5b19183fdb7f",
   "outputs": [
    {
     "data": {
      "text/plain": [
       "array([[1.        , 0.81128816],\n",
       "       [0.81128816, 1.        ]])"
      ]
     },
     "execution_count": 30,
     "metadata": {},
     "output_type": "execute_result"
    }
   ],
   "execution_count": 30
  },
  {
   "metadata": {
    "ExecuteTime": {
     "end_time": "2025-05-06T04:53:07.634208Z",
     "start_time": "2025-05-06T04:53:07.617527Z"
    }
   },
   "cell_type": "code",
   "source": [
    "model = MarketSampleTransformer(l, 128, 4, 2)\n",
    "optimizer = optim.Adam(model.parameters(), lr=1e-3)\n",
    "# criterion = nn.SmoothL1Loss()\n",
    "criterion = nn.MSELoss()"
   ],
   "id": "e8b2dfd072bf0f34",
   "outputs": [
    {
     "name": "stderr",
     "output_type": "stream",
     "text": [
      "C:\\Users\\sangsiyuan\\AppData\\Roaming\\Python\\Python312\\site-packages\\torch\\nn\\modules\\transformer.py:306: UserWarning: enable_nested_tensor is True, but self.use_nested_tensor is False because encoder_layer.self_attn.batch_first was not True(use batch_first for better inference performance)\n",
      "  warnings.warn(f\"enable_nested_tensor is True, but self.use_nested_tensor is False because {why_not_sparsity_fast_path}\")\n"
     ]
    }
   ],
   "execution_count": 31
  },
  {
   "metadata": {
    "ExecuteTime": {
     "end_time": "2025-05-06T04:54:31.939318Z",
     "start_time": "2025-05-06T04:53:07.634208Z"
    }
   },
   "cell_type": "code",
   "source": [
    "batch_size = 600\n",
    "epoch_size = 200\n",
    "\n",
    "zscored_t_dataset = MarketSampleDataset(zscored_t)\n",
    "train_loader = DataLoader(zscored_t_dataset, batch_size=batch_size, shuffle=True)\n",
    "\n",
    "zscored_x_dataset = MarketSampleDataset(zscored_x)\n",
    "test_loader = DataLoader(zscored_x_dataset, batch_size=batch_size, shuffle=True)\n",
    "\n",
    "for epoch in range(epoch_size):\n",
    "    model.train()\n",
    "    total_loss = 0\n",
    "    for batch_x, batch_y in train_loader:\n",
    "        # batch_x, batch_y = batch_x, batch_y\n",
    "        optimizer.zero_grad()\n",
    "        pred = model(batch_x)\n",
    "        loss = criterion(pred, batch_y)\n",
    "        loss.backward()\n",
    "        optimizer.step()\n",
    "        total_loss += loss.item() * batch_x.size(0)\n",
    "    avg_loss = total_loss / len(train_loader.dataset)\n",
    "\n",
    "    model.eval()\n",
    "    test_loss = 0\n",
    "    with torch.no_grad():\n",
    "        for batch_x, batch_y in test_loader:\n",
    "            # batch_x, batch_y = batch_x, batch_y\n",
    "            pred = model(batch_x)\n",
    "            loss = criterion(pred, batch_y)\n",
    "            test_loss += loss.item() * batch_x.size(0)\n",
    "    avg_test_loss = test_loss / len(test_loader.dataset)\n",
    "\n",
    "    print(f\"Epoch {epoch+1}/{epoch_size} | Train Loss: {avg_loss:.6f} | Test Loss: {avg_test_loss:.6f}\")"
   ],
   "id": "da1f5bda8774a354",
   "outputs": [
    {
     "name": "stdout",
     "output_type": "stream",
     "text": [
      "Epoch 1/200 | Train Loss: 2.218716 | Test Loss: 1.341302\n",
      "Epoch 2/200 | Train Loss: 1.161160 | Test Loss: 0.837221\n",
      "Epoch 3/200 | Train Loss: 0.920286 | Test Loss: 0.769211\n",
      "Epoch 4/200 | Train Loss: 0.809444 | Test Loss: 0.667366\n",
      "Epoch 5/200 | Train Loss: 0.688613 | Test Loss: 0.644649\n",
      "Epoch 6/200 | Train Loss: 0.613697 | Test Loss: 0.602510\n",
      "Epoch 7/200 | Train Loss: 0.568667 | Test Loss: 0.566359\n",
      "Epoch 8/200 | Train Loss: 0.521619 | Test Loss: 0.525218\n",
      "Epoch 9/200 | Train Loss: 0.469058 | Test Loss: 0.489284\n",
      "Epoch 10/200 | Train Loss: 0.425165 | Test Loss: 0.455936\n",
      "Epoch 11/200 | Train Loss: 0.399682 | Test Loss: 0.433528\n",
      "Epoch 12/200 | Train Loss: 0.370602 | Test Loss: 0.394025\n",
      "Epoch 13/200 | Train Loss: 0.345866 | Test Loss: 0.385025\n",
      "Epoch 14/200 | Train Loss: 0.330564 | Test Loss: 0.370076\n",
      "Epoch 15/200 | Train Loss: 0.315833 | Test Loss: 0.364722\n",
      "Epoch 16/200 | Train Loss: 0.297987 | Test Loss: 0.367138\n",
      "Epoch 17/200 | Train Loss: 0.280068 | Test Loss: 0.347294\n",
      "Epoch 18/200 | Train Loss: 0.264116 | Test Loss: 0.368817\n",
      "Epoch 19/200 | Train Loss: 0.256044 | Test Loss: 0.333492\n",
      "Epoch 20/200 | Train Loss: 0.250032 | Test Loss: 0.328835\n",
      "Epoch 21/200 | Train Loss: 0.235646 | Test Loss: 0.343077\n",
      "Epoch 22/200 | Train Loss: 0.221671 | Test Loss: 0.319961\n",
      "Epoch 23/200 | Train Loss: 0.221111 | Test Loss: 0.324933\n",
      "Epoch 24/200 | Train Loss: 0.210262 | Test Loss: 0.323186\n",
      "Epoch 25/200 | Train Loss: 0.188133 | Test Loss: 0.313956\n",
      "Epoch 26/200 | Train Loss: 0.184871 | Test Loss: 0.305981\n",
      "Epoch 27/200 | Train Loss: 0.175814 | Test Loss: 0.321947\n",
      "Epoch 28/200 | Train Loss: 0.179813 | Test Loss: 0.301398\n",
      "Epoch 29/200 | Train Loss: 0.172373 | Test Loss: 0.359587\n",
      "Epoch 30/200 | Train Loss: 0.166235 | Test Loss: 0.295514\n",
      "Epoch 31/200 | Train Loss: 0.156961 | Test Loss: 0.310300\n",
      "Epoch 32/200 | Train Loss: 0.150490 | Test Loss: 0.299046\n",
      "Epoch 33/200 | Train Loss: 0.142846 | Test Loss: 0.299435\n",
      "Epoch 34/200 | Train Loss: 0.138961 | Test Loss: 0.346802\n",
      "Epoch 35/200 | Train Loss: 0.146556 | Test Loss: 0.296061\n",
      "Epoch 36/200 | Train Loss: 0.126886 | Test Loss: 0.279747\n",
      "Epoch 37/200 | Train Loss: 0.117308 | Test Loss: 0.273770\n",
      "Epoch 38/200 | Train Loss: 0.116156 | Test Loss: 0.269582\n",
      "Epoch 39/200 | Train Loss: 0.121374 | Test Loss: 0.317413\n",
      "Epoch 40/200 | Train Loss: 0.114016 | Test Loss: 0.294998\n",
      "Epoch 41/200 | Train Loss: 0.108647 | Test Loss: 0.287801\n",
      "Epoch 42/200 | Train Loss: 0.111562 | Test Loss: 0.281700\n",
      "Epoch 43/200 | Train Loss: 0.102773 | Test Loss: 0.279162\n",
      "Epoch 44/200 | Train Loss: 0.105063 | Test Loss: 0.268212\n",
      "Epoch 45/200 | Train Loss: 0.100121 | Test Loss: 0.267864\n",
      "Epoch 46/200 | Train Loss: 0.091128 | Test Loss: 0.279265\n",
      "Epoch 47/200 | Train Loss: 0.084714 | Test Loss: 0.268862\n",
      "Epoch 48/200 | Train Loss: 0.084502 | Test Loss: 0.259026\n",
      "Epoch 49/200 | Train Loss: 0.087270 | Test Loss: 0.258860\n",
      "Epoch 50/200 | Train Loss: 0.085741 | Test Loss: 0.270761\n",
      "Epoch 51/200 | Train Loss: 0.080485 | Test Loss: 0.284210\n",
      "Epoch 52/200 | Train Loss: 0.084047 | Test Loss: 0.265544\n",
      "Epoch 53/200 | Train Loss: 0.080328 | Test Loss: 0.253158\n",
      "Epoch 54/200 | Train Loss: 0.083645 | Test Loss: 0.263553\n",
      "Epoch 55/200 | Train Loss: 0.077681 | Test Loss: 0.248143\n",
      "Epoch 56/200 | Train Loss: 0.076241 | Test Loss: 0.251247\n",
      "Epoch 57/200 | Train Loss: 0.085902 | Test Loss: 0.267753\n",
      "Epoch 58/200 | Train Loss: 0.077971 | Test Loss: 0.253809\n",
      "Epoch 59/200 | Train Loss: 0.077292 | Test Loss: 0.275466\n",
      "Epoch 60/200 | Train Loss: 0.074109 | Test Loss: 0.250940\n",
      "Epoch 61/200 | Train Loss: 0.066917 | Test Loss: 0.272526\n",
      "Epoch 62/200 | Train Loss: 0.076843 | Test Loss: 0.255934\n",
      "Epoch 63/200 | Train Loss: 0.067303 | Test Loss: 0.266324\n",
      "Epoch 64/200 | Train Loss: 0.068790 | Test Loss: 0.256047\n",
      "Epoch 65/200 | Train Loss: 0.079038 | Test Loss: 0.258241\n",
      "Epoch 66/200 | Train Loss: 0.068754 | Test Loss: 0.265225\n",
      "Epoch 67/200 | Train Loss: 0.062733 | Test Loss: 0.250030\n",
      "Epoch 68/200 | Train Loss: 0.065196 | Test Loss: 0.257483\n",
      "Epoch 69/200 | Train Loss: 0.062745 | Test Loss: 0.254896\n",
      "Epoch 70/200 | Train Loss: 0.055279 | Test Loss: 0.262705\n",
      "Epoch 71/200 | Train Loss: 0.058457 | Test Loss: 0.240170\n",
      "Epoch 72/200 | Train Loss: 0.060345 | Test Loss: 0.256481\n",
      "Epoch 73/200 | Train Loss: 0.056522 | Test Loss: 0.260304\n",
      "Epoch 74/200 | Train Loss: 0.054775 | Test Loss: 0.278885\n",
      "Epoch 75/200 | Train Loss: 0.059226 | Test Loss: 0.243384\n",
      "Epoch 76/200 | Train Loss: 0.050749 | Test Loss: 0.253678\n",
      "Epoch 77/200 | Train Loss: 0.050358 | Test Loss: 0.253705\n",
      "Epoch 78/200 | Train Loss: 0.057388 | Test Loss: 0.257301\n",
      "Epoch 79/200 | Train Loss: 0.062581 | Test Loss: 0.272058\n",
      "Epoch 80/200 | Train Loss: 0.065501 | Test Loss: 0.269669\n",
      "Epoch 81/200 | Train Loss: 0.063041 | Test Loss: 0.250893\n",
      "Epoch 82/200 | Train Loss: 0.056641 | Test Loss: 0.264187\n",
      "Epoch 83/200 | Train Loss: 0.056166 | Test Loss: 0.270918\n",
      "Epoch 84/200 | Train Loss: 0.057448 | Test Loss: 0.242731\n",
      "Epoch 85/200 | Train Loss: 0.048080 | Test Loss: 0.272181\n",
      "Epoch 86/200 | Train Loss: 0.047648 | Test Loss: 0.250060\n",
      "Epoch 87/200 | Train Loss: 0.045529 | Test Loss: 0.265472\n",
      "Epoch 88/200 | Train Loss: 0.047916 | Test Loss: 0.238709\n",
      "Epoch 89/200 | Train Loss: 0.043393 | Test Loss: 0.262231\n",
      "Epoch 90/200 | Train Loss: 0.049429 | Test Loss: 0.268276\n",
      "Epoch 91/200 | Train Loss: 0.045503 | Test Loss: 0.254097\n",
      "Epoch 92/200 | Train Loss: 0.048238 | Test Loss: 0.262990\n",
      "Epoch 93/200 | Train Loss: 0.049155 | Test Loss: 0.246314\n",
      "Epoch 94/200 | Train Loss: 0.045161 | Test Loss: 0.236795\n",
      "Epoch 95/200 | Train Loss: 0.041528 | Test Loss: 0.239330\n",
      "Epoch 96/200 | Train Loss: 0.040861 | Test Loss: 0.260052\n",
      "Epoch 97/200 | Train Loss: 0.042293 | Test Loss: 0.244955\n",
      "Epoch 98/200 | Train Loss: 0.039228 | Test Loss: 0.237833\n",
      "Epoch 99/200 | Train Loss: 0.036663 | Test Loss: 0.244446\n",
      "Epoch 100/200 | Train Loss: 0.035109 | Test Loss: 0.248030\n",
      "Epoch 101/200 | Train Loss: 0.040644 | Test Loss: 0.241533\n",
      "Epoch 102/200 | Train Loss: 0.035003 | Test Loss: 0.249213\n",
      "Epoch 103/200 | Train Loss: 0.034027 | Test Loss: 0.232875\n",
      "Epoch 104/200 | Train Loss: 0.034874 | Test Loss: 0.246440\n",
      "Epoch 105/200 | Train Loss: 0.037781 | Test Loss: 0.236543\n",
      "Epoch 106/200 | Train Loss: 0.037546 | Test Loss: 0.251296\n",
      "Epoch 107/200 | Train Loss: 0.036732 | Test Loss: 0.250320\n",
      "Epoch 108/200 | Train Loss: 0.035618 | Test Loss: 0.240501\n",
      "Epoch 109/200 | Train Loss: 0.034710 | Test Loss: 0.238168\n",
      "Epoch 110/200 | Train Loss: 0.040321 | Test Loss: 0.239688\n",
      "Epoch 111/200 | Train Loss: 0.039284 | Test Loss: 0.251520\n",
      "Epoch 112/200 | Train Loss: 0.039108 | Test Loss: 0.244538\n",
      "Epoch 113/200 | Train Loss: 0.038091 | Test Loss: 0.252736\n",
      "Epoch 114/200 | Train Loss: 0.041931 | Test Loss: 0.245324\n",
      "Epoch 115/200 | Train Loss: 0.041191 | Test Loss: 0.250982\n",
      "Epoch 116/200 | Train Loss: 0.035275 | Test Loss: 0.239387\n",
      "Epoch 117/200 | Train Loss: 0.033350 | Test Loss: 0.252676\n",
      "Epoch 118/200 | Train Loss: 0.040660 | Test Loss: 0.246621\n",
      "Epoch 119/200 | Train Loss: 0.033412 | Test Loss: 0.243193\n",
      "Epoch 120/200 | Train Loss: 0.032527 | Test Loss: 0.238360\n",
      "Epoch 121/200 | Train Loss: 0.029891 | Test Loss: 0.249261\n",
      "Epoch 122/200 | Train Loss: 0.031590 | Test Loss: 0.250712\n",
      "Epoch 123/200 | Train Loss: 0.035833 | Test Loss: 0.251995\n",
      "Epoch 124/200 | Train Loss: 0.031460 | Test Loss: 0.235737\n",
      "Epoch 125/200 | Train Loss: 0.028200 | Test Loss: 0.237543\n",
      "Epoch 126/200 | Train Loss: 0.028192 | Test Loss: 0.250636\n",
      "Epoch 127/200 | Train Loss: 0.028918 | Test Loss: 0.239585\n",
      "Epoch 128/200 | Train Loss: 0.032529 | Test Loss: 0.259483\n",
      "Epoch 129/200 | Train Loss: 0.029679 | Test Loss: 0.254684\n",
      "Epoch 130/200 | Train Loss: 0.032858 | Test Loss: 0.241205\n",
      "Epoch 131/200 | Train Loss: 0.026280 | Test Loss: 0.233269\n",
      "Epoch 132/200 | Train Loss: 0.025831 | Test Loss: 0.244169\n",
      "Epoch 133/200 | Train Loss: 0.025498 | Test Loss: 0.244833\n",
      "Epoch 134/200 | Train Loss: 0.029096 | Test Loss: 0.234839\n",
      "Epoch 135/200 | Train Loss: 0.033311 | Test Loss: 0.249863\n",
      "Epoch 136/200 | Train Loss: 0.029240 | Test Loss: 0.231448\n",
      "Epoch 137/200 | Train Loss: 0.029850 | Test Loss: 0.243816\n",
      "Epoch 138/200 | Train Loss: 0.027278 | Test Loss: 0.244586\n",
      "Epoch 139/200 | Train Loss: 0.029320 | Test Loss: 0.242905\n",
      "Epoch 140/200 | Train Loss: 0.026248 | Test Loss: 0.241065\n",
      "Epoch 141/200 | Train Loss: 0.027033 | Test Loss: 0.248067\n",
      "Epoch 142/200 | Train Loss: 0.026717 | Test Loss: 0.241673\n",
      "Epoch 143/200 | Train Loss: 0.024725 | Test Loss: 0.243746\n",
      "Epoch 144/200 | Train Loss: 0.025489 | Test Loss: 0.244597\n",
      "Epoch 145/200 | Train Loss: 0.027565 | Test Loss: 0.253862\n",
      "Epoch 146/200 | Train Loss: 0.025175 | Test Loss: 0.229370\n",
      "Epoch 147/200 | Train Loss: 0.021056 | Test Loss: 0.235711\n",
      "Epoch 148/200 | Train Loss: 0.023752 | Test Loss: 0.240576\n",
      "Epoch 149/200 | Train Loss: 0.021949 | Test Loss: 0.245808\n",
      "Epoch 150/200 | Train Loss: 0.025973 | Test Loss: 0.235037\n",
      "Epoch 151/200 | Train Loss: 0.023985 | Test Loss: 0.250346\n",
      "Epoch 152/200 | Train Loss: 0.026392 | Test Loss: 0.236036\n",
      "Epoch 153/200 | Train Loss: 0.025739 | Test Loss: 0.245622\n",
      "Epoch 154/200 | Train Loss: 0.024565 | Test Loss: 0.248783\n",
      "Epoch 155/200 | Train Loss: 0.023786 | Test Loss: 0.244574\n",
      "Epoch 156/200 | Train Loss: 0.027083 | Test Loss: 0.235629\n",
      "Epoch 157/200 | Train Loss: 0.023629 | Test Loss: 0.245146\n",
      "Epoch 158/200 | Train Loss: 0.021934 | Test Loss: 0.242578\n",
      "Epoch 159/200 | Train Loss: 0.021740 | Test Loss: 0.240603\n",
      "Epoch 160/200 | Train Loss: 0.022193 | Test Loss: 0.245219\n",
      "Epoch 161/200 | Train Loss: 0.021796 | Test Loss: 0.244874\n",
      "Epoch 162/200 | Train Loss: 0.020549 | Test Loss: 0.244018\n",
      "Epoch 163/200 | Train Loss: 0.021471 | Test Loss: 0.252964\n",
      "Epoch 164/200 | Train Loss: 0.022697 | Test Loss: 0.234997\n",
      "Epoch 165/200 | Train Loss: 0.021322 | Test Loss: 0.240519\n",
      "Epoch 166/200 | Train Loss: 0.020683 | Test Loss: 0.247378\n",
      "Epoch 167/200 | Train Loss: 0.020540 | Test Loss: 0.234923\n",
      "Epoch 168/200 | Train Loss: 0.023492 | Test Loss: 0.235479\n",
      "Epoch 169/200 | Train Loss: 0.021180 | Test Loss: 0.248144\n",
      "Epoch 170/200 | Train Loss: 0.024514 | Test Loss: 0.236911\n",
      "Epoch 171/200 | Train Loss: 0.020806 | Test Loss: 0.243987\n",
      "Epoch 172/200 | Train Loss: 0.021117 | Test Loss: 0.256451\n",
      "Epoch 173/200 | Train Loss: 0.020653 | Test Loss: 0.238483\n",
      "Epoch 174/200 | Train Loss: 0.020677 | Test Loss: 0.251744\n",
      "Epoch 175/200 | Train Loss: 0.024380 | Test Loss: 0.251967\n",
      "Epoch 176/200 | Train Loss: 0.022820 | Test Loss: 0.252614\n",
      "Epoch 177/200 | Train Loss: 0.020459 | Test Loss: 0.242995\n",
      "Epoch 178/200 | Train Loss: 0.021809 | Test Loss: 0.241847\n",
      "Epoch 179/200 | Train Loss: 0.018398 | Test Loss: 0.237099\n",
      "Epoch 180/200 | Train Loss: 0.018382 | Test Loss: 0.228894\n",
      "Epoch 181/200 | Train Loss: 0.020160 | Test Loss: 0.241719\n",
      "Epoch 182/200 | Train Loss: 0.022597 | Test Loss: 0.249981\n",
      "Epoch 183/200 | Train Loss: 0.023688 | Test Loss: 0.236770\n",
      "Epoch 184/200 | Train Loss: 0.018268 | Test Loss: 0.238692\n",
      "Epoch 185/200 | Train Loss: 0.020995 | Test Loss: 0.240118\n",
      "Epoch 186/200 | Train Loss: 0.018684 | Test Loss: 0.232177\n",
      "Epoch 187/200 | Train Loss: 0.018385 | Test Loss: 0.233849\n",
      "Epoch 188/200 | Train Loss: 0.020775 | Test Loss: 0.243032\n",
      "Epoch 189/200 | Train Loss: 0.020695 | Test Loss: 0.230284\n",
      "Epoch 190/200 | Train Loss: 0.020130 | Test Loss: 0.239994\n",
      "Epoch 191/200 | Train Loss: 0.019673 | Test Loss: 0.241005\n",
      "Epoch 192/200 | Train Loss: 0.017643 | Test Loss: 0.233933\n",
      "Epoch 193/200 | Train Loss: 0.018252 | Test Loss: 0.230585\n",
      "Epoch 194/200 | Train Loss: 0.016722 | Test Loss: 0.236760\n",
      "Epoch 195/200 | Train Loss: 0.019256 | Test Loss: 0.242759\n",
      "Epoch 196/200 | Train Loss: 0.021209 | Test Loss: 0.245674\n",
      "Epoch 197/200 | Train Loss: 0.020121 | Test Loss: 0.241441\n",
      "Epoch 198/200 | Train Loss: 0.018659 | Test Loss: 0.239262\n",
      "Epoch 199/200 | Train Loss: 0.018329 | Test Loss: 0.238918\n",
      "Epoch 200/200 | Train Loss: 0.019018 | Test Loss: 0.240901\n"
     ]
    }
   ],
   "execution_count": 32
  },
  {
   "metadata": {
    "ExecuteTime": {
     "end_time": "2025-05-06T04:54:31.975366Z",
     "start_time": "2025-05-06T04:54:31.940321Z"
    }
   },
   "cell_type": "code",
   "source": [
    "model.eval()\n",
    "all_preds = []\n",
    "all_targets = []\n",
    "# 拿一批数据来预测\n",
    "with torch.no_grad():\n",
    "    for batch_x, batch_y in test_loader:\n",
    "        preds = model(batch_x)\n",
    "        all_preds.append(preds)    # 收集预测结果\n",
    "        all_targets.append(batch_y)  # 收集真实标签\n",
    "        \n",
    "all_preds = torch.cat(all_preds, dim=0).numpy()     # (400,)\n",
    "all_targets = torch.cat(all_targets, dim=0).numpy() # (400,)"
   ],
   "id": "c092ee3f28f9c9ec",
   "outputs": [],
   "execution_count": 33
  },
  {
   "metadata": {
    "ExecuteTime": {
     "end_time": "2025-05-06T04:54:32.105135Z",
     "start_time": "2025-05-06T04:54:31.976368Z"
    }
   },
   "cell_type": "code",
   "source": [
    "pyplot.figure(figsize=(8,5))\n",
    "pyplot.plot(all_preds, label=\"Predicted\", alpha=0.7)\n",
    "pyplot.plot(all_targets, label=\"True\", alpha=0.7)\n",
    "pyplot.legend()\n",
    "pyplot.title(\"Prediction vs True on Test Batch\")\n",
    "pyplot.show()"
   ],
   "id": "f1220659eabe99f3",
   "outputs": [
    {
     "data": {
      "text/plain": [
       "<Figure size 800x500 with 1 Axes>"
      ],
      "image/png": "[encoded data removed]"
     },
     "metadata": {},
     "output_type": "display_data"
    }
   ],
   "execution_count": 34
  },
  {
   "metadata": {
    "ExecuteTime": {
     "end_time": "2025-05-06T04:54:32.109768Z",
     "start_time": "2025-05-06T04:54:32.105135Z"
    }
   },
   "cell_type": "code",
   "source": [
    "from sklearn.metrics import mean_squared_error\n",
    "from sklearn.metrics import mean_absolute_error\n",
    "\n",
    "mse = mean_absolute_error(all_targets, all_preds)\n",
    "print(f\"Test MSE on 600 samples: {mse:.6f}\")"
   ],
   "id": "d51c26e73f17d1d6",
   "outputs": [
    {
     "name": "stdout",
     "output_type": "stream",
     "text": [
      "Test MSE on 600 samples: 0.310429\n"
     ]
    }
   ],
   "execution_count": 35
  },
  {
   "metadata": {
    "ExecuteTime": {
     "end_time": "2025-05-06T04:54:32.113941Z",
     "start_time": "2025-05-06T04:54:32.110771Z"
    }
   },
   "cell_type": "code",
   "source": [
    "from sklearn.metrics import r2_score\n",
    "r2 = r2_score(all_targets, all_preds)\n",
    "print(f\"Test R^2 on 600 samples: {r2:.6f}\")"
   ],
   "id": "f5cb8b1734932f4b",
   "outputs": [
    {
     "name": "stdout",
     "output_type": "stream",
     "text": [
      "Test R^2 on 600 samples: 0.735633\n"
     ]
    }
   ],
   "execution_count": 36
  },
  {
   "metadata": {
    "ExecuteTime": {
     "end_time": "2025-05-06T04:54:32.116316Z",
     "start_time": "2025-05-06T04:54:32.113941Z"
    }
   },
   "cell_type": "code",
   "source": "",
   "id": "6a176249960a6e33",
   "outputs": [],
   "execution_count": 36
  },
  {
   "metadata": {
    "ExecuteTime": {
     "end_time": "2025-05-06T04:54:32.118627Z",
     "start_time": "2025-05-06T04:54:32.116316Z"
    }
   },
   "cell_type": "code",
   "source": "",
   "id": "7aa6fdee4138a554",
   "outputs": [],
   "execution_count": 36
  },
  {
   "metadata": {
    "ExecuteTime": {
     "end_time": "2025-05-06T04:54:32.120828Z",
     "start_time": "2025-05-06T04:54:32.118627Z"
    }
   },
   "cell_type": "code",
   "source": "",
   "id": "504ce82166e4c7b7",
   "outputs": [],
   "execution_count": 36
  }
 ],
 "metadata": {
  "kernelspec": {
   "display_name": "Python 3 (ipykernel)",
   "language": "python",
   "name": "python3"
  },
  "language_info": {
   "codemirror_mode": {
    "name": "ipython",
    "version": 3
   },
   "file_extension": ".py",
   "mimetype": "text/x-python",
   "name": "python",
   "nbconvert_exporter": "python",
   "pygments_lexer": "ipython3",
   "version": "3.12.4"
  }
 },
 "nbformat": 4,
 "nbformat_minor": 5
}
