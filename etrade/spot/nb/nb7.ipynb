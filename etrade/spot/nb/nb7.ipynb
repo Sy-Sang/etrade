{
 "cells": [
  {
   "cell_type": "code",
   "id": "927340084fb5f5bd",
   "metadata": {
    "ExecuteTime": {
     "end_time": "2025-05-07T06:52:23.300467Z",
     "start_time": "2025-05-07T06:52:21.037671Z"
    }
   },
   "source": [
    "import numpy\n",
    "from etrade.spot.trader import Station\n",
    "from etrade.spot.market.recycle import BasicRecycle, PointwiseRecycle\n",
    "from etrade.spot.forecast.market import DistributiveSeries, DistributiveMarket\n",
    "from etrade.spot.forecast.plan_a.constructor import *\n",
    "from etrade.spot.forecast.plan_a.transformer import MarketSampleTransformer, MarketSampleDataset\n",
    "from etrade.spot.forecast.yieldindex import zero_quantile\n",
    "from etrade.spot.forecast import yieldindex\n",
    "from  data_utils.stochastic_utils.vdistributions.abstract import AbstractDistribution\n",
    "from  data_utils.stochastic_utils.vdistributions.parameter.continuous.basic import NormalDistribution, SkewNormalDistribution\n",
    "from data_utils.stochastic_utils.vdistributions.nonparametric.continuous.kernel2 import KernelMixDistribution\n",
    "from data_utils.stochastic_utils.vdistributions.tools.divergence import kl_divergence_continuous, crps, quantile_RMSE\n",
    "\n",
    "from data_utils.stochastic_utils.vdistributions.nonparametric.continuous.mfk.skewnd2 import dof_snd_fitter\n",
    "\n",
    "from scipy.optimize import differential_evolution\n",
    "\n",
    "from matplotlib import pyplot\n",
    "import json\n",
    "\n",
    "import torch\n",
    "from torch import nn\n",
    "import torch.optim as optim\n",
    "from torch.utils.data import Dataset, DataLoader"
   ],
   "outputs": [],
   "execution_count": 1
  },
  {
   "cell_type": "code",
   "id": "initial_id",
   "metadata": {
    "ExecuteTime": {
     "end_time": "2025-05-07T06:52:23.353948Z",
     "start_time": "2025-05-07T06:52:23.301477Z"
    }
   },
   "source": [
    "\n",
    "with open(r\"..\\forecast\\plan_a\\data\\market_simulator_5.json\", \"r\") as f:\n",
    "    train_data = json.loads(f.read())\n",
    "    \n",
    "with open(r\"..\\forecast\\plan_a\\data\\market_simulator_6.json\", \"r\") as f:\n",
    "    test_data = json.loads(f.read())"
   ],
   "outputs": [],
   "execution_count": 2
  },
  {
   "cell_type": "code",
   "id": "2302659a31e1b540",
   "metadata": {
    "ExecuteTime": {
     "end_time": "2025-05-07T06:52:23.362321Z",
     "start_time": "2025-05-07T06:52:23.354584Z"
    }
   },
   "source": [
    "train_data =numpy.asarray(train_data[\"data\"])\n",
    "test_data =numpy.asarray(test_data[\"data\"])"
   ],
   "outputs": [],
   "execution_count": 3
  },
  {
   "metadata": {
    "ExecuteTime": {
     "end_time": "2025-05-07T07:09:46.470021Z",
     "start_time": "2025-05-07T07:09:46.466870Z"
    }
   },
   "cell_type": "code",
   "source": "print(train_data[:10].tolist())",
   "id": "eb1089311f81dc6",
   "outputs": [
    {
     "name": "stdout",
     "output_type": "stream",
     "text": [
      "[[4.952430403757294, 3.932228028891235, 2.660454536516147, 10.14645089481867, 28.482237875563712, 31.8661809233361, 35.06362352248146, 46.184479317066625, -11.267884787029244, 0.9165033975304021, 4.397685592978052, 7.590465615932715, 20.480559678513327, -14.222598166332991, 0.8789472896259339, 4.518783165844632, 8.758114598100262, 23.240649571384246, -24.541023615679713, -16.066593364204333, -9.764333025738148, -4.541107178899347, -0.48859850948282957, 1.6256593475208685, 6.409112532657155, 12.033187520454021, 20.136054097545742, 0.0], [3.2139536913855786, 3.1106555689760915, 1.8205320271462693, -1.8418000739916727, 24.25204932141543, 32.683048107297864, 37.01814202312118, 50.807459698369556, -12.878999926115267, 0.3357429810046782, 3.5269989438575347, 8.74459131649545, 23.011983629777628, -3.792071785081487, 4.899153584393898, 7.159139199647409, 9.473199205378473, 17.385551423139564, -29.19855879021391, -20.723322034801473, -14.824999102151429, -8.934770060772099, -2.7245751799559628, 0.25171418878562657, 3.0433331883727672, 12.740343886812267, 31.771663405937247, -3.1452545323805623], [9.714844391295845, 1.1453916303707876, 1.6553820834483992, -4.81069547350199, 19.23004159296925, 25.076080372904254, 32.5559281063635, 47.12474158578634, -13.326567552768473, -0.42165728905914357, 4.608951293262331, 9.911955352409699, 24.254867545793786, -14.244228780730072, -0.06350345446642885, 3.8580738250421303, 7.294548001043989, 19.382306673780885, -74.48761909479052, -38.165524529109064, -9.342858832318298, -0.18674738949799524, 1.038678913534289, 18.629488511951873, 47.33131855702896, 88.58001836477338, 162.9356334804757, 3.442762332641237], [11.7700480040956, 1.008778855832414, 2.207606795119063, 0.37230071445655427, 11.189904194162414, 21.83556549215778, 39.29501910011718, 51.32426094151069, -8.546711019414584, 2.4390442430509944, 5.422633177103159, 8.50979329942768, 22.339741759728543, -12.419704353668086, 2.4375037695812325, 7.214472753594732, 10.519112011813215, 23.444406330715726, -59.49646049935529, -10.28505538546893, -1.6040924168552309, 0.2803826483510362, 2.5463946345507154, 6.908045180903366, 47.00503750218144, 157.2897297589285, 345.97069130871535, 2.51223388058024], [1.7000570084814972, 1.2900917870657247, 4.516474187619369, 2.0159633029152406, 10.216669948380416, 22.380765942051966, 22.380765942051966, 22.380765942051966, -14.225944148537735, 0.5317799688994509, 4.430003184741757, 9.04520393193229, 22.648350542632386, -1.492919457921996, 3.0757129026252823, 7.67983795016872, 9.945992686633037, 20.092439009182385, -21.50661034040933, -9.967235082058597, -2.5932405753006753, -0.1410477482819696, 1.2749060165072095, 6.347129838302043, 12.339623861479826, 17.974948287337835, 24.150552355489616, -1.4190824672280726], [2.7697529667232565, 4.722005686866753, 1.9060045510561439, -6.518455558625649, -0.6475388849012591, 1.9832278495221818, 7.071383582716433, 37.26931747132006, -10.904534290365008, -0.6265114395276534, 2.54620836347262, 6.623635240362838, 11.962465207998001, -12.332319365665585, -0.4902220681985429, 2.740159697000747, 7.470154295348463, 21.234469528926176, -23.22344038807547, -6.880491334026823, -3.0339225680954756, -0.7194732620331612, 0.0, 1.6730380884121523, 5.565984379236269, 9.646945555696249, 24.018114214101054, 0.0], [2.428488360702949, 2.4491658545484256, 1.4323272958776863, -12.517567599453667, 5.465451350245275, 13.307509257666167, 30.2657719293592, 53.64726599316574, -13.625712263978413, 2.473414932958719, 5.776915568618857, 7.949727961624175, 16.5738996218085, -12.830136842044652, 2.5357871112000794, 6.635199504781626, 9.263788362515726, 19.115521077375927, -107.2302283489823, -43.26432752579305, -4.890496232114767, -0.2148545654394973, 2.099692215815234, 6.312208669786877, 54.21892734565136, 176.9080714370506, 308.8858295593486, 2.6506682867662406], [2.6178087146961517, 1.4290204141229104, 2.3408444220198175, -2.591548163710357, 13.206834674067562, 28.006869149900936, 42.54557364101488, 60.103291663623175, -8.006724201248252, 4.473717087080303, 6.500789842190474, 9.06089798103212, 18.356597084324797, -3.139847389574927, 3.726811464366519, 4.929545528010766, 6.361646715074574, 20.713170281674124, -28.628683225943316, -3.6098477976985457, -1.0431329115442212, 0.24160082364547034, 4.529970008286682, 24.23358928334661, 53.527756098563515, 240.098986650417, 367.2003982346927, 5.543828774692074], [5.481046266812675, 1.063097488169828, 1.443483954480559, -3.2891507272351, 6.0274153986948305, 19.008450370079483, 42.0349721979116, 42.75324720480727, -11.619687293523095, 1.754275895892838, 4.827495629306272, 8.432113918914462, 20.724968913685796, -12.24969273930797, -1.1578765462926794, 3.073757466297156, 7.67417727011593, 12.924211995360007, -16.02043998887698, -2.50598313521092, -0.43223070660021706, 0.5657460993387222, 4.3607439253818825, 48.70548685942187, 101.43238269648617, 186.29497663815317, 308.64463699871357, 4.702789676499378], [4.079204543021155, 7.058298003921774, 2.4231304232929456, -0.061895251091211634, 22.043867858120553, 27.71217495991263, 31.495475501258515, 54.947360049653156, -10.581954441985102, 1.7399170369623154, 6.360312257157255, 10.9823791891445, 23.78437759346273, -3.891996774206908, 2.672942244570325, 4.369120742795327, 6.636453466588154, 19.105733357023603, -123.80903179731366, -64.93973882363619, -25.98866549867436, -2.944164271672214, 4.14402112590038, 31.32423673533173, 71.8233987800769, 127.59146434447077, 226.981838061061, 32.86339701459451]]\n"
     ]
    }
   ],
   "execution_count": 24
  },
  {
   "cell_type": "code",
   "id": "6d56030ef98a2bb9",
   "metadata": {
    "ExecuteTime": {
     "end_time": "2025-05-07T06:52:23.374092Z",
     "start_time": "2025-05-07T06:52:23.369779Z"
    }
   },
   "source": [
    "market_len = 1\n",
    "# l = 3 * market_len + market_len\n",
    "l = market_len * 3 + market_len * (5-0) * 3 + 9\n",
    "def zscore_p(x):\n",
    "    x = numpy.asarray(x)\n",
    "    m = numpy.mean(x, axis=0)\n",
    "    s = numpy.std(x, ddof=1, axis=0)\n",
    "    return m,s\n",
    "\n",
    "def zscore(x, m, s):\n",
    "    x = numpy.asarray(x)\n",
    "    m = numpy.asarray(m)\n",
    "    s = numpy.asarray(s)\n",
    "    # return numpy.column_stack((\n",
    "    #         (x[:,:l]-m[:l]) / s[:l], x[:,l]\n",
    "    # ))\n",
    "    return (x-m) / s\n",
    "\n",
    "def minmax_p(x):\n",
    "    x = numpy.asarray(x)\n",
    "    mmax = numpy.max(x, axis=0)\n",
    "    mmin = numpy.min(x, axis=0)\n",
    "    return mmin, mmax\n",
    "\n",
    "def minmax(x, mmin, mmax):\n",
    "    x = numpy.asarray(x)\n",
    "    mmin = numpy.asarray(mmin)\n",
    "    mmax = numpy.asarray(mmax)\n",
    "    return (x-mmin) / (mmax-mmin)\n",
    "    # return numpy.column_stack((\n",
    "    #         (x[:,:l]-mmin[:l]) / (mmax[:l]-mmin[:l]), x[:,l]\n",
    "    # ))\n",
    "    \n",
    "print(l)\n",
    "    "
   ],
   "outputs": [
    {
     "name": "stdout",
     "output_type": "stream",
     "text": [
      "27\n"
     ]
    }
   ],
   "execution_count": 5
  },
  {
   "cell_type": "code",
   "id": "4fe1c6779ebf759b",
   "metadata": {
    "ExecuteTime": {
     "end_time": "2025-05-07T06:52:23.379471Z",
     "start_time": "2025-05-07T06:52:23.374092Z"
    }
   },
   "source": [
    "m,s= zscore_p(train_data)\n",
    "zscored_t = zscore(train_data, m, s)\n",
    "zscored_x = zscore(test_data, m, s)\n",
    "\n",
    "mmin,mmax = minmax_p(train_data)\n",
    "minmaxed_t = minmax(train_data, mmin, mmax)\n",
    "minmaxed_x = minmax(test_data, mmin, mmax)\n",
    "\n",
    "print(zscored_t.shape)"
   ],
   "outputs": [
    {
     "name": "stdout",
     "output_type": "stream",
     "text": [
      "(3000, 28)\n"
     ]
    }
   ],
   "execution_count": 6
  },
  {
   "cell_type": "code",
   "id": "ba1bfd56948c3c24",
   "metadata": {
    "ExecuteTime": {
     "end_time": "2025-05-07T06:52:25.886542Z",
     "start_time": "2025-05-07T06:52:23.379471Z"
    }
   },
   "source": [
    "from sklearn.neural_network import MLPRegressor\n",
    "from sklearn.ensemble import GradientBoostingRegressor, RandomForestRegressor\n",
    "from sklearn.svm import SVR\n",
    "from sklearn.linear_model import LinearRegression\n",
    "from sklearn.kernel_ridge import KernelRidge\n",
    "p = MLPRegressor(\n",
    "    hidden_layer_sizes=[50] * 4,\n",
    "    activation=\"relu\",\n",
    "    solver=\"lbfgs\",\n",
    "    # alpha=1e-3,\n",
    "    # learning_rate_init=1e-3\n",
    ")\n",
    "# p = RandomForestRegressor(\n",
    "#     # alpha=0.999\n",
    "# )\n",
    "# p = SVR(\n",
    "#     # alpha=1\n",
    "# )\n",
    "p.fit(\n",
    "    zscored_t[:,:l],\n",
    "    zscored_t[:,l]\n",
    ")"
   ],
   "outputs": [
    {
     "name": "stderr",
     "output_type": "stream",
     "text": [
      "C:\\Users\\sangsiyuan\\AppData\\Roaming\\Python\\Python312\\site-packages\\sklearn\\neural_network\\_multilayer_perceptron.py:545: ConvergenceWarning: lbfgs failed to converge (status=1):\n",
      "STOP: TOTAL NO. of ITERATIONS REACHED LIMIT.\n",
      "\n",
      "Increase the number of iterations (max_iter) or scale the data as shown in:\n",
      "    https://scikit-learn.org/stable/modules/preprocessing.html\n",
      "  self.n_iter_ = _check_optimize_result(\"lbfgs\", opt_res, self.max_iter)\n"
     ]
    },
    {
     "data": {
      "text/plain": [
       "MLPRegressor(hidden_layer_sizes=[50, 50, 50, 50], solver='lbfgs')"
      ],
      "text/html": [
       "<style>#sk-container-id-1 {\n",
       "  /* Definition of color scheme common for light and dark mode */\n",
       "  --sklearn-color-text: black;\n",
       "  --sklearn-color-line: gray;\n",
       "  /* Definition of color scheme for unfitted estimators */\n",
       "  --sklearn-color-unfitted-level-0: #fff5e6;\n",
       "  --sklearn-color-unfitted-level-1: #f6e4d2;\n",
       "  --sklearn-color-unfitted-level-2: #ffe0b3;\n",
       "  --sklearn-color-unfitted-level-3: chocolate;\n",
       "  /* Definition of color scheme for fitted estimators */\n",
       "  --sklearn-color-fitted-level-0: #f0f8ff;\n",
       "  --sklearn-color-fitted-level-1: #d4ebff;\n",
       "  --sklearn-color-fitted-level-2: #b3dbfd;\n",
       "  --sklearn-color-fitted-level-3: cornflowerblue;\n",
       "\n",
       "  /* Specific color for light theme */\n",
       "  --sklearn-color-text-on-default-background: var(--sg-text-color, var(--theme-code-foreground, var(--jp-content-font-color1, black)));\n",
       "  --sklearn-color-background: var(--sg-background-color, var(--theme-background, var(--jp-layout-color0, white)));\n",
       "  --sklearn-color-border-box: var(--sg-text-color, var(--theme-code-foreground, var(--jp-content-font-color1, black)));\n",
       "  --sklearn-color-icon: #696969;\n",
       "\n",
       "  @media (prefers-color-scheme: dark) {\n",
       "    /* Redefinition of color scheme for dark theme */\n",
       "    --sklearn-color-text-on-default-background: var(--sg-text-color, var(--theme-code-foreground, var(--jp-content-font-color1, white)));\n",
       "    --sklearn-color-background: var(--sg-background-color, var(--theme-background, var(--jp-layout-color0, #111)));\n",
       "    --sklearn-color-border-box: var(--sg-text-color, var(--theme-code-foreground, var(--jp-content-font-color1, white)));\n",
       "    --sklearn-color-icon: #878787;\n",
       "  }\n",
       "}\n",
       "\n",
       "#sk-container-id-1 {\n",
       "  color: var(--sklearn-color-text);\n",
       "}\n",
       "\n",
       "#sk-container-id-1 pre {\n",
       "  padding: 0;\n",
       "}\n",
       "\n",
       "#sk-container-id-1 input.sk-hidden--visually {\n",
       "  border: 0;\n",
       "  clip: rect(1px 1px 1px 1px);\n",
       "  clip: rect(1px, 1px, 1px, 1px);\n",
       "  height: 1px;\n",
       "  margin: -1px;\n",
       "  overflow: hidden;\n",
       "  padding: 0;\n",
       "  position: absolute;\n",
       "  width: 1px;\n",
       "}\n",
       "\n",
       "#sk-container-id-1 div.sk-dashed-wrapped {\n",
       "  border: 1px dashed var(--sklearn-color-line);\n",
       "  margin: 0 0.4em 0.5em 0.4em;\n",
       "  box-sizing: border-box;\n",
       "  padding-bottom: 0.4em;\n",
       "  background-color: var(--sklearn-color-background);\n",
       "}\n",
       "\n",
       "#sk-container-id-1 div.sk-container {\n",
       "  /* jupyter's `normalize.less` sets `[hidden] { display: none; }`\n",
       "     but bootstrap.min.css set `[hidden] { display: none !important; }`\n",
       "     so we also need the `!important` here to be able to override the\n",
       "     default hidden behavior on the sphinx rendered scikit-learn.org.\n",
       "     See: https://github.com/scikit-learn/scikit-learn/issues/21755 */\n",
       "  display: inline-block !important;\n",
       "  position: relative;\n",
       "}\n",
       "\n",
       "#sk-container-id-1 div.sk-text-repr-fallback {\n",
       "  display: none;\n",
       "}\n",
       "\n",
       "div.sk-parallel-item,\n",
       "div.sk-serial,\n",
       "div.sk-item {\n",
       "  /* draw centered vertical line to link estimators */\n",
       "  background-image: linear-gradient(var(--sklearn-color-text-on-default-background), var(--sklearn-color-text-on-default-background));\n",
       "  background-size: 2px 100%;\n",
       "  background-repeat: no-repeat;\n",
       "  background-position: center center;\n",
       "}\n",
       "\n",
       "/* Parallel-specific style estimator block */\n",
       "\n",
       "#sk-container-id-1 div.sk-parallel-item::after {\n",
       "  content: \"\";\n",
       "  width: 100%;\n",
       "  border-bottom: 2px solid var(--sklearn-color-text-on-default-background);\n",
       "  flex-grow: 1;\n",
       "}\n",
       "\n",
       "#sk-container-id-1 div.sk-parallel {\n",
       "  display: flex;\n",
       "  align-items: stretch;\n",
       "  justify-content: center;\n",
       "  background-color: var(--sklearn-color-background);\n",
       "  position: relative;\n",
       "}\n",
       "\n",
       "#sk-container-id-1 div.sk-parallel-item {\n",
       "  display: flex;\n",
       "  flex-direction: column;\n",
       "}\n",
       "\n",
       "#sk-container-id-1 div.sk-parallel-item:first-child::after {\n",
       "  align-self: flex-end;\n",
       "  width: 50%;\n",
       "}\n",
       "\n",
       "#sk-container-id-1 div.sk-parallel-item:last-child::after {\n",
       "  align-self: flex-start;\n",
       "  width: 50%;\n",
       "}\n",
       "\n",
       "#sk-container-id-1 div.sk-parallel-item:only-child::after {\n",
       "  width: 0;\n",
       "}\n",
       "\n",
       "/* Serial-specific style estimator block */\n",
       "\n",
       "#sk-container-id-1 div.sk-serial {\n",
       "  display: flex;\n",
       "  flex-direction: column;\n",
       "  align-items: center;\n",
       "  background-color: var(--sklearn-color-background);\n",
       "  padding-right: 1em;\n",
       "  padding-left: 1em;\n",
       "}\n",
       "\n",
       "\n",
       "/* Toggleable style: style used for estimator/Pipeline/ColumnTransformer box that is\n",
       "clickable and can be expanded/collapsed.\n",
       "- Pipeline and ColumnTransformer use this feature and define the default style\n",
       "- Estimators will overwrite some part of the style using the `sk-estimator` class\n",
       "*/\n",
       "\n",
       "/* Pipeline and ColumnTransformer style (default) */\n",
       "\n",
       "#sk-container-id-1 div.sk-toggleable {\n",
       "  /* Default theme specific background. It is overwritten whether we have a\n",
       "  specific estimator or a Pipeline/ColumnTransformer */\n",
       "  background-color: var(--sklearn-color-background);\n",
       "}\n",
       "\n",
       "/* Toggleable label */\n",
       "#sk-container-id-1 label.sk-toggleable__label {\n",
       "  cursor: pointer;\n",
       "  display: block;\n",
       "  width: 100%;\n",
       "  margin-bottom: 0;\n",
       "  padding: 0.5em;\n",
       "  box-sizing: border-box;\n",
       "  text-align: center;\n",
       "}\n",
       "\n",
       "#sk-container-id-1 label.sk-toggleable__label-arrow:before {\n",
       "  /* Arrow on the left of the label */\n",
       "  content: \"▸\";\n",
       "  float: left;\n",
       "  margin-right: 0.25em;\n",
       "  color: var(--sklearn-color-icon);\n",
       "}\n",
       "\n",
       "#sk-container-id-1 label.sk-toggleable__label-arrow:hover:before {\n",
       "  color: var(--sklearn-color-text);\n",
       "}\n",
       "\n",
       "/* Toggleable content - dropdown */\n",
       "\n",
       "#sk-container-id-1 div.sk-toggleable__content {\n",
       "  max-height: 0;\n",
       "  max-width: 0;\n",
       "  overflow: hidden;\n",
       "  text-align: left;\n",
       "  /* unfitted */\n",
       "  background-color: var(--sklearn-color-unfitted-level-0);\n",
       "}\n",
       "\n",
       "#sk-container-id-1 div.sk-toggleable__content.fitted {\n",
       "  /* fitted */\n",
       "  background-color: var(--sklearn-color-fitted-level-0);\n",
       "}\n",
       "\n",
       "#sk-container-id-1 div.sk-toggleable__content pre {\n",
       "  margin: 0.2em;\n",
       "  border-radius: 0.25em;\n",
       "  color: var(--sklearn-color-text);\n",
       "  /* unfitted */\n",
       "  background-color: var(--sklearn-color-unfitted-level-0);\n",
       "}\n",
       "\n",
       "#sk-container-id-1 div.sk-toggleable__content.fitted pre {\n",
       "  /* unfitted */\n",
       "  background-color: var(--sklearn-color-fitted-level-0);\n",
       "}\n",
       "\n",
       "#sk-container-id-1 input.sk-toggleable__control:checked~div.sk-toggleable__content {\n",
       "  /* Expand drop-down */\n",
       "  max-height: 200px;\n",
       "  max-width: 100%;\n",
       "  overflow: auto;\n",
       "}\n",
       "\n",
       "#sk-container-id-1 input.sk-toggleable__control:checked~label.sk-toggleable__label-arrow:before {\n",
       "  content: \"▾\";\n",
       "}\n",
       "\n",
       "/* Pipeline/ColumnTransformer-specific style */\n",
       "\n",
       "#sk-container-id-1 div.sk-label input.sk-toggleable__control:checked~label.sk-toggleable__label {\n",
       "  color: var(--sklearn-color-text);\n",
       "  background-color: var(--sklearn-color-unfitted-level-2);\n",
       "}\n",
       "\n",
       "#sk-container-id-1 div.sk-label.fitted input.sk-toggleable__control:checked~label.sk-toggleable__label {\n",
       "  background-color: var(--sklearn-color-fitted-level-2);\n",
       "}\n",
       "\n",
       "/* Estimator-specific style */\n",
       "\n",
       "/* Colorize estimator box */\n",
       "#sk-container-id-1 div.sk-estimator input.sk-toggleable__control:checked~label.sk-toggleable__label {\n",
       "  /* unfitted */\n",
       "  background-color: var(--sklearn-color-unfitted-level-2);\n",
       "}\n",
       "\n",
       "#sk-container-id-1 div.sk-estimator.fitted input.sk-toggleable__control:checked~label.sk-toggleable__label {\n",
       "  /* fitted */\n",
       "  background-color: var(--sklearn-color-fitted-level-2);\n",
       "}\n",
       "\n",
       "#sk-container-id-1 div.sk-label label.sk-toggleable__label,\n",
       "#sk-container-id-1 div.sk-label label {\n",
       "  /* The background is the default theme color */\n",
       "  color: var(--sklearn-color-text-on-default-background);\n",
       "}\n",
       "\n",
       "/* On hover, darken the color of the background */\n",
       "#sk-container-id-1 div.sk-label:hover label.sk-toggleable__label {\n",
       "  color: var(--sklearn-color-text);\n",
       "  background-color: var(--sklearn-color-unfitted-level-2);\n",
       "}\n",
       "\n",
       "/* Label box, darken color on hover, fitted */\n",
       "#sk-container-id-1 div.sk-label.fitted:hover label.sk-toggleable__label.fitted {\n",
       "  color: var(--sklearn-color-text);\n",
       "  background-color: var(--sklearn-color-fitted-level-2);\n",
       "}\n",
       "\n",
       "/* Estimator label */\n",
       "\n",
       "#sk-container-id-1 div.sk-label label {\n",
       "  font-family: monospace;\n",
       "  font-weight: bold;\n",
       "  display: inline-block;\n",
       "  line-height: 1.2em;\n",
       "}\n",
       "\n",
       "#sk-container-id-1 div.sk-label-container {\n",
       "  text-align: center;\n",
       "}\n",
       "\n",
       "/* Estimator-specific */\n",
       "#sk-container-id-1 div.sk-estimator {\n",
       "  font-family: monospace;\n",
       "  border: 1px dotted var(--sklearn-color-border-box);\n",
       "  border-radius: 0.25em;\n",
       "  box-sizing: border-box;\n",
       "  margin-bottom: 0.5em;\n",
       "  /* unfitted */\n",
       "  background-color: var(--sklearn-color-unfitted-level-0);\n",
       "}\n",
       "\n",
       "#sk-container-id-1 div.sk-estimator.fitted {\n",
       "  /* fitted */\n",
       "  background-color: var(--sklearn-color-fitted-level-0);\n",
       "}\n",
       "\n",
       "/* on hover */\n",
       "#sk-container-id-1 div.sk-estimator:hover {\n",
       "  /* unfitted */\n",
       "  background-color: var(--sklearn-color-unfitted-level-2);\n",
       "}\n",
       "\n",
       "#sk-container-id-1 div.sk-estimator.fitted:hover {\n",
       "  /* fitted */\n",
       "  background-color: var(--sklearn-color-fitted-level-2);\n",
       "}\n",
       "\n",
       "/* Specification for estimator info (e.g. \"i\" and \"?\") */\n",
       "\n",
       "/* Common style for \"i\" and \"?\" */\n",
       "\n",
       ".sk-estimator-doc-link,\n",
       "a:link.sk-estimator-doc-link,\n",
       "a:visited.sk-estimator-doc-link {\n",
       "  float: right;\n",
       "  font-size: smaller;\n",
       "  line-height: 1em;\n",
       "  font-family: monospace;\n",
       "  background-color: var(--sklearn-color-background);\n",
       "  border-radius: 1em;\n",
       "  height: 1em;\n",
       "  width: 1em;\n",
       "  text-decoration: none !important;\n",
       "  margin-left: 1ex;\n",
       "  /* unfitted */\n",
       "  border: var(--sklearn-color-unfitted-level-1) 1pt solid;\n",
       "  color: var(--sklearn-color-unfitted-level-1);\n",
       "}\n",
       "\n",
       ".sk-estimator-doc-link.fitted,\n",
       "a:link.sk-estimator-doc-link.fitted,\n",
       "a:visited.sk-estimator-doc-link.fitted {\n",
       "  /* fitted */\n",
       "  border: var(--sklearn-color-fitted-level-1) 1pt solid;\n",
       "  color: var(--sklearn-color-fitted-level-1);\n",
       "}\n",
       "\n",
       "/* On hover */\n",
       "div.sk-estimator:hover .sk-estimator-doc-link:hover,\n",
       ".sk-estimator-doc-link:hover,\n",
       "div.sk-label-container:hover .sk-estimator-doc-link:hover,\n",
       ".sk-estimator-doc-link:hover {\n",
       "  /* unfitted */\n",
       "  background-color: var(--sklearn-color-unfitted-level-3);\n",
       "  color: var(--sklearn-color-background);\n",
       "  text-decoration: none;\n",
       "}\n",
       "\n",
       "div.sk-estimator.fitted:hover .sk-estimator-doc-link.fitted:hover,\n",
       ".sk-estimator-doc-link.fitted:hover,\n",
       "div.sk-label-container:hover .sk-estimator-doc-link.fitted:hover,\n",
       ".sk-estimator-doc-link.fitted:hover {\n",
       "  /* fitted */\n",
       "  background-color: var(--sklearn-color-fitted-level-3);\n",
       "  color: var(--sklearn-color-background);\n",
       "  text-decoration: none;\n",
       "}\n",
       "\n",
       "/* Span, style for the box shown on hovering the info icon */\n",
       ".sk-estimator-doc-link span {\n",
       "  display: none;\n",
       "  z-index: 9999;\n",
       "  position: relative;\n",
       "  font-weight: normal;\n",
       "  right: .2ex;\n",
       "  padding: .5ex;\n",
       "  margin: .5ex;\n",
       "  width: min-content;\n",
       "  min-width: 20ex;\n",
       "  max-width: 50ex;\n",
       "  color: var(--sklearn-color-text);\n",
       "  box-shadow: 2pt 2pt 4pt #999;\n",
       "  /* unfitted */\n",
       "  background: var(--sklearn-color-unfitted-level-0);\n",
       "  border: .5pt solid var(--sklearn-color-unfitted-level-3);\n",
       "}\n",
       "\n",
       ".sk-estimator-doc-link.fitted span {\n",
       "  /* fitted */\n",
       "  background: var(--sklearn-color-fitted-level-0);\n",
       "  border: var(--sklearn-color-fitted-level-3);\n",
       "}\n",
       "\n",
       ".sk-estimator-doc-link:hover span {\n",
       "  display: block;\n",
       "}\n",
       "\n",
       "/* \"?\"-specific style due to the `<a>` HTML tag */\n",
       "\n",
       "#sk-container-id-1 a.estimator_doc_link {\n",
       "  float: right;\n",
       "  font-size: 1rem;\n",
       "  line-height: 1em;\n",
       "  font-family: monospace;\n",
       "  background-color: var(--sklearn-color-background);\n",
       "  border-radius: 1rem;\n",
       "  height: 1rem;\n",
       "  width: 1rem;\n",
       "  text-decoration: none;\n",
       "  /* unfitted */\n",
       "  color: var(--sklearn-color-unfitted-level-1);\n",
       "  border: var(--sklearn-color-unfitted-level-1) 1pt solid;\n",
       "}\n",
       "\n",
       "#sk-container-id-1 a.estimator_doc_link.fitted {\n",
       "  /* fitted */\n",
       "  border: var(--sklearn-color-fitted-level-1) 1pt solid;\n",
       "  color: var(--sklearn-color-fitted-level-1);\n",
       "}\n",
       "\n",
       "/* On hover */\n",
       "#sk-container-id-1 a.estimator_doc_link:hover {\n",
       "  /* unfitted */\n",
       "  background-color: var(--sklearn-color-unfitted-level-3);\n",
       "  color: var(--sklearn-color-background);\n",
       "  text-decoration: none;\n",
       "}\n",
       "\n",
       "#sk-container-id-1 a.estimator_doc_link.fitted:hover {\n",
       "  /* fitted */\n",
       "  background-color: var(--sklearn-color-fitted-level-3);\n",
       "}\n",
       "</style><div id=\"sk-container-id-1\" class=\"sk-top-container\"><div class=\"sk-text-repr-fallback\"><pre>MLPRegressor(hidden_layer_sizes=[50, 50, 50, 50], solver=&#x27;lbfgs&#x27;)</pre><b>In a Jupyter environment, please rerun this cell to show the HTML representation or trust the notebook. <br />On GitHub, the HTML representation is unable to render, please try loading this page with nbviewer.org.</b></div><div class=\"sk-container\" hidden><div class=\"sk-item\"><div class=\"sk-estimator fitted sk-toggleable\"><input class=\"sk-toggleable__control sk-hidden--visually\" id=\"sk-estimator-id-1\" type=\"checkbox\" checked><label for=\"sk-estimator-id-1\" class=\"sk-toggleable__label fitted sk-toggleable__label-arrow fitted\">&nbsp;&nbsp;MLPRegressor<a class=\"sk-estimator-doc-link fitted\" rel=\"noreferrer\" target=\"_blank\" href=\"https://scikit-learn.org/1.5/modules/generated/sklearn.neural_network.MLPRegressor.html\">?<span>Documentation for MLPRegressor</span></a><span class=\"sk-estimator-doc-link fitted\">i<span>Fitted</span></span></label><div class=\"sk-toggleable__content fitted\"><pre>MLPRegressor(hidden_layer_sizes=[50, 50, 50, 50], solver=&#x27;lbfgs&#x27;)</pre></div> </div></div></div></div>"
      ]
     },
     "execution_count": 7,
     "metadata": {},
     "output_type": "execute_result"
    }
   ],
   "execution_count": 7
  },
  {
   "cell_type": "code",
   "id": "19abdf8e81c5732c",
   "metadata": {
    "ExecuteTime": {
     "end_time": "2025-05-07T06:52:26.009328Z",
     "start_time": "2025-05-07T06:52:25.887545Z"
    }
   },
   "source": [
    "\n",
    "pyplot.plot(zscored_t[:,l], alpha=0.5)\n",
    "pyplot.plot(p.predict(zscored_t[:,:l]), alpha=0.5)"
   ],
   "outputs": [
    {
     "data": {
      "text/plain": [
       "[<matplotlib.lines.Line2D at 0x29472d25370>]"
      ]
     },
     "execution_count": 8,
     "metadata": {},
     "output_type": "execute_result"
    },
    {
     "data": {
      "text/plain": [
       "<Figure size 640x480 with 1 Axes>"
      ],
      "image/png": "[encoded data removed]"
     },
     "metadata": {},
     "output_type": "display_data"
    }
   ],
   "execution_count": 8
  },
  {
   "cell_type": "code",
   "id": "f10873cd315e28e0",
   "metadata": {
    "ExecuteTime": {
     "end_time": "2025-05-07T06:52:26.095714Z",
     "start_time": "2025-05-07T06:52:26.010330Z"
    }
   },
   "source": [
    "\n",
    "pyplot.plot(zscored_x[:,l], alpha=0.5)\n",
    "pyplot.plot(p.predict(zscored_x[:,:l]), alpha=0.5)"
   ],
   "outputs": [
    {
     "data": {
      "text/plain": [
       "[<matplotlib.lines.Line2D at 0x29472dd39e0>]"
      ]
     },
     "execution_count": 9,
     "metadata": {},
     "output_type": "execute_result"
    },
    {
     "data": {
      "text/plain": [
       "<Figure size 640x480 with 1 Axes>"
      ],
      "image/png": "[encoded data removed]"
     },
     "metadata": {},
     "output_type": "display_data"
    }
   ],
   "execution_count": 9
  },
  {
   "cell_type": "code",
   "id": "3e1045d4d5441768",
   "metadata": {
    "ExecuteTime": {
     "end_time": "2025-05-07T06:52:26.101036Z",
     "start_time": "2025-05-07T06:52:26.096717Z"
    }
   },
   "source": "p.score(zscored_x[:,:l], zscored_x[:,l])",
   "outputs": [
    {
     "data": {
      "text/plain": [
       "0.3924618735514602"
      ]
     },
     "execution_count": 10,
     "metadata": {},
     "output_type": "execute_result"
    }
   ],
   "execution_count": 10
  },
  {
   "cell_type": "code",
   "id": "5462dfd6e236689",
   "metadata": {
    "ExecuteTime": {
     "end_time": "2025-05-07T06:52:26.108556Z",
     "start_time": "2025-05-07T06:52:26.101036Z"
    }
   },
   "source": "p.score(zscored_t[:,:l], zscored_t[:,l])",
   "outputs": [
    {
     "data": {
      "text/plain": [
       "0.981414184731259"
      ]
     },
     "execution_count": 11,
     "metadata": {},
     "output_type": "execute_result"
    }
   ],
   "execution_count": 11
  },
  {
   "metadata": {
    "ExecuteTime": {
     "end_time": "2025-05-07T06:52:26.113637Z",
     "start_time": "2025-05-07T06:52:26.109559Z"
    }
   },
   "cell_type": "code",
   "source": "numpy.corrcoef(p.predict(zscored_x[:,:l]), zscored_x[:,l])",
   "id": "a47c5b19183fdb7f",
   "outputs": [
    {
     "data": {
      "text/plain": [
       "array([[1.        , 0.62782516],\n",
       "       [0.62782516, 1.        ]])"
      ]
     },
     "execution_count": 12,
     "metadata": {},
     "output_type": "execute_result"
    }
   ],
   "execution_count": 12
  },
  {
   "metadata": {
    "ExecuteTime": {
     "end_time": "2025-05-07T06:52:26.959589Z",
     "start_time": "2025-05-07T06:52:26.114641Z"
    }
   },
   "cell_type": "code",
   "source": [
    "model = MarketSampleTransformer(l, 64, 4, 2)\n",
    "optimizer = optim.Adam(model.parameters(), lr=1e-3)\n",
    "# criterion = nn.SmoothL1Loss()\n",
    "criterion = nn.MSELoss()"
   ],
   "id": "e8b2dfd072bf0f34",
   "outputs": [
    {
     "name": "stderr",
     "output_type": "stream",
     "text": [
      "C:\\Users\\sangsiyuan\\AppData\\Roaming\\Python\\Python312\\site-packages\\torch\\nn\\modules\\transformer.py:306: UserWarning: enable_nested_tensor is True, but self.use_nested_tensor is False because encoder_layer.self_attn.batch_first was not True(use batch_first for better inference performance)\n",
      "  warnings.warn(f\"enable_nested_tensor is True, but self.use_nested_tensor is False because {why_not_sparsity_fast_path}\")\n"
     ]
    }
   ],
   "execution_count": 13
  },
  {
   "metadata": {
    "ExecuteTime": {
     "end_time": "2025-05-07T06:53:30.063881Z",
     "start_time": "2025-05-07T06:52:26.961592Z"
    }
   },
   "cell_type": "code",
   "source": [
    "batch_size = 600\n",
    "epoch_size = 200\n",
    "\n",
    "zscored_t_dataset = MarketSampleDataset(zscored_t)\n",
    "train_loader = DataLoader(zscored_t_dataset, batch_size=batch_size, shuffle=True)\n",
    "\n",
    "zscored_x_dataset = MarketSampleDataset(zscored_x)\n",
    "test_loader = DataLoader(zscored_x_dataset, batch_size=batch_size, shuffle=True)\n",
    "\n",
    "for epoch in range(epoch_size):\n",
    "    model.train()\n",
    "    total_loss = 0\n",
    "    for batch_x, batch_y in train_loader:\n",
    "        # batch_x, batch_y = batch_x, batch_y\n",
    "        optimizer.zero_grad()\n",
    "        pred = model(batch_x)\n",
    "        loss = criterion(pred, batch_y)\n",
    "        loss.backward()\n",
    "        optimizer.step()\n",
    "        total_loss += loss.item() * batch_x.size(0)\n",
    "    avg_loss = total_loss / len(train_loader.dataset)\n",
    "\n",
    "    model.eval()\n",
    "    test_loss = 0\n",
    "    with torch.no_grad():\n",
    "        for batch_x, batch_y in test_loader:\n",
    "            # batch_x, batch_y = batch_x, batch_y\n",
    "            pred = model(batch_x)\n",
    "            loss = criterion(pred, batch_y)\n",
    "            test_loss += loss.item() * batch_x.size(0)\n",
    "    avg_test_loss = test_loss / len(test_loader.dataset)\n",
    "\n",
    "    print(f\"Epoch {epoch+1}/{epoch_size} | Train Loss: {avg_loss:.6f} | Test Loss: {avg_test_loss:.6f}\")"
   ],
   "id": "da1f5bda8774a354",
   "outputs": [
    {
     "name": "stdout",
     "output_type": "stream",
     "text": [
      "Epoch 1/200 | Train Loss: 2.161061 | Test Loss: 2.000556\n",
      "Epoch 2/200 | Train Loss: 1.084113 | Test Loss: 1.697919\n",
      "Epoch 3/200 | Train Loss: 1.001072 | Test Loss: 1.628711\n",
      "Epoch 4/200 | Train Loss: 0.973059 | Test Loss: 1.515044\n",
      "Epoch 5/200 | Train Loss: 0.891509 | Test Loss: 1.458602\n",
      "Epoch 6/200 | Train Loss: 0.840995 | Test Loss: 1.408949\n",
      "Epoch 7/200 | Train Loss: 0.798401 | Test Loss: 1.397867\n",
      "Epoch 8/200 | Train Loss: 0.768120 | Test Loss: 1.300080\n",
      "Epoch 9/200 | Train Loss: 0.713233 | Test Loss: 1.253358\n",
      "Epoch 10/200 | Train Loss: 0.659483 | Test Loss: 1.181001\n",
      "Epoch 11/200 | Train Loss: 0.592299 | Test Loss: 1.119124\n",
      "Epoch 12/200 | Train Loss: 0.558184 | Test Loss: 1.067145\n",
      "Epoch 13/200 | Train Loss: 0.509741 | Test Loss: 1.026760\n",
      "Epoch 14/200 | Train Loss: 0.477860 | Test Loss: 1.037546\n",
      "Epoch 15/200 | Train Loss: 0.456609 | Test Loss: 1.109004\n",
      "Epoch 16/200 | Train Loss: 0.443578 | Test Loss: 1.097545\n",
      "Epoch 17/200 | Train Loss: 0.412126 | Test Loss: 1.051207\n",
      "Epoch 18/200 | Train Loss: 0.396771 | Test Loss: 1.109651\n",
      "Epoch 19/200 | Train Loss: 0.378431 | Test Loss: 1.083331\n",
      "Epoch 20/200 | Train Loss: 0.362990 | Test Loss: 1.008039\n",
      "Epoch 21/200 | Train Loss: 0.352321 | Test Loss: 1.150301\n",
      "Epoch 22/200 | Train Loss: 0.350615 | Test Loss: 0.896915\n",
      "Epoch 23/200 | Train Loss: 0.337392 | Test Loss: 1.029041\n",
      "Epoch 24/200 | Train Loss: 0.316805 | Test Loss: 1.053597\n",
      "Epoch 25/200 | Train Loss: 0.302610 | Test Loss: 0.952803\n",
      "Epoch 26/200 | Train Loss: 0.301070 | Test Loss: 0.893162\n",
      "Epoch 27/200 | Train Loss: 0.285866 | Test Loss: 1.009916\n",
      "Epoch 28/200 | Train Loss: 0.280640 | Test Loss: 0.924611\n",
      "Epoch 29/200 | Train Loss: 0.289046 | Test Loss: 0.946318\n",
      "Epoch 30/200 | Train Loss: 0.280981 | Test Loss: 1.019608\n",
      "Epoch 31/200 | Train Loss: 0.276697 | Test Loss: 0.914925\n",
      "Epoch 32/200 | Train Loss: 0.261379 | Test Loss: 1.132572\n",
      "Epoch 33/200 | Train Loss: 0.268822 | Test Loss: 0.849884\n",
      "Epoch 34/200 | Train Loss: 0.284618 | Test Loss: 1.078809\n",
      "Epoch 35/200 | Train Loss: 0.274777 | Test Loss: 1.206337\n",
      "Epoch 36/200 | Train Loss: 0.264397 | Test Loss: 1.008573\n",
      "Epoch 37/200 | Train Loss: 0.254820 | Test Loss: 0.853699\n",
      "Epoch 38/200 | Train Loss: 0.256155 | Test Loss: 1.051142\n",
      "Epoch 39/200 | Train Loss: 0.254001 | Test Loss: 1.056429\n",
      "Epoch 40/200 | Train Loss: 0.251936 | Test Loss: 0.873330\n",
      "Epoch 41/200 | Train Loss: 0.246415 | Test Loss: 1.022371\n",
      "Epoch 42/200 | Train Loss: 0.235412 | Test Loss: 0.980085\n",
      "Epoch 43/200 | Train Loss: 0.230068 | Test Loss: 0.851056\n",
      "Epoch 44/200 | Train Loss: 0.230080 | Test Loss: 1.035224\n",
      "Epoch 45/200 | Train Loss: 0.229219 | Test Loss: 1.085402\n",
      "Epoch 46/200 | Train Loss: 0.224786 | Test Loss: 1.096154\n",
      "Epoch 47/200 | Train Loss: 0.212146 | Test Loss: 1.080163\n",
      "Epoch 48/200 | Train Loss: 0.203380 | Test Loss: 1.009973\n",
      "Epoch 49/200 | Train Loss: 0.201390 | Test Loss: 0.995183\n",
      "Epoch 50/200 | Train Loss: 0.198028 | Test Loss: 0.994332\n",
      "Epoch 51/200 | Train Loss: 0.191991 | Test Loss: 1.009394\n",
      "Epoch 52/200 | Train Loss: 0.190033 | Test Loss: 0.979889\n",
      "Epoch 53/200 | Train Loss: 0.188720 | Test Loss: 1.037744\n",
      "Epoch 54/200 | Train Loss: 0.189416 | Test Loss: 1.016719\n",
      "Epoch 55/200 | Train Loss: 0.184137 | Test Loss: 1.026319\n",
      "Epoch 56/200 | Train Loss: 0.186363 | Test Loss: 0.998203\n",
      "Epoch 57/200 | Train Loss: 0.181801 | Test Loss: 1.060391\n",
      "Epoch 58/200 | Train Loss: 0.175125 | Test Loss: 1.026828\n",
      "Epoch 59/200 | Train Loss: 0.175743 | Test Loss: 0.956825\n",
      "Epoch 60/200 | Train Loss: 0.166401 | Test Loss: 1.031503\n",
      "Epoch 61/200 | Train Loss: 0.168373 | Test Loss: 0.961601\n",
      "Epoch 62/200 | Train Loss: 0.164076 | Test Loss: 0.986390\n",
      "Epoch 63/200 | Train Loss: 0.175955 | Test Loss: 1.083410\n",
      "Epoch 64/200 | Train Loss: 0.163803 | Test Loss: 1.021880\n",
      "Epoch 65/200 | Train Loss: 0.169531 | Test Loss: 1.088286\n",
      "Epoch 66/200 | Train Loss: 0.159544 | Test Loss: 1.019065\n",
      "Epoch 67/200 | Train Loss: 0.157478 | Test Loss: 1.079257\n",
      "Epoch 68/200 | Train Loss: 0.152847 | Test Loss: 1.054194\n",
      "Epoch 69/200 | Train Loss: 0.146819 | Test Loss: 1.100123\n",
      "Epoch 70/200 | Train Loss: 0.144523 | Test Loss: 1.114824\n",
      "Epoch 71/200 | Train Loss: 0.147702 | Test Loss: 1.043896\n",
      "Epoch 72/200 | Train Loss: 0.134246 | Test Loss: 1.059397\n",
      "Epoch 73/200 | Train Loss: 0.132160 | Test Loss: 1.158029\n",
      "Epoch 74/200 | Train Loss: 0.132055 | Test Loss: 1.052402\n",
      "Epoch 75/200 | Train Loss: 0.123431 | Test Loss: 1.008587\n",
      "Epoch 76/200 | Train Loss: 0.124256 | Test Loss: 1.115902\n",
      "Epoch 77/200 | Train Loss: 0.121421 | Test Loss: 1.062351\n",
      "Epoch 78/200 | Train Loss: 0.124203 | Test Loss: 1.102421\n",
      "Epoch 79/200 | Train Loss: 0.117732 | Test Loss: 1.188616\n",
      "Epoch 80/200 | Train Loss: 0.116762 | Test Loss: 1.182087\n",
      "Epoch 81/200 | Train Loss: 0.113516 | Test Loss: 1.053127\n",
      "Epoch 82/200 | Train Loss: 0.110211 | Test Loss: 1.190269\n",
      "Epoch 83/200 | Train Loss: 0.108739 | Test Loss: 1.085383\n",
      "Epoch 84/200 | Train Loss: 0.108909 | Test Loss: 1.020407\n",
      "Epoch 85/200 | Train Loss: 0.103226 | Test Loss: 1.127784\n",
      "Epoch 86/200 | Train Loss: 0.101390 | Test Loss: 1.122960\n",
      "Epoch 87/200 | Train Loss: 0.095147 | Test Loss: 1.052162\n",
      "Epoch 88/200 | Train Loss: 0.096239 | Test Loss: 1.039707\n",
      "Epoch 89/200 | Train Loss: 0.094839 | Test Loss: 1.083802\n",
      "Epoch 90/200 | Train Loss: 0.095468 | Test Loss: 1.077159\n",
      "Epoch 91/200 | Train Loss: 0.099792 | Test Loss: 1.138417\n",
      "Epoch 92/200 | Train Loss: 0.104560 | Test Loss: 1.154065\n",
      "Epoch 93/200 | Train Loss: 0.097623 | Test Loss: 1.019431\n",
      "Epoch 94/200 | Train Loss: 0.098478 | Test Loss: 1.065754\n",
      "Epoch 95/200 | Train Loss: 0.093826 | Test Loss: 1.093405\n",
      "Epoch 96/200 | Train Loss: 0.090015 | Test Loss: 1.036828\n",
      "Epoch 97/200 | Train Loss: 0.087814 | Test Loss: 1.148398\n",
      "Epoch 98/200 | Train Loss: 0.091337 | Test Loss: 1.014849\n",
      "Epoch 99/200 | Train Loss: 0.081242 | Test Loss: 1.012488\n",
      "Epoch 100/200 | Train Loss: 0.080556 | Test Loss: 1.045906\n",
      "Epoch 101/200 | Train Loss: 0.080940 | Test Loss: 1.100348\n",
      "Epoch 102/200 | Train Loss: 0.083026 | Test Loss: 1.076149\n",
      "Epoch 103/200 | Train Loss: 0.079503 | Test Loss: 1.102726\n",
      "Epoch 104/200 | Train Loss: 0.077176 | Test Loss: 1.045307\n",
      "Epoch 105/200 | Train Loss: 0.078701 | Test Loss: 1.122943\n",
      "Epoch 106/200 | Train Loss: 0.087024 | Test Loss: 1.027208\n",
      "Epoch 107/200 | Train Loss: 0.089500 | Test Loss: 1.110131\n",
      "Epoch 108/200 | Train Loss: 0.078981 | Test Loss: 1.084858\n",
      "Epoch 109/200 | Train Loss: 0.074353 | Test Loss: 1.058433\n",
      "Epoch 110/200 | Train Loss: 0.079340 | Test Loss: 1.095320\n",
      "Epoch 111/200 | Train Loss: 0.075216 | Test Loss: 1.060704\n",
      "Epoch 112/200 | Train Loss: 0.077862 | Test Loss: 1.038116\n",
      "Epoch 113/200 | Train Loss: 0.068679 | Test Loss: 1.030970\n",
      "Epoch 114/200 | Train Loss: 0.067296 | Test Loss: 1.067617\n",
      "Epoch 115/200 | Train Loss: 0.064692 | Test Loss: 1.043179\n",
      "Epoch 116/200 | Train Loss: 0.066125 | Test Loss: 1.072961\n",
      "Epoch 117/200 | Train Loss: 0.065460 | Test Loss: 1.092135\n",
      "Epoch 118/200 | Train Loss: 0.061921 | Test Loss: 1.040072\n",
      "Epoch 119/200 | Train Loss: 0.062856 | Test Loss: 1.080833\n",
      "Epoch 120/200 | Train Loss: 0.063576 | Test Loss: 1.068937\n",
      "Epoch 121/200 | Train Loss: 0.061846 | Test Loss: 1.035557\n",
      "Epoch 122/200 | Train Loss: 0.057067 | Test Loss: 1.090573\n",
      "Epoch 123/200 | Train Loss: 0.058965 | Test Loss: 1.092357\n",
      "Epoch 124/200 | Train Loss: 0.062863 | Test Loss: 1.087368\n",
      "Epoch 125/200 | Train Loss: 0.059175 | Test Loss: 1.070768\n",
      "Epoch 126/200 | Train Loss: 0.064487 | Test Loss: 1.076507\n",
      "Epoch 127/200 | Train Loss: 0.059580 | Test Loss: 1.107958\n",
      "Epoch 128/200 | Train Loss: 0.059082 | Test Loss: 1.102362\n",
      "Epoch 129/200 | Train Loss: 0.058208 | Test Loss: 1.087611\n",
      "Epoch 130/200 | Train Loss: 0.061087 | Test Loss: 1.109972\n",
      "Epoch 131/200 | Train Loss: 0.057020 | Test Loss: 1.093083\n",
      "Epoch 132/200 | Train Loss: 0.060325 | Test Loss: 1.024226\n",
      "Epoch 133/200 | Train Loss: 0.057359 | Test Loss: 1.060695\n",
      "Epoch 134/200 | Train Loss: 0.057836 | Test Loss: 1.143322\n",
      "Epoch 135/200 | Train Loss: 0.057363 | Test Loss: 1.095928\n",
      "Epoch 136/200 | Train Loss: 0.050287 | Test Loss: 1.079130\n",
      "Epoch 137/200 | Train Loss: 0.052598 | Test Loss: 1.097070\n",
      "Epoch 138/200 | Train Loss: 0.049843 | Test Loss: 1.095049\n",
      "Epoch 139/200 | Train Loss: 0.050340 | Test Loss: 1.151154\n",
      "Epoch 140/200 | Train Loss: 0.054685 | Test Loss: 1.071890\n",
      "Epoch 141/200 | Train Loss: 0.050365 | Test Loss: 1.124206\n",
      "Epoch 142/200 | Train Loss: 0.052558 | Test Loss: 1.103813\n",
      "Epoch 143/200 | Train Loss: 0.052314 | Test Loss: 1.080408\n",
      "Epoch 144/200 | Train Loss: 0.053019 | Test Loss: 1.091578\n",
      "Epoch 145/200 | Train Loss: 0.055718 | Test Loss: 1.116860\n",
      "Epoch 146/200 | Train Loss: 0.049599 | Test Loss: 1.128141\n",
      "Epoch 147/200 | Train Loss: 0.048338 | Test Loss: 1.055514\n",
      "Epoch 148/200 | Train Loss: 0.047384 | Test Loss: 1.083431\n",
      "Epoch 149/200 | Train Loss: 0.046222 | Test Loss: 1.090493\n",
      "Epoch 150/200 | Train Loss: 0.050114 | Test Loss: 1.111785\n",
      "Epoch 151/200 | Train Loss: 0.047593 | Test Loss: 1.107242\n",
      "Epoch 152/200 | Train Loss: 0.048787 | Test Loss: 1.086338\n",
      "Epoch 153/200 | Train Loss: 0.049407 | Test Loss: 1.082476\n",
      "Epoch 154/200 | Train Loss: 0.047028 | Test Loss: 1.040662\n",
      "Epoch 155/200 | Train Loss: 0.046759 | Test Loss: 1.082625\n",
      "Epoch 156/200 | Train Loss: 0.051323 | Test Loss: 1.127938\n",
      "Epoch 157/200 | Train Loss: 0.047529 | Test Loss: 1.112721\n",
      "Epoch 158/200 | Train Loss: 0.048158 | Test Loss: 1.068815\n",
      "Epoch 159/200 | Train Loss: 0.045065 | Test Loss: 1.091189\n",
      "Epoch 160/200 | Train Loss: 0.047450 | Test Loss: 1.079283\n",
      "Epoch 161/200 | Train Loss: 0.044738 | Test Loss: 1.083368\n",
      "Epoch 162/200 | Train Loss: 0.050124 | Test Loss: 1.078401\n",
      "Epoch 163/200 | Train Loss: 0.046806 | Test Loss: 1.115586\n",
      "Epoch 164/200 | Train Loss: 0.044868 | Test Loss: 1.124997\n",
      "Epoch 165/200 | Train Loss: 0.042315 | Test Loss: 1.151545\n",
      "Epoch 166/200 | Train Loss: 0.041769 | Test Loss: 1.103649\n",
      "Epoch 167/200 | Train Loss: 0.042544 | Test Loss: 1.087157\n",
      "Epoch 168/200 | Train Loss: 0.039327 | Test Loss: 1.013264\n",
      "Epoch 169/200 | Train Loss: 0.038844 | Test Loss: 1.161661\n",
      "Epoch 170/200 | Train Loss: 0.041053 | Test Loss: 1.132696\n",
      "Epoch 171/200 | Train Loss: 0.037032 | Test Loss: 1.111227\n",
      "Epoch 172/200 | Train Loss: 0.037087 | Test Loss: 1.041329\n",
      "Epoch 173/200 | Train Loss: 0.040649 | Test Loss: 1.086383\n",
      "Epoch 174/200 | Train Loss: 0.035410 | Test Loss: 1.125317\n",
      "Epoch 175/200 | Train Loss: 0.041910 | Test Loss: 1.089451\n",
      "Epoch 176/200 | Train Loss: 0.038244 | Test Loss: 1.073488\n",
      "Epoch 177/200 | Train Loss: 0.039875 | Test Loss: 1.119422\n",
      "Epoch 178/200 | Train Loss: 0.036458 | Test Loss: 1.082416\n",
      "Epoch 179/200 | Train Loss: 0.036056 | Test Loss: 1.107576\n",
      "Epoch 180/200 | Train Loss: 0.036471 | Test Loss: 1.079488\n",
      "Epoch 181/200 | Train Loss: 0.035474 | Test Loss: 1.054545\n",
      "Epoch 182/200 | Train Loss: 0.035435 | Test Loss: 1.087936\n",
      "Epoch 183/200 | Train Loss: 0.033953 | Test Loss: 1.075666\n",
      "Epoch 184/200 | Train Loss: 0.033825 | Test Loss: 1.101394\n",
      "Epoch 185/200 | Train Loss: 0.035179 | Test Loss: 1.105210\n",
      "Epoch 186/200 | Train Loss: 0.037918 | Test Loss: 1.120008\n",
      "Epoch 187/200 | Train Loss: 0.037094 | Test Loss: 1.117751\n",
      "Epoch 188/200 | Train Loss: 0.034253 | Test Loss: 1.068658\n",
      "Epoch 189/200 | Train Loss: 0.033032 | Test Loss: 1.057711\n",
      "Epoch 190/200 | Train Loss: 0.035441 | Test Loss: 1.065870\n",
      "Epoch 191/200 | Train Loss: 0.034300 | Test Loss: 1.120761\n",
      "Epoch 192/200 | Train Loss: 0.032245 | Test Loss: 1.092492\n",
      "Epoch 193/200 | Train Loss: 0.029677 | Test Loss: 1.044693\n",
      "Epoch 194/200 | Train Loss: 0.028164 | Test Loss: 1.089772\n",
      "Epoch 195/200 | Train Loss: 0.029373 | Test Loss: 1.103740\n",
      "Epoch 196/200 | Train Loss: 0.029866 | Test Loss: 1.111249\n",
      "Epoch 197/200 | Train Loss: 0.028317 | Test Loss: 1.102815\n",
      "Epoch 198/200 | Train Loss: 0.027966 | Test Loss: 1.104324\n",
      "Epoch 199/200 | Train Loss: 0.028931 | Test Loss: 1.131283\n",
      "Epoch 200/200 | Train Loss: 0.029875 | Test Loss: 1.117964\n"
     ]
    }
   ],
   "execution_count": 14
  },
  {
   "metadata": {
    "ExecuteTime": {
     "end_time": "2025-05-07T06:53:30.094452Z",
     "start_time": "2025-05-07T06:53:30.064883Z"
    }
   },
   "cell_type": "code",
   "source": [
    "model.eval()\n",
    "all_preds = []\n",
    "all_targets = []\n",
    "# 拿一批数据来预测\n",
    "with torch.no_grad():\n",
    "    for batch_x, batch_y in test_loader:\n",
    "        preds = model(batch_x)\n",
    "        all_preds.append(preds)    # 收集预测结果\n",
    "        all_targets.append(batch_y)  # 收集真实标签\n",
    "        \n",
    "all_preds = torch.cat(all_preds, dim=0).numpy()     # (400,)\n",
    "all_targets = torch.cat(all_targets, dim=0).numpy() # (400,)"
   ],
   "id": "c092ee3f28f9c9ec",
   "outputs": [],
   "execution_count": 15
  },
  {
   "metadata": {
    "ExecuteTime": {
     "end_time": "2025-05-07T06:54:17.987090Z",
     "start_time": "2025-05-07T06:54:17.885838Z"
    }
   },
   "cell_type": "code",
   "source": [
    "pyplot.figure(figsize=(8,5))\n",
    "pyplot.plot(all_preds, label=\"Predicted\", alpha=0.5)\n",
    "pyplot.plot(all_targets, label=\"True\", alpha=0.5)\n",
    "pyplot.legend()\n",
    "pyplot.title(\"Prediction vs True on Test Batch\")\n",
    "pyplot.show()"
   ],
   "id": "f1220659eabe99f3",
   "outputs": [
    {
     "data": {
      "text/plain": [
       "<Figure size 800x500 with 1 Axes>"
      ],
      "image/png": "[encoded data removed]"
     },
     "metadata": {},
     "output_type": "display_data"
    }
   ],
   "execution_count": 21
  },
  {
   "metadata": {
    "ExecuteTime": {
     "end_time": "2025-05-07T06:53:30.242578Z",
     "start_time": "2025-05-07T06:53:30.239140Z"
    }
   },
   "cell_type": "code",
   "source": [
    "from sklearn.metrics import mean_squared_error\n",
    "from sklearn.metrics import mean_absolute_error\n",
    "\n",
    "mse = mean_absolute_error(all_targets, all_preds)\n",
    "print(f\"Test MSE on 600 samples: {mse:.6f}\")"
   ],
   "id": "d51c26e73f17d1d6",
   "outputs": [
    {
     "name": "stdout",
     "output_type": "stream",
     "text": [
      "Test MSE on 600 samples: 0.317055\n"
     ]
    }
   ],
   "execution_count": 17
  },
  {
   "metadata": {
    "ExecuteTime": {
     "end_time": "2025-05-07T06:53:30.246667Z",
     "start_time": "2025-05-07T06:53:30.242578Z"
    }
   },
   "cell_type": "code",
   "source": [
    "from sklearn.metrics import r2_score\n",
    "r2 = r2_score(all_targets, all_preds)\n",
    "print(f\"Test R^2 on 600 samples: {r2:.6f}\")"
   ],
   "id": "f5cb8b1734932f4b",
   "outputs": [
    {
     "name": "stdout",
     "output_type": "stream",
     "text": [
      "Test R^2 on 600 samples: 0.312957\n"
     ]
    }
   ],
   "execution_count": 18
  },
  {
   "metadata": {
    "ExecuteTime": {
     "end_time": "2025-05-07T06:53:30.249154Z",
     "start_time": "2025-05-07T06:53:30.247669Z"
    }
   },
   "cell_type": "code",
   "source": "",
   "id": "6a176249960a6e33",
   "outputs": [],
   "execution_count": 18
  },
  {
   "metadata": {
    "ExecuteTime": {
     "end_time": "2025-05-07T06:53:30.251306Z",
     "start_time": "2025-05-07T06:53:30.249154Z"
    }
   },
   "cell_type": "code",
   "source": "",
   "id": "7aa6fdee4138a554",
   "outputs": [],
   "execution_count": 18
  },
  {
   "metadata": {
    "ExecuteTime": {
     "end_time": "2025-05-07T06:53:30.253662Z",
     "start_time": "2025-05-07T06:53:30.251306Z"
    }
   },
   "cell_type": "code",
   "source": "",
   "id": "504ce82166e4c7b7",
   "outputs": [],
   "execution_count": 18
  }
 ],
 "metadata": {
  "kernelspec": {
   "display_name": "Python 3 (ipykernel)",
   "language": "python",
   "name": "python3"
  },
  "language_info": {
   "codemirror_mode": {
    "name": "ipython",
    "version": 3
   },
   "file_extension": ".py",
   "mimetype": "text/x-python",
   "name": "python",
   "nbconvert_exporter": "python",
   "pygments_lexer": "ipython3",
   "version": "3.12.4"
  }
 },
 "nbformat": 4,
 "nbformat_minor": 5
}
